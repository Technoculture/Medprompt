{
  "cells": [
    {
      "cell_type": "code",
      "execution_count": 15,
      "metadata": {
        "colab": {
          "base_uri": "https://localhost:8080/"
        },
        "id": "b58ZQ0hJMR1t",
        "outputId": "678d7c80-93df-4b7e-fbbf-7ae65a1081ca"
      },
      "outputs": [
        {
          "name": "stdout",
          "output_type": "stream",
          "text": [
            "Collecting git+https://github.com/stanfordnlp/dspy.git\n",
            "  Cloning https://github.com/stanfordnlp/dspy.git to /tmp/pip-req-build-e0cn9si_\n",
            "  Running command git clone --filter=blob:none --quiet https://github.com/stanfordnlp/dspy.git /tmp/pip-req-build-e0cn9si_\n",
            "  Resolved https://github.com/stanfordnlp/dspy.git to commit 16764d5e68d7f209814dbb54911d1583ef8f449b\n",
            "  Preparing metadata (setup.py) ... \u001b[?25l\u001b[?25hdone\n",
            "Requirement already satisfied: backoff<=2.2.1 in /usr/local/lib/python3.10/dist-packages (from dspy-ai==2.0.8) (2.2.1)\n",
            "Requirement already satisfied: joblib<=1.3.2 in /usr/local/lib/python3.10/dist-packages (from dspy-ai==2.0.8) (1.3.2)\n",
            "Requirement already satisfied: openai<=0.28.1 in /usr/local/lib/python3.10/dist-packages (from dspy-ai==2.0.8) (0.28.1)\n",
            "Requirement already satisfied: pandas<=2.1.1 in /usr/local/lib/python3.10/dist-packages (from dspy-ai==2.0.8) (1.5.3)\n",
            "Requirement already satisfied: regex<=2023.10.3 in /usr/local/lib/python3.10/dist-packages (from dspy-ai==2.0.8) (2023.6.3)\n",
            "Requirement already satisfied: ujson<=5.8.0 in /usr/local/lib/python3.10/dist-packages (from dspy-ai==2.0.8) (5.8.0)\n",
            "Requirement already satisfied: tqdm<=4.66.1 in /usr/local/lib/python3.10/dist-packages (from dspy-ai==2.0.8) (4.66.1)\n",
            "Requirement already satisfied: datasets<=2.14.6 in /usr/local/lib/python3.10/dist-packages (from dspy-ai==2.0.8) (2.14.6)\n",
            "Requirement already satisfied: requests<=2.31.0 in /usr/local/lib/python3.10/dist-packages (from dspy-ai==2.0.8) (2.31.0)\n",
            "Requirement already satisfied: optuna<=3.4.0 in /usr/local/lib/python3.10/dist-packages (from dspy-ai==2.0.8) (3.4.0)\n",
            "Requirement already satisfied: numpy>=1.17 in /usr/local/lib/python3.10/dist-packages (from datasets<=2.14.6->dspy-ai==2.0.8) (1.23.5)\n",
            "Requirement already satisfied: pyarrow>=8.0.0 in /usr/local/lib/python3.10/dist-packages (from datasets<=2.14.6->dspy-ai==2.0.8) (10.0.1)\n",
            "Requirement already satisfied: dill<0.3.8,>=0.3.0 in /usr/local/lib/python3.10/dist-packages (from datasets<=2.14.6->dspy-ai==2.0.8) (0.3.7)\n",
            "Requirement already satisfied: xxhash in /usr/local/lib/python3.10/dist-packages (from datasets<=2.14.6->dspy-ai==2.0.8) (3.4.1)\n",
            "Requirement already satisfied: multiprocess in /usr/local/lib/python3.10/dist-packages (from datasets<=2.14.6->dspy-ai==2.0.8) (0.70.15)\n",
            "Requirement already satisfied: fsspec[http]<=2023.10.0,>=2023.1.0 in /usr/local/lib/python3.10/dist-packages (from datasets<=2.14.6->dspy-ai==2.0.8) (2023.6.0)\n",
            "Requirement already satisfied: aiohttp in /usr/local/lib/python3.10/dist-packages (from datasets<=2.14.6->dspy-ai==2.0.8) (3.9.1)\n",
            "Requirement already satisfied: huggingface-hub<1.0.0,>=0.14.0 in /usr/local/lib/python3.10/dist-packages (from datasets<=2.14.6->dspy-ai==2.0.8) (0.20.1)\n",
            "Requirement already satisfied: packaging in /usr/local/lib/python3.10/dist-packages (from datasets<=2.14.6->dspy-ai==2.0.8) (23.2)\n",
            "Requirement already satisfied: pyyaml>=5.1 in /usr/local/lib/python3.10/dist-packages (from datasets<=2.14.6->dspy-ai==2.0.8) (6.0.1)\n",
            "Requirement already satisfied: alembic>=1.5.0 in /usr/local/lib/python3.10/dist-packages (from optuna<=3.4.0->dspy-ai==2.0.8) (1.13.1)\n",
            "Requirement already satisfied: colorlog in /usr/local/lib/python3.10/dist-packages (from optuna<=3.4.0->dspy-ai==2.0.8) (6.8.0)\n",
            "Requirement already satisfied: sqlalchemy>=1.3.0 in /usr/local/lib/python3.10/dist-packages (from optuna<=3.4.0->dspy-ai==2.0.8) (2.0.23)\n",
            "Requirement already satisfied: python-dateutil>=2.8.1 in /usr/local/lib/python3.10/dist-packages (from pandas<=2.1.1->dspy-ai==2.0.8) (2.8.2)\n",
            "Requirement already satisfied: pytz>=2020.1 in /usr/local/lib/python3.10/dist-packages (from pandas<=2.1.1->dspy-ai==2.0.8) (2023.3.post1)\n",
            "Requirement already satisfied: charset-normalizer<4,>=2 in /usr/local/lib/python3.10/dist-packages (from requests<=2.31.0->dspy-ai==2.0.8) (3.3.2)\n",
            "Requirement already satisfied: idna<4,>=2.5 in /usr/local/lib/python3.10/dist-packages (from requests<=2.31.0->dspy-ai==2.0.8) (3.6)\n",
            "Requirement already satisfied: urllib3<3,>=1.21.1 in /usr/local/lib/python3.10/dist-packages (from requests<=2.31.0->dspy-ai==2.0.8) (2.0.7)\n",
            "Requirement already satisfied: certifi>=2017.4.17 in /usr/local/lib/python3.10/dist-packages (from requests<=2.31.0->dspy-ai==2.0.8) (2023.11.17)\n",
            "Requirement already satisfied: Mako in /usr/local/lib/python3.10/dist-packages (from alembic>=1.5.0->optuna<=3.4.0->dspy-ai==2.0.8) (1.3.0)\n",
            "Requirement already satisfied: typing-extensions>=4 in /usr/local/lib/python3.10/dist-packages (from alembic>=1.5.0->optuna<=3.4.0->dspy-ai==2.0.8) (4.9.0)\n",
            "Requirement already satisfied: attrs>=17.3.0 in /usr/local/lib/python3.10/dist-packages (from aiohttp->datasets<=2.14.6->dspy-ai==2.0.8) (23.1.0)\n",
            "Requirement already satisfied: multidict<7.0,>=4.5 in /usr/local/lib/python3.10/dist-packages (from aiohttp->datasets<=2.14.6->dspy-ai==2.0.8) (6.0.4)\n",
            "Requirement already satisfied: yarl<2.0,>=1.0 in /usr/local/lib/python3.10/dist-packages (from aiohttp->datasets<=2.14.6->dspy-ai==2.0.8) (1.9.4)\n",
            "Requirement already satisfied: frozenlist>=1.1.1 in /usr/local/lib/python3.10/dist-packages (from aiohttp->datasets<=2.14.6->dspy-ai==2.0.8) (1.4.1)\n",
            "Requirement already satisfied: aiosignal>=1.1.2 in /usr/local/lib/python3.10/dist-packages (from aiohttp->datasets<=2.14.6->dspy-ai==2.0.8) (1.3.1)\n",
            "Requirement already satisfied: async-timeout<5.0,>=4.0 in /usr/local/lib/python3.10/dist-packages (from aiohttp->datasets<=2.14.6->dspy-ai==2.0.8) (4.0.3)\n",
            "Requirement already satisfied: filelock in /usr/local/lib/python3.10/dist-packages (from huggingface-hub<1.0.0,>=0.14.0->datasets<=2.14.6->dspy-ai==2.0.8) (3.13.1)\n",
            "Requirement already satisfied: six>=1.5 in /usr/local/lib/python3.10/dist-packages (from python-dateutil>=2.8.1->pandas<=2.1.1->dspy-ai==2.0.8) (1.16.0)\n",
            "Requirement already satisfied: greenlet!=0.4.17 in /usr/local/lib/python3.10/dist-packages (from sqlalchemy>=1.3.0->optuna<=3.4.0->dspy-ai==2.0.8) (3.0.2)\n",
            "Requirement already satisfied: MarkupSafe>=0.9.2 in /usr/local/lib/python3.10/dist-packages (from Mako->alembic>=1.5.0->optuna<=3.4.0->dspy-ai==2.0.8) (2.1.3)\n",
            "Requirement already satisfied: openai in /usr/local/lib/python3.10/dist-packages (0.28.1)\n",
            "Collecting openai\n",
            "  Using cached openai-1.6.1-py3-none-any.whl (225 kB)\n",
            "Requirement already satisfied: anyio<5,>=3.5.0 in /usr/local/lib/python3.10/dist-packages (from openai) (3.7.1)\n",
            "Requirement already satisfied: distro<2,>=1.7.0 in /usr/lib/python3/dist-packages (from openai) (1.7.0)\n",
            "Requirement already satisfied: httpx<1,>=0.23.0 in /usr/local/lib/python3.10/dist-packages (from openai) (0.26.0)\n",
            "Requirement already satisfied: pydantic<3,>=1.9.0 in /usr/local/lib/python3.10/dist-packages (from openai) (1.10.13)\n",
            "Requirement already satisfied: sniffio in /usr/local/lib/python3.10/dist-packages (from openai) (1.3.0)\n",
            "Requirement already satisfied: tqdm>4 in /usr/local/lib/python3.10/dist-packages (from openai) (4.66.1)\n",
            "Requirement already satisfied: typing-extensions<5,>=4.7 in /usr/local/lib/python3.10/dist-packages (from openai) (4.9.0)\n",
            "Requirement already satisfied: idna>=2.8 in /usr/local/lib/python3.10/dist-packages (from anyio<5,>=3.5.0->openai) (3.6)\n",
            "Requirement already satisfied: exceptiongroup in /usr/local/lib/python3.10/dist-packages (from anyio<5,>=3.5.0->openai) (1.2.0)\n",
            "Requirement already satisfied: certifi in /usr/local/lib/python3.10/dist-packages (from httpx<1,>=0.23.0->openai) (2023.11.17)\n",
            "Requirement already satisfied: httpcore==1.* in /usr/local/lib/python3.10/dist-packages (from httpx<1,>=0.23.0->openai) (1.0.2)\n",
            "Requirement already satisfied: h11<0.15,>=0.13 in /usr/local/lib/python3.10/dist-packages (from httpcore==1.*->httpx<1,>=0.23.0->openai) (0.14.0)\n",
            "Installing collected packages: openai\n",
            "  Attempting uninstall: openai\n",
            "    Found existing installation: openai 0.28.1\n",
            "    Uninstalling openai-0.28.1:\n",
            "      Successfully uninstalled openai-0.28.1\n",
            "\u001b[31mERROR: pip's dependency resolver does not currently take into account all the packages that are installed. This behaviour is the source of the following dependency conflicts.\n",
            "llmx 0.0.15a0 requires cohere, which is not installed.\n",
            "llmx 0.0.15a0 requires tiktoken, which is not installed.\n",
            "dspy-ai 2.0.8 requires openai<=0.28.1, but you have openai 1.6.1 which is incompatible.\u001b[0m\u001b[31m\n",
            "\u001b[0mSuccessfully installed openai-1.6.1\n",
            "Requirement already satisfied: datasets in /usr/local/lib/python3.10/dist-packages (2.14.6)\n",
            "Requirement already satisfied: numpy>=1.17 in /usr/local/lib/python3.10/dist-packages (from datasets) (1.23.5)\n",
            "Requirement already satisfied: pyarrow>=8.0.0 in /usr/local/lib/python3.10/dist-packages (from datasets) (10.0.1)\n",
            "Requirement already satisfied: dill<0.3.8,>=0.3.0 in /usr/local/lib/python3.10/dist-packages (from datasets) (0.3.7)\n",
            "Requirement already satisfied: pandas in /usr/local/lib/python3.10/dist-packages (from datasets) (1.5.3)\n",
            "Requirement already satisfied: requests>=2.19.0 in /usr/local/lib/python3.10/dist-packages (from datasets) (2.31.0)\n",
            "Requirement already satisfied: tqdm>=4.62.1 in /usr/local/lib/python3.10/dist-packages (from datasets) (4.66.1)\n",
            "Requirement already satisfied: xxhash in /usr/local/lib/python3.10/dist-packages (from datasets) (3.4.1)\n",
            "Requirement already satisfied: multiprocess in /usr/local/lib/python3.10/dist-packages (from datasets) (0.70.15)\n",
            "Requirement already satisfied: fsspec[http]<=2023.10.0,>=2023.1.0 in /usr/local/lib/python3.10/dist-packages (from datasets) (2023.6.0)\n",
            "Requirement already satisfied: aiohttp in /usr/local/lib/python3.10/dist-packages (from datasets) (3.9.1)\n",
            "Requirement already satisfied: huggingface-hub<1.0.0,>=0.14.0 in /usr/local/lib/python3.10/dist-packages (from datasets) (0.20.1)\n",
            "Requirement already satisfied: packaging in /usr/local/lib/python3.10/dist-packages (from datasets) (23.2)\n",
            "Requirement already satisfied: pyyaml>=5.1 in /usr/local/lib/python3.10/dist-packages (from datasets) (6.0.1)\n",
            "Requirement already satisfied: attrs>=17.3.0 in /usr/local/lib/python3.10/dist-packages (from aiohttp->datasets) (23.1.0)\n",
            "Requirement already satisfied: multidict<7.0,>=4.5 in /usr/local/lib/python3.10/dist-packages (from aiohttp->datasets) (6.0.4)\n",
            "Requirement already satisfied: yarl<2.0,>=1.0 in /usr/local/lib/python3.10/dist-packages (from aiohttp->datasets) (1.9.4)\n",
            "Requirement already satisfied: frozenlist>=1.1.1 in /usr/local/lib/python3.10/dist-packages (from aiohttp->datasets) (1.4.1)\n",
            "Requirement already satisfied: aiosignal>=1.1.2 in /usr/local/lib/python3.10/dist-packages (from aiohttp->datasets) (1.3.1)\n",
            "Requirement already satisfied: async-timeout<5.0,>=4.0 in /usr/local/lib/python3.10/dist-packages (from aiohttp->datasets) (4.0.3)\n",
            "Requirement already satisfied: filelock in /usr/local/lib/python3.10/dist-packages (from huggingface-hub<1.0.0,>=0.14.0->datasets) (3.13.1)\n",
            "Requirement already satisfied: typing-extensions>=3.7.4.3 in /usr/local/lib/python3.10/dist-packages (from huggingface-hub<1.0.0,>=0.14.0->datasets) (4.9.0)\n",
            "Requirement already satisfied: charset-normalizer<4,>=2 in /usr/local/lib/python3.10/dist-packages (from requests>=2.19.0->datasets) (3.3.2)\n",
            "Requirement already satisfied: idna<4,>=2.5 in /usr/local/lib/python3.10/dist-packages (from requests>=2.19.0->datasets) (3.6)\n",
            "Requirement already satisfied: urllib3<3,>=1.21.1 in /usr/local/lib/python3.10/dist-packages (from requests>=2.19.0->datasets) (2.0.7)\n",
            "Requirement already satisfied: certifi>=2017.4.17 in /usr/local/lib/python3.10/dist-packages (from requests>=2.19.0->datasets) (2023.11.17)\n",
            "Requirement already satisfied: python-dateutil>=2.8.1 in /usr/local/lib/python3.10/dist-packages (from pandas->datasets) (2.8.2)\n",
            "Requirement already satisfied: pytz>=2020.1 in /usr/local/lib/python3.10/dist-packages (from pandas->datasets) (2023.3.post1)\n",
            "Requirement already satisfied: six>=1.5 in /usr/local/lib/python3.10/dist-packages (from python-dateutil>=2.8.1->pandas->datasets) (1.16.0)\n",
            "Requirement already satisfied: joblib in /usr/local/lib/python3.10/dist-packages (1.3.2)\n",
            "Requirement already satisfied: sentence-transformers in /usr/local/lib/python3.10/dist-packages (2.2.2)\n",
            "Requirement already satisfied: transformers<5.0.0,>=4.6.0 in /usr/local/lib/python3.10/dist-packages (from sentence-transformers) (4.35.2)\n",
            "Requirement already satisfied: tqdm in /usr/local/lib/python3.10/dist-packages (from sentence-transformers) (4.66.1)\n",
            "Requirement already satisfied: torch>=1.6.0 in /usr/local/lib/python3.10/dist-packages (from sentence-transformers) (2.1.0+cu121)\n",
            "Requirement already satisfied: torchvision in /usr/local/lib/python3.10/dist-packages (from sentence-transformers) (0.16.0+cu121)\n",
            "Requirement already satisfied: numpy in /usr/local/lib/python3.10/dist-packages (from sentence-transformers) (1.23.5)\n",
            "Requirement already satisfied: scikit-learn in /usr/local/lib/python3.10/dist-packages (from sentence-transformers) (1.2.2)\n",
            "Requirement already satisfied: scipy in /usr/local/lib/python3.10/dist-packages (from sentence-transformers) (1.11.4)\n",
            "Requirement already satisfied: nltk in /usr/local/lib/python3.10/dist-packages (from sentence-transformers) (3.8.1)\n",
            "Requirement already satisfied: sentencepiece in /usr/local/lib/python3.10/dist-packages (from sentence-transformers) (0.1.99)\n",
            "Requirement already satisfied: huggingface-hub>=0.4.0 in /usr/local/lib/python3.10/dist-packages (from sentence-transformers) (0.20.1)\n",
            "Requirement already satisfied: filelock in /usr/local/lib/python3.10/dist-packages (from huggingface-hub>=0.4.0->sentence-transformers) (3.13.1)\n",
            "Requirement already satisfied: fsspec>=2023.5.0 in /usr/local/lib/python3.10/dist-packages (from huggingface-hub>=0.4.0->sentence-transformers) (2023.6.0)\n",
            "Requirement already satisfied: requests in /usr/local/lib/python3.10/dist-packages (from huggingface-hub>=0.4.0->sentence-transformers) (2.31.0)\n",
            "Requirement already satisfied: pyyaml>=5.1 in /usr/local/lib/python3.10/dist-packages (from huggingface-hub>=0.4.0->sentence-transformers) (6.0.1)\n",
            "Requirement already satisfied: typing-extensions>=3.7.4.3 in /usr/local/lib/python3.10/dist-packages (from huggingface-hub>=0.4.0->sentence-transformers) (4.9.0)\n",
            "Requirement already satisfied: packaging>=20.9 in /usr/local/lib/python3.10/dist-packages (from huggingface-hub>=0.4.0->sentence-transformers) (23.2)\n",
            "Requirement already satisfied: sympy in /usr/local/lib/python3.10/dist-packages (from torch>=1.6.0->sentence-transformers) (1.12)\n",
            "Requirement already satisfied: networkx in /usr/local/lib/python3.10/dist-packages (from torch>=1.6.0->sentence-transformers) (3.2.1)\n",
            "Requirement already satisfied: jinja2 in /usr/local/lib/python3.10/dist-packages (from torch>=1.6.0->sentence-transformers) (3.1.2)\n",
            "Requirement already satisfied: triton==2.1.0 in /usr/local/lib/python3.10/dist-packages (from torch>=1.6.0->sentence-transformers) (2.1.0)\n",
            "Requirement already satisfied: regex!=2019.12.17 in /usr/local/lib/python3.10/dist-packages (from transformers<5.0.0,>=4.6.0->sentence-transformers) (2023.6.3)\n",
            "Requirement already satisfied: tokenizers<0.19,>=0.14 in /usr/local/lib/python3.10/dist-packages (from transformers<5.0.0,>=4.6.0->sentence-transformers) (0.15.0)\n",
            "Requirement already satisfied: safetensors>=0.3.1 in /usr/local/lib/python3.10/dist-packages (from transformers<5.0.0,>=4.6.0->sentence-transformers) (0.4.1)\n",
            "Requirement already satisfied: click in /usr/local/lib/python3.10/dist-packages (from nltk->sentence-transformers) (8.1.7)\n",
            "Requirement already satisfied: joblib in /usr/local/lib/python3.10/dist-packages (from nltk->sentence-transformers) (1.3.2)\n",
            "Requirement already satisfied: threadpoolctl>=2.0.0 in /usr/local/lib/python3.10/dist-packages (from scikit-learn->sentence-transformers) (3.2.0)\n",
            "Requirement already satisfied: pillow!=8.3.*,>=5.3.0 in /usr/local/lib/python3.10/dist-packages (from torchvision->sentence-transformers) (9.4.0)\n",
            "Requirement already satisfied: MarkupSafe>=2.0 in /usr/local/lib/python3.10/dist-packages (from jinja2->torch>=1.6.0->sentence-transformers) (2.1.3)\n",
            "Requirement already satisfied: charset-normalizer<4,>=2 in /usr/local/lib/python3.10/dist-packages (from requests->huggingface-hub>=0.4.0->sentence-transformers) (3.3.2)\n",
            "Requirement already satisfied: idna<4,>=2.5 in /usr/local/lib/python3.10/dist-packages (from requests->huggingface-hub>=0.4.0->sentence-transformers) (3.6)\n",
            "Requirement already satisfied: urllib3<3,>=1.21.1 in /usr/local/lib/python3.10/dist-packages (from requests->huggingface-hub>=0.4.0->sentence-transformers) (2.0.7)\n",
            "Requirement already satisfied: certifi>=2017.4.17 in /usr/local/lib/python3.10/dist-packages (from requests->huggingface-hub>=0.4.0->sentence-transformers) (2023.11.17)\n",
            "Requirement already satisfied: mpmath>=0.19 in /usr/local/lib/python3.10/dist-packages (from sympy->torch>=1.6.0->sentence-transformers) (1.3.0)\n",
            "Reading package lists... Done\n",
            "Building dependency tree... Done\n",
            "Reading state information... Done\n",
            "The following additional packages will be installed:\n",
            "  libomp-14-dev libomp5-14\n",
            "Suggested packages:\n",
            "  libomp-14-doc\n",
            "The following NEW packages will be installed:\n",
            "  libomp-14-dev libomp-dev libomp5-14\n",
            "0 upgraded, 3 newly installed, 0 to remove and 24 not upgraded.\n",
            "Need to get 738 kB of archives.\n",
            "After this operation, 8,991 kB of additional disk space will be used.\n",
            "Get:1 http://archive.ubuntu.com/ubuntu jammy-updates/universe amd64 libomp5-14 amd64 1:14.0.0-1ubuntu1.1 [389 kB]\n",
            "Get:2 http://archive.ubuntu.com/ubuntu jammy-updates/universe amd64 libomp-14-dev amd64 1:14.0.0-1ubuntu1.1 [347 kB]\n",
            "Get:3 http://archive.ubuntu.com/ubuntu jammy/universe amd64 libomp-dev amd64 1:14.0-55~exp2 [3,074 B]\n",
            "Fetched 738 kB in 1s (898 kB/s)\n",
            "Selecting previously unselected package libomp5-14:amd64.\n",
            "(Reading database ... 121654 files and directories currently installed.)\n",
            "Preparing to unpack .../libomp5-14_1%3a14.0.0-1ubuntu1.1_amd64.deb ...\n",
            "Unpacking libomp5-14:amd64 (1:14.0.0-1ubuntu1.1) ...\n",
            "Selecting previously unselected package libomp-14-dev.\n",
            "Preparing to unpack .../libomp-14-dev_1%3a14.0.0-1ubuntu1.1_amd64.deb ...\n",
            "Unpacking libomp-14-dev (1:14.0.0-1ubuntu1.1) ...\n",
            "Selecting previously unselected package libomp-dev:amd64.\n",
            "Preparing to unpack .../libomp-dev_1%3a14.0-55~exp2_amd64.deb ...\n",
            "Unpacking libomp-dev:amd64 (1:14.0-55~exp2) ...\n",
            "Setting up libomp5-14:amd64 (1:14.0.0-1ubuntu1.1) ...\n",
            "Setting up libomp-14-dev (1:14.0.0-1ubuntu1.1) ...\n",
            "Setting up libomp-dev:amd64 (1:14.0-55~exp2) ...\n",
            "Processing triggers for libc-bin (2.35-0ubuntu3.4) ...\n",
            "/sbin/ldconfig.real: /usr/local/lib/libtbbmalloc_proxy.so.2 is not a symbolic link\n",
            "\n",
            "/sbin/ldconfig.real: /usr/local/lib/libtbbbind.so.3 is not a symbolic link\n",
            "\n",
            "/sbin/ldconfig.real: /usr/local/lib/libtbbbind_2_0.so.3 is not a symbolic link\n",
            "\n",
            "/sbin/ldconfig.real: /usr/local/lib/libtbb.so.12 is not a symbolic link\n",
            "\n",
            "/sbin/ldconfig.real: /usr/local/lib/libtbbmalloc.so.2 is not a symbolic link\n",
            "\n",
            "/sbin/ldconfig.real: /usr/local/lib/libtbbbind_2_5.so.3 is not a symbolic link\n",
            "\n",
            "Collecting faiss-cpu\n",
            "  Downloading faiss_cpu-1.7.4-cp310-cp310-manylinux_2_17_x86_64.manylinux2014_x86_64.whl (17.6 MB)\n",
            "\u001b[2K     \u001b[90m━━━━━━━━━━━━━━━━━━━━━━━━━━━━━━━━━━━━━━━━\u001b[0m \u001b[32m17.6/17.6 MB\u001b[0m \u001b[31m63.0 MB/s\u001b[0m eta \u001b[36m0:00:00\u001b[0m\n",
            "\u001b[?25hInstalling collected packages: faiss-cpu\n",
            "Successfully installed faiss-cpu-1.7.4\n"
          ]
        }
      ],
      "source": [
        "!pip install git+https://github.com/stanfordnlp/dspy.git\n",
        "!pip install -U openai\n",
        "import openai\n",
        "!pip install datasets\n",
        "!pip install joblib\n",
        "!pip install -U sentence-transformers\n",
        "!apt-get install libomp-dev\n",
        "!pip install faiss-cpu\n",
        "\n",
        "import faiss\n",
        "\n",
        "from datasets import load_dataset\n",
        "medqa_dataset = load_dataset(\"bigbio/med_qa\")"
      ]
    },
    {
      "cell_type": "code",
      "execution_count": 2,
      "metadata": {
        "id": "uHxRSGoGMS9x"
      },
      "outputs": [],
      "source": [
        "from google.colab import userdata\n",
        "api_key = userdata.get('api_key')"
      ]
    },
    {
      "cell_type": "code",
      "execution_count": 3,
      "metadata": {
        "id": "wbYjP68QOTNu"
      },
      "outputs": [],
      "source": [
        "import dspy\n",
        "model=dspy.OpenAI(model='gpt-3.5-turbo', api_key=api_key)\n",
        "dspy.settings.configure(lm=model)"
      ]
    },
    {
      "cell_type": "code",
      "execution_count": 73,
      "metadata": {
        "id": "7H3QMmpeMU12"
      },
      "outputs": [],
      "source": [
        "#training on the first 20 questions\n",
        "train_subset = medqa_dataset[\"train\"][:20]\n",
        "\n",
        "train_questions = train_subset[\"question\"]\n",
        "train_answers_id = train_subset[\"answer_idx\"]\n",
        "train_options= train_subset[\"options\"]\n",
        "train_answer = train_subset[\"answer\"]"
      ]
    },
    {
      "cell_type": "code",
      "execution_count": 99,
      "metadata": {
        "id": "Iwsn-29LPAzB"
      },
      "outputs": [],
      "source": [
        "def formatting_options(qoptions):\n",
        "  return [' '.join(f\"{option['key']} {option['value']}\" for option in options) for options in qoptions]"
      ]
    },
    {
      "cell_type": "code",
      "execution_count": 75,
      "metadata": {
        "id": "J0pLwr8gPRpt"
      },
      "outputs": [],
      "source": [
        "formatted_train_options = formatting_options(train_options)"
      ]
    },
    {
      "cell_type": "code",
      "execution_count": 29,
      "metadata": {
        "colab": {
          "base_uri": "https://localhost:8080/"
        },
        "id": "HYWum4abPZt-",
        "outputId": "15f2ece9-37d1-4079-89c7-bd8ad431911f"
      },
      "outputs": [
        {
          "name": "stdout",
          "output_type": "stream",
          "text": [
            "['A Esophagogastroduodenoscopy B CT scan of the abdomen C Hydrogen breath test D Cardiac stress test E Abdominal ultrasonography of the right upper quadrant']\n"
          ]
        }
      ],
      "source": [
        "print(formatted_train_options)"
      ]
    },
    {
      "cell_type": "code",
      "execution_count": 9,
      "metadata": {
        "id": "QPeBSB9zMcvE"
      },
      "outputs": [],
      "source": [
        "# We are expecting a single choice answer so signature accordingly.\n",
        "class MultipleChoiceQA(dspy.Signature):\n",
        "    \"\"\"Answer questions with single letter answers.\"\"\"\n",
        "\n",
        "    question = dspy.InputField(desc=\"The multiple-choice question.\")\n",
        "    options = dspy.InputField(desc=\"The set of options in the format : A option1 B option2 C option3 D option4 E option5 where A corresponds to option1, B to option2 and so on.\")\n",
        "    answer = dspy.OutputField(desc=\"A single-letter answer corresponding to the selected option.\")"
      ]
    },
    {
      "cell_type": "code",
      "execution_count": 10,
      "metadata": {
        "id": "Pybu8-yjMqfZ"
      },
      "outputs": [],
      "source": [
        "def create_train_set(train_questions, train_options, train_answers):\n",
        "    train_set = []\n",
        "\n",
        "    for question, options, answer in zip(train_questions, train_options, train_answers):\n",
        "        example = dspy.Example(\n",
        "            question=question,\n",
        "            options=options,\n",
        "            answer=answer\n",
        "        ).with_inputs(\"question\", \"options\")\n",
        "\n",
        "        train_set.append(example)\n",
        "\n",
        "    return train_set"
      ]
    },
    {
      "cell_type": "code",
      "execution_count": 100,
      "metadata": {
        "id": "6vK0axuLjFsY"
      },
      "outputs": [],
      "source": [
        "val_subset = medqa_dataset[\"validation\"][:20]\n",
        "\n",
        "val_questions = val_subset[\"question\"]\n",
        "val_answers_id = val_subset[\"answer_idx\"]\n",
        "val_options= val_subset[\"options\"]\n",
        "val_answer = val_subset[\"answer\"]\n",
        "\n",
        "formatted_val_options = formatting_options(val_options)\n",
        "val_set = create_train_set(val_questions, formatted_val_options, val_answers_id)"
      ]
    },
    {
      "cell_type": "code",
      "execution_count": 81,
      "metadata": {
        "id": "Go_tNUTrMjks"
      },
      "outputs": [],
      "source": [
        "# Creating chain of thoughts list for questions which are answered correctly.\n",
        "generate_answer = dspy.ChainOfThought(MultipleChoiceQA)\n",
        "\n",
        "def store_correct_cot(questions: list[str], option_sets: list[str], answers: list[str]) -> list[str]:\n",
        "    train_set = []\n",
        "    for question, options, answer in zip(questions, option_sets, answers):\n",
        "        pred_response = generate_answer(question=question, options=options)\n",
        "        if pred_response.answer == answer:\n",
        "          example = dspy.Example(\n",
        "            question=question,\n",
        "            options=options,\n",
        "            context=pred_response.rationale.split('.', 1)[1].strip(),\n",
        "            answer=answer\n",
        "        ).with_inputs(\"question\", \"options\")\n",
        "\n",
        "          train_set.append(example)\n",
        "\n",
        "    return train_set\n"
      ]
    },
    {
      "cell_type": "code",
      "execution_count": 82,
      "metadata": {
        "id": "D_a1SZQVMlLH"
      },
      "outputs": [],
      "source": [
        "trainset = store_correct_cot(train_questions, formatted_train_options, train_answers_id)"
      ]
    },
    {
      "cell_type": "code",
      "execution_count": 92,
      "metadata": {
        "colab": {
          "base_uri": "https://localhost:8080/"
        },
        "id": "lVcmdmNhPm5J",
        "outputId": "5a493522-93e6-4bf1-9268-6cd6b5a3e086"
      },
      "outputs": [
        {
          "name": "stdout",
          "output_type": "stream",
          "text": [
            "11\n",
            "[Example({'question': 'A 23-year-old pregnant woman at 22 weeks gestation presents with burning upon urination. She states it started 1 day ago and has been worsening despite drinking more water and taking cranberry extract. She otherwise feels well and is followed by a doctor for her pregnancy. Her temperature is 97.7°F (36.5°C), blood pressure is 122/77 mmHg, pulse is 80/min, respirations are 19/min, and oxygen saturation is 98% on room air. Physical exam is notable for an absence of costovertebral angle tenderness and a gravid uterus. Which of the following is the best treatment for this patient?', 'options': 'A Ampicillin B Ceftriaxone C Ciprofloxacin D Doxycycline E Nitrofurantoin', 'context': 'We have a pregnant woman presenting with burning upon urination, which is suggestive of a urinary tract infection (UTI). She has already tried increasing her water intake and taking cranberry extract, but her symptoms have not improved. We also note that she has an absence of costovertebral angle tenderness, which makes pyelonephritis less likely. In pregnant women, the first-line treatment for UTIs is nitrofurantoin. Therefore, the best treatment for this patient would be nitrofurantoin.', 'answer': 'E'}) (input_keys={'question', 'options'}), Example({'question': 'A 3-month-old baby died suddenly at night while asleep. His mother noticed that he had died only after she awoke in the morning. No cause of death was determined based on the autopsy. Which of the following precautions could have prevented the death of the baby?', 'options': 'A Placing the infant in a supine position on a firm mattress while sleeping B Routine postnatal electrocardiogram (ECG) C Keeping the infant covered and maintaining a high room temperature D Application of a device to maintain the sleeping position E Avoiding pacifier use during sleep', 'context': 'We know that the baby died suddenly while asleep and no cause of death was determined based on the autopsy. This suggests that the death may have been due to Sudden Infant Death Syndrome (SIDS). SIDS is often associated with certain risk factors, such as sleeping in a prone position (on the stomach), soft bedding, overheating, and exposure to tobacco smoke. To prevent SIDS, it is recommended to place the infant in a supine position (on the back) on a firm mattress while sleeping (option A). This helps to reduce the risk of suffocation and allows for better air circulation. Routine postnatal electrocardiogram (ECG) (option B) is not a standard precaution for preventing SIDS', 'answer': 'A'}) (input_keys={'question', 'options'}), Example({'question': 'A 40-year-old zookeeper presents to the emergency department complaining of severe abdominal pain that radiates to her back, and nausea. The pain started 2 days ago and slowly increased until she could not tolerate it any longer. Past medical history is significant for hypertension and hypothyroidism. Additionally, she reports that she was recently stung by one of the zoo’s smaller scorpions, but did not seek medical treatment. She takes aspirin, levothyroxine, oral contraceptive pills, and a multivitamin daily. Family history is noncontributory. Today, her blood pressure is 108/58 mm Hg, heart rate is 99/min, respiratory rate is 21/min, and temperature is 37.0°C (98.6°F). On physical exam, she is a well-developed, obese female that looks unwell. Her heart has a regular rate and rhythm. Radial pulses are weak but symmetric. Her lungs are clear to auscultation bilaterally. Her lateral left ankle is swollen, erythematous, and painful to palpate. An abdominal CT is consistent with acute pancreatitis. Which of the following is the most likely etiology for this patient’s disease?', 'options': 'A Aspirin B Oral contraceptive pills C Scorpion sting D Hypothyroidism E Obesity', 'context': \"We are looking for the most likely etiology for the patient's acute pancreatitis. The patient's history of being stung by a scorpion and the presence of a swollen, erythematous, and painful ankle suggest that the scorpion sting may be the cause. Additionally, the patient's vital signs and physical exam findings are not consistent with the other options.\", 'answer': 'C'}) (input_keys={'question', 'options'}), Example({'question': 'A 25-year-old primigravida presents to her physician for a routine prenatal visit. She is at 34 weeks gestation, as confirmed by an ultrasound examination. She has no complaints, but notes that the new shoes she bought 2 weeks ago do not fit anymore. The course of her pregnancy has been uneventful and she has been compliant with the recommended prenatal care. Her medical history is unremarkable. She has a 15-pound weight gain since the last visit 3 weeks ago. Her vital signs are as follows: blood pressure, 148/90 mm Hg; heart rate, 88/min; respiratory rate, 16/min; and temperature, 36.6℃ (97.9℉). The blood pressure on repeat assessment 4 hours later is 151/90 mm Hg. The fetal heart rate is 151/min. The physical examination is significant for 2+ pitting edema of the lower extremity. Which of the following tests o should confirm the probable condition of this patient?', 'options': 'A Bilirubin assessment B Coagulation studies C Hematocrit assessment D Leukocyte count with differential E 24-hour urine protein', 'context': 'We are looking for a test that can confirm the probable condition of this patient. The patient is at 34 weeks gestation and has symptoms of edema and elevated blood pressure. These findings are concerning for preeclampsia, a condition characterized by hypertension and proteinuria. The most appropriate test to confirm preeclampsia is a 24-hour urine protein collection, as it will assess the amount of protein excreted in the urine over a 24-hour period.', 'answer': 'E'}) (input_keys={'question', 'options'}), Example({'question': \"A 3900-g (8.6-lb) male infant is delivered at 39 weeks' gestation via spontaneous vaginal delivery. Pregnancy and delivery were uncomplicated but a prenatal ultrasound at 20 weeks showed a defect in the pleuroperitoneal membrane. Further evaluation of this patient is most likely to show which of the following findings?\", 'options': 'A Gastric fundus in the thorax B Pancreatic ring around the duodenum C Small and cystic kidneys D Hypertrophy of the gastric pylorus E Large bowel in the inguinal canal', 'context': 'We know that the patient has a defect in the pleuroperitoneal membrane, which suggests a diaphragmatic hernia. Diaphragmatic hernias can be associated with other anomalies, such as gastric fundus in the thorax, pancreatic ring around the duodenum, small and cystic kidneys, hypertrophy of the gastric pylorus, or large bowel in the inguinal canal. However, the most common finding associated with diaphragmatic hernias is gastric fundus in the thorax. Therefore, the answer is A.', 'answer': 'A'}) (input_keys={'question', 'options'}), Example({'question': 'A 35-year-old male presents to his primary care physician with complaints of seasonal allergies. He has been using intranasal vasoconstrictors several times per day for several weeks. What is a likely sequela of the chronic use of topical nasal decongestants?', 'options': 'A Epistaxis B Hypertension C Permanent loss of smell D Persistent nasal crusting E Persistent congestion', 'context': 'We know that the patient has been using intranasal vasoconstrictors several times per day for several weeks. Chronic use of topical nasal decongestants can lead to rebound congestion, also known as rhinitis medicamentosa. This is a condition where the nasal passages become even more congested after the effects of the decongestant wear off. Therefore, the likely sequela of the chronic use of topical nasal decongestants is E Persistent congestion.', 'answer': 'E'}) (input_keys={'question', 'options'}), Example({'question': 'A 1-year-old boy presents to the emergency department with weakness and a change in his behavior. His parents state that they first noticed the change in his behavior this morning and it has been getting worse. They noticed the patient was initially weak in his upper body and arms, but now he won’t move his legs with as much strength or vigor as he used to. Physical exam is notable for bilateral ptosis with a sluggish pupillary response, a very weak sucking and gag reflex, and shallow respirations. The patient is currently drooling and his diaper is dry. The parents state he has not had a bowel movement in over 1 day. Which of the following is the pathophysiology of this patient’s condition?', 'options': 'A Antibodies against postsynaptic nicotinic cholinergic ion channels B Autoantibodies against the presynaptic voltage-gated calcium channels C Autoimmune demyelination of peripheral nerves D Blockade of presynaptic acetylcholine release at the neuromuscular junction E Lower motor neuron destruction in the anterior horn', 'context': 'We are given a 1-year-old boy presenting with weakness and a change in behavior. The weakness initially started in the upper body and arms but now involves the legs as well. The physical exam findings of bilateral ptosis, sluggish pupillary response, weak sucking and gag reflex, and shallow respirations suggest a neuromuscular junction disorder. The fact that the patient is drooling and has not had a bowel movement in over 1 day further supports this. Among the options, the most likely pathophysiology is the blockade of presynaptic acetylcholine release at the neuromuscular junction, which is consistent with the clinical presentation of myasthenia gravis.', 'answer': 'D'}) (input_keys={'question', 'options'}), Example({'question': 'A 23-year-old man comes to the physician for evaluation of decreased hearing, dizziness, and ringing in his right ear for the past 6 months. Physical examination shows multiple soft, yellow plaques and papules on his arms, chest, and back. There is sensorineural hearing loss and weakness of facial muscles bilaterally. His gait is unsteady. An MRI of the brain shows a 3-cm mass near the right internal auditory meatus and a 2-cm mass at the left cerebellopontine angle. The abnormal cells in these masses are most likely derived from which of the following embryological structures?', 'options': 'A Neural tube B Surface ectoderm C Neural crest D Notochord E Mesoderm', 'context': 'We are given a patient with symptoms of decreased hearing, dizziness, and ringing in the right ear, along with physical examination findings of soft, yellow plaques and papules on the arms, chest, and back. There is also sensorineural hearing loss and weakness of facial muscles bilaterally, along with an unsteady gait. The MRI shows masses near the right internal auditory meatus and left cerebellopontine angle. Based on these findings, we can conclude that the abnormal cells in these masses are most likely derived from neural crest cells, as they give rise to the melanocytes that cause the skin findings and are also involved in the development of the inner ear and cranial nerves.', 'answer': 'C'}) (input_keys={'question', 'options'}), Example({'question': \"A 62-year-old woman comes to the physician because of coughing and fatigue during the past 2 years. In the morning, the cough is productive of white phlegm. She becomes short of breath walking up a flight of stairs. She has hypertension and hyperlipidemia. She has recently retired from working as a nurse at a homeless shelter. She has smoked 1 pack of cigarettes daily for 40 years. Current medications include ramipril and fenofibrate. Her temperature is 36.5°C (97.7°F), respirations are 24/min, pulse is 85/min, and blood pressure is 140/90 mm Hg. Scattered wheezing and rhonchi are heard throughout both lung fields. There are no murmurs, rubs, or gallops but heart sounds are distant. Which of the following is the most likely underlying cause of this patient's symptoms?\", 'options': 'A Chronic decrease in pulmonary compliance B Local accumulation of kinins C Mycobacterial invasion of pulmonary parenchyma D Progressive obstruction of expiratory airflow E Incremental loss of functional residual capacity\\n\"', 'context': 'We have a 62-year-old woman with a history of coughing and fatigue, productive cough, shortness of breath, hypertension, hyperlipidemia, and a smoking history. On physical examination, we hear wheezing and rhonchi throughout both lung fields, distant heart sounds, and no murmurs, rubs, or gallops. Based on these findings, the most likely underlying cause of her symptoms is progressive obstruction of expiratory airflow, which is consistent with chronic obstructive pulmonary disease (COPD) due to smoking.', 'answer': 'D'}) (input_keys={'question', 'options'}), Example({'question': 'A 76-year-old African American man presents to his primary care provider complaining of urinary frequency. He wakes up 3-4 times per night to urinate while he previously only had to wake up once per night. He also complains of post-void dribbling and difficulty initiating a stream of urine. He denies any difficulty maintaining an erection. His past medical history is notable for non-alcoholic fatty liver disease, hypertension, hyperlipidemia, and gout. He takes aspirin, atorvastatin, enalapril, and allopurinol. His family history is notable for prostate cancer in his father and lung cancer in his mother. He has a 15-pack-year smoking history and drinks alcohol socially. On digital rectal exam, his prostate is enlarged, smooth, and non-tender. Which of the following medications is indicated in this patient?', 'options': 'A Clonidine B Hydrochlorothiazide C Midodrine D Oxybutynin E Tamsulosin', 'context': 'We have a 76-year-old African American man presenting with urinary frequency, nocturia, post-void dribbling, and difficulty initiating a stream of urine. On digital rectal exam, his prostate is enlarged. These symptoms and findings are consistent with benign prostatic hyperplasia (BPH). The medication indicated for BPH is an alpha-1 blocker, which helps relax the smooth muscle of the prostate and bladder neck. Among the options, the alpha-1 blocker is Tamsulosin.', 'answer': 'E'}) (input_keys={'question', 'options'}), Example({'question': 'A 68-year-old man comes to the physician because of recurrent episodes of nausea and abdominal discomfort for the past 4 months. The discomfort is located in the upper abdomen and sometimes occurs after eating, especially after a big meal. He has tried to go for a walk after dinner to help with digestion, but his complaints have only increased. For the past 3 weeks he has also had symptoms while climbing the stairs to his apartment. He has type 2 diabetes mellitus, hypertension, and stage 2 peripheral arterial disease. He has smoked one pack of cigarettes daily for the past 45 years. He drinks one to two beers daily and occasionally more on weekends. His current medications include metformin, enalapril, and aspirin. He is 168 cm (5 ft 6 in) tall and weighs 126 kg (278 lb); BMI is 45 kg/m2. His temperature is 36.4°C (97.5°F), pulse is 78/min, and blood pressure is 148/86 mm Hg. On physical examination, the abdomen is soft and nontender with no organomegaly. Foot pulses are absent bilaterally. An ECG shows no abnormalities. Which of the following is the most appropriate next step in diagnosis?', 'options': 'A Esophagogastroduodenoscopy B CT scan of the abdomen C Hydrogen breath test D Cardiac stress test E Abdominal ultrasonography of the right upper quadrant', 'context': \"We have a 68-year-old man with recurrent episodes of nausea and abdominal discomfort, especially after eating. He also has symptoms while climbing stairs and has risk factors for cardiovascular disease. The physical examination is unremarkable except for absent foot pulses bilaterally. Given the patient's risk factors and symptoms, the most appropriate next step in diagnosis would be a cardiac stress test to evaluate for possible ischemic heart disease.\", 'answer': 'D'}) (input_keys={'question', 'options'})]\n"
          ]
        }
      ],
      "source": [
        "print(len(trainset))\n",
        "print(trainset)"
      ]
    },
    {
      "cell_type": "code",
      "execution_count": 84,
      "metadata": {
        "id": "aoehCFZ_TRKa"
      },
      "outputs": [],
      "source": [
        "class MultipleQABot(dspy.Module):\n",
        "    def __init__(self):\n",
        "        super().__init__()\n",
        "        self.generate_answer = dspy.Predict(MultipleChoiceQA)\n",
        "\n",
        "    def forward(self, question, options):\n",
        "        answer = self.generate_answer(question=question,options=options)\n",
        "\n",
        "        return answer\n"
      ]
    },
    {
      "cell_type": "code",
      "execution_count": 105,
      "metadata": {
        "id": "XXlTCq6lmhgb"
      },
      "outputs": [],
      "source": [
        "class ChoiceShuffle(dspy.Module):\n",
        "      def __init__(self):\n",
        "        super().__init__()\n",
        "\n",
        "      def shuffle_options(options):\n",
        "        shuffled_options = options.copy()\n",
        "        random.shuffle(shuffled_options)\n",
        "        return shuffled_options\n",
        "\n",
        "      def choice_shuffling(test_question, test_options, number_of_iterations):\n",
        "        answers = []\n",
        "        for i in range (number_of_iterations):\n",
        "          shuffled_options = shuffle_options(test_options)\n",
        "          formatted_test_options = formatting_options([shuffled_options])\n",
        "          print(formatted_test_options)\n",
        "          answers.append(compiled_knn(question = test_question, options = formatted_test_options[0]).answer)\n",
        "        return answers"
      ]
    },
    {
      "cell_type": "code",
      "execution_count": 106,
      "metadata": {
        "id": "Y_N8zoKknO8C"
      },
      "outputs": [],
      "source": [
        "choice = ChoiceShuffle()"
      ]
    },
    {
      "cell_type": "code",
      "execution_count": 107,
      "metadata": {
        "colab": {
          "base_uri": "https://localhost:8080/",
          "height": 304
        },
        "id": "bYb8SDLZnR1n",
        "outputId": "464a837c-8465-40f4-bbeb-74eeca4eb3af"
      },
      "outputs": [
        {
          "ename": "AttributeError",
          "evalue": "'ChoiceShuffle' object has no attribute 'forward'",
          "output_type": "error",
          "traceback": [
            "\u001b[0;31m---------------------------------------------------------------------------\u001b[0m",
            "\u001b[0;31mAttributeError\u001b[0m                            Traceback (most recent call last)",
            "\u001b[0;32m<ipython-input-107-42acde3c8cf7>\u001b[0m in \u001b[0;36m<cell line: 1>\u001b[0;34m()\u001b[0m\n\u001b[0;32m----> 1\u001b[0;31m \u001b[0mchoice\u001b[0m\u001b[0;34m(\u001b[0m\u001b[0;34m\"How are you?\"\u001b[0m\u001b[0;34m,\u001b[0m\u001b[0;34m\" A okay B Fine\"\u001b[0m\u001b[0;34m)\u001b[0m\u001b[0;34m\u001b[0m\u001b[0;34m\u001b[0m\u001b[0m\n\u001b[0m",
            "\u001b[0;32m/usr/local/lib/python3.10/dist-packages/dspy/primitives/program.py\u001b[0m in \u001b[0;36m__call__\u001b[0;34m(self, *args, **kwargs)\u001b[0m\n\u001b[1;32m     27\u001b[0m \u001b[0;34m\u001b[0m\u001b[0m\n\u001b[1;32m     28\u001b[0m     \u001b[0;32mdef\u001b[0m \u001b[0m__call__\u001b[0m\u001b[0;34m(\u001b[0m\u001b[0mself\u001b[0m\u001b[0;34m,\u001b[0m \u001b[0;34m*\u001b[0m\u001b[0margs\u001b[0m\u001b[0;34m,\u001b[0m \u001b[0;34m**\u001b[0m\u001b[0mkwargs\u001b[0m\u001b[0;34m)\u001b[0m\u001b[0;34m:\u001b[0m\u001b[0;34m\u001b[0m\u001b[0;34m\u001b[0m\u001b[0m\n\u001b[0;32m---> 29\u001b[0;31m         \u001b[0;32mreturn\u001b[0m \u001b[0mself\u001b[0m\u001b[0;34m.\u001b[0m\u001b[0mforward\u001b[0m\u001b[0;34m(\u001b[0m\u001b[0;34m*\u001b[0m\u001b[0margs\u001b[0m\u001b[0;34m,\u001b[0m \u001b[0;34m**\u001b[0m\u001b[0mkwargs\u001b[0m\u001b[0;34m)\u001b[0m\u001b[0;34m\u001b[0m\u001b[0;34m\u001b[0m\u001b[0m\n\u001b[0m\u001b[1;32m     30\u001b[0m \u001b[0;34m\u001b[0m\u001b[0m\n\u001b[1;32m     31\u001b[0m     \u001b[0;32mdef\u001b[0m \u001b[0mnamed_predictors\u001b[0m\u001b[0;34m(\u001b[0m\u001b[0mself\u001b[0m\u001b[0;34m)\u001b[0m\u001b[0;34m:\u001b[0m\u001b[0;34m\u001b[0m\u001b[0;34m\u001b[0m\u001b[0m\n",
            "\u001b[0;31mAttributeError\u001b[0m: 'ChoiceShuffle' object has no attribute 'forward'"
          ]
        }
      ],
      "source": [
        "choice(\"How are you?\",\" A okay B Fine\")"
      ]
    },
    {
      "cell_type": "code",
      "execution_count": 85,
      "metadata": {
        "id": "ZPdD4H02Qv9J"
      },
      "outputs": [],
      "source": [
        "from dspy.teleprompt import KNNFewShot\n",
        "from dspy.predict.knn import KNN\n",
        "\n",
        "knn_teleprompter = KNNFewShot(KNN, 5, trainset)\n",
        "compiled_knn = knn_teleprompter.compile(MultipleQABot(), trainset=trainset)"
      ]
    },
    {
      "cell_type": "code",
      "execution_count": 93,
      "metadata": {
        "id": "HREMWL9lUMrM"
      },
      "outputs": [],
      "source": [
        "import random\n",
        "\n",
        "def shuffle_options(options):\n",
        "    shuffled_options = options.copy()\n",
        "    random.shuffle(shuffled_options)\n",
        "    return shuffled_options\n",
        "\n",
        "def choice_shuffling(test_question, test_options, number_of_iterations):\n",
        "  answers = []\n",
        "  for i in range (number_of_iterations):\n",
        "    shuffled_options = shuffle_options(test_options)\n",
        "    formatted_test_options = formatting_options([shuffled_options])\n",
        "    print(formatted_test_options)\n",
        "    answers.append(compiled_knn(question = test_question, options = formatted_test_options[0]).answer)\n",
        "  return answers"
      ]
    },
    {
      "cell_type": "code",
      "execution_count": 30,
      "metadata": {
        "id": "6yqf5UmzZYMv"
      },
      "outputs": [],
      "source": [
        "t1=\"A 68-year-old man comes to the physician because of recurrent episodes of nausea and abdominal discomfort for the past 4 months. The discomfort is located in the upper abdomen and sometimes occurs after eating, especially after a big meal. He has tried to go for a walk after dinner to help with digestion, but his complaints have only increased. For the past 3 weeks he has also had symptoms while climbing the stairs to his apartment. He has type 2 diabetes mellitus, hypertension, and stage 2 peripheral arterial disease. He has smoked one pack of cigarettes daily for the past 45 years. He drinks one to two beers daily and occasionally more on weekends. His current medications include metformin, enalapril, and aspirin. He is 168 cm (5 ft 6 in) tall and weighs 126 kg (278 lb); BMI is 45 kg/m2. His temperature is 36.4°C (97.5°F), pulse is 78/min, and blood pressure is 148/86 mm Hg. On physical examination, the abdomen is soft and nontender with no organomegaly. Foot pulses are absent bilaterally. An ECG shows no abnormalities. Which of the following is the most appropriate next step in diagnosis?\"\n",
        "t1_op=[{'key': 'A', 'value': 'Esophagogastroduodenoscopy'}, {'key': 'B', 'value': 'CT scan of the abdomen'}, {'key': 'C', 'value': 'Hydrogen breath test'}, {'key': 'D', 'value': 'Cardiac stress test'}, {'key': 'E', 'value': 'Abdominal ultrasonography of the right upper quadrant'}]"
      ]
    },
    {
      "cell_type": "code",
      "execution_count": 95,
      "metadata": {
        "colab": {
          "base_uri": "https://localhost:8080/"
        },
        "id": "YdTmGgfcYzjQ",
        "outputId": "218c2672-3b25-4754-ddc1-761c6944090b"
      },
      "outputs": [
        {
          "name": "stdout",
          "output_type": "stream",
          "text": [
            "['D Cardiac stress test B CT scan of the abdomen C Hydrogen breath test E Abdominal ultrasonography of the right upper quadrant A Esophagogastroduodenoscopy']\n"
          ]
        },
        {
          "name": "stderr",
          "output_type": "stream",
          "text": [
            " 80%|████████  | 4/5 [00:00<00:00, 821.25it/s]"
          ]
        },
        {
          "name": "stdout",
          "output_type": "stream",
          "text": [
            "Bootstrapped 4 full traces after 5 examples in round 0.\n"
          ]
        },
        {
          "name": "stderr",
          "output_type": "stream",
          "text": [
            "\n"
          ]
        },
        {
          "name": "stdout",
          "output_type": "stream",
          "text": [
            "['C Hydrogen breath test A Esophagogastroduodenoscopy D Cardiac stress test B CT scan of the abdomen E Abdominal ultrasonography of the right upper quadrant']\n"
          ]
        },
        {
          "name": "stderr",
          "output_type": "stream",
          "text": [
            " 80%|████████  | 4/5 [00:00<00:00, 812.81it/s]"
          ]
        },
        {
          "name": "stdout",
          "output_type": "stream",
          "text": [
            "Bootstrapped 4 full traces after 5 examples in round 0.\n"
          ]
        },
        {
          "name": "stderr",
          "output_type": "stream",
          "text": [
            "\n"
          ]
        },
        {
          "name": "stdout",
          "output_type": "stream",
          "text": [
            "['E Abdominal ultrasonography of the right upper quadrant B CT scan of the abdomen D Cardiac stress test A Esophagogastroduodenoscopy C Hydrogen breath test']\n"
          ]
        },
        {
          "name": "stderr",
          "output_type": "stream",
          "text": [
            " 80%|████████  | 4/5 [00:00<00:00, 786.89it/s]\n"
          ]
        },
        {
          "name": "stdout",
          "output_type": "stream",
          "text": [
            "Bootstrapped 4 full traces after 5 examples in round 0.\n",
            "['B CT scan of the abdomen E Abdominal ultrasonography of the right upper quadrant A Esophagogastroduodenoscopy C Hydrogen breath test D Cardiac stress test']\n"
          ]
        },
        {
          "name": "stderr",
          "output_type": "stream",
          "text": [
            " 80%|████████  | 4/5 [00:00<00:00, 455.61it/s]\n"
          ]
        },
        {
          "name": "stdout",
          "output_type": "stream",
          "text": [
            "Bootstrapped 4 full traces after 5 examples in round 0.\n",
            "['A Esophagogastroduodenoscopy B CT scan of the abdomen D Cardiac stress test E Abdominal ultrasonography of the right upper quadrant C Hydrogen breath test']\n"
          ]
        },
        {
          "name": "stderr",
          "output_type": "stream",
          "text": [
            " 80%|████████  | 4/5 [00:00<00:00, 717.01it/s]"
          ]
        },
        {
          "name": "stdout",
          "output_type": "stream",
          "text": [
            "Bootstrapped 4 full traces after 5 examples in round 0.\n"
          ]
        },
        {
          "name": "stderr",
          "output_type": "stream",
          "text": [
            "\n"
          ]
        },
        {
          "data": {
            "text/plain": [
              "['A', 'C', 'C', 'B', 'A']"
            ]
          },
          "execution_count": 95,
          "metadata": {},
          "output_type": "execute_result"
        }
      ],
      "source": [
        "choice_shuffling(t1, t1_op, 5)"
      ]
    },
    {
      "cell_type": "code",
      "execution_count": 96,
      "metadata": {
        "id": "52eRgHygiZS2"
      },
      "outputs": [],
      "source": [
        "import tqdm\n",
        "import random\n",
        "\n",
        "from dspy.teleprompt.teleprompt import Teleprompter\n",
        "\n",
        "class Ensemble(Teleprompter):\n",
        "    def __init__(self, *, reduce_fn=None, size=None, deterministic=False):\n",
        "        \"\"\"A common reduce_fn is dspy.majority.\"\"\"\n",
        "\n",
        "        assert deterministic is False, \"TODO: Implement example hashing for deterministic ensemble.\"\n",
        "\n",
        "        self.reduce_fn = reduce_fn\n",
        "        self.size = size\n",
        "        self.deterministic = deterministic\n",
        "\n",
        "    def compile(self, programs):\n",
        "        size = self.size\n",
        "        reduce_fn = self.reduce_fn\n",
        "\n",
        "        class EnsembledProgram(dspy.Module):\n",
        "            def __init__(self):\n",
        "                super().__init__()\n",
        "                self.programs = programs\n",
        "\n",
        "            def forward(self, *args, **kwargs):\n",
        "                programs = random.sample(self.programs, size) if size else self.programs\n",
        "                outputs = [prog(*args, **kwargs) for prog in programs]\n",
        "\n",
        "                if reduce_fn:\n",
        "                    return reduce_fn(outputs)\n",
        "\n",
        "                return outputs\n",
        "\n",
        "        return EnsembledProgram()"
      ]
    },
    {
      "cell_type": "code",
      "execution_count": 108,
      "metadata": {
        "id": "6eTZwJPyqh2y"
      },
      "outputs": [],
      "source": [
        "import tqdm\n",
        "import random\n",
        "\n",
        "from dspy.teleprompt.teleprompt import Teleprompter\n",
        "\n",
        "class Ensemble(Teleprompter):\n",
        "    def __init__(self, *, reduce_fn=None, size=None, deterministic=False):\n",
        "        \"\"\"A common reduce_fn is dspy.majority.\"\"\"\n",
        "\n",
        "        assert deterministic is False, \"TODO: Implement example hashing for deterministic ensemble.\"\n",
        "\n",
        "        self.reduce_fn = reduce_fn\n",
        "        self.size = size\n",
        "        self.deterministic = deterministic\n",
        "\n",
        "    def compile(self, programs, choice_shuffle=False):\n",
        "        size = self.size\n",
        "        reduce_fn = self.reduce_fn\n",
        "\n",
        "        class EnsembledProgram(dspy.Module):\n",
        "            def __init__(self):\n",
        "                super().__init__()\n",
        "                self.programs = programs\n",
        "\n",
        "            def forward(self, *args, **kwargs):\n",
        "                outputs = []\n",
        "\n",
        "                if choice_shuffle:\n",
        "                    outputs = self.choice_shuffle(*args, **kwargs)\n",
        "                else:\n",
        "                    # Standard ensemble without choice shuffling\n",
        "                    programs_to_use = random.sample(self.programs, size) if size else self.programs\n",
        "                    outputs = [prog(*args, **kwargs) for prog in programs_to_use]\n",
        "\n",
        "                if reduce_fn:\n",
        "                    return reduce_fn(outputs)\n",
        "\n",
        "                return outputs\n",
        "\n",
        "            def choice_shuffle(self, *args, **kwargs):\n",
        "                # Ensemble with choice shuffling\n",
        "                shuffle_iterations = 5\n",
        "                for _ in range(shuffle_iterations):\n",
        "                    shuffled_args = []\n",
        "                    for arg in args:\n",
        "                        if isinstance(arg, list):\n",
        "                            shuffled_options = random.sample(arg, len(arg))\n",
        "                            shuffled_args.append(shuffled_options)\n",
        "                        else:\n",
        "                            shuffled_args.append(arg)\n",
        "\n",
        "                    # Execute the programs with shuffled options\n",
        "                    programs_to_use = random.sample(self.programs, size) if size else self.programs\n",
        "                    shuffled_outputs = [prog(*shuffled_args, **kwargs) for prog in programs_to_use]\n",
        "                    outputs.append(shuffled_outputs)\n",
        "\n",
        "                return outputs\n",
        "\n",
        "        return EnsembledProgram()\n"
      ]
    },
    {
      "cell_type": "code",
      "execution_count": 109,
      "metadata": {
        "id": "PzzfWJlcim6v"
      },
      "outputs": [],
      "source": [
        "programs = [compiled_knn]\n",
        "ensembled_program = Ensemble(reduce_fn=dspy.majority).compile(programs, choice_shuffle = False)"
      ]
    },
    {
      "cell_type": "code",
      "execution_count": 110,
      "metadata": {
        "id": "gPNI7D4YisI2"
      },
      "outputs": [],
      "source": [
        "from dspy.evaluate.evaluate import Evaluate\n",
        "from dspy.evaluate import Evaluate\n",
        "metric = dspy.evaluate.metrics.answer_exact_match\n",
        "evaluator = Evaluate(devset=val_set, num_threads=1, display_progress=True, display_table=0)"
      ]
    },
    {
      "cell_type": "code",
      "execution_count": 111,
      "metadata": {
        "colab": {
          "base_uri": "https://localhost:8080/",
          "height": 1000
        },
        "id": "8p7WrAMZjdbi",
        "outputId": "1df7ffd6-9bb3-4785-bef7-d2a210df00a2"
      },
      "outputs": [
        {
          "name": "stderr",
          "output_type": "stream",
          "text": [
            "  0%|          | 0/20 [00:00<?, ?it/s]\n",
            "  0%|          | 0/5 [00:00<?, ?it/s]\u001b[A\n",
            " 20%|██        | 1/5 [00:00<00:03,  1.21it/s]\u001b[A\n",
            " 40%|████      | 2/5 [00:01<00:01,  2.08it/s]\u001b[A\n",
            " 60%|██████    | 3/5 [00:01<00:01,  1.90it/s]\u001b[A\n",
            " 80%|████████  | 4/5 [00:02<00:00,  1.86it/s]\n",
            "Average Metric: 0.0 / 1  (0.0):   5%|▌         | 1/20 [00:02<00:42,  2.24s/it]"
          ]
        },
        {
          "name": "stdout",
          "output_type": "stream",
          "text": [
            "Bootstrapped 4 full traces after 5 examples in round 0.\n",
            "Error for example in dev set: \t\t MultipleQABot.forward() missing 1 required positional argument: 'options'\n"
          ]
        },
        {
          "name": "stderr",
          "output_type": "stream",
          "text": [
            "\n",
            "  0%|          | 0/5 [00:00<?, ?it/s]\u001b[A\n",
            " 20%|██        | 1/5 [00:00<00:01,  2.13it/s]\u001b[A\n",
            " 40%|████      | 2/5 [00:00<00:01,  2.10it/s]\u001b[A\n",
            " 60%|██████    | 3/5 [00:01<00:00,  2.14it/s]\u001b[A\n",
            " 80%|████████  | 4/5 [00:01<00:00,  2.13it/s]\n",
            "Average Metric: 0.0 / 2  (0.0):  10%|█         | 2/20 [00:04<00:37,  2.06s/it]"
          ]
        },
        {
          "name": "stdout",
          "output_type": "stream",
          "text": [
            "Bootstrapped 4 full traces after 5 examples in round 0.\n",
            "Error for example in dev set: \t\t MultipleQABot.forward() missing 1 required positional argument: 'options'\n"
          ]
        },
        {
          "name": "stderr",
          "output_type": "stream",
          "text": [
            "\n",
            "  0%|          | 0/5 [00:00<?, ?it/s]\u001b[A\n",
            " 20%|██        | 1/5 [00:00<00:03,  1.25it/s]\u001b[A\n",
            " 40%|████      | 2/5 [00:01<00:01,  1.67it/s]\u001b[A\n",
            " 60%|██████    | 3/5 [00:01<00:00,  2.05it/s]\u001b[A\n",
            " 80%|████████  | 4/5 [00:02<00:00,  1.92it/s]\n",
            "Average Metric: 0.0 / 3  (0.0):  15%|█▌        | 3/20 [00:06<00:36,  2.13s/it]"
          ]
        },
        {
          "name": "stdout",
          "output_type": "stream",
          "text": [
            "Bootstrapped 4 full traces after 5 examples in round 0.\n",
            "Error for example in dev set: \t\t MultipleQABot.forward() missing 1 required positional argument: 'options'\n"
          ]
        },
        {
          "name": "stderr",
          "output_type": "stream",
          "text": [
            "\n",
            "  0%|          | 0/5 [00:00<?, ?it/s]\u001b[A\n",
            " 20%|██        | 1/5 [00:00<00:01,  2.26it/s]\u001b[A\n",
            " 40%|████      | 2/5 [00:01<00:01,  1.55it/s]\u001b[A\n",
            " 60%|██████    | 3/5 [00:01<00:01,  1.80it/s]\u001b[A\n",
            " 80%|████████  | 4/5 [00:02<00:00,  1.94it/s]\n",
            "Average Metric: 0.0 / 4  (0.0):  20%|██        | 4/20 [00:08<00:34,  2.15s/it]"
          ]
        },
        {
          "name": "stdout",
          "output_type": "stream",
          "text": [
            "Bootstrapped 4 full traces after 5 examples in round 0.\n",
            "Error for example in dev set: \t\t MultipleQABot.forward() missing 1 required positional argument: 'options'\n"
          ]
        },
        {
          "name": "stderr",
          "output_type": "stream",
          "text": [
            "\n",
            "  0%|          | 0/5 [00:00<?, ?it/s]\u001b[A\n",
            " 20%|██        | 1/5 [00:00<00:01,  2.17it/s]\u001b[A\n",
            " 40%|████      | 2/5 [00:00<00:01,  2.18it/s]\u001b[A\n",
            " 60%|██████    | 3/5 [00:02<00:01,  1.16it/s]\u001b[A\n",
            " 80%|████████  | 4/5 [00:03<00:00,  1.29it/s]"
          ]
        },
        {
          "name": "stdout",
          "output_type": "stream",
          "text": [
            "Bootstrapped 4 full traces after 5 examples in round 0.\n"
          ]
        },
        {
          "name": "stderr",
          "output_type": "stream",
          "text": [
            "\n"
          ]
        },
        {
          "ename": "TypeError",
          "evalue": "MultipleQABot.forward() missing 1 required positional argument: 'options'",
          "output_type": "error",
          "traceback": [
            "\u001b[0;31m---------------------------------------------------------------------------\u001b[0m",
            "\u001b[0;31mTypeError\u001b[0m                                 Traceback (most recent call last)",
            "\u001b[0;32m<ipython-input-111-397ff72c136b>\u001b[0m in \u001b[0;36m<cell line: 1>\u001b[0;34m()\u001b[0m\n\u001b[0;32m----> 1\u001b[0;31m \u001b[0mevaluator\u001b[0m\u001b[0;34m(\u001b[0m\u001b[0mensembled_program\u001b[0m\u001b[0;34m,\u001b[0m \u001b[0mmetric\u001b[0m \u001b[0;34m=\u001b[0m \u001b[0mmetric\u001b[0m\u001b[0;34m)\u001b[0m\u001b[0;34m\u001b[0m\u001b[0;34m\u001b[0m\u001b[0m\n\u001b[0m",
            "\u001b[0;32m/usr/local/lib/python3.10/dist-packages/dspy/evaluate/evaluate.py\u001b[0m in \u001b[0;36m__call__\u001b[0;34m(self, program, metric, devset, num_threads, display_progress, display_table, display, return_all_scores)\u001b[0m\n\u001b[1;32m    109\u001b[0m \u001b[0;34m\u001b[0m\u001b[0m\n\u001b[1;32m    110\u001b[0m         \u001b[0;32mif\u001b[0m \u001b[0mnum_threads\u001b[0m \u001b[0;34m==\u001b[0m \u001b[0;36m1\u001b[0m\u001b[0;34m:\u001b[0m\u001b[0;34m\u001b[0m\u001b[0;34m\u001b[0m\u001b[0m\n\u001b[0;32m--> 111\u001b[0;31m             \u001b[0mreordered_devset\u001b[0m\u001b[0;34m,\u001b[0m \u001b[0mncorrect\u001b[0m\u001b[0;34m,\u001b[0m \u001b[0mntotal\u001b[0m \u001b[0;34m=\u001b[0m \u001b[0mself\u001b[0m\u001b[0;34m.\u001b[0m\u001b[0m_execute_single_thread\u001b[0m\u001b[0;34m(\u001b[0m\u001b[0mwrapped_program\u001b[0m\u001b[0;34m,\u001b[0m \u001b[0mdevset\u001b[0m\u001b[0;34m,\u001b[0m \u001b[0mdisplay_progress\u001b[0m\u001b[0;34m)\u001b[0m\u001b[0;34m\u001b[0m\u001b[0;34m\u001b[0m\u001b[0m\n\u001b[0m\u001b[1;32m    112\u001b[0m         \u001b[0;32melse\u001b[0m\u001b[0;34m:\u001b[0m\u001b[0;34m\u001b[0m\u001b[0;34m\u001b[0m\u001b[0m\n\u001b[1;32m    113\u001b[0m             \u001b[0mreordered_devset\u001b[0m\u001b[0;34m,\u001b[0m \u001b[0mncorrect\u001b[0m\u001b[0;34m,\u001b[0m \u001b[0mntotal\u001b[0m \u001b[0;34m=\u001b[0m \u001b[0mself\u001b[0m\u001b[0;34m.\u001b[0m\u001b[0m_execute_multi_thread\u001b[0m\u001b[0;34m(\u001b[0m\u001b[0mwrapped_program\u001b[0m\u001b[0;34m,\u001b[0m \u001b[0mdevset\u001b[0m\u001b[0;34m,\u001b[0m \u001b[0mnum_threads\u001b[0m\u001b[0;34m,\u001b[0m \u001b[0mdisplay_progress\u001b[0m\u001b[0;34m)\u001b[0m\u001b[0;34m\u001b[0m\u001b[0;34m\u001b[0m\u001b[0m\n",
            "\u001b[0;32m/usr/local/lib/python3.10/dist-packages/dspy/evaluate/evaluate.py\u001b[0m in \u001b[0;36m_execute_single_thread\u001b[0;34m(self, wrapped_program, devset, display_progress)\u001b[0m\n\u001b[1;32m     36\u001b[0m         \u001b[0mpbar\u001b[0m \u001b[0;34m=\u001b[0m \u001b[0mtqdm\u001b[0m\u001b[0;34m.\u001b[0m\u001b[0mtqdm\u001b[0m\u001b[0;34m(\u001b[0m\u001b[0mtotal\u001b[0m\u001b[0;34m=\u001b[0m\u001b[0mlen\u001b[0m\u001b[0;34m(\u001b[0m\u001b[0mdevset\u001b[0m\u001b[0;34m)\u001b[0m\u001b[0;34m,\u001b[0m \u001b[0mdynamic_ncols\u001b[0m\u001b[0;34m=\u001b[0m\u001b[0;32mTrue\u001b[0m\u001b[0;34m,\u001b[0m \u001b[0mdisable\u001b[0m\u001b[0;34m=\u001b[0m\u001b[0;32mnot\u001b[0m \u001b[0mdisplay_progress\u001b[0m\u001b[0;34m)\u001b[0m\u001b[0;34m\u001b[0m\u001b[0;34m\u001b[0m\u001b[0m\n\u001b[1;32m     37\u001b[0m         \u001b[0;32mfor\u001b[0m \u001b[0midx\u001b[0m\u001b[0;34m,\u001b[0m \u001b[0marg\u001b[0m \u001b[0;32min\u001b[0m \u001b[0mdevset\u001b[0m\u001b[0;34m:\u001b[0m\u001b[0;34m\u001b[0m\u001b[0;34m\u001b[0m\u001b[0m\n\u001b[0;32m---> 38\u001b[0;31m             \u001b[0mexample_idx\u001b[0m\u001b[0;34m,\u001b[0m \u001b[0mexample\u001b[0m\u001b[0;34m,\u001b[0m \u001b[0mprediction\u001b[0m\u001b[0;34m,\u001b[0m \u001b[0mscore\u001b[0m \u001b[0;34m=\u001b[0m \u001b[0mwrapped_program\u001b[0m\u001b[0;34m(\u001b[0m\u001b[0midx\u001b[0m\u001b[0;34m,\u001b[0m \u001b[0marg\u001b[0m\u001b[0;34m)\u001b[0m\u001b[0;34m\u001b[0m\u001b[0;34m\u001b[0m\u001b[0m\n\u001b[0m\u001b[1;32m     39\u001b[0m             \u001b[0mreordered_devset\u001b[0m\u001b[0;34m.\u001b[0m\u001b[0mappend\u001b[0m\u001b[0;34m(\u001b[0m\u001b[0;34m(\u001b[0m\u001b[0mexample_idx\u001b[0m\u001b[0;34m,\u001b[0m \u001b[0mexample\u001b[0m\u001b[0;34m,\u001b[0m \u001b[0mprediction\u001b[0m\u001b[0;34m,\u001b[0m \u001b[0mscore\u001b[0m\u001b[0;34m)\u001b[0m\u001b[0;34m)\u001b[0m\u001b[0;34m\u001b[0m\u001b[0;34m\u001b[0m\u001b[0m\n\u001b[1;32m     40\u001b[0m             \u001b[0mncorrect\u001b[0m \u001b[0;34m+=\u001b[0m \u001b[0mscore\u001b[0m\u001b[0;34m\u001b[0m\u001b[0;34m\u001b[0m\u001b[0m\n",
            "\u001b[0;32m/usr/local/lib/python3.10/dist-packages/dspy/evaluate/evaluate.py\u001b[0m in \u001b[0;36mwrapped_program\u001b[0;34m(example_idx, example)\u001b[0m\n\u001b[1;32m     99\u001b[0m                     \u001b[0mcurrent_error_count\u001b[0m \u001b[0;34m=\u001b[0m \u001b[0mself\u001b[0m\u001b[0;34m.\u001b[0m\u001b[0merror_count\u001b[0m\u001b[0;34m\u001b[0m\u001b[0;34m\u001b[0m\u001b[0m\n\u001b[1;32m    100\u001b[0m                 \u001b[0;32mif\u001b[0m \u001b[0mcurrent_error_count\u001b[0m \u001b[0;34m>=\u001b[0m \u001b[0mself\u001b[0m\u001b[0;34m.\u001b[0m\u001b[0mmax_errors\u001b[0m\u001b[0;34m:\u001b[0m\u001b[0;34m\u001b[0m\u001b[0;34m\u001b[0m\u001b[0m\n\u001b[0;32m--> 101\u001b[0;31m                     \u001b[0;32mraise\u001b[0m \u001b[0me\u001b[0m\u001b[0;34m\u001b[0m\u001b[0;34m\u001b[0m\u001b[0m\n\u001b[0m\u001b[1;32m    102\u001b[0m                 \u001b[0mprint\u001b[0m\u001b[0;34m(\u001b[0m\u001b[0;34mf\"Error for example in dev set: \\t\\t {e}\"\u001b[0m\u001b[0;34m)\u001b[0m\u001b[0;34m\u001b[0m\u001b[0;34m\u001b[0m\u001b[0m\n\u001b[1;32m    103\u001b[0m                 \u001b[0;32mreturn\u001b[0m \u001b[0mexample_idx\u001b[0m\u001b[0;34m,\u001b[0m \u001b[0mexample\u001b[0m\u001b[0;34m,\u001b[0m \u001b[0mdict\u001b[0m\u001b[0;34m(\u001b[0m\u001b[0;34m)\u001b[0m\u001b[0;34m,\u001b[0m \u001b[0;36m0.0\u001b[0m\u001b[0;34m\u001b[0m\u001b[0;34m\u001b[0m\u001b[0m\n",
            "\u001b[0;32m/usr/local/lib/python3.10/dist-packages/dspy/evaluate/evaluate.py\u001b[0m in \u001b[0;36mwrapped_program\u001b[0;34m(example_idx, example)\u001b[0m\n\u001b[1;32m     91\u001b[0m \u001b[0;34m\u001b[0m\u001b[0m\n\u001b[1;32m     92\u001b[0m             \u001b[0;32mtry\u001b[0m\u001b[0;34m:\u001b[0m\u001b[0;34m\u001b[0m\u001b[0;34m\u001b[0m\u001b[0m\n\u001b[0;32m---> 93\u001b[0;31m                 \u001b[0mprediction\u001b[0m \u001b[0;34m=\u001b[0m \u001b[0mprogram\u001b[0m\u001b[0;34m(\u001b[0m\u001b[0;34m**\u001b[0m\u001b[0mexample\u001b[0m\u001b[0;34m.\u001b[0m\u001b[0minputs\u001b[0m\u001b[0;34m(\u001b[0m\u001b[0;34m)\u001b[0m\u001b[0;34m)\u001b[0m\u001b[0;34m\u001b[0m\u001b[0;34m\u001b[0m\u001b[0m\n\u001b[0m\u001b[1;32m     94\u001b[0m                 \u001b[0mscore\u001b[0m \u001b[0;34m=\u001b[0m \u001b[0mmetric\u001b[0m\u001b[0;34m(\u001b[0m\u001b[0mexample\u001b[0m\u001b[0;34m,\u001b[0m \u001b[0mprediction\u001b[0m\u001b[0;34m)\u001b[0m  \u001b[0;31m# FIXME: TODO: What's the right order? Maybe force name-based kwargs!\u001b[0m\u001b[0;34m\u001b[0m\u001b[0;34m\u001b[0m\u001b[0m\n\u001b[1;32m     95\u001b[0m                 \u001b[0;32mreturn\u001b[0m \u001b[0mexample_idx\u001b[0m\u001b[0;34m,\u001b[0m \u001b[0mexample\u001b[0m\u001b[0;34m,\u001b[0m \u001b[0mprediction\u001b[0m\u001b[0;34m,\u001b[0m \u001b[0mscore\u001b[0m\u001b[0;34m\u001b[0m\u001b[0;34m\u001b[0m\u001b[0m\n",
            "\u001b[0;32m/usr/local/lib/python3.10/dist-packages/dspy/primitives/program.py\u001b[0m in \u001b[0;36m__call__\u001b[0;34m(self, *args, **kwargs)\u001b[0m\n\u001b[1;32m     27\u001b[0m \u001b[0;34m\u001b[0m\u001b[0m\n\u001b[1;32m     28\u001b[0m     \u001b[0;32mdef\u001b[0m \u001b[0m__call__\u001b[0m\u001b[0;34m(\u001b[0m\u001b[0mself\u001b[0m\u001b[0;34m,\u001b[0m \u001b[0;34m*\u001b[0m\u001b[0margs\u001b[0m\u001b[0;34m,\u001b[0m \u001b[0;34m**\u001b[0m\u001b[0mkwargs\u001b[0m\u001b[0;34m)\u001b[0m\u001b[0;34m:\u001b[0m\u001b[0;34m\u001b[0m\u001b[0;34m\u001b[0m\u001b[0m\n\u001b[0;32m---> 29\u001b[0;31m         \u001b[0;32mreturn\u001b[0m \u001b[0mself\u001b[0m\u001b[0;34m.\u001b[0m\u001b[0mforward\u001b[0m\u001b[0;34m(\u001b[0m\u001b[0;34m*\u001b[0m\u001b[0margs\u001b[0m\u001b[0;34m,\u001b[0m \u001b[0;34m**\u001b[0m\u001b[0mkwargs\u001b[0m\u001b[0;34m)\u001b[0m\u001b[0;34m\u001b[0m\u001b[0;34m\u001b[0m\u001b[0m\n\u001b[0m\u001b[1;32m     30\u001b[0m \u001b[0;34m\u001b[0m\u001b[0m\n\u001b[1;32m     31\u001b[0m     \u001b[0;32mdef\u001b[0m \u001b[0mnamed_predictors\u001b[0m\u001b[0;34m(\u001b[0m\u001b[0mself\u001b[0m\u001b[0;34m)\u001b[0m\u001b[0;34m:\u001b[0m\u001b[0;34m\u001b[0m\u001b[0;34m\u001b[0m\u001b[0m\n",
            "\u001b[0;32m<ipython-input-108-632416f38853>\u001b[0m in \u001b[0;36mforward\u001b[0;34m(self, *args, **kwargs)\u001b[0m\n\u001b[1;32m     31\u001b[0m                     \u001b[0;31m# Standard ensemble without choice shuffling\u001b[0m\u001b[0;34m\u001b[0m\u001b[0;34m\u001b[0m\u001b[0m\n\u001b[1;32m     32\u001b[0m                     \u001b[0mprograms_to_use\u001b[0m \u001b[0;34m=\u001b[0m \u001b[0mrandom\u001b[0m\u001b[0;34m.\u001b[0m\u001b[0msample\u001b[0m\u001b[0;34m(\u001b[0m\u001b[0mself\u001b[0m\u001b[0;34m.\u001b[0m\u001b[0mprograms\u001b[0m\u001b[0;34m,\u001b[0m \u001b[0msize\u001b[0m\u001b[0;34m)\u001b[0m \u001b[0;32mif\u001b[0m \u001b[0msize\u001b[0m \u001b[0;32melse\u001b[0m \u001b[0mself\u001b[0m\u001b[0;34m.\u001b[0m\u001b[0mprograms\u001b[0m\u001b[0;34m\u001b[0m\u001b[0;34m\u001b[0m\u001b[0m\n\u001b[0;32m---> 33\u001b[0;31m                     \u001b[0moutputs\u001b[0m \u001b[0;34m=\u001b[0m \u001b[0;34m[\u001b[0m\u001b[0mprog\u001b[0m\u001b[0;34m(\u001b[0m\u001b[0;34m*\u001b[0m\u001b[0margs\u001b[0m\u001b[0;34m,\u001b[0m \u001b[0;34m**\u001b[0m\u001b[0mkwargs\u001b[0m\u001b[0;34m)\u001b[0m \u001b[0;32mfor\u001b[0m \u001b[0mprog\u001b[0m \u001b[0;32min\u001b[0m \u001b[0mprograms_to_use\u001b[0m\u001b[0;34m]\u001b[0m\u001b[0;34m\u001b[0m\u001b[0;34m\u001b[0m\u001b[0m\n\u001b[0m\u001b[1;32m     34\u001b[0m \u001b[0;34m\u001b[0m\u001b[0m\n\u001b[1;32m     35\u001b[0m                 \u001b[0;32mif\u001b[0m \u001b[0mreduce_fn\u001b[0m\u001b[0;34m:\u001b[0m\u001b[0;34m\u001b[0m\u001b[0;34m\u001b[0m\u001b[0m\n",
            "\u001b[0;32m<ipython-input-108-632416f38853>\u001b[0m in \u001b[0;36m<listcomp>\u001b[0;34m(.0)\u001b[0m\n\u001b[1;32m     31\u001b[0m                     \u001b[0;31m# Standard ensemble without choice shuffling\u001b[0m\u001b[0;34m\u001b[0m\u001b[0;34m\u001b[0m\u001b[0m\n\u001b[1;32m     32\u001b[0m                     \u001b[0mprograms_to_use\u001b[0m \u001b[0;34m=\u001b[0m \u001b[0mrandom\u001b[0m\u001b[0;34m.\u001b[0m\u001b[0msample\u001b[0m\u001b[0;34m(\u001b[0m\u001b[0mself\u001b[0m\u001b[0;34m.\u001b[0m\u001b[0mprograms\u001b[0m\u001b[0;34m,\u001b[0m \u001b[0msize\u001b[0m\u001b[0;34m)\u001b[0m \u001b[0;32mif\u001b[0m \u001b[0msize\u001b[0m \u001b[0;32melse\u001b[0m \u001b[0mself\u001b[0m\u001b[0;34m.\u001b[0m\u001b[0mprograms\u001b[0m\u001b[0;34m\u001b[0m\u001b[0;34m\u001b[0m\u001b[0m\n\u001b[0;32m---> 33\u001b[0;31m                     \u001b[0moutputs\u001b[0m \u001b[0;34m=\u001b[0m \u001b[0;34m[\u001b[0m\u001b[0mprog\u001b[0m\u001b[0;34m(\u001b[0m\u001b[0;34m*\u001b[0m\u001b[0margs\u001b[0m\u001b[0;34m,\u001b[0m \u001b[0;34m**\u001b[0m\u001b[0mkwargs\u001b[0m\u001b[0;34m)\u001b[0m \u001b[0;32mfor\u001b[0m \u001b[0mprog\u001b[0m \u001b[0;32min\u001b[0m \u001b[0mprograms_to_use\u001b[0m\u001b[0;34m]\u001b[0m\u001b[0;34m\u001b[0m\u001b[0;34m\u001b[0m\u001b[0m\n\u001b[0m\u001b[1;32m     34\u001b[0m \u001b[0;34m\u001b[0m\u001b[0m\n\u001b[1;32m     35\u001b[0m                 \u001b[0;32mif\u001b[0m \u001b[0mreduce_fn\u001b[0m\u001b[0;34m:\u001b[0m\u001b[0;34m\u001b[0m\u001b[0;34m\u001b[0m\u001b[0m\n",
            "\u001b[0;32m/usr/local/lib/python3.10/dist-packages/dspy/primitives/program.py\u001b[0m in \u001b[0;36m__call__\u001b[0;34m(self, *args, **kwargs)\u001b[0m\n\u001b[1;32m     27\u001b[0m \u001b[0;34m\u001b[0m\u001b[0m\n\u001b[1;32m     28\u001b[0m     \u001b[0;32mdef\u001b[0m \u001b[0m__call__\u001b[0m\u001b[0;34m(\u001b[0m\u001b[0mself\u001b[0m\u001b[0;34m,\u001b[0m \u001b[0;34m*\u001b[0m\u001b[0margs\u001b[0m\u001b[0;34m,\u001b[0m \u001b[0;34m**\u001b[0m\u001b[0mkwargs\u001b[0m\u001b[0;34m)\u001b[0m\u001b[0;34m:\u001b[0m\u001b[0;34m\u001b[0m\u001b[0;34m\u001b[0m\u001b[0m\n\u001b[0;32m---> 29\u001b[0;31m         \u001b[0;32mreturn\u001b[0m \u001b[0mself\u001b[0m\u001b[0;34m.\u001b[0m\u001b[0mforward\u001b[0m\u001b[0;34m(\u001b[0m\u001b[0;34m*\u001b[0m\u001b[0margs\u001b[0m\u001b[0;34m,\u001b[0m \u001b[0;34m**\u001b[0m\u001b[0mkwargs\u001b[0m\u001b[0;34m)\u001b[0m\u001b[0;34m\u001b[0m\u001b[0;34m\u001b[0m\u001b[0m\n\u001b[0m\u001b[1;32m     30\u001b[0m \u001b[0;34m\u001b[0m\u001b[0m\n\u001b[1;32m     31\u001b[0m     \u001b[0;32mdef\u001b[0m \u001b[0mnamed_predictors\u001b[0m\u001b[0;34m(\u001b[0m\u001b[0mself\u001b[0m\u001b[0;34m)\u001b[0m\u001b[0;34m:\u001b[0m\u001b[0;34m\u001b[0m\u001b[0;34m\u001b[0m\u001b[0m\n",
            "\u001b[0;32m/usr/local/lib/python3.10/dist-packages/dspy/teleprompt/knn_fewshot.py\u001b[0m in \u001b[0;36mforward_pass\u001b[0;34m(*args, **kwargs)\u001b[0m\n\u001b[1;32m     17\u001b[0m             \u001b[0mfew_shot_bootstrap\u001b[0m \u001b[0;34m=\u001b[0m \u001b[0mBootstrapFewShot\u001b[0m\u001b[0;34m(\u001b[0m\u001b[0;34m)\u001b[0m\u001b[0;34m\u001b[0m\u001b[0;34m\u001b[0m\u001b[0m\n\u001b[1;32m     18\u001b[0m             \u001b[0mcompiled_program\u001b[0m \u001b[0;34m=\u001b[0m \u001b[0mfew_shot_bootstrap\u001b[0m\u001b[0;34m.\u001b[0m\u001b[0mcompile\u001b[0m\u001b[0;34m(\u001b[0m\u001b[0mstudent\u001b[0m\u001b[0;34m,\u001b[0m \u001b[0mteacher\u001b[0m\u001b[0;34m=\u001b[0m\u001b[0mteacher\u001b[0m\u001b[0;34m,\u001b[0m \u001b[0mtrainset\u001b[0m\u001b[0;34m=\u001b[0m\u001b[0mknn_trainset\u001b[0m\u001b[0;34m,\u001b[0m \u001b[0mvalset\u001b[0m\u001b[0;34m=\u001b[0m\u001b[0mvalset\u001b[0m\u001b[0;34m)\u001b[0m\u001b[0;34m\u001b[0m\u001b[0;34m\u001b[0m\u001b[0m\n\u001b[0;32m---> 19\u001b[0;31m             \u001b[0;32mreturn\u001b[0m \u001b[0mcompiled_program\u001b[0m\u001b[0;34m(\u001b[0m\u001b[0;34m**\u001b[0m\u001b[0mkwargs\u001b[0m\u001b[0;34m)\u001b[0m\u001b[0;34m\u001b[0m\u001b[0;34m\u001b[0m\u001b[0m\n\u001b[0m\u001b[1;32m     20\u001b[0m \u001b[0;34m\u001b[0m\u001b[0m\n\u001b[1;32m     21\u001b[0m         \u001b[0mstudent_copy\u001b[0m\u001b[0;34m.\u001b[0m\u001b[0mforward\u001b[0m \u001b[0;34m=\u001b[0m \u001b[0mtypes\u001b[0m\u001b[0;34m.\u001b[0m\u001b[0mMethodType\u001b[0m\u001b[0;34m(\u001b[0m\u001b[0mforward_pass\u001b[0m\u001b[0;34m,\u001b[0m \u001b[0mstudent_copy\u001b[0m\u001b[0;34m)\u001b[0m\u001b[0;34m\u001b[0m\u001b[0;34m\u001b[0m\u001b[0m\n",
            "\u001b[0;32m/usr/local/lib/python3.10/dist-packages/dspy/primitives/program.py\u001b[0m in \u001b[0;36m__call__\u001b[0;34m(self, *args, **kwargs)\u001b[0m\n\u001b[1;32m     27\u001b[0m \u001b[0;34m\u001b[0m\u001b[0m\n\u001b[1;32m     28\u001b[0m     \u001b[0;32mdef\u001b[0m \u001b[0m__call__\u001b[0m\u001b[0;34m(\u001b[0m\u001b[0mself\u001b[0m\u001b[0;34m,\u001b[0m \u001b[0;34m*\u001b[0m\u001b[0margs\u001b[0m\u001b[0;34m,\u001b[0m \u001b[0;34m**\u001b[0m\u001b[0mkwargs\u001b[0m\u001b[0;34m)\u001b[0m\u001b[0;34m:\u001b[0m\u001b[0;34m\u001b[0m\u001b[0;34m\u001b[0m\u001b[0m\n\u001b[0;32m---> 29\u001b[0;31m         \u001b[0;32mreturn\u001b[0m \u001b[0mself\u001b[0m\u001b[0;34m.\u001b[0m\u001b[0mforward\u001b[0m\u001b[0;34m(\u001b[0m\u001b[0;34m*\u001b[0m\u001b[0margs\u001b[0m\u001b[0;34m,\u001b[0m \u001b[0;34m**\u001b[0m\u001b[0mkwargs\u001b[0m\u001b[0;34m)\u001b[0m\u001b[0;34m\u001b[0m\u001b[0;34m\u001b[0m\u001b[0m\n\u001b[0m\u001b[1;32m     30\u001b[0m \u001b[0;34m\u001b[0m\u001b[0m\n\u001b[1;32m     31\u001b[0m     \u001b[0;32mdef\u001b[0m \u001b[0mnamed_predictors\u001b[0m\u001b[0;34m(\u001b[0m\u001b[0mself\u001b[0m\u001b[0;34m)\u001b[0m\u001b[0;34m:\u001b[0m\u001b[0;34m\u001b[0m\u001b[0;34m\u001b[0m\u001b[0m\n",
            "\u001b[0;31mTypeError\u001b[0m: MultipleQABot.forward() missing 1 required positional argument: 'options'"
          ]
        }
      ],
      "source": [
        "evaluator(ensembled_program, metric = metric)"
      ]
    }
  ],
  "metadata": {
    "colab": {
      "provenance": []
    },
    "kernelspec": {
      "display_name": "Python 3",
      "name": "python3"
    },
    "language_info": {
      "name": "python"
    }
  },
  "nbformat": 4,
  "nbformat_minor": 0
}
