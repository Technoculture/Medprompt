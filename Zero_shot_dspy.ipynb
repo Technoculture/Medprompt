{
  "cells": [
    {
      "cell_type": "code",
      "execution_count": 2,
      "metadata": {
        "id": "Z4ATmOVFcpE9"
      },
      "outputs": [],
      "source": [
        "# !pip install dspy-ai\n",
        "# import dspy"
      ]
    },
    {
      "cell_type": "code",
      "execution_count": 6,
      "metadata": {
        "colab": {
          "base_uri": "https://localhost:8080/"
        },
        "id": "bJssTLk4qZcV",
        "outputId": "d68de03f-69f0-46bb-f69e-0484bcb9dbb2"
      },
      "outputs": [
        {
          "name": "stdout",
          "output_type": "stream",
          "text": [
            "Collecting git+https://github.com/stanfordnlp/dspy.git\n",
            "  Cloning https://github.com/stanfordnlp/dspy.git to /tmp/pip-req-build-pcueivpg\n",
            "  Running command git clone --filter=blob:none --quiet https://github.com/stanfordnlp/dspy.git /tmp/pip-req-build-pcueivpg\n",
            "  Resolved https://github.com/stanfordnlp/dspy.git to commit 4695bc763fc98d3ca16e677d28b9098480d17c0f\n",
            "  Preparing metadata (setup.py) ... \u001b[?25l\u001b[?25hdone\n",
            "Collecting backoff<=2.2.1 (from dspy-ai==2.0.8)\n",
            "  Downloading backoff-2.2.1-py3-none-any.whl (15 kB)\n",
            "Requirement already satisfied: joblib<=1.3.2 in /usr/local/lib/python3.10/dist-packages (from dspy-ai==2.0.8) (1.3.2)\n",
            "Collecting openai<=0.28.1 (from dspy-ai==2.0.8)\n",
            "  Downloading openai-0.28.1-py3-none-any.whl (76 kB)\n",
            "\u001b[2K     \u001b[90m━━━━━━━━━━━━━━━━━━━━━━━━━━━━━━━━━━━━━━━━\u001b[0m \u001b[32m77.0/77.0 kB\u001b[0m \u001b[31m2.3 MB/s\u001b[0m eta \u001b[36m0:00:00\u001b[0m\n",
            "\u001b[?25hRequirement already satisfied: pandas<=2.1.1 in /usr/local/lib/python3.10/dist-packages (from dspy-ai==2.0.8) (1.5.3)\n",
            "Requirement already satisfied: regex<=2023.10.3 in /usr/local/lib/python3.10/dist-packages (from dspy-ai==2.0.8) (2023.6.3)\n",
            "Collecting ujson<=5.8.0 (from dspy-ai==2.0.8)\n",
            "  Downloading ujson-5.8.0-cp310-cp310-manylinux_2_17_x86_64.manylinux2014_x86_64.whl (53 kB)\n",
            "\u001b[2K     \u001b[90m━━━━━━━━━━━━━━━━━━━━━━━━━━━━━━━━━━━━━━━━\u001b[0m \u001b[32m53.9/53.9 kB\u001b[0m \u001b[31m4.4 MB/s\u001b[0m eta \u001b[36m0:00:00\u001b[0m\n",
            "\u001b[?25hRequirement already satisfied: tqdm<=4.66.1 in /usr/local/lib/python3.10/dist-packages (from dspy-ai==2.0.8) (4.66.1)\n",
            "Collecting datasets<=2.14.6 (from dspy-ai==2.0.8)\n",
            "  Downloading datasets-2.14.6-py3-none-any.whl (493 kB)\n",
            "\u001b[2K     \u001b[90m━━━━━━━━━━━━━━━━━━━━━━━━━━━━━━━━━━━━━━━━\u001b[0m \u001b[32m493.7/493.7 kB\u001b[0m \u001b[31m5.6 MB/s\u001b[0m eta \u001b[36m0:00:00\u001b[0m\n",
            "\u001b[?25hRequirement already satisfied: requests<=2.31.0 in /usr/local/lib/python3.10/dist-packages (from dspy-ai==2.0.8) (2.31.0)\n",
            "Collecting optuna<=3.4.0 (from dspy-ai==2.0.8)\n",
            "  Downloading optuna-3.4.0-py3-none-any.whl (409 kB)\n",
            "\u001b[2K     \u001b[90m━━━━━━━━━━━━━━━━━━━━━━━━━━━━━━━━━━━━━━━━\u001b[0m \u001b[32m409.6/409.6 kB\u001b[0m \u001b[31m6.5 MB/s\u001b[0m eta \u001b[36m0:00:00\u001b[0m\n",
            "\u001b[?25hRequirement already satisfied: numpy>=1.17 in /usr/local/lib/python3.10/dist-packages (from datasets<=2.14.6->dspy-ai==2.0.8) (1.23.5)\n",
            "Requirement already satisfied: pyarrow>=8.0.0 in /usr/local/lib/python3.10/dist-packages (from datasets<=2.14.6->dspy-ai==2.0.8) (10.0.1)\n",
            "Collecting dill<0.3.8,>=0.3.0 (from datasets<=2.14.6->dspy-ai==2.0.8)\n",
            "  Downloading dill-0.3.7-py3-none-any.whl (115 kB)\n",
            "\u001b[2K     \u001b[90m━━━━━━━━━━━━━━━━━━━━━━━━━━━━━━━━━━━━━━━━\u001b[0m \u001b[32m115.3/115.3 kB\u001b[0m \u001b[31m6.6 MB/s\u001b[0m eta \u001b[36m0:00:00\u001b[0m\n",
            "\u001b[?25hRequirement already satisfied: xxhash in /usr/local/lib/python3.10/dist-packages (from datasets<=2.14.6->dspy-ai==2.0.8) (3.4.1)\n",
            "Collecting multiprocess (from datasets<=2.14.6->dspy-ai==2.0.8)\n",
            "  Downloading multiprocess-0.70.15-py310-none-any.whl (134 kB)\n",
            "\u001b[2K     \u001b[90m━━━━━━━━━━━━━━━━━━━━━━━━━━━━━━━━━━━━━━━━\u001b[0m \u001b[32m134.8/134.8 kB\u001b[0m \u001b[31m7.4 MB/s\u001b[0m eta \u001b[36m0:00:00\u001b[0m\n",
            "\u001b[?25hRequirement already satisfied: fsspec[http]<=2023.10.0,>=2023.1.0 in /usr/local/lib/python3.10/dist-packages (from datasets<=2.14.6->dspy-ai==2.0.8) (2023.6.0)\n",
            "Requirement already satisfied: aiohttp in /usr/local/lib/python3.10/dist-packages (from datasets<=2.14.6->dspy-ai==2.0.8) (3.9.1)\n",
            "Requirement already satisfied: huggingface-hub<1.0.0,>=0.14.0 in /usr/local/lib/python3.10/dist-packages (from datasets<=2.14.6->dspy-ai==2.0.8) (0.20.1)\n",
            "Requirement already satisfied: packaging in /usr/local/lib/python3.10/dist-packages (from datasets<=2.14.6->dspy-ai==2.0.8) (23.2)\n",
            "Requirement already satisfied: pyyaml>=5.1 in /usr/local/lib/python3.10/dist-packages (from datasets<=2.14.6->dspy-ai==2.0.8) (6.0.1)\n",
            "Collecting alembic>=1.5.0 (from optuna<=3.4.0->dspy-ai==2.0.8)\n",
            "  Downloading alembic-1.13.1-py3-none-any.whl (233 kB)\n",
            "\u001b[2K     \u001b[90m━━━━━━━━━━━━━━━━━━━━━━━━━━━━━━━━━━━━━━━━\u001b[0m \u001b[32m233.4/233.4 kB\u001b[0m \u001b[31m8.5 MB/s\u001b[0m eta \u001b[36m0:00:00\u001b[0m\n",
            "\u001b[?25hCollecting colorlog (from optuna<=3.4.0->dspy-ai==2.0.8)\n",
            "  Downloading colorlog-6.8.0-py3-none-any.whl (11 kB)\n",
            "Requirement already satisfied: sqlalchemy>=1.3.0 in /usr/local/lib/python3.10/dist-packages (from optuna<=3.4.0->dspy-ai==2.0.8) (2.0.23)\n",
            "Requirement already satisfied: python-dateutil>=2.8.1 in /usr/local/lib/python3.10/dist-packages (from pandas<=2.1.1->dspy-ai==2.0.8) (2.8.2)\n",
            "Requirement already satisfied: pytz>=2020.1 in /usr/local/lib/python3.10/dist-packages (from pandas<=2.1.1->dspy-ai==2.0.8) (2023.3.post1)\n",
            "Requirement already satisfied: charset-normalizer<4,>=2 in /usr/local/lib/python3.10/dist-packages (from requests<=2.31.0->dspy-ai==2.0.8) (3.3.2)\n",
            "Requirement already satisfied: idna<4,>=2.5 in /usr/local/lib/python3.10/dist-packages (from requests<=2.31.0->dspy-ai==2.0.8) (3.6)\n",
            "Requirement already satisfied: urllib3<3,>=1.21.1 in /usr/local/lib/python3.10/dist-packages (from requests<=2.31.0->dspy-ai==2.0.8) (2.0.7)\n",
            "Requirement already satisfied: certifi>=2017.4.17 in /usr/local/lib/python3.10/dist-packages (from requests<=2.31.0->dspy-ai==2.0.8) (2023.11.17)\n",
            "Collecting Mako (from alembic>=1.5.0->optuna<=3.4.0->dspy-ai==2.0.8)\n",
            "  Downloading Mako-1.3.0-py3-none-any.whl (78 kB)\n",
            "\u001b[2K     \u001b[90m━━━━━━━━━━━━━━━━━━━━━━━━━━━━━━━━━━━━━━━━\u001b[0m \u001b[32m78.6/78.6 kB\u001b[0m \u001b[31m7.6 MB/s\u001b[0m eta \u001b[36m0:00:00\u001b[0m\n",
            "\u001b[?25hRequirement already satisfied: typing-extensions>=4 in /usr/local/lib/python3.10/dist-packages (from alembic>=1.5.0->optuna<=3.4.0->dspy-ai==2.0.8) (4.5.0)\n",
            "Requirement already satisfied: attrs>=17.3.0 in /usr/local/lib/python3.10/dist-packages (from aiohttp->datasets<=2.14.6->dspy-ai==2.0.8) (23.1.0)\n",
            "Requirement already satisfied: multidict<7.0,>=4.5 in /usr/local/lib/python3.10/dist-packages (from aiohttp->datasets<=2.14.6->dspy-ai==2.0.8) (6.0.4)\n",
            "Requirement already satisfied: yarl<2.0,>=1.0 in /usr/local/lib/python3.10/dist-packages (from aiohttp->datasets<=2.14.6->dspy-ai==2.0.8) (1.9.4)\n",
            "Requirement already satisfied: frozenlist>=1.1.1 in /usr/local/lib/python3.10/dist-packages (from aiohttp->datasets<=2.14.6->dspy-ai==2.0.8) (1.4.1)\n",
            "Requirement already satisfied: aiosignal>=1.1.2 in /usr/local/lib/python3.10/dist-packages (from aiohttp->datasets<=2.14.6->dspy-ai==2.0.8) (1.3.1)\n",
            "Requirement already satisfied: async-timeout<5.0,>=4.0 in /usr/local/lib/python3.10/dist-packages (from aiohttp->datasets<=2.14.6->dspy-ai==2.0.8) (4.0.3)\n",
            "Requirement already satisfied: filelock in /usr/local/lib/python3.10/dist-packages (from huggingface-hub<1.0.0,>=0.14.0->datasets<=2.14.6->dspy-ai==2.0.8) (3.13.1)\n",
            "Requirement already satisfied: six>=1.5 in /usr/local/lib/python3.10/dist-packages (from python-dateutil>=2.8.1->pandas<=2.1.1->dspy-ai==2.0.8) (1.16.0)\n",
            "Requirement already satisfied: greenlet!=0.4.17 in /usr/local/lib/python3.10/dist-packages (from sqlalchemy>=1.3.0->optuna<=3.4.0->dspy-ai==2.0.8) (3.0.2)\n",
            "Requirement already satisfied: MarkupSafe>=0.9.2 in /usr/local/lib/python3.10/dist-packages (from Mako->alembic>=1.5.0->optuna<=3.4.0->dspy-ai==2.0.8) (2.1.3)\n",
            "Building wheels for collected packages: dspy-ai\n",
            "  Building wheel for dspy-ai (setup.py) ... \u001b[?25l\u001b[?25hdone\n",
            "  Created wheel for dspy-ai: filename=dspy_ai-2.0.8-py3-none-any.whl size=127533 sha256=257b23d4cc0dcaab4b62d1f1f4889f52a12d565427ceafe713f6fdee14d854b2\n",
            "  Stored in directory: /tmp/pip-ephem-wheel-cache-psltxkzp/wheels/c8/87/6d/96e0c01ba638cde8d64cc2c8428ac406bed96bc361c8bdc104\n",
            "Successfully built dspy-ai\n",
            "Installing collected packages: ujson, Mako, dill, colorlog, backoff, multiprocess, alembic, optuna, openai, datasets, dspy-ai\n",
            "\u001b[31mERROR: pip's dependency resolver does not currently take into account all the packages that are installed. This behaviour is the source of the following dependency conflicts.\n",
            "llmx 0.0.15a0 requires cohere, which is not installed.\n",
            "llmx 0.0.15a0 requires tiktoken, which is not installed.\u001b[0m\u001b[31m\n",
            "\u001b[0mSuccessfully installed Mako-1.3.0 alembic-1.13.1 backoff-2.2.1 colorlog-6.8.0 datasets-2.14.6 dill-0.3.7 dspy-ai-2.0.8 multiprocess-0.70.15 openai-0.28.1 optuna-3.4.0 ujson-5.8.0\n",
            "Requirement already satisfied: openai in /usr/local/lib/python3.10/dist-packages (0.28.1)\n",
            "Collecting openai\n",
            "  Downloading openai-1.6.1-py3-none-any.whl (225 kB)\n",
            "\u001b[2K     \u001b[90m━━━━━━━━━━━━━━━━━━━━━━━━━━━━━━━━━━━━━━━━\u001b[0m \u001b[32m225.4/225.4 kB\u001b[0m \u001b[31m3.7 MB/s\u001b[0m eta \u001b[36m0:00:00\u001b[0m\n",
            "\u001b[?25hRequirement already satisfied: anyio<5,>=3.5.0 in /usr/local/lib/python3.10/dist-packages (from openai) (3.7.1)\n",
            "Requirement already satisfied: distro<2,>=1.7.0 in /usr/lib/python3/dist-packages (from openai) (1.7.0)\n",
            "Collecting httpx<1,>=0.23.0 (from openai)\n",
            "  Downloading httpx-0.26.0-py3-none-any.whl (75 kB)\n",
            "\u001b[2K     \u001b[90m━━━━━━━━━━━━━━━━━━━━━━━━━━━━━━━━━━━━━━━━\u001b[0m \u001b[32m75.9/75.9 kB\u001b[0m \u001b[31m5.6 MB/s\u001b[0m eta \u001b[36m0:00:00\u001b[0m\n",
            "\u001b[?25hRequirement already satisfied: pydantic<3,>=1.9.0 in /usr/local/lib/python3.10/dist-packages (from openai) (1.10.13)\n",
            "Requirement already satisfied: sniffio in /usr/local/lib/python3.10/dist-packages (from openai) (1.3.0)\n",
            "Requirement already satisfied: tqdm>4 in /usr/local/lib/python3.10/dist-packages (from openai) (4.66.1)\n",
            "Collecting typing-extensions<5,>=4.7 (from openai)\n",
            "  Downloading typing_extensions-4.9.0-py3-none-any.whl (32 kB)\n",
            "Requirement already satisfied: idna>=2.8 in /usr/local/lib/python3.10/dist-packages (from anyio<5,>=3.5.0->openai) (3.6)\n",
            "Requirement already satisfied: exceptiongroup in /usr/local/lib/python3.10/dist-packages (from anyio<5,>=3.5.0->openai) (1.2.0)\n",
            "Requirement already satisfied: certifi in /usr/local/lib/python3.10/dist-packages (from httpx<1,>=0.23.0->openai) (2023.11.17)\n",
            "Collecting httpcore==1.* (from httpx<1,>=0.23.0->openai)\n",
            "  Downloading httpcore-1.0.2-py3-none-any.whl (76 kB)\n",
            "\u001b[2K     \u001b[90m━━━━━━━━━━━━━━━━━━━━━━━━━━━━━━━━━━━━━━━━\u001b[0m \u001b[32m76.9/76.9 kB\u001b[0m \u001b[31m5.1 MB/s\u001b[0m eta \u001b[36m0:00:00\u001b[0m\n",
            "\u001b[?25hCollecting h11<0.15,>=0.13 (from httpcore==1.*->httpx<1,>=0.23.0->openai)\n",
            "  Downloading h11-0.14.0-py3-none-any.whl (58 kB)\n",
            "\u001b[2K     \u001b[90m━━━━━━━━━━━━━━━━━━━━━━━━━━━━━━━━━━━━━━━━\u001b[0m \u001b[32m58.3/58.3 kB\u001b[0m \u001b[31m6.5 MB/s\u001b[0m eta \u001b[36m0:00:00\u001b[0m\n",
            "\u001b[?25hInstalling collected packages: typing-extensions, h11, httpcore, httpx, openai\n",
            "  Attempting uninstall: typing-extensions\n",
            "    Found existing installation: typing_extensions 4.5.0\n",
            "    Uninstalling typing_extensions-4.5.0:\n",
            "      Successfully uninstalled typing_extensions-4.5.0\n",
            "  Attempting uninstall: openai\n",
            "    Found existing installation: openai 0.28.1\n",
            "    Uninstalling openai-0.28.1:\n",
            "      Successfully uninstalled openai-0.28.1\n",
            "\u001b[31mERROR: pip's dependency resolver does not currently take into account all the packages that are installed. This behaviour is the source of the following dependency conflicts.\n",
            "llmx 0.0.15a0 requires cohere, which is not installed.\n",
            "llmx 0.0.15a0 requires tiktoken, which is not installed.\n",
            "dspy-ai 2.0.8 requires openai<=0.28.1, but you have openai 1.6.1 which is incompatible.\n",
            "tensorflow-probability 0.22.0 requires typing-extensions<4.6.0, but you have typing-extensions 4.9.0 which is incompatible.\u001b[0m\u001b[31m\n",
            "\u001b[0mSuccessfully installed h11-0.14.0 httpcore-1.0.2 httpx-0.26.0 openai-1.6.1 typing-extensions-4.9.0\n",
            "Requirement already satisfied: datasets in /usr/local/lib/python3.10/dist-packages (2.14.6)\n",
            "Requirement already satisfied: numpy>=1.17 in /usr/local/lib/python3.10/dist-packages (from datasets) (1.23.5)\n",
            "Requirement already satisfied: pyarrow>=8.0.0 in /usr/local/lib/python3.10/dist-packages (from datasets) (10.0.1)\n",
            "Requirement already satisfied: dill<0.3.8,>=0.3.0 in /usr/local/lib/python3.10/dist-packages (from datasets) (0.3.7)\n",
            "Requirement already satisfied: pandas in /usr/local/lib/python3.10/dist-packages (from datasets) (1.5.3)\n",
            "Requirement already satisfied: requests>=2.19.0 in /usr/local/lib/python3.10/dist-packages (from datasets) (2.31.0)\n",
            "Requirement already satisfied: tqdm>=4.62.1 in /usr/local/lib/python3.10/dist-packages (from datasets) (4.66.1)\n",
            "Requirement already satisfied: xxhash in /usr/local/lib/python3.10/dist-packages (from datasets) (3.4.1)\n",
            "Requirement already satisfied: multiprocess in /usr/local/lib/python3.10/dist-packages (from datasets) (0.70.15)\n",
            "Requirement already satisfied: fsspec[http]<=2023.10.0,>=2023.1.0 in /usr/local/lib/python3.10/dist-packages (from datasets) (2023.6.0)\n",
            "Requirement already satisfied: aiohttp in /usr/local/lib/python3.10/dist-packages (from datasets) (3.9.1)\n",
            "Requirement already satisfied: huggingface-hub<1.0.0,>=0.14.0 in /usr/local/lib/python3.10/dist-packages (from datasets) (0.20.1)\n",
            "Requirement already satisfied: packaging in /usr/local/lib/python3.10/dist-packages (from datasets) (23.2)\n",
            "Requirement already satisfied: pyyaml>=5.1 in /usr/local/lib/python3.10/dist-packages (from datasets) (6.0.1)\n",
            "Requirement already satisfied: attrs>=17.3.0 in /usr/local/lib/python3.10/dist-packages (from aiohttp->datasets) (23.1.0)\n",
            "Requirement already satisfied: multidict<7.0,>=4.5 in /usr/local/lib/python3.10/dist-packages (from aiohttp->datasets) (6.0.4)\n",
            "Requirement already satisfied: yarl<2.0,>=1.0 in /usr/local/lib/python3.10/dist-packages (from aiohttp->datasets) (1.9.4)\n",
            "Requirement already satisfied: frozenlist>=1.1.1 in /usr/local/lib/python3.10/dist-packages (from aiohttp->datasets) (1.4.1)\n",
            "Requirement already satisfied: aiosignal>=1.1.2 in /usr/local/lib/python3.10/dist-packages (from aiohttp->datasets) (1.3.1)\n",
            "Requirement already satisfied: async-timeout<5.0,>=4.0 in /usr/local/lib/python3.10/dist-packages (from aiohttp->datasets) (4.0.3)\n",
            "Requirement already satisfied: filelock in /usr/local/lib/python3.10/dist-packages (from huggingface-hub<1.0.0,>=0.14.0->datasets) (3.13.1)\n",
            "Requirement already satisfied: typing-extensions>=3.7.4.3 in /usr/local/lib/python3.10/dist-packages (from huggingface-hub<1.0.0,>=0.14.0->datasets) (4.9.0)\n",
            "Requirement already satisfied: charset-normalizer<4,>=2 in /usr/local/lib/python3.10/dist-packages (from requests>=2.19.0->datasets) (3.3.2)\n",
            "Requirement already satisfied: idna<4,>=2.5 in /usr/local/lib/python3.10/dist-packages (from requests>=2.19.0->datasets) (3.6)\n",
            "Requirement already satisfied: urllib3<3,>=1.21.1 in /usr/local/lib/python3.10/dist-packages (from requests>=2.19.0->datasets) (2.0.7)\n",
            "Requirement already satisfied: certifi>=2017.4.17 in /usr/local/lib/python3.10/dist-packages (from requests>=2.19.0->datasets) (2023.11.17)\n",
            "Requirement already satisfied: python-dateutil>=2.8.1 in /usr/local/lib/python3.10/dist-packages (from pandas->datasets) (2.8.2)\n",
            "Requirement already satisfied: pytz>=2020.1 in /usr/local/lib/python3.10/dist-packages (from pandas->datasets) (2023.3.post1)\n",
            "Requirement already satisfied: six>=1.5 in /usr/local/lib/python3.10/dist-packages (from python-dateutil>=2.8.1->pandas->datasets) (1.16.0)\n",
            "Requirement already satisfied: joblib in /usr/local/lib/python3.10/dist-packages (1.3.2)\n"
          ]
        }
      ],
      "source": [
        "!pip install git+https://github.com/stanfordnlp/dspy.git\n",
        "!pip install -U openai\n",
        "import openai\n",
        "!pip install datasets\n",
        "!pip install joblib\n",
        "\n",
        "from datasets import load_dataset"
      ]
    },
    {
      "cell_type": "code",
      "execution_count": 7,
      "metadata": {
        "id": "nLn79E5cOm3C"
      },
      "outputs": [],
      "source": [
        "from google.colab import userdata\n",
        "api_key = userdata.get('api_key')"
      ]
    },
    {
      "cell_type": "code",
      "execution_count": 8,
      "metadata": {
        "id": "DvMcVXILr9xh"
      },
      "outputs": [],
      "source": [
        "import dspy\n",
        "model=dspy.OpenAI(model='gpt-3.5-turbo', api_key=api_key)"
      ]
    },
    {
      "cell_type": "code",
      "execution_count": 9,
      "metadata": {
        "id": "4kXfXYZ8svTL"
      },
      "outputs": [],
      "source": [
        "dspy.settings.configure(lm=model)"
      ]
    },
    {
      "cell_type": "code",
      "execution_count": 7,
      "metadata": {
        "id": "wJbt32vEVmqM"
      },
      "outputs": [],
      "source": [
        "# medqa_dataset = load_dataset(\"bigbio/med_qa\")\n",
        "# print(medqa_dataset)"
      ]
    },
    {
      "cell_type": "code",
      "execution_count": 8,
      "metadata": {
        "id": "Q6bW4-MVhuz_"
      },
      "outputs": [],
      "source": [
        "#PubMedQA\n",
        "# pubmedqa_dataset = load_dataset(\"bigbio/pubmed_qa\")\n",
        "# print(pubmedqa_dataset)"
      ]
    },
    {
      "cell_type": "code",
      "execution_count": 9,
      "metadata": {
        "id": "bgepSdgphyFj"
      },
      "outputs": [],
      "source": [
        "#MedMCQA\n",
        "# medmcqa_dataset = load_dataset(\"medmcqa\")\n",
        "# print(medmcqa_dataset)"
      ]
    },
    {
      "cell_type": "code",
      "execution_count": 10,
      "metadata": {
        "id": "kipjh8fuhzz6"
      },
      "outputs": [],
      "source": [
        "#MMLU: clinical knowledge, medical genetics, anatomy, professional medicine, college biology, and college medicine. These are the datasets we will be using for our project.\n",
        "# knowledges = ['clinical_knowledge','medical_genetics','anatomy', 'professional_medicine', 'college_biology', 'college_medicine']\n",
        "# mmlu_dataset_professional = load_dataset(\"cais/mmlu\",'professional_medicine')"
      ]
    },
    {
      "cell_type": "code",
      "execution_count": 10,
      "metadata": {
        "colab": {
          "base_uri": "https://localhost:8080/",
          "height": 422,
          "referenced_widgets": [
            "ddba0049de8b4cd6950294ba63ba913b",
            "1bf7aeb3c5f24827804e498bf17a95ae",
            "32bbd8eec4794963a797c96a845bbf03",
            "afc24c4035c7419a967c5073186fe5d1",
            "d377efff46f54f8093b045ae81988ca0",
            "ea3c13fadc0e46b4aa92077f0aff2071",
            "a28b870288964d9c820eb9bd9d0931f5",
            "dfb1c2cc5a064a47b615cb1ef14e2c06",
            "7092e13172004079b6db11b98d51c2d2",
            "6932ddce55444f948ec8f79e5881a47b",
            "41356d97bb844da4927c3afedb48360d",
            "cf64ffb9f59a4d93b2d23d97c5a6d304",
            "5189a7b7ff9740fe955c56de35c081c1",
            "7749263346db4099b8bd4910accedd18",
            "d9a1d56d0d7e4b8883e9d285dca92fa1",
            "7b7aa283ad5446c09c88cf4c45daa212",
            "93d74911892d453b9428268577aab0de",
            "91d71bb5d00945f6b8f4e96db97a1039",
            "9ec8fd2be5e840a2b17da9b0e9a33f46",
            "d4d623d441a741cf9e612013fbc50279",
            "3cbb0d64c5bf48b5971d59120fb83276",
            "e66d783d863b4fc89aa9fd430b3db02a",
            "2de8124610674aad8e2d6a956d97d78e",
            "5cd1493849034b3992cd22ff87e531e0",
            "1dd61bea591b411fbbb1572250e799e5",
            "2b0eb1c98b924ce48e2f57091b034497",
            "e9acc261f91c4c54b82eeefb3be75e52",
            "8415908b0f41489a90c1c1db56ba6d06",
            "697a4ff6007a4c5097bda0ea4e6d9e81",
            "fd48c462c85d4fe79937a47589d1d500",
            "202b73c2814f4955a081f925907e1485",
            "c4980c5922054defb0d92e968e5fe780",
            "ba0474bbfc284ac7bbfb672499e9be4b",
            "fba9fa5a1b2a433a82efc154d2f3fa0c",
            "cae27565136c469aac3b52c159d2163b",
            "e08a5b97e03d4e2b80b466ec70a8cb99",
            "924a1b591521429c990aba8c812802f2",
            "84dada1c52794998b3f5993eb99e65a8",
            "19d2e3b7830545599b75b561ba237009",
            "6b85a02a9ff94e9ab0049bcd4e46cf81",
            "50d8951ea94f43c784b2eaf42190d85a",
            "c32f28f5ca7e427f8ae19184c01b6678",
            "b1a0479b205e4d31a8027d8a379073e9",
            "f9063f7ad74145ecaf0227d441f246e0",
            "5d3637c28d534f718c866b7f261dd34a",
            "d557b416a5aa4740956c8a595495bbce",
            "acebd3d670af45a39742a911e30035c4",
            "c3050c9ca7294e64b1bb0e9dc9ed13ba",
            "c783ae5f13df4ea299886216b6b0ab1b",
            "6675f62ac5e54a3ca47aeb526aa007df",
            "74ae7b9945af4fb48f10cfdb3dc3f21c",
            "77857f69417749a182801e59543e5e37",
            "b8563c4fc7f24f5d89847f50749bdb33",
            "1c1f79374c804cdf8663e40f6d872870",
            "5aa62a3489c14c58ade62be0c28a6f68",
            "171bcf12d0504c42a5ec9509f0226503",
            "f7a5104c6ec84d98ba464a392d19543f",
            "2218d0f9e92f452c9171be379892f0a0",
            "831b40a24e02437bb01e8949c9ba5937",
            "2e08b3a3e11f4634bf65399933ed44df",
            "86513900fd98486f8049b9c1c0a3972f",
            "afa337be937e4793a1df78244ac77b0d",
            "4ba08fc6cca64eb48a330712e00d764e",
            "df33fe7194d641e1a5d316a3485fff3d",
            "d3d2c22c138a4af0ab4f9cd788ca5654",
            "d96cc463b41d4333860ba82f36da95bd",
            "88a84a87ed794e98babd83b1aff3a1ca",
            "43a19fd506bd448cb0c08185361dad57",
            "daf214992e754fa6a22e3e29e513d517",
            "4d6d672c44714637bb79ed070a40a845",
            "31594b1ae04540d48b50bb738f8888d8",
            "704ac1b2d9904e1eb0af4e72863ed03a",
            "ae8bc6a549374ac685ac2d714930287c",
            "41215ffa26164fb894f54cbffca09d79",
            "e37be15b44b943df8ba857cffa1db176",
            "5623a5a221d549ccb1203314b31ed3ff",
            "9374fc3316cd44ee89f8342a4de19cc2"
          ]
        },
        "id": "_GDXvApnZdRT",
        "outputId": "510b859b-50b0-4430-caf4-7d1f79b68296"
      },
      "outputs": [
        {
          "name": "stderr",
          "output_type": "stream",
          "text": [
            "/usr/local/lib/python3.10/dist-packages/huggingface_hub/utils/_token.py:72: UserWarning: \n",
            "The secret `HF_TOKEN` does not exist in your Colab secrets.\n",
            "To authenticate with the Hugging Face Hub, create a token in your settings tab (https://huggingface.co/settings/tokens), set it as secret in your Google Colab and restart your session.\n",
            "You will be able to reuse this secret in all of your notebooks.\n",
            "Please note that authentication is recommended but still optional to access public models or datasets.\n",
            "  warnings.warn(\n"
          ]
        },
        {
          "data": {
            "application/vnd.jupyter.widget-view+json": {
              "model_id": "ddba0049de8b4cd6950294ba63ba913b",
              "version_major": 2,
              "version_minor": 0
            },
            "text/plain": [
              "Downloading builder script:   0%|          | 0.00/11.2k [00:00<?, ?B/s]"
            ]
          },
          "metadata": {},
          "output_type": "display_data"
        },
        {
          "data": {
            "application/vnd.jupyter.widget-view+json": {
              "model_id": "cf64ffb9f59a4d93b2d23d97c5a6d304",
              "version_major": 2,
              "version_minor": 0
            },
            "text/plain": [
              "Downloading readme:   0%|          | 0.00/1.44k [00:00<?, ?B/s]"
            ]
          },
          "metadata": {},
          "output_type": "display_data"
        },
        {
          "data": {
            "application/vnd.jupyter.widget-view+json": {
              "model_id": "2de8124610674aad8e2d6a956d97d78e",
              "version_major": 2,
              "version_minor": 0
            },
            "text/plain": [
              "Downloading extra modules:   0%|          | 0.00/19.3k [00:00<?, ?B/s]"
            ]
          },
          "metadata": {},
          "output_type": "display_data"
        },
        {
          "data": {
            "application/vnd.jupyter.widget-view+json": {
              "model_id": "fba9fa5a1b2a433a82efc154d2f3fa0c",
              "version_major": 2,
              "version_minor": 0
            },
            "text/plain": [
              "Downloading data:   0%|          | 0.00/132M [00:00<?, ?B/s]"
            ]
          },
          "metadata": {},
          "output_type": "display_data"
        },
        {
          "data": {
            "application/vnd.jupyter.widget-view+json": {
              "model_id": "5d3637c28d534f718c866b7f261dd34a",
              "version_major": 2,
              "version_minor": 0
            },
            "text/plain": [
              "Generating train split: 0 examples [00:00, ? examples/s]"
            ]
          },
          "metadata": {},
          "output_type": "display_data"
        },
        {
          "name": "stdout",
          "output_type": "stream",
          "text": [
            "/root/.cache/huggingface/datasets/downloads/extracted/27a6d96c9db3334f9b3c1f99484adac7b7579fe06926d41e9005000368623ad4/data_clean/questions/US/train.jsonl\n"
          ]
        },
        {
          "data": {
            "application/vnd.jupyter.widget-view+json": {
              "model_id": "171bcf12d0504c42a5ec9509f0226503",
              "version_major": 2,
              "version_minor": 0
            },
            "text/plain": [
              "Generating test split: 0 examples [00:00, ? examples/s]"
            ]
          },
          "metadata": {},
          "output_type": "display_data"
        },
        {
          "name": "stdout",
          "output_type": "stream",
          "text": [
            "/root/.cache/huggingface/datasets/downloads/extracted/27a6d96c9db3334f9b3c1f99484adac7b7579fe06926d41e9005000368623ad4/data_clean/questions/US/test.jsonl\n"
          ]
        },
        {
          "data": {
            "application/vnd.jupyter.widget-view+json": {
              "model_id": "88a84a87ed794e98babd83b1aff3a1ca",
              "version_major": 2,
              "version_minor": 0
            },
            "text/plain": [
              "Generating validation split: 0 examples [00:00, ? examples/s]"
            ]
          },
          "metadata": {},
          "output_type": "display_data"
        },
        {
          "name": "stdout",
          "output_type": "stream",
          "text": [
            "/root/.cache/huggingface/datasets/downloads/extracted/27a6d96c9db3334f9b3c1f99484adac7b7579fe06926d41e9005000368623ad4/data_clean/questions/US/dev.jsonl\n"
          ]
        }
      ],
      "source": [
        "medqa_dataset = load_dataset(\"bigbio/med_qa\")\n",
        "\n",
        "#training on the first 20 questions\n",
        "train_subset = medqa_dataset[\"train\"][:20]\n",
        "\n",
        "train_questions = train_subset[\"question\"]\n",
        "train_answers_id = train_subset[\"answer_idx\"]\n",
        "train_options= train_subset[\"options\"]\n",
        "train_answer = train_subset[\"answer\"]"
      ]
    },
    {
      "cell_type": "code",
      "execution_count": 49,
      "metadata": {
        "id": "b8tmRe0vJ_Zb"
      },
      "outputs": [],
      "source": [
        "val_subset = medqa_dataset[\"validation\"][:20]\n",
        "\n",
        "val_questions = val_subset[\"question\"]\n",
        "val_answers_id = val_subset[\"answer_idx\"]\n",
        "val_options= val_subset[\"options\"]\n",
        "val_answer = val_subset[\"answer\"]\n",
        "\n",
        "formatted_val_options = [' '.join(f\"{option['key']} {option['value']}\" for option in options) for options in val_options]"
      ]
    },
    {
      "cell_type": "code",
      "execution_count": null,
      "metadata": {
        "id": "HOBEN1BuKWmT"
      },
      "outputs": [],
      "source": []
    },
    {
      "cell_type": "code",
      "execution_count": 6,
      "metadata": {
        "colab": {
          "base_uri": "https://localhost:8080/"
        },
        "id": "7Z-qf9lZG103",
        "outputId": "b1b0bf77-6ecb-40a8-99d4-15051b3aeb93"
      },
      "outputs": [
        {
          "name": "stdout",
          "output_type": "stream",
          "text": [
            "DatasetDict({\n",
            "    train: Dataset({\n",
            "        features: ['meta_info', 'question', 'answer_idx', 'answer', 'options'],\n",
            "        num_rows: 10178\n",
            "    })\n",
            "    test: Dataset({\n",
            "        features: ['meta_info', 'question', 'answer_idx', 'answer', 'options'],\n",
            "        num_rows: 1273\n",
            "    })\n",
            "    validation: Dataset({\n",
            "        features: ['meta_info', 'question', 'answer_idx', 'answer', 'options'],\n",
            "        num_rows: 1272\n",
            "    })\n",
            "})\n"
          ]
        }
      ],
      "source": [
        "print(medqa_dataset)"
      ]
    },
    {
      "cell_type": "code",
      "execution_count": 11,
      "metadata": {
        "id": "xYhR__Y1ZAvP"
      },
      "outputs": [],
      "source": [
        "# # Data processing\n",
        "formatted_train_options = [' '.join(f\"{option['key']} {option['value']}\" for option in options) for options in train_options]\n",
        "# print(formatted_train_options)"
      ]
    },
    {
      "cell_type": "code",
      "execution_count": 12,
      "metadata": {
        "id": "lai_CFeGrEOG"
      },
      "outputs": [],
      "source": [
        "# We are expecting a single choice answer so signature accordingly.\n",
        "class MultipleChoiceQA(dspy.Signature):\n",
        "    \"\"\"Answer questions with single letter answers.\"\"\"\n",
        "\n",
        "    question = dspy.InputField(desc=\"The multiple-choice question.\")\n",
        "    options = dspy.InputField(desc=\"The set of options in the format : A option1 B option2 C option3 D option4 E option5 where A corresponds to option1, B to option2 and so on.\")\n",
        "    answer = dspy.OutputField(desc=\"A single-letter answer corresponding to the selected option.\")"
      ]
    },
    {
      "cell_type": "code",
      "execution_count": 10,
      "metadata": {
        "id": "Sw9UmbHjuzwR"
      },
      "outputs": [],
      "source": [
        "class BasicQA(dspy.Signature):\n",
        "    \"\"\"Answer questions with short factoid answers.\"\"\"\n",
        "\n",
        "    question = dspy.InputField()\n",
        "    answer = dspy.OutputField(desc=\"often between 1 and 5 words\")"
      ]
    },
    {
      "cell_type": "code",
      "execution_count": 11,
      "metadata": {
        "colab": {
          "base_uri": "https://localhost:8080/"
        },
        "id": "Es8cWyFowXHr",
        "outputId": "5421f223-a360-41d8-ae18-b421710c3bb4"
      },
      "outputs": [
        {
          "name": "stdout",
          "output_type": "stream",
          "text": [
            "A 3-month-old baby died suddenly at night while asleep. His mother noticed that he had died only after she awoke in the morning. No cause of death was determined based on the autopsy. Which of the following precautions could have prevented the death of the baby?\n",
            "[{'key': 'A', 'value': 'Placing the infant in a supine position on a firm mattress while sleeping'}, {'key': 'B', 'value': 'Routine postnatal electrocardiogram (ECG)'}, {'key': 'C', 'value': 'Keeping the infant covered and maintaining a high room temperature'}, {'key': 'D', 'value': 'Application of a device to maintain the sleeping position'}, {'key': 'E', 'value': 'Avoiding pacifier use during sleep'}]\n",
            "Placing the infant in a supine position on a firm mattress while sleeping\n",
            "['E', 'A', 'A', 'A', 'E', 'C', 'E', 'A', 'E', 'E', 'C', 'D', 'D', 'C', 'D', 'C', 'E', 'D', 'E', 'B']\n"
          ]
        }
      ],
      "source": [
        "print(train_questions[1])\n",
        "print(train_options[1])\n",
        "print(train_answer[1])\n",
        "print(train_answers_id)"
      ]
    },
    {
      "cell_type": "code",
      "execution_count": 18,
      "metadata": {
        "id": "8UPlw6OCvGC2"
      },
      "outputs": [],
      "source": [
        "# generate_answer = dspy.Predict(MultipleChoiceQA)\n",
        "# dev_example=train_questions[0]\n",
        "# pred = generate_answer(question=dev_example,options=formatted_train_options[0])\n",
        "# print(f\"Question: {dev_example}\")\n",
        "# print(f\"Predicted Answer: {pred.answer}\")"
      ]
    },
    {
      "cell_type": "code",
      "execution_count": 19,
      "metadata": {
        "id": "Oz1gO3CtudEj"
      },
      "outputs": [],
      "source": [
        "# generate_answer = dspy.Predict(BasicQA)\n",
        "# dev_example='What is the capital of India?'\n",
        "# pred = generate_answer(question=dev_example)\n",
        "# print(f\"Question: {dev_example}\")\n",
        "# print(f\"Predicted Answer: {pred.answer}\")"
      ]
    },
    {
      "cell_type": "code",
      "execution_count": 13,
      "metadata": {
        "id": "EaicGrqZf2at"
      },
      "outputs": [],
      "source": [
        "# Shuffling the questions.\n",
        "import random\n",
        "generate_answer = dspy.Predict(MultipleChoiceQA)\n",
        "\n",
        "def generate_responses(questions: list[str], option_sets: list[str]) -> list[str]:\n",
        "    responses = []\n",
        "    combined_data = list(zip(questions, option_sets))\n",
        "    random.shuffle(combined_data)\n",
        "    shuffled_questions, shuffled_option_sets = zip(*combined_data)\n",
        "\n",
        "    for question, options in zip(shuffled_questions, shuffled_option_sets):\n",
        "        pred_response = generate_answer(question=question, options=options)\n",
        "        generated_response = pred_response.answer\n",
        "        responses.append(generated_response)\n",
        "\n",
        "    return responses\n",
        "\n",
        "# def generate_responses(questions, option_sets):\n",
        "#     responses = []\n",
        "#     for question, options_list in zip(questions, option_sets):\n",
        "#         pred_response = generate_answer(question=question, options=options_list)\n",
        "#         generated_response = pred_response.answer\n",
        "#         responses.append(generated_response)\n",
        "#     return responses"
      ]
    },
    {
      "cell_type": "code",
      "execution_count": 9,
      "metadata": {
        "id": "_AHKpQUbn6Ws"
      },
      "outputs": [],
      "source": [
        "def test_generate_responses():\n",
        "  assert generate_responses(['What are the symptoms of a headache?'],['A fever B cold C cough D high bp E migraine']) == ['E']\n",
        "test_generate_responses()"
      ]
    },
    {
      "cell_type": "code",
      "execution_count": 14,
      "metadata": {
        "id": "XKI6F531WL63"
      },
      "outputs": [],
      "source": [
        "def calculate_medqa_accuracy(ques, pred: list[str], true: list[str])-> float:\n",
        "    correct_count = 0\n",
        "\n",
        "    for p, t in zip(pred, true):\n",
        "        if p == t:\n",
        "            correct_count += 1\n",
        "\n",
        "    accuracy = correct_count / len(pred)\n",
        "    return accuracy"
      ]
    },
    {
      "cell_type": "code",
      "execution_count": 15,
      "metadata": {
        "id": "ndD_bwd_rwJ6"
      },
      "outputs": [],
      "source": [
        "def validate_answer(ques, pred: list[str], ref: list[str])-> bool:\n",
        "  return [p==t for p, t in zip(pred, ref)]"
      ]
    },
    {
      "cell_type": "code",
      "execution_count": 16,
      "metadata": {
        "id": "uKlQ13dAwQuM"
      },
      "outputs": [],
      "source": [
        "def create_train_set(train_questions, train_options, train_answers):\n",
        "    train_set = []\n",
        "\n",
        "    for question, options, answer in zip(train_questions, train_options, train_answers):\n",
        "        example = dspy.Example(\n",
        "            question=question,\n",
        "            options=options,\n",
        "            answer=answer\n",
        "        ).with_inputs(\"question\", \"options\")\n",
        "\n",
        "        train_set.append(example)\n",
        "\n",
        "    return train_set"
      ]
    },
    {
      "cell_type": "code",
      "execution_count": 30,
      "metadata": {
        "id": "HRQoJ89I6Phc"
      },
      "outputs": [],
      "source": [
        "def create_train_set_questions(train_questions):\n",
        "    train_set = []\n",
        "\n",
        "    for questions in train_questions:\n",
        "        example = dspy.Example(\n",
        "            question=questions,\n",
        "        ).with_inputs(\"question\")\n",
        "\n",
        "        train_set.append(example)\n",
        "\n",
        "    return train_set"
      ]
    },
    {
      "cell_type": "code",
      "execution_count": 31,
      "metadata": {
        "id": "Yrl3ote16bv2"
      },
      "outputs": [],
      "source": [
        "train_set_questions = create_train_set_questions(train_questions)"
      ]
    },
    {
      "cell_type": "code",
      "execution_count": 51,
      "metadata": {
        "id": "hIkAh9DnKhtp"
      },
      "outputs": [],
      "source": [
        "val_set = create_train_set(val_questions, formatted_val_options, val_answers_id)"
      ]
    },
    {
      "cell_type": "code",
      "execution_count": 52,
      "metadata": {
        "colab": {
          "base_uri": "https://localhost:8080/"
        },
        "id": "YUB5jz3RKwRs",
        "outputId": "1cf3f010-ef0f-4b5c-88f3-13fb2a712981"
      },
      "outputs": [
        {
          "name": "stdout",
          "output_type": "stream",
          "text": [
            "20\n"
          ]
        }
      ],
      "source": [
        "print(len(val_set))"
      ]
    },
    {
      "cell_type": "code",
      "execution_count": 46,
      "metadata": {
        "colab": {
          "base_uri": "https://localhost:8080/"
        },
        "id": "IVUqT24h6qjT",
        "outputId": "458a972d-092b-407d-c63a-b0a222b2b9a9"
      },
      "outputs": [
        {
          "name": "stdout",
          "output_type": "stream",
          "text": [
            "[Example({'question': 'A 23-year-old pregnant woman at 22 weeks gestation presents with burning upon urination. She states it started 1 day ago and has been worsening despite drinking more water and taking cranberry extract. She otherwise feels well and is followed by a doctor for her pregnancy. Her temperature is 97.7°F (36.5°C), blood pressure is 122/77 mmHg, pulse is 80/min, respirations are 19/min, and oxygen saturation is 98% on room air. Physical exam is notable for an absence of costovertebral angle tenderness and a gravid uterus. Which of the following is the best treatment for this patient?'}) (input_keys={'question'}), Example({'question': 'A 3-month-old baby died suddenly at night while asleep. His mother noticed that he had died only after she awoke in the morning. No cause of death was determined based on the autopsy. Which of the following precautions could have prevented the death of the baby?'}) (input_keys={'question'}), Example({'question': \"A mother brings her 3-week-old infant to the pediatrician's office because she is concerned about his feeding habits. He was born without complications and has not had any medical problems up until this time. However, for the past 4 days, he has been fussy, is regurgitating all of his feeds, and his vomit is yellow in color. On physical exam, the child's abdomen is minimally distended but no other abnormalities are appreciated. Which of the following embryologic errors could account for this presentation?\"}) (input_keys={'question'}), Example({'question': 'A pulmonary autopsy specimen from a 58-year-old woman who died of acute hypoxic respiratory failure was examined. She had recently undergone surgery for a fractured femur 3 months ago. Initial hospital course was uncomplicated, and she was discharged to a rehab facility in good health. Shortly after discharge home from rehab, she developed sudden shortness of breath and had cardiac arrest. Resuscitation was unsuccessful. On histological examination of lung tissue, fibrous connective tissue around the lumen of the pulmonary artery is observed. Which of the following is the most likely pathogenesis for the present findings?'}) (input_keys={'question'}), Example({'question': \"A 20-year-old woman presents with menorrhagia for the past several years. She says that her menses “have always been heavy”, and she has experienced easy bruising for as long as she can remember. Family history is significant for her mother, who had similar problems with bruising easily. The patient's vital signs include: heart rate 98/min, respiratory rate 14/min, temperature 36.1°C (96.9°F), and blood pressure 110/87 mm Hg. Physical examination is unremarkable. Laboratory tests show the following: platelet count 200,000/mm3, PT 12 seconds, and PTT 43 seconds. Which of the following is the most likely cause of this patient’s symptoms?\"}) (input_keys={'question'}), Example({'question': 'A 40-year-old zookeeper presents to the emergency department complaining of severe abdominal pain that radiates to her back, and nausea. The pain started 2 days ago and slowly increased until she could not tolerate it any longer. Past medical history is significant for hypertension and hypothyroidism. Additionally, she reports that she was recently stung by one of the zoo’s smaller scorpions, but did not seek medical treatment. She takes aspirin, levothyroxine, oral contraceptive pills, and a multivitamin daily. Family history is noncontributory. Today, her blood pressure is 108/58 mm Hg, heart rate is 99/min, respiratory rate is 21/min, and temperature is 37.0°C (98.6°F). On physical exam, she is a well-developed, obese female that looks unwell. Her heart has a regular rate and rhythm. Radial pulses are weak but symmetric. Her lungs are clear to auscultation bilaterally. Her lateral left ankle is swollen, erythematous, and painful to palpate. An abdominal CT is consistent with acute pancreatitis. Which of the following is the most likely etiology for this patient’s disease?'}) (input_keys={'question'}), Example({'question': 'A 25-year-old primigravida presents to her physician for a routine prenatal visit. She is at 34 weeks gestation, as confirmed by an ultrasound examination. She has no complaints, but notes that the new shoes she bought 2 weeks ago do not fit anymore. The course of her pregnancy has been uneventful and she has been compliant with the recommended prenatal care. Her medical history is unremarkable. She has a 15-pound weight gain since the last visit 3 weeks ago. Her vital signs are as follows: blood pressure, 148/90 mm Hg; heart rate, 88/min; respiratory rate, 16/min; and temperature, 36.6℃ (97.9℉). The blood pressure on repeat assessment 4 hours later is 151/90 mm Hg. The fetal heart rate is 151/min. The physical examination is significant for 2+ pitting edema of the lower extremity. Which of the following tests o should confirm the probable condition of this patient?'}) (input_keys={'question'}), Example({'question': \"A 3900-g (8.6-lb) male infant is delivered at 39 weeks' gestation via spontaneous vaginal delivery. Pregnancy and delivery were uncomplicated but a prenatal ultrasound at 20 weeks showed a defect in the pleuroperitoneal membrane. Further evaluation of this patient is most likely to show which of the following findings?\"}) (input_keys={'question'}), Example({'question': 'A 62-year-old woman presents for a regular check-up. She complains of lightheadedness and palpitations which occur episodically. Past medical history is significant for a myocardial infarction 6 months ago and NYHA class II chronic heart failure. She also was diagnosed with grade I arterial hypertension 4 years ago. Current medications are aspirin 81 mg, atorvastatin 10 mg, enalapril 10 mg, and metoprolol 200 mg daily. Her vital signs are a blood pressure of 135/90 mm Hg, a heart rate of 125/min, a respiratory rate of 14/min, and a temperature of 36.5°C (97.7°F). Cardiopulmonary examination is significant for irregular heart rhythm and decreased S1 intensity. ECG is obtained and is shown in the picture (see image). Echocardiography shows a left ventricular ejection fraction of 39%. Which of the following drugs is the best choice for rate control in this patient?'}) (input_keys={'question'}), Example({'question': 'A 35-year-old male presents to his primary care physician with complaints of seasonal allergies. He has been using intranasal vasoconstrictors several times per day for several weeks. What is a likely sequela of the chronic use of topical nasal decongestants?'}) (input_keys={'question'}), Example({'question': \"A 46-year-old woman comes to the physician because of a 2-week history of diplopia and ocular pain when reading the newspaper. She also has a 3-month history of amenorrhea, hot flashes, and increased sweating. She reports that she has been overweight all her adult life and is happy to have lost 6.8-kg (15-lb) of weight in the past 2 months. Her pulse is 110/min, and blood pressure is 148/98 mm Hg. Physical examination shows moist palms and a nontender thyroid gland that is enlarged to two times its normal size. Ophthalmologic examination shows prominence of the globes of the eyes, bilateral lid retraction, conjunctival injection, and an inability to converge the eyes. There is no pain on movement of the extraocular muscles. Visual acuity is 20/20 bilaterally. Neurologic examination shows a fine resting tremor of the hands. Deep tendon reflexes are 3+ with a shortened relaxation phase. Which of the following is the most likely cause of this patient's ocular complaints?\"}) (input_keys={'question'}), Example({'question': 'A 1-year-old boy presents to the emergency department with weakness and a change in his behavior. His parents state that they first noticed the change in his behavior this morning and it has been getting worse. They noticed the patient was initially weak in his upper body and arms, but now he won’t move his legs with as much strength or vigor as he used to. Physical exam is notable for bilateral ptosis with a sluggish pupillary response, a very weak sucking and gag reflex, and shallow respirations. The patient is currently drooling and his diaper is dry. The parents state he has not had a bowel movement in over 1 day. Which of the following is the pathophysiology of this patient’s condition?'}) (input_keys={'question'}), Example({'question': 'A 9-month-old female is brought to the emergency department after experiencing a seizure. She was born at home and was normal at birth according to her parents. Since then, they have noticed that she does not appear to be achieving developmental milestones as quickly as her siblings, and often appears lethargic. Physical exam reveals microcephaly, very light pigmentation (as compared to her family), and a \"musty\" body odor. The varied manifestations of this disease can most likely be attributed to which of the following genetic principles?'}) (input_keys={'question'}), Example({'question': 'A 23-year-old man comes to the physician for evaluation of decreased hearing, dizziness, and ringing in his right ear for the past 6 months. Physical examination shows multiple soft, yellow plaques and papules on his arms, chest, and back. There is sensorineural hearing loss and weakness of facial muscles bilaterally. His gait is unsteady. An MRI of the brain shows a 3-cm mass near the right internal auditory meatus and a 2-cm mass at the left cerebellopontine angle. The abnormal cells in these masses are most likely derived from which of the following embryological structures?'}) (input_keys={'question'}), Example({'question': \"A 62-year-old woman comes to the physician because of coughing and fatigue during the past 2 years. In the morning, the cough is productive of white phlegm. She becomes short of breath walking up a flight of stairs. She has hypertension and hyperlipidemia. She has recently retired from working as a nurse at a homeless shelter. She has smoked 1 pack of cigarettes daily for 40 years. Current medications include ramipril and fenofibrate. Her temperature is 36.5°C (97.7°F), respirations are 24/min, pulse is 85/min, and blood pressure is 140/90 mm Hg. Scattered wheezing and rhonchi are heard throughout both lung fields. There are no murmurs, rubs, or gallops but heart sounds are distant. Which of the following is the most likely underlying cause of this patient's symptoms?\"}) (input_keys={'question'}), Example({'question': 'A 68-year-old man presents to the emergency department with leg pain. He states that the pain started suddenly while he was walking outside. The patient has a past medical history of diabetes, hypertension, obesity, and atrial fibrillation. His temperature is 99.3°F (37.4°C), blood pressure is 152/98 mmHg, pulse is 97/min, respirations are 15/min, and oxygen saturation is 99% on room air. Physical exam is notable for a cold and pale left leg. The patient’s sensation is markedly diminished in the left leg when compared to the right, and his muscle strength is 1/5 in his left leg. Which of the following is the best next step in management?'}) (input_keys={'question'}), Example({'question': 'A 76-year-old African American man presents to his primary care provider complaining of urinary frequency. He wakes up 3-4 times per night to urinate while he previously only had to wake up once per night. He also complains of post-void dribbling and difficulty initiating a stream of urine. He denies any difficulty maintaining an erection. His past medical history is notable for non-alcoholic fatty liver disease, hypertension, hyperlipidemia, and gout. He takes aspirin, atorvastatin, enalapril, and allopurinol. His family history is notable for prostate cancer in his father and lung cancer in his mother. He has a 15-pack-year smoking history and drinks alcohol socially. On digital rectal exam, his prostate is enlarged, smooth, and non-tender. Which of the following medications is indicated in this patient?'}) (input_keys={'question'}), Example({'question': 'A 68-year-old man comes to the physician because of recurrent episodes of nausea and abdominal discomfort for the past 4 months. The discomfort is located in the upper abdomen and sometimes occurs after eating, especially after a big meal. He has tried to go for a walk after dinner to help with digestion, but his complaints have only increased. For the past 3 weeks he has also had symptoms while climbing the stairs to his apartment. He has type 2 diabetes mellitus, hypertension, and stage 2 peripheral arterial disease. He has smoked one pack of cigarettes daily for the past 45 years. He drinks one to two beers daily and occasionally more on weekends. His current medications include metformin, enalapril, and aspirin. He is 168 cm (5 ft 6 in) tall and weighs 126 kg (278 lb); BMI is 45 kg/m2. His temperature is 36.4°C (97.5°F), pulse is 78/min, and blood pressure is 148/86 mm Hg. On physical examination, the abdomen is soft and nontender with no organomegaly. Foot pulses are absent bilaterally. An ECG shows no abnormalities. Which of the following is the most appropriate next step in diagnosis?'}) (input_keys={'question'}), Example({'question': \"A 27-year-old female presents to general medical clinic for a routine checkup. She has a genetic disease marked by a mutation in a chloride transporter. She has a history of chronic bronchitis. She has a brother with a similar history of infections as well as infertility. Which of the following is most likely true regarding a potential vitamin deficiency complication secondary to this patient's chronic illness?\"}) (input_keys={'question'}), Example({'question': 'A previously healthy 36-year-old man comes to the physician for a yellow discoloration of his skin and dark-colored urine for 2 weeks. He does not drink any alcohol. Physical examination shows jaundice. Abdominal and neurologic examinations show no abnormalities. Serum studies show increased levels of alanine aminotransferase (ALT) and aspartate aminotransferase (AST). A liver biopsy is performed and a photomicrograph after periodic acid-Schiff-staining is shown. Which of the following is the most likely additional finding in this patient?'}) (input_keys={'question'})]\n"
          ]
        }
      ],
      "source": [
        "print(train_set_questions)"
      ]
    },
    {
      "cell_type": "code",
      "execution_count": 18,
      "metadata": {
        "id": "FKzwxqxbwTyj"
      },
      "outputs": [],
      "source": [
        "train_set3 = create_train_set(train_questions, formatted_train_options, train_answers_id)"
      ]
    },
    {
      "cell_type": "code",
      "execution_count": 17,
      "metadata": {
        "colab": {
          "base_uri": "https://localhost:8080/"
        },
        "id": "FON3NBb2waaB",
        "outputId": "af57a0cb-4911-492a-fa54-b4c2dedc1d84"
      },
      "outputs": [
        {
          "name": "stdout",
          "output_type": "stream",
          "text": [
            "20\n"
          ]
        }
      ],
      "source": [
        "print(len(train_set3))"
      ]
    },
    {
      "cell_type": "code",
      "execution_count": 14,
      "metadata": {
        "colab": {
          "base_uri": "https://localhost:8080/"
        },
        "id": "blEq8I2DuXAz",
        "outputId": "93410d83-2c85-48da-9838-e45ea48d074d"
      },
      "outputs": [
        {
          "name": "stdout",
          "output_type": "stream",
          "text": [
            "['A 23-year-old pregnant woman at 22 weeks gestation presents with burning upon urination. She states it started 1 day ago and has been worsening despite drinking more water and taking cranberry extract. She otherwise feels well and is followed by a doctor for her pregnancy. Her temperature is 97.7°F (36.5°C), blood pressure is 122/77 mmHg, pulse is 80/min, respirations are 19/min, and oxygen saturation is 98% on room air. Physical exam is notable for an absence of costovertebral angle tenderness and a gravid uterus. Which of the following is the best treatment for this patient?', 'A 3-month-old baby died suddenly at night while asleep. His mother noticed that he had died only after she awoke in the morning. No cause of death was determined based on the autopsy. Which of the following precautions could have prevented the death of the baby?', \"A mother brings her 3-week-old infant to the pediatrician's office because she is concerned about his feeding habits. He was born without complications and has not had any medical problems up until this time. However, for the past 4 days, he has been fussy, is regurgitating all of his feeds, and his vomit is yellow in color. On physical exam, the child's abdomen is minimally distended but no other abnormalities are appreciated. Which of the following embryologic errors could account for this presentation?\", 'A pulmonary autopsy specimen from a 58-year-old woman who died of acute hypoxic respiratory failure was examined. She had recently undergone surgery for a fractured femur 3 months ago. Initial hospital course was uncomplicated, and she was discharged to a rehab facility in good health. Shortly after discharge home from rehab, she developed sudden shortness of breath and had cardiac arrest. Resuscitation was unsuccessful. On histological examination of lung tissue, fibrous connective tissue around the lumen of the pulmonary artery is observed. Which of the following is the most likely pathogenesis for the present findings?', \"A 20-year-old woman presents with menorrhagia for the past several years. She says that her menses “have always been heavy”, and she has experienced easy bruising for as long as she can remember. Family history is significant for her mother, who had similar problems with bruising easily. The patient's vital signs include: heart rate 98/min, respiratory rate 14/min, temperature 36.1°C (96.9°F), and blood pressure 110/87 mm Hg. Physical examination is unremarkable. Laboratory tests show the following: platelet count 200,000/mm3, PT 12 seconds, and PTT 43 seconds. Which of the following is the most likely cause of this patient’s symptoms?\", 'A 40-year-old zookeeper presents to the emergency department complaining of severe abdominal pain that radiates to her back, and nausea. The pain started 2 days ago and slowly increased until she could not tolerate it any longer. Past medical history is significant for hypertension and hypothyroidism. Additionally, she reports that she was recently stung by one of the zoo’s smaller scorpions, but did not seek medical treatment. She takes aspirin, levothyroxine, oral contraceptive pills, and a multivitamin daily. Family history is noncontributory. Today, her blood pressure is 108/58 mm Hg, heart rate is 99/min, respiratory rate is 21/min, and temperature is 37.0°C (98.6°F). On physical exam, she is a well-developed, obese female that looks unwell. Her heart has a regular rate and rhythm. Radial pulses are weak but symmetric. Her lungs are clear to auscultation bilaterally. Her lateral left ankle is swollen, erythematous, and painful to palpate. An abdominal CT is consistent with acute pancreatitis. Which of the following is the most likely etiology for this patient’s disease?', 'A 25-year-old primigravida presents to her physician for a routine prenatal visit. She is at 34 weeks gestation, as confirmed by an ultrasound examination. She has no complaints, but notes that the new shoes she bought 2 weeks ago do not fit anymore. The course of her pregnancy has been uneventful and she has been compliant with the recommended prenatal care. Her medical history is unremarkable. She has a 15-pound weight gain since the last visit 3 weeks ago. Her vital signs are as follows: blood pressure, 148/90 mm Hg; heart rate, 88/min; respiratory rate, 16/min; and temperature, 36.6℃ (97.9℉). The blood pressure on repeat assessment 4 hours later is 151/90 mm Hg. The fetal heart rate is 151/min. The physical examination is significant for 2+ pitting edema of the lower extremity. Which of the following tests o should confirm the probable condition of this patient?', \"A 3900-g (8.6-lb) male infant is delivered at 39 weeks' gestation via spontaneous vaginal delivery. Pregnancy and delivery were uncomplicated but a prenatal ultrasound at 20 weeks showed a defect in the pleuroperitoneal membrane. Further evaluation of this patient is most likely to show which of the following findings?\", 'A 62-year-old woman presents for a regular check-up. She complains of lightheadedness and palpitations which occur episodically. Past medical history is significant for a myocardial infarction 6 months ago and NYHA class II chronic heart failure. She also was diagnosed with grade I arterial hypertension 4 years ago. Current medications are aspirin 81 mg, atorvastatin 10 mg, enalapril 10 mg, and metoprolol 200 mg daily. Her vital signs are a blood pressure of 135/90 mm Hg, a heart rate of 125/min, a respiratory rate of 14/min, and a temperature of 36.5°C (97.7°F). Cardiopulmonary examination is significant for irregular heart rhythm and decreased S1 intensity. ECG is obtained and is shown in the picture (see image). Echocardiography shows a left ventricular ejection fraction of 39%. Which of the following drugs is the best choice for rate control in this patient?', 'A 35-year-old male presents to his primary care physician with complaints of seasonal allergies. He has been using intranasal vasoconstrictors several times per day for several weeks. What is a likely sequela of the chronic use of topical nasal decongestants?', \"A 46-year-old woman comes to the physician because of a 2-week history of diplopia and ocular pain when reading the newspaper. She also has a 3-month history of amenorrhea, hot flashes, and increased sweating. She reports that she has been overweight all her adult life and is happy to have lost 6.8-kg (15-lb) of weight in the past 2 months. Her pulse is 110/min, and blood pressure is 148/98 mm Hg. Physical examination shows moist palms and a nontender thyroid gland that is enlarged to two times its normal size. Ophthalmologic examination shows prominence of the globes of the eyes, bilateral lid retraction, conjunctival injection, and an inability to converge the eyes. There is no pain on movement of the extraocular muscles. Visual acuity is 20/20 bilaterally. Neurologic examination shows a fine resting tremor of the hands. Deep tendon reflexes are 3+ with a shortened relaxation phase. Which of the following is the most likely cause of this patient's ocular complaints?\", 'A 1-year-old boy presents to the emergency department with weakness and a change in his behavior. His parents state that they first noticed the change in his behavior this morning and it has been getting worse. They noticed the patient was initially weak in his upper body and arms, but now he won’t move his legs with as much strength or vigor as he used to. Physical exam is notable for bilateral ptosis with a sluggish pupillary response, a very weak sucking and gag reflex, and shallow respirations. The patient is currently drooling and his diaper is dry. The parents state he has not had a bowel movement in over 1 day. Which of the following is the pathophysiology of this patient’s condition?', 'A 9-month-old female is brought to the emergency department after experiencing a seizure. She was born at home and was normal at birth according to her parents. Since then, they have noticed that she does not appear to be achieving developmental milestones as quickly as her siblings, and often appears lethargic. Physical exam reveals microcephaly, very light pigmentation (as compared to her family), and a \"musty\" body odor. The varied manifestations of this disease can most likely be attributed to which of the following genetic principles?', 'A 23-year-old man comes to the physician for evaluation of decreased hearing, dizziness, and ringing in his right ear for the past 6 months. Physical examination shows multiple soft, yellow plaques and papules on his arms, chest, and back. There is sensorineural hearing loss and weakness of facial muscles bilaterally. His gait is unsteady. An MRI of the brain shows a 3-cm mass near the right internal auditory meatus and a 2-cm mass at the left cerebellopontine angle. The abnormal cells in these masses are most likely derived from which of the following embryological structures?', \"A 62-year-old woman comes to the physician because of coughing and fatigue during the past 2 years. In the morning, the cough is productive of white phlegm. She becomes short of breath walking up a flight of stairs. She has hypertension and hyperlipidemia. She has recently retired from working as a nurse at a homeless shelter. She has smoked 1 pack of cigarettes daily for 40 years. Current medications include ramipril and fenofibrate. Her temperature is 36.5°C (97.7°F), respirations are 24/min, pulse is 85/min, and blood pressure is 140/90 mm Hg. Scattered wheezing and rhonchi are heard throughout both lung fields. There are no murmurs, rubs, or gallops but heart sounds are distant. Which of the following is the most likely underlying cause of this patient's symptoms?\", 'A 68-year-old man presents to the emergency department with leg pain. He states that the pain started suddenly while he was walking outside. The patient has a past medical history of diabetes, hypertension, obesity, and atrial fibrillation. His temperature is 99.3°F (37.4°C), blood pressure is 152/98 mmHg, pulse is 97/min, respirations are 15/min, and oxygen saturation is 99% on room air. Physical exam is notable for a cold and pale left leg. The patient’s sensation is markedly diminished in the left leg when compared to the right, and his muscle strength is 1/5 in his left leg. Which of the following is the best next step in management?', 'A 76-year-old African American man presents to his primary care provider complaining of urinary frequency. He wakes up 3-4 times per night to urinate while he previously only had to wake up once per night. He also complains of post-void dribbling and difficulty initiating a stream of urine. He denies any difficulty maintaining an erection. His past medical history is notable for non-alcoholic fatty liver disease, hypertension, hyperlipidemia, and gout. He takes aspirin, atorvastatin, enalapril, and allopurinol. His family history is notable for prostate cancer in his father and lung cancer in his mother. He has a 15-pack-year smoking history and drinks alcohol socially. On digital rectal exam, his prostate is enlarged, smooth, and non-tender. Which of the following medications is indicated in this patient?', 'A 68-year-old man comes to the physician because of recurrent episodes of nausea and abdominal discomfort for the past 4 months. The discomfort is located in the upper abdomen and sometimes occurs after eating, especially after a big meal. He has tried to go for a walk after dinner to help with digestion, but his complaints have only increased. For the past 3 weeks he has also had symptoms while climbing the stairs to his apartment. He has type 2 diabetes mellitus, hypertension, and stage 2 peripheral arterial disease. He has smoked one pack of cigarettes daily for the past 45 years. He drinks one to two beers daily and occasionally more on weekends. His current medications include metformin, enalapril, and aspirin. He is 168 cm (5 ft 6 in) tall and weighs 126 kg (278 lb); BMI is 45 kg/m2. His temperature is 36.4°C (97.5°F), pulse is 78/min, and blood pressure is 148/86 mm Hg. On physical examination, the abdomen is soft and nontender with no organomegaly. Foot pulses are absent bilaterally. An ECG shows no abnormalities. Which of the following is the most appropriate next step in diagnosis?', \"A 27-year-old female presents to general medical clinic for a routine checkup. She has a genetic disease marked by a mutation in a chloride transporter. She has a history of chronic bronchitis. She has a brother with a similar history of infections as well as infertility. Which of the following is most likely true regarding a potential vitamin deficiency complication secondary to this patient's chronic illness?\", 'A previously healthy 36-year-old man comes to the physician for a yellow discoloration of his skin and dark-colored urine for 2 weeks. He does not drink any alcohol. Physical examination shows jaundice. Abdominal and neurologic examinations show no abnormalities. Serum studies show increased levels of alanine aminotransferase (ALT) and aspartate aminotransferase (AST). A liver biopsy is performed and a photomicrograph after periodic acid-Schiff-staining is shown. Which of the following is the most likely additional finding in this patient?']\n",
            "['A Ampicillin B Ceftriaxone C Ciprofloxacin D Doxycycline E Nitrofurantoin', 'A Placing the infant in a supine position on a firm mattress while sleeping B Routine postnatal electrocardiogram (ECG) C Keeping the infant covered and maintaining a high room temperature D Application of a device to maintain the sleeping position E Avoiding pacifier use during sleep', 'A Abnormal migration of ventral pancreatic bud B Complete failure of proximal duodenum to recanalize C Error in neural crest cell migration D Abnormal hypertrophy of the pylorus E Failure of lateral body folds to move ventrally and fuse in the midline', 'A Thromboembolism B Pulmonary ischemia C Pulmonary hypertension D Pulmonary passive congestion E Pulmonary hemorrhage', 'A Factor V Leiden B Hemophilia A C Lupus anticoagulant D Protein C deficiency E Von Willebrand disease', 'A Aspirin B Oral contraceptive pills C Scorpion sting D Hypothyroidism E Obesity', 'A Bilirubin assessment B Coagulation studies C Hematocrit assessment D Leukocyte count with differential E 24-hour urine protein', 'A Gastric fundus in the thorax B Pancreatic ring around the duodenum C Small and cystic kidneys D Hypertrophy of the gastric pylorus E Large bowel in the inguinal canal', 'A Atenolol B Verapamil C Diltiazem D Propafenone E Digoxin', 'A Epistaxis B Hypertension C Permanent loss of smell D Persistent nasal crusting E Persistent congestion', 'A Granulomatous inflammation of the cavernous sinus B Abnormal communication between the cavernous sinus and the internal carotid artery C Glycosaminoglycan accumulation in the orbit D Bacterial infection of the orbital contents E Sympathetic hyperactivity of levator palpebrae superioris\\n\"', 'A Antibodies against postsynaptic nicotinic cholinergic ion channels B Autoantibodies against the presynaptic voltage-gated calcium channels C Autoimmune demyelination of peripheral nerves D Blockade of presynaptic acetylcholine release at the neuromuscular junction E Lower motor neuron destruction in the anterior horn', 'A Anticipation B Incomplete penetrance C Multiple gene mutations D Pleiotropy E Variable expressivity', 'A Neural tube B Surface ectoderm C Neural crest D Notochord E Mesoderm', 'A Chronic decrease in pulmonary compliance B Local accumulation of kinins C Mycobacterial invasion of pulmonary parenchyma D Progressive obstruction of expiratory airflow E Incremental loss of functional residual capacity\\n\"', 'A CT angiogram B Graded exercise and aspirin C Heparin drip D Surgical thrombectomy E Tissue plasminogen activator', 'A Clonidine B Hydrochlorothiazide C Midodrine D Oxybutynin E Tamsulosin', 'A Esophagogastroduodenoscopy B CT scan of the abdomen C Hydrogen breath test D Cardiac stress test E Abdominal ultrasonography of the right upper quadrant', 'A It may result in connective tissue defects B It may result in corneal vascularization C It may result in the triad of confusion, ophthalmoplegia, and ataxia D It may be exacerbated by excessive ingestion of raw eggs E It may manifest itself as a prolonged PT', 'A Tropheryma whipplei-specific RNA on PCR B Bullous changes of the lung bases on chest CT C Beading of intra- and extrahepatic bile ducts on ERCP D Myocardial iron deposition on cardiovascular MRI E Dark corneal ring on slit-lamp examination']\n",
            "['E', 'A', 'A', 'A', 'E', 'C', 'E', 'A', 'E', 'E', 'C', 'D', 'D', 'C', 'D', 'C', 'E', 'D', 'E', 'B']\n"
          ]
        }
      ],
      "source": [
        "print(train_questions)\n",
        "print(formatted_train_options)\n",
        "print(train_answers_id)"
      ]
    },
    {
      "cell_type": "code",
      "execution_count": 17,
      "metadata": {
        "id": "hZ8JrtLPfOSe"
      },
      "outputs": [],
      "source": [
        "train_set = [dspy.Example(question=\"Which of the following is the primary function of insulin?\", options=\"A Glycogen breakdown B Protein synthesis C Glucose uptake D Lipid digestion E Oxygen transport\", answer=\"C\").with_inputs(\"question\",\"options\"),\n",
        "dspy.Example(question=\"What is the most common cause of acute pancreatitis?\", options=\"A Alcohol consumption B Gallstones C Trauma D Viral infection E Genetic predisposition\", answer=\"B\").with_inputs(\"question\",\"options\"),\n",
        "dspy.Example(question=\"Which of the following is a characteristic finding in rheumatoid arthritis?\", options=\"A HLA-B27 positivity B Anti-dsDNA antibodies C Rheumatoid factor positivity D Anti-Smith antibodies E Decreased C-reactive protein\", answer=\"C\").with_inputs(\"question\",\"options\"),\n",
        "dspy.Example(question=\"In a patient with chronic renal failure, which electrolyte imbalance is commonly observed?\", options=\"A Hyperkalemia B Hyponatremia C Hypocalcemia D Hyperphosphatemia E Hypomagnesemia\", answer=\"A\").with_inputs(\"question\",\"options\"),\n",
        "dspy.Example(question=\"Which class of antibiotics is known to cause irreversible ototoxicity?\", options=\"A Penicillins B Cephalosporins C Aminoglycosides D Tetracyclines E Macrolides\", answer=\"C\").with_inputs(\"question\",\"options\"),\n",
        "dspy.Example(question=\"What is the gold standard diagnostic test for acute appendicitis?\", options=\"A Ultrasound B CT scan C MRI D X-ray E Physical examination\", answer=\"B\").with_inputs(\"question\",\"options\"),\n",
        "dspy.Example(question=\"A patient with a history of frequent sun exposure presents with a nodular, pearly lesion on the face What is the most likely diagnosis?\", options=\"A Psoriasis B Basal cell carcinoma C Melanoma D Squamous cell carcinoma E Rosacea\", answer=\"B\").with_inputs(\"question\",\"options\"),\n",
        "dspy.Example(question=\"Which hormone is responsible for stimulating milk production in the mammary glands?\", options=\"A Progesterone B Prolactin C Estrogen D Oxytocin E Human chorionic gonadotropin (hCG)\", answer=\"B\").with_inputs(\"question\",\"options\"),\n",
        "dspy.Example(question=\"What is the first-line treatment for status epilepticus?\", options=\"A Diazepam B Phenytoin C Levetiracetam D Lorazepam E Phenobarbital\", answer=\"D\").with_inputs(\"question\",\"options\"),\n",
        "dspy.Example(question=\"A patient presents with chest pain that improves with leaning forward Which condition is most likely responsible for this symptom?\", options=\"A Myocardial infarction B Pericarditis C Angina pectoris D Aortic dissection E Pulmonary embolism\", answer=\"B\").with_inputs(\"question\",\"options\")]"
      ]
    },
    {
      "cell_type": "code",
      "execution_count": null,
      "metadata": {
        "id": "wlgk87hs58UV"
      },
      "outputs": [],
      "source": []
    },
    {
      "cell_type": "code",
      "execution_count": 19,
      "metadata": {
        "id": "WTHkAa2oP7m2"
      },
      "outputs": [],
      "source": [
        "train_set2 = [\n",
        "    dspy.Example(question=\"Which of the following is the primary function of insulin?\", options=\"A. Glycogen breakdown B. Protein synthesis C. Glucose uptake D. Lipid digestion E. Oxygen transport\", answer=\"C\").with_inputs(\"question\",\"options\"),\n",
        "    dspy.Example(question=\"What is the most common cause of acute pancreatitis?\", options=\"A. Alcohol consumption B. Gallstones C. Trauma D. Viral infection E. Genetic predisposition\", answer=\"B\").with_inputs(\"question\",\"options\"),\n",
        "    dspy.Example(question=\"Which of the following is a characteristic finding in rheumatoid arthritis?\", options=\"A. HLA-B27 positivity B. Anti-dsDNA antibodies C. Rheumatoid factor positivity D. Anti-Smith antibodies E. Decreased C-reactive protein\", answer=\"C\").with_inputs(\"question\",\"options\"),\n",
        "    dspy.Example(question=\"In a patient with chronic renal failure, which electrolyte imbalance is commonly observed?\", options=\"A. Hyperkalemia B. Hyponatremia C. Hypocalcemia D. Hyperphosphatemia E. Hypomagnesemia\", answer=\"A\").with_inputs(\"question\",\"options\"),\n",
        "    dspy.Example(question=\"Which class of antibiotics is known to cause irreversible ototoxicity?\", options=\"A. Penicillins B. Cephalosporins C. Aminoglycosides D. Tetracyclines E. Macrolides\", answer=\"C\").with_inputs(\"question\",\"options\"),\n",
        "    dspy.Example(question=\"What is the gold standard diagnostic test for acute appendicitis?\", options=\"A. Ultrasound B. CT scan C. MRI D. X-ray E. Physical examination\", answer=\"B\").with_inputs(\"question\",\"options\"),\n",
        "    dspy.Example(question=\"A patient with a history of frequent sun exposure presents with a nodular, pearly lesion on the face. What is the most likely diagnosis?\", options=\"A. Psoriasis B. Basal cell carcinoma C. Melanoma D. Squamous cell carcinoma E. Rosacea\", answer=\"B\").with_inputs(\"question\",\"options\"),\n",
        "    dspy.Example(question=\"Which hormone is responsible for stimulating milk production in the mammary glands?\", options=\"A. Progesterone B. Prolactin C. Estrogen D. Oxytocin E. Human chorionic gonadotropin (hCG)\", answer=\"B\").with_inputs(\"question\",\"options\"),\n",
        "    dspy.Example(question=\"What is the first-line treatment for status epilepticus?\", options=\"A. Diazepam B. Phenytoin C. Levetiracetam D. Lorazepam E. Phenobarbital\", answer=\"D\").with_inputs(\"question\",\"options\"),\n",
        "    dspy.Example(question=\"A patient presents with chest pain that improves with leaning forward. Which condition is most likely responsible for this symptom?\", options=\"A. Myocardial infarction B. Pericarditis C. Angina pectoris D. Aortic dissection E. Pulmonary embolism\", answer=\"B\").with_inputs(\"question\",\"options\"),\n",
        "    dspy.Example(question=\"Which vitamin deficiency is associated with bleeding gums and easy bruising?\", options=\"A. Vitamin A B. Vitamin B12 C. Vitamin C D. Vitamin D E. Vitamin K\", answer=\"C\").with_inputs(\"question\",\"options\"),\n",
        "    dspy.Example(question=\"In a patient with suspected pulmonary embolism, which imaging modality is preferred for initial evaluation?\", options=\"A. Chest X-ray B. CT pulmonary angiography C. Ventilation-perfusion scan D. Magnetic resonance imaging (MRI) E. Ultrasound\", answer=\"B\").with_inputs(\"question\",\"options\"),\n",
        "    dspy.Example(question=\"A patient with a history of alcohol abuse presents with confusion, ataxia, and ophthalmoplegia. What is the most likely diagnosis?\", options=\"A. Wernicke's encephalopathy B. Korsakoff syndrome C. Delirium tremens D. Hepatic encephalopathy E. Cerebral contusion\", answer=\"A\").with_inputs(\"question\",\"options\"),\n",
        "    dspy.Example(question=\"Which of the following is a first-line treatment for hypertension in a patient with diabetes mellitus?\", options=\"A. Atenolol B. Lisinopril C. Hydrochlorothiazide D. Diltiazem E. Clonidine\", answer=\"B\").with_inputs(\"question\",\"options\"),\n",
        "    dspy.Example(question=\"What is the primary neurotransmitter involved in the pathophysiology of Alzheimer's disease?\", options=\"A. Dopamine B. Acetylcholine C. Serotonin D. Gamma-aminobutyric acid (GABA) E. Norepinephrine\", answer=\"B\").with_inputs(\"question\",\"options\"),\n",
        "    dspy.Example(question=\"A patient with a history of rheumatic heart disease presents with mitral valve stenosis. Which physical finding is characteristic of this condition?\", options=\"A. Loud S1 heart sound B. Opening snap C. Holosystolic murmur D. Pulsus paradoxus E. Systolic ejection murmur\", answer=\"B\").with_inputs(\"question\",\"options\"),\n",
        "    dspy.Example(question=\"What is the most common cause of viral myocarditis?\", options=\"A. Coxsackievirus B. Influenza virus C. Human immunodeficiency virus (HIV) D. Herpes simplex virus E. Epstein-Barr virus\", answer=\"A\").with_inputs(\"question\",\"options\"),\n",
        "    dspy.Example(question=\"Which of the following drugs is contraindicated in patients with a sulfa allergy?\", options=\"A. Cephalexin B. Amoxicillin C. Ciprofloxacin D. Trimethoprim-sulfamethoxazole E. Doxycycline\", answer=\"D\").with_inputs(\"question\",\"options\"),\n",
        "    dspy.Example(question=\"A patient presents with recurrent episodes of sudden-onset vertigo, hearing loss, and tinnitus. What is the most likely diagnosis?\", options=\"A. Migraine-associated vertigo B. Meniere's disease C. Vestibular neuritis D. Benign paroxysmal positional vertigo (BPPV) E. Labyrinthitis\", answer=\"B\").with_inputs(\"question\",\"options\"),\n",
        "    dspy.Example(question=\"Which of the following is a characteristic feature of polycystic ovary syndrome (PCOS)?\", options=\"A. Hyperprolactinemia B. Oligomenorrhea C. Hypogonadism D. Amenorrhea E. Increased estrogen levels\", answer=\"B\").with_inputs(\"question\",\"options\"),\n",
        "    dspy.Example(question=\"A patient with chronic kidney disease is prescribed a phosphate binder. Which medication is commonly used for this purpose?\", options=\"A. Calcium carbonate B. Sevelamer C. Furosemide D. Spironolactone E. Enalapril\", answer=\"B\").with_inputs(\"question\",\"options\"),\n",
        "    dspy.Example(question=\"What is the classic triad of symptoms in diabetes insipidus?\", options=\"A. Polyuria, polydipsia, weight loss B. Polyuria, polydipsia, hyperglycemia C. Polyuria, polydipsia, hypotension D. Polyuria, polydipsia, hypernatremia E. Polyuria, polydipsia, hypoglycemia\", answer=\"D\").with_inputs(\"question\",\"options\"),\n",
        "    dspy.Example(question=\"A newborn presents with abdominal distension, vomiting, and failure to pass meconium. What is the most likely diagnosis?\", options=\"A. Intussusception B. Hirschsprung disease C. Pyloric stenosis D. Meconium ileus E. Imperforate anus\", answer=\"D\").with_inputs(\"question\",\"options\"),\n",
        "    dspy.Example(question=\"Which of the following is a common side effect of angiotensin-converting enzyme (ACE) inhibitors?\", options=\"A. Hyperkalemia B. Hypokalemia C. Hypercalcemia D. Hyponatremia E. Hypoglycemia\", answer=\"A\").with_inputs(\"question\",\"options\"),\n",
        "    dspy.Example(question=\"A patient with a history of chronic alcohol abuse presents with bleeding tendencies. Which vitamin deficiency is most likely responsible for this clinical manifestation?\", options=\"A. Vitamin A B. Vitamin B12 C. Vitamin C D. Vitamin D E. Vitamin K\", answer=\"E\").with_inputs(\"question\",\"options\"),\n",
        "    dspy.Example(question=\"What is the first-line treatment for uncomplicated urinary tract infection (UTI) in a non-pregnant woman?\", options=\"A. Ciprofloxacin B. Amoxicillin C. Trimethoprim-sulfamethoxazole D. Nitrofurantoin E. Doxycycline\", answer=\"D\").with_inputs(\"question\",\"options\"),\n",
        "    dspy.Example(question=\"A patient presents with a severe headache, photophobia, and a positive Brudzinski sign. What is the most likely diagnosis?\", options=\"A. Migraine headache B. Tension-type headache C. Cluster headache D. Subarachnoid hemorrhage E. Sinusitis\", answer=\"D\").with_inputs(\"question\",\"options\"),\n",
        "    dspy.Example(question=\"Which type of hepatitis is most commonly transmitted through contaminated food and water?\", options=\"A. Hepatitis A B. Hepatitis B C. Hepatitis C D. Hepatitis D E. Hepatitis E\", answer=\"A\").with_inputs(\"question\",\"options\"),\n",
        "    dspy.Example(question=\"A patient with a history of chronic obstructive pulmonary disease (COPD) presents with increased dyspnea, wheezing, and decreased breath sounds. What is the most likely diagnosis?\", options=\"A. Pneumonia B. Pulmonary embolism C. Pneumothorax D. Asthma exacerbation E. Pleural effusion\", answer=\"C\").with_inputs(\"question\",\"options\"),\n",
        "    dspy.Example(question=\"Which medication is commonly used as a first-line treatment for acute gout attacks?\", options=\"A. Naproxen B. Allopurinol C. Colchicine D. Methotrexate E. Prednisone\", answer=\"C\").with_inputs(\"question\",\"options\")\n",
        "]"
      ]
    },
    {
      "cell_type": "code",
      "execution_count": 17,
      "metadata": {
        "colab": {
          "base_uri": "https://localhost:8080/"
        },
        "id": "W6jKFwNkLljR",
        "outputId": "1aa9cd8d-f568-42ba-9646-0cef6b3f3f2f"
      },
      "outputs": [
        {
          "name": "stdout",
          "output_type": "stream",
          "text": [
            "[Example({'question': 'Which of the following is the primary function of insulin?', 'options': 'A Glycogen breakdown B Protein synthesis C Glucose uptake D Lipid digestion E Oxygen transport', 'answer': 'C'}) (input_keys={'question', 'options'}), Example({'question': 'What is the most common cause of acute pancreatitis?', 'options': 'A Alcohol consumption B Gallstones C Trauma D Viral infection E Genetic predisposition', 'answer': 'B'}) (input_keys={'question', 'options'}), Example({'question': 'Which of the following is a characteristic finding in rheumatoid arthritis?', 'options': 'A HLA-B27 positivity B Anti-dsDNA antibodies C Rheumatoid factor positivity D Anti-Smith antibodies E Decreased C-reactive protein', 'answer': 'C'}) (input_keys={'question', 'options'}), Example({'question': 'In a patient with chronic renal failure, which electrolyte imbalance is commonly observed?', 'options': 'A Hyperkalemia B Hyponatremia C Hypocalcemia D Hyperphosphatemia E Hypomagnesemia', 'answer': 'A'}) (input_keys={'question', 'options'}), Example({'question': 'Which class of antibiotics is known to cause irreversible ototoxicity?', 'options': 'A Penicillins B Cephalosporins C Aminoglycosides D Tetracyclines E Macrolides', 'answer': 'C'}) (input_keys={'question', 'options'}), Example({'question': 'What is the gold standard diagnostic test for acute appendicitis?', 'options': 'A Ultrasound B CT scan C MRI D X-ray E Physical examination', 'answer': 'B'}) (input_keys={'question', 'options'}), Example({'question': 'A patient with a history of frequent sun exposure presents with a nodular, pearly lesion on the face What is the most likely diagnosis?', 'options': 'A Psoriasis B Basal cell carcinoma C Melanoma D Squamous cell carcinoma E Rosacea', 'answer': 'B'}) (input_keys={'question', 'options'}), Example({'question': 'Which hormone is responsible for stimulating milk production in the mammary glands?', 'options': 'A Progesterone B Prolactin C Estrogen D Oxytocin E Human chorionic gonadotropin (hCG)', 'answer': 'B'}) (input_keys={'question', 'options'}), Example({'question': 'What is the first-line treatment for status epilepticus?', 'options': 'A Diazepam B Phenytoin C Levetiracetam D Lorazepam E Phenobarbital', 'answer': 'D'}) (input_keys={'question', 'options'}), Example({'question': 'A patient presents with chest pain that improves with leaning forward Which condition is most likely responsible for this symptom?', 'options': 'A Myocardial infarction B Pericarditis C Angina pectoris D Aortic dissection E Pulmonary embolism', 'answer': 'B'}) (input_keys={'question', 'options'})]\n"
          ]
        }
      ],
      "source": [
        "print(train_set)"
      ]
    },
    {
      "cell_type": "code",
      "execution_count": 20,
      "metadata": {
        "id": "fx4jNUJNUxFG"
      },
      "outputs": [],
      "source": [
        "# Zero Shot\n",
        "class ZERO(dspy.Module):\n",
        "    def __init__(self):\n",
        "        super().__init__()\n",
        "        self.generate_answer = dspy.Predict(MultipleChoiceQA)\n",
        "\n",
        "    def forward(self, question, options):\n",
        "        answer = self.generate_answer(question=question,options=options)\n",
        "# Using hard constrain. (Assert)\n",
        "        dspy.Assert(len(answer) == 1,\n",
        "        \"Answer should comprise of exactly one character.\")\n",
        "# Using soft constraint. (Suggest)\n",
        "        dspy.Suggest(len(answer) == 1,\n",
        "        \"Answer should comprise of exactly one character.\")\n",
        "\n",
        "        return answer\n"
      ]
    },
    {
      "cell_type": "code",
      "execution_count": 22,
      "metadata": {
        "id": "gUs-mCQ6FHAN"
      },
      "outputs": [],
      "source": [
        "zero = ZERO()"
      ]
    },
    {
      "cell_type": "code",
      "execution_count": 21,
      "metadata": {
        "id": "3gLvzY9MDnDF"
      },
      "outputs": [],
      "source": [
        "# Chain of thought.\n",
        "class COT(dspy.Module):\n",
        "    def __init__(self):\n",
        "        super().__init__()\n",
        "        self.generate_answer = dspy.ChainOfThought(MultipleChoiceQA)\n",
        "\n",
        "    def forward(self, question, options):\n",
        "        answer = self.generate_answer(question=question,options=options)\n",
        "\n",
        "        return answer"
      ]
    },
    {
      "cell_type": "code",
      "execution_count": 38,
      "metadata": {
        "id": "_N0RBdmzEF-7"
      },
      "outputs": [],
      "source": [
        "cot = COT()"
      ]
    },
    {
      "cell_type": "code",
      "execution_count": 37,
      "metadata": {
        "id": "K1aqqvgpOoXA"
      },
      "outputs": [],
      "source": [
        "from dspy.evaluate import Evaluate\n",
        "metric = dspy.evaluate.metrics.answer_exact_match"
      ]
    },
    {
      "cell_type": "code",
      "execution_count": 23,
      "metadata": {
        "id": "BQ_lYTfJgSw5"
      },
      "outputs": [],
      "source": [
        "# Creating subset of randomly selected questions. (Random few shot)\n",
        "import random\n",
        "def random_few_shot_train_set(train_set, batch_size):\n",
        "    return random.sample(train_set, batch_size)\n",
        "batch_size = 2\n",
        "random_batch = random_few_shot_train_set(train_set, batch_size)"
      ]
    },
    {
      "cell_type": "code",
      "execution_count": 60,
      "metadata": {
        "id": "LdbX4x0V4v9i"
      },
      "outputs": [],
      "source": [
        "# from dspy.teleprompt import KNNFewShot\n",
        "# from dspy.predict.knn import KNN\n",
        "\n",
        "# knn_teleprompter = KNNFewShot(KNN, 7, train_set)\n",
        "# compiled_knn = knn_teleprompter.compile(BasicQABot(), trainset=trainset)"
      ]
    },
    {
      "cell_type": "code",
      "execution_count": null,
      "metadata": {
        "id": "2bt5xBnc7AN1"
      },
      "outputs": [],
      "source": [
        "# !pip install -U sentence-transformers"
      ]
    },
    {
      "cell_type": "code",
      "execution_count": null,
      "metadata": {
        "id": "bO56ETcwlti3"
      },
      "outputs": [],
      "source": [
        "# !apt-get install libomp-dev\n",
        "# !pip install faiss-cpu\n",
        "\n",
        "# import faiss"
      ]
    },
    {
      "cell_type": "code",
      "execution_count": 42,
      "metadata": {
        "id": "4g0v-kPrIX7t"
      },
      "outputs": [],
      "source": [
        "# #knnfew shot and chain of thought\n",
        "# from dspy.teleprompt import Teleprompter\n",
        "# from dspy.teleprompt import BootstrapFewShot\n",
        "# from dspy.predict.knn import KNN\n",
        "# from sentence_transformers import SentenceTransformer\n",
        "# class KNNFewShot(Teleprompter):\n",
        "#     def __init__(self, KNN, k, trainset):\n",
        "#         self.KNN = KNN(k, trainset)\n",
        "\n",
        "#     def compile(self, student, *, teacher=None, trainset, valset=None):\n",
        "#         student_copy = student.reset_copy()\n",
        "\n",
        "#         def forward_pass(*args, **kwargs):\n",
        "#             knn_trainset = self.KNN(**kwargs)\n",
        "#             few_shot_bootstrap = BootstrapFewShot()\n",
        "#             compiled_program = few_shot_bootstrap.compile(cot, trainset = knn_trainset)\n",
        "#             return compiled_program(**kwargs)\n",
        "\n",
        "#         student_copy.forward = types.MethodType(forward_pass, student_copy)\n",
        "#         return student_copy"
      ]
    },
    {
      "cell_type": "code",
      "execution_count": 44,
      "metadata": {
        "id": "2fNuSDqoIfxm"
      },
      "outputs": [],
      "source": [
        "from dspy.teleprompt import KNNFewShot\n",
        "from dspy.predict.knn import KNN\n",
        "\n",
        "knn_teleprompter = KNNFewShot(KNN, 7, train_set)\n",
        "compiled_knn = knn_teleprompter.compile(cot, trainset=train_set)"
      ]
    },
    {
      "cell_type": "code",
      "execution_count": 56,
      "metadata": {
        "id": "VRsdZN57EU7Z"
      },
      "outputs": [],
      "source": [
        "from dspy.evaluate.evaluate import Evaluate\n",
        "evaluator = Evaluate(devset=val_set, num_threads=1, display_progress=True, display_table=0)"
      ]
    },
    {
      "cell_type": "code",
      "execution_count": 57,
      "metadata": {
        "colab": {
          "base_uri": "https://localhost:8080/"
        },
        "id": "c9sItQxLPBwR",
        "outputId": "94e281ca-59e0-4b56-e591-9a7938e76926"
      },
      "outputs": [
        {
          "name": "stderr",
          "output_type": "stream",
          "text": [
            "\n",
            "  0%|          | 0/20 [00:00<?, ?it/s]\u001b[A\n",
            "Average Metric: 1 / 1  (100.0):   0%|          | 0/20 [00:00<?, ?it/s]\u001b[A\n",
            "Average Metric: 1 / 1  (100.0):   5%|▌         | 1/20 [00:00<00:04,  3.91it/s]\u001b[A\n",
            "Average Metric: 2 / 2  (100.0):   5%|▌         | 1/20 [00:00<00:04,  3.91it/s]\u001b[A\n",
            "Average Metric: 2 / 2  (100.0):  10%|█         | 2/20 [00:00<00:04,  4.27it/s]\u001b[A\n",
            "Average Metric: 2 / 3  (66.7):  10%|█         | 2/20 [00:00<00:04,  4.27it/s] \u001b[A\n",
            "Average Metric: 2 / 3  (66.7):  15%|█▌        | 3/20 [00:00<00:05,  2.96it/s]\u001b[A\n",
            "Average Metric: 3 / 4  (75.0):  15%|█▌        | 3/20 [00:01<00:05,  2.96it/s]\u001b[A\n",
            "Average Metric: 3 / 4  (75.0):  20%|██        | 4/20 [00:01<00:04,  3.36it/s]\u001b[A\n",
            "Average Metric: 3 / 5  (60.0):  20%|██        | 4/20 [00:01<00:04,  3.36it/s]\u001b[A\n",
            "Average Metric: 3 / 5  (60.0):  25%|██▌       | 5/20 [00:01<00:05,  2.78it/s]\u001b[A\n",
            "Average Metric: 4 / 6  (66.7):  25%|██▌       | 5/20 [00:02<00:05,  2.78it/s]\u001b[A\n",
            "Average Metric: 4 / 6  (66.7):  30%|███       | 6/20 [00:02<00:05,  2.57it/s]\u001b[A\n",
            "Average Metric: 4 / 7  (57.1):  30%|███       | 6/20 [00:02<00:05,  2.57it/s]\u001b[A\n",
            "Average Metric: 4 / 7  (57.1):  35%|███▌      | 7/20 [00:02<00:05,  2.41it/s]\u001b[A\n",
            "Average Metric: 5 / 8  (62.5):  35%|███▌      | 7/20 [00:03<00:05,  2.41it/s]\u001b[A\n",
            "Average Metric: 5 / 8  (62.5):  40%|████      | 8/20 [00:03<00:05,  2.30it/s]\u001b[A\n",
            "Average Metric: 5 / 9  (55.6):  40%|████      | 8/20 [00:03<00:05,  2.30it/s]\u001b[A\n",
            "Average Metric: 5 / 9  (55.6):  45%|████▌     | 9/20 [00:03<00:04,  2.23it/s]\u001b[A\n",
            "Average Metric: 5 / 10  (50.0):  45%|████▌     | 9/20 [00:03<00:04,  2.23it/s]\u001b[A\n",
            "Average Metric: 5 / 10  (50.0):  50%|█████     | 10/20 [00:03<00:03,  2.54it/s]\u001b[A\n",
            "Average Metric: 5 / 11  (45.5):  50%|█████     | 10/20 [00:04<00:03,  2.54it/s]\u001b[A\n",
            "Average Metric: 5 / 11  (45.5):  55%|█████▌    | 11/20 [00:04<00:03,  2.46it/s]\u001b[A\n",
            "Average Metric: 5 / 12  (41.7):  55%|█████▌    | 11/20 [00:04<00:03,  2.46it/s]\u001b[A\n",
            "Average Metric: 5 / 12  (41.7):  60%|██████    | 12/20 [00:04<00:03,  2.40it/s]\u001b[A\n",
            "Average Metric: 6 / 13  (46.2):  60%|██████    | 12/20 [00:04<00:03,  2.40it/s]\u001b[A\n",
            "Average Metric: 6 / 13  (46.2):  65%|██████▌   | 13/20 [00:04<00:02,  2.80it/s]\u001b[A\n",
            "Average Metric: 6 / 14  (42.9):  65%|██████▌   | 13/20 [00:05<00:02,  2.80it/s]\u001b[A\n",
            "Average Metric: 6 / 14  (42.9):  70%|███████   | 14/20 [00:05<00:01,  3.33it/s]\u001b[A\n",
            "Average Metric: 7 / 15  (46.7):  70%|███████   | 14/20 [00:05<00:01,  3.33it/s]\u001b[A\n",
            "Average Metric: 7 / 15  (46.7):  75%|███████▌  | 15/20 [00:05<00:01,  2.82it/s]\u001b[A\n",
            "Average Metric: 8 / 16  (50.0):  75%|███████▌  | 15/20 [00:05<00:01,  2.82it/s]\u001b[A\n",
            "Average Metric: 8 / 16  (50.0):  80%|████████  | 16/20 [00:05<00:01,  2.58it/s]\u001b[A\n",
            "Average Metric: 9 / 17  (52.9):  80%|████████  | 16/20 [00:06<00:01,  2.58it/s]\u001b[A\n",
            "Average Metric: 9 / 17  (52.9):  85%|████████▌ | 17/20 [00:06<00:00,  3.01it/s]\u001b[A\n",
            "Average Metric: 9 / 18  (50.0):  85%|████████▌ | 17/20 [00:06<00:00,  3.01it/s]\u001b[A\n",
            "Average Metric: 9 / 18  (50.0):  90%|█████████ | 18/20 [00:06<00:00,  3.49it/s]\u001b[A\n",
            "Average Metric: 10 / 19  (52.6):  90%|█████████ | 18/20 [00:06<00:00,  3.49it/s]\u001b[A\n",
            "Average Metric: 10 / 19  (52.6):  95%|█████████▌| 19/20 [00:06<00:00,  3.01it/s]\u001b[A\n",
            "Average Metric: 10 / 20  (50.0):  95%|█████████▌| 19/20 [00:07<00:00,  3.01it/s]\u001b[A\n",
            "Average Metric: 10 / 20  (50.0): 100%|██████████| 20/20 [00:07<00:00,  2.74it/s]"
          ]
        },
        {
          "name": "stdout",
          "output_type": "stream",
          "text": [
            "Average Metric: 10 / 20  (50.0%)\n"
          ]
        },
        {
          "name": "stderr",
          "output_type": "stream",
          "text": [
            "\n"
          ]
        },
        {
          "data": {
            "text/plain": [
              "50.0"
            ]
          },
          "execution_count": 57,
          "metadata": {},
          "output_type": "execute_result"
        }
      ],
      "source": [
        "evaluator(zero, metric=metric)"
      ]
    },
    {
      "cell_type": "code",
      "execution_count": 58,
      "metadata": {
        "colab": {
          "base_uri": "https://localhost:8080/"
        },
        "id": "TquF0psrPQKJ",
        "outputId": "365f4fc3-2167-43c5-ecab-41e1a52c7f67"
      },
      "outputs": [
        {
          "name": "stderr",
          "output_type": "stream",
          "text": [
            "\n",
            "100%|██████████| 10/10 [00:00<00:00, 534.66it/s]\n",
            "\n",
            "100%|██████████| 10/10 [00:00<00:00, 704.77it/s]\n",
            "\n",
            "100%|██████████| 10/10 [00:00<00:00, 745.44it/s]\n",
            "\n",
            "100%|██████████| 10/10 [00:00<00:00, 765.98it/s]\n",
            "\n",
            "100%|██████████| 10/10 [00:00<00:00, 1251.69it/s]"
          ]
        },
        {
          "name": "stdout",
          "output_type": "stream",
          "text": [
            "Bootstrapped 0 full traces after 10 examples in round 4.\n"
          ]
        },
        {
          "name": "stderr",
          "output_type": "stream",
          "text": [
            "\n"
          ]
        }
      ],
      "source": [
        "from dspy.teleprompt import BootstrapFewShot\n",
        "\n",
        "teleprompter = BootstrapFewShot(metric = calculate_medqa_accuracy, max_rounds = 5)\n",
        "compiled = teleprompter.compile(ZERO(), trainset=train_set)"
      ]
    },
    {
      "cell_type": "code",
      "execution_count": 59,
      "metadata": {
        "colab": {
          "base_uri": "https://localhost:8080/"
        },
        "id": "1z5JvSx1E4cO",
        "outputId": "0c7c5f51-b3a0-4389-cd17-3c1159e55314"
      },
      "outputs": [
        {
          "name": "stderr",
          "output_type": "stream",
          "text": [
            "\n",
            "  0%|          | 0/20 [00:00<?, ?it/s]\u001b[A\n",
            "Average Metric: 1 / 1  (100.0):   0%|          | 0/20 [00:00<?, ?it/s]\u001b[A\n",
            "Average Metric: 1 / 1  (100.0):   5%|▌         | 1/20 [00:00<00:08,  2.11it/s]\u001b[A\n",
            "Average Metric: 2 / 2  (100.0):   5%|▌         | 1/20 [00:00<00:08,  2.11it/s]\u001b[A\n",
            "Average Metric: 2 / 2  (100.0):  10%|█         | 2/20 [00:00<00:08,  2.11it/s]\u001b[A\n",
            "Average Metric: 2 / 3  (66.7):  10%|█         | 2/20 [00:01<00:08,  2.11it/s] \u001b[A\n",
            "Average Metric: 2 / 3  (66.7):  15%|█▌        | 3/20 [00:01<00:07,  2.13it/s]\u001b[A\n",
            "Average Metric: 3 / 4  (75.0):  15%|█▌        | 3/20 [00:01<00:07,  2.13it/s]\u001b[A\n",
            "Average Metric: 3 / 4  (75.0):  20%|██        | 4/20 [00:01<00:05,  2.70it/s]\u001b[A\n",
            "Average Metric: 3 / 5  (60.0):  20%|██        | 4/20 [00:02<00:05,  2.70it/s]\u001b[A\n",
            "Average Metric: 3 / 5  (60.0):  25%|██▌       | 5/20 [00:02<00:05,  2.53it/s]\u001b[A\n",
            "Average Metric: 4 / 6  (66.7):  25%|██▌       | 5/20 [00:02<00:05,  2.53it/s]\u001b[A\n",
            "Average Metric: 4 / 6  (66.7):  30%|███       | 6/20 [00:02<00:05,  2.42it/s]\u001b[A\n",
            "Average Metric: 5 / 7  (71.4):  30%|███       | 6/20 [00:02<00:05,  2.42it/s]\u001b[A\n",
            "Average Metric: 5 / 7  (71.4):  35%|███▌      | 7/20 [00:02<00:04,  2.74it/s]\u001b[A\n",
            "Average Metric: 5 / 8  (62.5):  35%|███▌      | 7/20 [00:03<00:04,  2.74it/s]\u001b[A\n",
            "Average Metric: 5 / 8  (62.5):  40%|████      | 8/20 [00:03<00:04,  2.49it/s]\u001b[A\n",
            "Average Metric: 5 / 9  (55.6):  40%|████      | 8/20 [00:03<00:04,  2.49it/s]\u001b[A\n",
            "Average Metric: 5 / 9  (55.6):  45%|████▌     | 9/20 [00:03<00:04,  2.40it/s]\u001b[A\n",
            "Average Metric: 6 / 10  (60.0):  45%|████▌     | 9/20 [00:04<00:04,  2.40it/s]\u001b[A\n",
            "Average Metric: 6 / 10  (60.0):  50%|█████     | 10/20 [00:04<00:04,  2.20it/s]\u001b[A\n",
            "Average Metric: 6 / 11  (54.5):  50%|█████     | 10/20 [00:04<00:04,  2.20it/s]\u001b[A\n",
            "Average Metric: 6 / 11  (54.5):  55%|█████▌    | 11/20 [00:04<00:03,  2.63it/s]\u001b[A\n",
            "Average Metric: 6 / 12  (50.0):  55%|█████▌    | 11/20 [00:04<00:03,  2.63it/s]\u001b[A\n",
            "Average Metric: 6 / 12  (50.0):  60%|██████    | 12/20 [00:04<00:02,  3.10it/s]\u001b[A\n",
            "Average Metric: 7 / 13  (53.8):  60%|██████    | 12/20 [00:05<00:02,  3.10it/s]\u001b[A\n",
            "Average Metric: 7 / 13  (53.8):  65%|██████▌   | 13/20 [00:05<00:02,  2.74it/s]\u001b[A\n",
            "Average Metric: 7 / 14  (50.0):  65%|██████▌   | 13/20 [00:05<00:02,  2.74it/s]\u001b[A\n",
            "Average Metric: 7 / 14  (50.0):  70%|███████   | 14/20 [00:05<00:02,  2.55it/s]\u001b[A\n",
            "Average Metric: 8 / 15  (53.3):  70%|███████   | 14/20 [00:06<00:02,  2.55it/s]\u001b[A\n",
            "Average Metric: 8 / 15  (53.3):  75%|███████▌  | 15/20 [00:06<00:03,  1.49it/s]\u001b[A\n",
            "Average Metric: 9 / 16  (56.2):  75%|███████▌  | 15/20 [00:07<00:03,  1.49it/s]\u001b[A\n",
            "Average Metric: 9 / 16  (56.2):  80%|████████  | 16/20 [00:07<00:02,  1.62it/s]\u001b[A\n",
            "Average Metric: 10 / 17  (58.8):  80%|████████  | 16/20 [00:07<00:02,  1.62it/s]\u001b[A\n",
            "Average Metric: 10 / 17  (58.8):  85%|████████▌ | 17/20 [00:07<00:01,  1.74it/s]\u001b[A\n",
            "Average Metric: 10 / 18  (55.6):  85%|████████▌ | 17/20 [00:08<00:01,  1.74it/s]\u001b[A\n",
            "Average Metric: 10 / 18  (55.6):  90%|█████████ | 18/20 [00:08<00:00,  2.02it/s]\u001b[A\n",
            "Average Metric: 10 / 19  (52.6):  90%|█████████ | 18/20 [00:08<00:00,  2.02it/s]\u001b[A\n",
            "Average Metric: 10 / 19  (52.6):  95%|█████████▌| 19/20 [00:08<00:00,  2.05it/s]\u001b[A\n",
            "Average Metric: 10 / 20  (50.0):  95%|█████████▌| 19/20 [00:08<00:00,  2.05it/s]\u001b[A\n",
            "Average Metric: 10 / 20  (50.0): 100%|██████████| 20/20 [00:08<00:00,  2.24it/s]"
          ]
        },
        {
          "name": "stdout",
          "output_type": "stream",
          "text": [
            "Average Metric: 10 / 20  (50.0%)\n"
          ]
        },
        {
          "name": "stderr",
          "output_type": "stream",
          "text": [
            "\n"
          ]
        },
        {
          "data": {
            "text/plain": [
              "50.0"
            ]
          },
          "execution_count": 59,
          "metadata": {},
          "output_type": "execute_result"
        }
      ],
      "source": [
        "evaluator(compiled, metric=metric)"
      ]
    },
    {
      "cell_type": "code",
      "execution_count": 61,
      "metadata": {
        "colab": {
          "base_uri": "https://localhost:8080/"
        },
        "id": "OPZc5_sV1sAD",
        "outputId": "0af97e49-fc21-433d-8db9-f474e948f3f5"
      },
      "outputs": [
        {
          "name": "stderr",
          "output_type": "stream",
          "text": [
            "\n",
            "  0%|          | 0/20 [00:00<?, ?it/s]\u001b[A\n",
            "\n",
            "  0%|          | 0/7 [00:00<?, ?it/s]\u001b[A\u001b[A\n",
            "\n",
            " 14%|█▍        | 1/7 [00:01<00:07,  1.21s/it]\u001b[A\u001b[A\n",
            "\n",
            " 29%|██▊       | 2/7 [00:02<00:06,  1.36s/it]\u001b[A\u001b[A\n",
            "\n",
            " 43%|████▎     | 3/7 [00:03<00:04,  1.10s/it]\u001b[A\u001b[A\n",
            "\n",
            " 57%|█████▋    | 4/7 [00:04<00:03,  1.17s/it]\n"
          ]
        },
        {
          "name": "stdout",
          "output_type": "stream",
          "text": [
            "Bootstrapped 4 full traces after 5 examples in round 0.\n"
          ]
        },
        {
          "name": "stderr",
          "output_type": "stream",
          "text": [
            "\n",
            "Average Metric: 1 / 1  (100.0):   0%|          | 0/20 [00:06<?, ?it/s]\u001b[A\n",
            "Average Metric: 1 / 1  (100.0):   5%|▌         | 1/20 [00:06<02:08,  6.74s/it]\u001b[A\n",
            "\n",
            "  0%|          | 0/7 [00:00<?, ?it/s]\u001b[A\u001b[A\n",
            "\n",
            " 14%|█▍        | 1/7 [00:01<00:06,  1.04s/it]\u001b[A\u001b[A\n",
            "\n",
            " 29%|██▊       | 2/7 [00:01<00:04,  1.22it/s]\u001b[A\u001b[A\n",
            "\n",
            " 43%|████▎     | 3/7 [00:02<00:03,  1.07it/s]\u001b[A\u001b[A\n",
            "\n",
            " 57%|█████▋    | 4/7 [00:03<00:02,  1.05it/s]\n"
          ]
        },
        {
          "name": "stdout",
          "output_type": "stream",
          "text": [
            "Bootstrapped 4 full traces after 5 examples in round 0.\n"
          ]
        },
        {
          "name": "stderr",
          "output_type": "stream",
          "text": [
            "\n",
            "Average Metric: 2 / 2  (100.0):   5%|▌         | 1/20 [00:11<02:08,  6.74s/it]\u001b[A\n",
            "Average Metric: 2 / 2  (100.0):  10%|█         | 2/20 [00:11<01:43,  5.75s/it]\u001b[A\n",
            "\n",
            "  0%|          | 0/7 [00:00<?, ?it/s]\u001b[A\u001b[A\n",
            "\n",
            " 14%|█▍        | 1/7 [00:01<00:08,  1.47s/it]\u001b[A\u001b[A\n",
            "\n",
            " 29%|██▊       | 2/7 [00:02<00:05,  1.06s/it]\u001b[A\u001b[A\n",
            "\n",
            " 43%|████▎     | 3/7 [00:03<00:04,  1.15s/it]\u001b[A\u001b[A\n",
            "\n",
            " 57%|█████▋    | 4/7 [00:04<00:03,  1.04s/it]\n"
          ]
        },
        {
          "name": "stdout",
          "output_type": "stream",
          "text": [
            "Bootstrapped 4 full traces after 5 examples in round 0.\n"
          ]
        },
        {
          "name": "stderr",
          "output_type": "stream",
          "text": [
            "\n",
            "Average Metric: 2 / 3  (66.7):  10%|█         | 2/20 [00:17<01:43,  5.75s/it] \u001b[A\n",
            "Average Metric: 2 / 3  (66.7):  15%|█▌        | 3/20 [00:17<01:40,  5.89s/it]\u001b[A\n",
            "\n",
            "  0%|          | 0/7 [00:00<?, ?it/s]\u001b[A\u001b[A\n",
            "\n",
            " 14%|█▍        | 1/7 [00:00<00:05,  1.18it/s]\u001b[A\u001b[A\n",
            "\n",
            " 29%|██▊       | 2/7 [00:02<00:06,  1.21s/it]\u001b[A\u001b[A\n",
            "\n",
            " 43%|████▎     | 3/7 [00:03<00:04,  1.18s/it]\u001b[A\u001b[A\n",
            "\n",
            " 57%|█████▋    | 4/7 [00:04<00:03,  1.14s/it]\n"
          ]
        },
        {
          "name": "stdout",
          "output_type": "stream",
          "text": [
            "Bootstrapped 4 full traces after 5 examples in round 0.\n"
          ]
        },
        {
          "name": "stderr",
          "output_type": "stream",
          "text": [
            "\n",
            "Average Metric: 3 / 4  (75.0):  15%|█▌        | 3/20 [00:24<01:40,  5.89s/it]\u001b[A\n",
            "Average Metric: 3 / 4  (75.0):  20%|██        | 4/20 [00:24<01:36,  6.02s/it]\u001b[A\n",
            "\n",
            "  0%|          | 0/7 [00:00<?, ?it/s]\u001b[A\u001b[A\n",
            "\n",
            " 14%|█▍        | 1/7 [00:01<00:07,  1.24s/it]\u001b[A\u001b[A\n",
            "\n",
            " 29%|██▊       | 2/7 [00:02<00:05,  1.07s/it]\u001b[A\u001b[A\n",
            "\n",
            " 43%|████▎     | 3/7 [00:03<00:04,  1.08s/it]\u001b[A\u001b[A\n",
            "\n",
            " 57%|█████▋    | 4/7 [00:05<00:03,  1.26s/it]\n"
          ]
        },
        {
          "name": "stdout",
          "output_type": "stream",
          "text": [
            "Bootstrapped 4 full traces after 5 examples in round 0.\n"
          ]
        },
        {
          "name": "stderr",
          "output_type": "stream",
          "text": [
            "\n",
            "Average Metric: 3 / 5  (60.0):  20%|██        | 4/20 [00:30<01:36,  6.02s/it]\u001b[A\n",
            "Average Metric: 3 / 5  (60.0):  25%|██▌       | 5/20 [00:30<01:34,  6.27s/it]\u001b[A\n",
            "\n",
            "  0%|          | 0/7 [00:00<?, ?it/s]\u001b[A\u001b[A\n",
            "\n",
            " 14%|█▍        | 1/7 [00:02<00:15,  2.52s/it]\u001b[A\u001b[A\n",
            "\n",
            " 29%|██▊       | 2/7 [00:03<00:07,  1.52s/it]\u001b[A\u001b[A\n",
            "\n",
            " 43%|████▎     | 3/7 [00:04<00:04,  1.25s/it]\u001b[A\u001b[A\n",
            "\n",
            " 57%|█████▋    | 4/7 [00:05<00:04,  1.45s/it]\n"
          ]
        },
        {
          "name": "stdout",
          "output_type": "stream",
          "text": [
            "Bootstrapped 4 full traces after 5 examples in round 0.\n"
          ]
        },
        {
          "name": "stderr",
          "output_type": "stream",
          "text": [
            "\n",
            "Average Metric: 4 / 6  (66.7):  25%|██▌       | 5/20 [00:40<01:34,  6.27s/it]\u001b[A\n",
            "Average Metric: 4 / 6  (66.7):  30%|███       | 6/20 [00:40<01:41,  7.28s/it]\u001b[A\n",
            "\n",
            "  0%|          | 0/7 [00:00<?, ?it/s]\u001b[A\u001b[A\n",
            "\n",
            " 14%|█▍        | 1/7 [00:01<00:07,  1.23s/it]\u001b[A\u001b[A\n",
            "\n",
            " 29%|██▊       | 2/7 [00:02<00:06,  1.27s/it]\u001b[A\u001b[A\n",
            "\n",
            " 43%|████▎     | 3/7 [00:03<00:04,  1.17s/it]\u001b[A\u001b[A\n",
            "\n",
            " 57%|█████▋    | 4/7 [00:04<00:03,  1.19s/it]\n"
          ]
        },
        {
          "name": "stdout",
          "output_type": "stream",
          "text": [
            "Bootstrapped 4 full traces after 5 examples in round 0.\n"
          ]
        },
        {
          "name": "stderr",
          "output_type": "stream",
          "text": [
            "\n",
            "Average Metric: 5 / 7  (71.4):  30%|███       | 6/20 [00:46<01:41,  7.28s/it]\u001b[A\n",
            "Average Metric: 5 / 7  (71.4):  35%|███▌      | 7/20 [00:46<01:30,  6.98s/it]\u001b[A\n",
            "\n",
            "  0%|          | 0/7 [00:00<?, ?it/s]\u001b[A\u001b[A\n",
            "\n",
            " 14%|█▍        | 1/7 [00:01<00:07,  1.24s/it]\u001b[A\u001b[A\n",
            "\n",
            " 29%|██▊       | 2/7 [00:02<00:06,  1.20s/it]\u001b[A\u001b[A\n",
            "\n",
            " 43%|████▎     | 3/7 [00:03<00:04,  1.14s/it]\u001b[A\u001b[A\n",
            "\n",
            " 57%|█████▋    | 4/7 [00:04<00:03,  1.16s/it]\n"
          ]
        },
        {
          "name": "stdout",
          "output_type": "stream",
          "text": [
            "Bootstrapped 4 full traces after 5 examples in round 0.\n"
          ]
        },
        {
          "name": "stderr",
          "output_type": "stream",
          "text": [
            "\n",
            "Average Metric: 5 / 8  (62.5):  35%|███▌      | 7/20 [00:53<01:30,  6.98s/it]\u001b[A\n",
            "Average Metric: 5 / 8  (62.5):  40%|████      | 8/20 [00:53<01:25,  7.10s/it]\u001b[A\n",
            "\n",
            "  0%|          | 0/7 [00:00<?, ?it/s]\u001b[A\u001b[A\n",
            "\n",
            " 14%|█▍        | 1/7 [00:01<00:06,  1.01s/it]\u001b[A\u001b[A\n",
            "\n",
            " 29%|██▊       | 2/7 [00:01<00:04,  1.01it/s]\u001b[A\u001b[A\n",
            "\n",
            " 43%|████▎     | 3/7 [00:04<00:07,  1.81s/it]\u001b[A\u001b[A\n",
            "\n",
            " 57%|█████▋    | 4/7 [00:06<00:04,  1.52s/it]\n"
          ]
        },
        {
          "name": "stdout",
          "output_type": "stream",
          "text": [
            "Bootstrapped 4 full traces after 5 examples in round 0.\n"
          ]
        },
        {
          "name": "stderr",
          "output_type": "stream",
          "text": [
            "\n",
            "Average Metric: 6 / 9  (66.7):  40%|████      | 8/20 [01:02<01:25,  7.10s/it]\u001b[A\n",
            "Average Metric: 6 / 9  (66.7):  45%|████▌     | 9/20 [01:02<01:24,  7.66s/it]\u001b[A\n",
            "\n",
            "  0%|          | 0/7 [00:00<?, ?it/s]\u001b[A\u001b[A\n",
            "\n",
            " 14%|█▍        | 1/7 [00:01<00:11,  1.93s/it]\u001b[A\u001b[A\n",
            "\n",
            " 29%|██▊       | 2/7 [00:02<00:06,  1.36s/it]\u001b[A\u001b[A\n",
            "\n",
            " 43%|████▎     | 3/7 [00:04<00:05,  1.33s/it]\u001b[A\u001b[A\n",
            "\n",
            " 57%|█████▋    | 4/7 [00:05<00:03,  1.30s/it]\n"
          ]
        },
        {
          "name": "stdout",
          "output_type": "stream",
          "text": [
            "Bootstrapped 4 full traces after 5 examples in round 0.\n"
          ]
        },
        {
          "name": "stderr",
          "output_type": "stream",
          "text": [
            "\n",
            "Average Metric: 7 / 10  (70.0):  45%|████▌     | 9/20 [01:09<01:24,  7.66s/it]\u001b[A\n",
            "Average Metric: 7 / 10  (70.0):  50%|█████     | 10/20 [01:09<01:13,  7.36s/it]\u001b[A\n",
            "\n",
            "  0%|          | 0/7 [00:00<?, ?it/s]\u001b[A\u001b[A\n",
            "\n",
            " 14%|█▍        | 1/7 [00:00<00:05,  1.06it/s]\u001b[A\u001b[A\n",
            "\n",
            " 29%|██▊       | 2/7 [00:01<00:04,  1.09it/s]\u001b[A\u001b[A\n",
            "\n",
            " 43%|████▎     | 3/7 [00:03<00:04,  1.17s/it]\u001b[A\u001b[A\n",
            "\n",
            " 57%|█████▋    | 4/7 [00:04<00:03,  1.12s/it]\n"
          ]
        },
        {
          "name": "stdout",
          "output_type": "stream",
          "text": [
            "Bootstrapped 4 full traces after 5 examples in round 0.\n"
          ]
        },
        {
          "name": "stderr",
          "output_type": "stream",
          "text": [
            "\n",
            "Average Metric: 7 / 11  (63.6):  50%|█████     | 10/20 [01:15<01:13,  7.36s/it]\u001b[A\n",
            "Average Metric: 7 / 11  (63.6):  55%|█████▌    | 11/20 [01:15<01:02,  6.93s/it]\u001b[A\n",
            "\n",
            "  0%|          | 0/7 [00:00<?, ?it/s]\u001b[A\u001b[A\n",
            "\n",
            " 14%|█▍        | 1/7 [00:01<00:07,  1.17s/it]\u001b[A\u001b[A\n",
            "\n",
            " 29%|██▊       | 2/7 [00:03<00:09,  1.83s/it]\u001b[A\u001b[A\n",
            "\n",
            " 43%|████▎     | 3/7 [00:04<00:05,  1.42s/it]\u001b[A\u001b[A\n",
            "\n",
            " 57%|█████▋    | 4/7 [00:06<00:04,  1.53s/it]\n"
          ]
        },
        {
          "name": "stdout",
          "output_type": "stream",
          "text": [
            "Bootstrapped 4 full traces after 5 examples in round 0.\n"
          ]
        },
        {
          "name": "stderr",
          "output_type": "stream",
          "text": [
            "\n",
            "Average Metric: 8 / 12  (66.7):  55%|█████▌    | 11/20 [01:23<01:02,  6.93s/it]\u001b[A\n",
            "Average Metric: 8 / 12  (66.7):  60%|██████    | 12/20 [01:23<00:57,  7.25s/it]\u001b[A\n",
            "\n",
            "  0%|          | 0/7 [00:00<?, ?it/s]\u001b[A\u001b[A\n",
            "\n",
            " 14%|█▍        | 1/7 [00:00<00:05,  1.13it/s]\u001b[A\u001b[A\n",
            "\n",
            " 29%|██▊       | 2/7 [00:02<00:07,  1.43s/it]\u001b[A\u001b[A\n",
            "\n",
            " 43%|████▎     | 3/7 [00:04<00:07,  1.81s/it]\u001b[A\u001b[A\n",
            "\n",
            " 57%|█████▋    | 4/7 [00:06<00:04,  1.57s/it]\n"
          ]
        },
        {
          "name": "stdout",
          "output_type": "stream",
          "text": [
            "Bootstrapped 4 full traces after 5 examples in round 0.\n"
          ]
        },
        {
          "name": "stderr",
          "output_type": "stream",
          "text": [
            "\n",
            "Average Metric: 8 / 13  (61.5):  60%|██████    | 12/20 [01:31<00:57,  7.25s/it]\u001b[A\n",
            "Average Metric: 8 / 13  (61.5):  65%|██████▌   | 13/20 [01:31<00:53,  7.60s/it]\u001b[A\n",
            "\n",
            "  0%|          | 0/7 [00:00<?, ?it/s]\u001b[A\u001b[A\n",
            "\n",
            " 14%|█▍        | 1/7 [00:01<00:06,  1.16s/it]\u001b[A\u001b[A\n",
            "\n",
            " 29%|██▊       | 2/7 [00:03<00:08,  1.71s/it]\u001b[A\u001b[A\n",
            "\n",
            " 43%|████▎     | 3/7 [00:04<00:05,  1.34s/it]\u001b[A\u001b[A\n",
            "\n",
            " 57%|█████▋    | 4/7 [00:05<00:03,  1.32s/it]\n"
          ]
        },
        {
          "name": "stdout",
          "output_type": "stream",
          "text": [
            "Bootstrapped 4 full traces after 5 examples in round 0.\n"
          ]
        },
        {
          "name": "stderr",
          "output_type": "stream",
          "text": [
            "\n",
            "Average Metric: 8 / 14  (57.1):  65%|██████▌   | 13/20 [01:38<00:53,  7.60s/it]\u001b[A\n",
            "Average Metric: 8 / 14  (57.1):  70%|███████   | 14/20 [01:38<00:43,  7.30s/it]\u001b[A\n",
            "\n",
            "  0%|          | 0/7 [00:00<?, ?it/s]\u001b[A\u001b[A\n",
            "\n",
            " 14%|█▍        | 1/7 [00:00<00:05,  1.03it/s]\u001b[A\u001b[A\n",
            "\n",
            " 29%|██▊       | 2/7 [00:02<00:05,  1.04s/it]\u001b[A\u001b[A\n",
            "\n",
            " 43%|████▎     | 3/7 [00:03<00:04,  1.04s/it]\u001b[A\u001b[A\n",
            "\n",
            " 57%|█████▋    | 4/7 [00:04<00:03,  1.08s/it]\n"
          ]
        },
        {
          "name": "stdout",
          "output_type": "stream",
          "text": [
            "Bootstrapped 4 full traces after 5 examples in round 0.\n"
          ]
        },
        {
          "name": "stderr",
          "output_type": "stream",
          "text": [
            "\n",
            "Average Metric: 9 / 15  (60.0):  70%|███████   | 14/20 [01:44<00:43,  7.30s/it]\u001b[A\n",
            "Average Metric: 9 / 15  (60.0):  75%|███████▌  | 15/20 [01:44<00:34,  6.94s/it]\u001b[A\n",
            "\n",
            "  0%|          | 0/7 [00:00<?, ?it/s]\u001b[A\u001b[A\n",
            "\n",
            " 14%|█▍        | 1/7 [00:02<00:14,  2.47s/it]\u001b[A\u001b[A\n",
            "\n",
            " 29%|██▊       | 2/7 [00:03<00:07,  1.42s/it]\u001b[A\u001b[A\n",
            "\n",
            " 43%|████▎     | 3/7 [00:04<00:05,  1.50s/it]\u001b[A\u001b[A\n",
            "\n",
            " 57%|█████▋    | 4/7 [00:05<00:04,  1.42s/it]\n"
          ]
        },
        {
          "name": "stdout",
          "output_type": "stream",
          "text": [
            "Bootstrapped 4 full traces after 5 examples in round 0.\n"
          ]
        },
        {
          "name": "stderr",
          "output_type": "stream",
          "text": [
            "\n",
            "Average Metric: 10 / 16  (62.5):  75%|███████▌  | 15/20 [01:53<00:34,  6.94s/it]\u001b[A\n",
            "Average Metric: 10 / 16  (62.5):  80%|████████  | 16/20 [01:53<00:30,  7.51s/it]\u001b[A\n",
            "\n",
            "  0%|          | 0/7 [00:00<?, ?it/s]\u001b[A\u001b[A\n",
            "\n",
            " 14%|█▍        | 1/7 [00:01<00:06,  1.01s/it]\u001b[A\u001b[A\n",
            "\n",
            " 29%|██▊       | 2/7 [00:01<00:04,  1.03it/s]\u001b[A\u001b[A\n",
            "\n",
            " 43%|████▎     | 3/7 [00:02<00:03,  1.10it/s]\u001b[A\u001b[A\n",
            "\n",
            " 57%|█████▋    | 4/7 [00:04<00:03,  1.18s/it]\n"
          ]
        },
        {
          "name": "stdout",
          "output_type": "stream",
          "text": [
            "Bootstrapped 4 full traces after 5 examples in round 0.\n"
          ]
        },
        {
          "name": "stderr",
          "output_type": "stream",
          "text": [
            "\n",
            "Average Metric: 11 / 17  (64.7):  80%|████████  | 16/20 [02:00<00:30,  7.51s/it]\u001b[A\n",
            "Average Metric: 11 / 17  (64.7):  85%|████████▌ | 17/20 [02:00<00:22,  7.46s/it]\u001b[A\n",
            "\n",
            "  0%|          | 0/7 [00:00<?, ?it/s]\u001b[A\u001b[A\n",
            "\n",
            " 14%|█▍        | 1/7 [00:01<00:08,  1.34s/it]\u001b[A\u001b[A\n",
            "\n",
            " 29%|██▊       | 2/7 [00:03<00:09,  1.98s/it]\u001b[A\u001b[A\n",
            "\n",
            " 43%|████▎     | 3/7 [00:04<00:06,  1.54s/it]\u001b[A\u001b[A\n",
            "\n",
            " 57%|█████▋    | 4/7 [00:07<00:05,  1.89s/it]\n"
          ]
        },
        {
          "name": "stdout",
          "output_type": "stream",
          "text": [
            "Bootstrapped 4 full traces after 5 examples in round 0.\n"
          ]
        },
        {
          "name": "stderr",
          "output_type": "stream",
          "text": [
            "\n",
            "Average Metric: 12 / 18  (66.7):  85%|████████▌ | 17/20 [02:11<00:22,  7.46s/it]\u001b[A\n",
            "Average Metric: 12 / 18  (66.7):  90%|█████████ | 18/20 [02:11<00:16,  8.45s/it]\u001b[A\n",
            "\n",
            "  0%|          | 0/7 [00:00<?, ?it/s]\u001b[A\u001b[A\n",
            "\n",
            " 14%|█▍        | 1/7 [00:01<00:07,  1.22s/it]\u001b[A\u001b[A\n",
            "\n",
            " 29%|██▊       | 2/7 [00:02<00:05,  1.06s/it]\u001b[A\u001b[A\n",
            "\n",
            " 43%|████▎     | 3/7 [00:03<00:04,  1.17s/it]\u001b[A\u001b[A\n",
            "\n",
            " 57%|█████▋    | 4/7 [00:05<00:03,  1.28s/it]\n"
          ]
        },
        {
          "name": "stdout",
          "output_type": "stream",
          "text": [
            "Bootstrapped 4 full traces after 5 examples in round 0.\n"
          ]
        },
        {
          "name": "stderr",
          "output_type": "stream",
          "text": [
            "\n",
            "Average Metric: 12 / 19  (63.2):  90%|█████████ | 18/20 [02:19<00:16,  8.45s/it]\u001b[A\n",
            "Average Metric: 12 / 19  (63.2):  95%|█████████▌| 19/20 [02:19<00:08,  8.39s/it]\u001b[A\n",
            "\n",
            "  0%|          | 0/7 [00:00<?, ?it/s]\u001b[A\u001b[A\n",
            "\n",
            " 14%|█▍        | 1/7 [00:00<00:05,  1.09it/s]\u001b[A\u001b[A\n",
            "\n",
            " 29%|██▊       | 2/7 [00:01<00:04,  1.13it/s]\u001b[A\u001b[A\n",
            "\n",
            " 43%|████▎     | 3/7 [00:02<00:03,  1.20it/s]\u001b[A\u001b[A\n",
            "\n",
            " 57%|█████▋    | 4/7 [00:05<00:03,  1.25s/it]\n"
          ]
        },
        {
          "name": "stdout",
          "output_type": "stream",
          "text": [
            "Bootstrapped 4 full traces after 5 examples in round 0.\n"
          ]
        },
        {
          "name": "stderr",
          "output_type": "stream",
          "text": [
            "\n",
            "Average Metric: 12 / 20  (60.0):  95%|█████████▌| 19/20 [02:26<00:08,  8.39s/it]\u001b[A\n",
            "Average Metric: 12 / 20  (60.0): 100%|██████████| 20/20 [02:26<00:00,  7.32s/it]"
          ]
        },
        {
          "name": "stdout",
          "output_type": "stream",
          "text": [
            "Average Metric: 12 / 20  (60.0%)\n"
          ]
        },
        {
          "name": "stderr",
          "output_type": "stream",
          "text": [
            "\n"
          ]
        },
        {
          "data": {
            "text/plain": [
              "60.0"
            ]
          },
          "execution_count": 61,
          "metadata": {},
          "output_type": "execute_result"
        }
      ],
      "source": [
        "evaluator(compiled_knn, metric=metric)"
      ]
    },
    {
      "cell_type": "code",
      "execution_count": null,
      "metadata": {
        "id": "a4m-7-53Bz9U"
      },
      "outputs": [],
      "source": [
        "model.inspect_history()"
      ]
    },
    {
      "cell_type": "code",
      "execution_count": 89,
      "metadata": {
        "id": "gea97oqDl9Xn"
      },
      "outputs": [],
      "source": [
        "def compiled_zero(questions: list[str], option_sets: list[str]) -> list[str]:\n",
        "    responses = []\n",
        "    combined_data = list(zip(questions, option_sets))\n",
        "    random.shuffle(combined_data)\n",
        "    shuffled_questions, shuffled_option_sets = zip(*combined_data)\n",
        "\n",
        "    for question, options in zip(shuffled_questions, shuffled_option_sets):\n",
        "        pred_response = compiled(question=question, options=options)\n",
        "        generated_response = pred_response.answer\n",
        "        responses.append(generated_response)\n",
        "\n",
        "    return responses"
      ]
    },
    {
      "cell_type": "code",
      "execution_count": 35,
      "metadata": {
        "colab": {
          "base_uri": "https://localhost:8080/",
          "height": 0
        },
        "id": "gefhJqo0lmF_",
        "outputId": "6a249c54-ec9e-4532-a1f4-718327d2366c"
      },
      "outputs": [
        {
          "data": {
            "text/plain": [
              "Prediction(\n",
              "    answer='B'\n",
              ")"
            ]
          },
          "execution_count": 35,
          "metadata": {},
          "output_type": "execute_result"
        }
      ],
      "source": [
        "compiled(\"How are you?\",\" A okay B Fine\")"
      ]
    },
    {
      "cell_type": "code",
      "execution_count": 27,
      "metadata": {
        "colab": {
          "base_uri": "https://localhost:8080/"
        },
        "id": "zJM3QZs8fvoL",
        "outputId": "6293d884-28c2-4775-8d62-018551e635d1"
      },
      "outputs": [
        {
          "name": "stdout",
          "output_type": "stream",
          "text": [
            "[Example({'question': 'What is the most common cause of acute pancreatitis?', 'options': 'A Alcohol consumption B Gallstones C Trauma D Viral infection E Genetic predisposition', 'answer': 'B'}) (input_keys={'question', 'options'}), Example({'question': 'A patient presents with chest pain that improves with leaning forward Which condition is most likely responsible for this symptom?', 'options': 'A Myocardial infarction B Pericarditis C Angina pectoris D Aortic dissection E Pulmonary embolism', 'answer': 'B'}) (input_keys={'question', 'options'})]\n"
          ]
        }
      ],
      "source": [
        "import random\n",
        "def random_few_shot_train_set(train_set, batch_size):\n",
        "    return random.sample(train_set, batch_size)\n",
        "batch_size = 2\n",
        "random_batch = random_few_shot_train_set(train_set, batch_size)\n",
        "print(random_batch)"
      ]
    },
    {
      "cell_type": "code",
      "execution_count": null,
      "metadata": {
        "id": "9VCicrWKf9tL"
      },
      "outputs": [],
      "source": []
    },
    {
      "cell_type": "code",
      "execution_count": null,
      "metadata": {
        "id": "FyRM5HMif4S3"
      },
      "outputs": [],
      "source": []
    },
    {
      "cell_type": "code",
      "execution_count": null,
      "metadata": {
        "id": "vPyDVt1of1CI"
      },
      "outputs": [],
      "source": []
    }
  ],
  "metadata": {
    "colab": {
      "provenance": []
    },
    "kernelspec": {
      "display_name": "Python 3",
      "name": "python3"
    },
    "language_info": {
      "name": "python"
    },
    "widgets": {
      "application/vnd.jupyter.widget-state+json": {
        "171bcf12d0504c42a5ec9509f0226503": {
          "model_module": "@jupyter-widgets/controls",
          "model_module_version": "1.5.0",
          "model_name": "HBoxModel",
          "state": {
            "_dom_classes": [],
            "_model_module": "@jupyter-widgets/controls",
            "_model_module_version": "1.5.0",
            "_model_name": "HBoxModel",
            "_view_count": null,
            "_view_module": "@jupyter-widgets/controls",
            "_view_module_version": "1.5.0",
            "_view_name": "HBoxView",
            "box_style": "",
            "children": [
              "IPY_MODEL_f7a5104c6ec84d98ba464a392d19543f",
              "IPY_MODEL_2218d0f9e92f452c9171be379892f0a0",
              "IPY_MODEL_831b40a24e02437bb01e8949c9ba5937"
            ],
            "layout": "IPY_MODEL_2e08b3a3e11f4634bf65399933ed44df"
          }
        },
        "19d2e3b7830545599b75b561ba237009": {
          "model_module": "@jupyter-widgets/base",
          "model_module_version": "1.2.0",
          "model_name": "LayoutModel",
          "state": {
            "_model_module": "@jupyter-widgets/base",
            "_model_module_version": "1.2.0",
            "_model_name": "LayoutModel",
            "_view_count": null,
            "_view_module": "@jupyter-widgets/base",
            "_view_module_version": "1.2.0",
            "_view_name": "LayoutView",
            "align_content": null,
            "align_items": null,
            "align_self": null,
            "border": null,
            "bottom": null,
            "display": null,
            "flex": null,
            "flex_flow": null,
            "grid_area": null,
            "grid_auto_columns": null,
            "grid_auto_flow": null,
            "grid_auto_rows": null,
            "grid_column": null,
            "grid_gap": null,
            "grid_row": null,
            "grid_template_areas": null,
            "grid_template_columns": null,
            "grid_template_rows": null,
            "height": null,
            "justify_content": null,
            "justify_items": null,
            "left": null,
            "margin": null,
            "max_height": null,
            "max_width": null,
            "min_height": null,
            "min_width": null,
            "object_fit": null,
            "object_position": null,
            "order": null,
            "overflow": null,
            "overflow_x": null,
            "overflow_y": null,
            "padding": null,
            "right": null,
            "top": null,
            "visibility": null,
            "width": null
          }
        },
        "1bf7aeb3c5f24827804e498bf17a95ae": {
          "model_module": "@jupyter-widgets/controls",
          "model_module_version": "1.5.0",
          "model_name": "HTMLModel",
          "state": {
            "_dom_classes": [],
            "_model_module": "@jupyter-widgets/controls",
            "_model_module_version": "1.5.0",
            "_model_name": "HTMLModel",
            "_view_count": null,
            "_view_module": "@jupyter-widgets/controls",
            "_view_module_version": "1.5.0",
            "_view_name": "HTMLView",
            "description": "",
            "description_tooltip": null,
            "layout": "IPY_MODEL_ea3c13fadc0e46b4aa92077f0aff2071",
            "placeholder": "​",
            "style": "IPY_MODEL_a28b870288964d9c820eb9bd9d0931f5",
            "value": "Downloading builder script: 100%"
          }
        },
        "1c1f79374c804cdf8663e40f6d872870": {
          "model_module": "@jupyter-widgets/base",
          "model_module_version": "1.2.0",
          "model_name": "LayoutModel",
          "state": {
            "_model_module": "@jupyter-widgets/base",
            "_model_module_version": "1.2.0",
            "_model_name": "LayoutModel",
            "_view_count": null,
            "_view_module": "@jupyter-widgets/base",
            "_view_module_version": "1.2.0",
            "_view_name": "LayoutView",
            "align_content": null,
            "align_items": null,
            "align_self": null,
            "border": null,
            "bottom": null,
            "display": null,
            "flex": null,
            "flex_flow": null,
            "grid_area": null,
            "grid_auto_columns": null,
            "grid_auto_flow": null,
            "grid_auto_rows": null,
            "grid_column": null,
            "grid_gap": null,
            "grid_row": null,
            "grid_template_areas": null,
            "grid_template_columns": null,
            "grid_template_rows": null,
            "height": null,
            "justify_content": null,
            "justify_items": null,
            "left": null,
            "margin": null,
            "max_height": null,
            "max_width": null,
            "min_height": null,
            "min_width": null,
            "object_fit": null,
            "object_position": null,
            "order": null,
            "overflow": null,
            "overflow_x": null,
            "overflow_y": null,
            "padding": null,
            "right": null,
            "top": null,
            "visibility": null,
            "width": null
          }
        },
        "1dd61bea591b411fbbb1572250e799e5": {
          "model_module": "@jupyter-widgets/controls",
          "model_module_version": "1.5.0",
          "model_name": "FloatProgressModel",
          "state": {
            "_dom_classes": [],
            "_model_module": "@jupyter-widgets/controls",
            "_model_module_version": "1.5.0",
            "_model_name": "FloatProgressModel",
            "_view_count": null,
            "_view_module": "@jupyter-widgets/controls",
            "_view_module_version": "1.5.0",
            "_view_name": "ProgressView",
            "bar_style": "success",
            "description": "",
            "description_tooltip": null,
            "layout": "IPY_MODEL_fd48c462c85d4fe79937a47589d1d500",
            "max": 19286,
            "min": 0,
            "orientation": "horizontal",
            "style": "IPY_MODEL_202b73c2814f4955a081f925907e1485",
            "value": 19286
          }
        },
        "202b73c2814f4955a081f925907e1485": {
          "model_module": "@jupyter-widgets/controls",
          "model_module_version": "1.5.0",
          "model_name": "ProgressStyleModel",
          "state": {
            "_model_module": "@jupyter-widgets/controls",
            "_model_module_version": "1.5.0",
            "_model_name": "ProgressStyleModel",
            "_view_count": null,
            "_view_module": "@jupyter-widgets/base",
            "_view_module_version": "1.2.0",
            "_view_name": "StyleView",
            "bar_color": null,
            "description_width": ""
          }
        },
        "2218d0f9e92f452c9171be379892f0a0": {
          "model_module": "@jupyter-widgets/controls",
          "model_module_version": "1.5.0",
          "model_name": "FloatProgressModel",
          "state": {
            "_dom_classes": [],
            "_model_module": "@jupyter-widgets/controls",
            "_model_module_version": "1.5.0",
            "_model_name": "FloatProgressModel",
            "_view_count": null,
            "_view_module": "@jupyter-widgets/controls",
            "_view_module_version": "1.5.0",
            "_view_name": "ProgressView",
            "bar_style": "success",
            "description": "",
            "description_tooltip": null,
            "layout": "IPY_MODEL_4ba08fc6cca64eb48a330712e00d764e",
            "max": 1,
            "min": 0,
            "orientation": "horizontal",
            "style": "IPY_MODEL_df33fe7194d641e1a5d316a3485fff3d",
            "value": 1
          }
        },
        "2b0eb1c98b924ce48e2f57091b034497": {
          "model_module": "@jupyter-widgets/controls",
          "model_module_version": "1.5.0",
          "model_name": "HTMLModel",
          "state": {
            "_dom_classes": [],
            "_model_module": "@jupyter-widgets/controls",
            "_model_module_version": "1.5.0",
            "_model_name": "HTMLModel",
            "_view_count": null,
            "_view_module": "@jupyter-widgets/controls",
            "_view_module_version": "1.5.0",
            "_view_name": "HTMLView",
            "description": "",
            "description_tooltip": null,
            "layout": "IPY_MODEL_c4980c5922054defb0d92e968e5fe780",
            "placeholder": "​",
            "style": "IPY_MODEL_ba0474bbfc284ac7bbfb672499e9be4b",
            "value": " 19.3k/19.3k [00:00&lt;00:00, 987kB/s]"
          }
        },
        "2de8124610674aad8e2d6a956d97d78e": {
          "model_module": "@jupyter-widgets/controls",
          "model_module_version": "1.5.0",
          "model_name": "HBoxModel",
          "state": {
            "_dom_classes": [],
            "_model_module": "@jupyter-widgets/controls",
            "_model_module_version": "1.5.0",
            "_model_name": "HBoxModel",
            "_view_count": null,
            "_view_module": "@jupyter-widgets/controls",
            "_view_module_version": "1.5.0",
            "_view_name": "HBoxView",
            "box_style": "",
            "children": [
              "IPY_MODEL_5cd1493849034b3992cd22ff87e531e0",
              "IPY_MODEL_1dd61bea591b411fbbb1572250e799e5",
              "IPY_MODEL_2b0eb1c98b924ce48e2f57091b034497"
            ],
            "layout": "IPY_MODEL_e9acc261f91c4c54b82eeefb3be75e52"
          }
        },
        "2e08b3a3e11f4634bf65399933ed44df": {
          "model_module": "@jupyter-widgets/base",
          "model_module_version": "1.2.0",
          "model_name": "LayoutModel",
          "state": {
            "_model_module": "@jupyter-widgets/base",
            "_model_module_version": "1.2.0",
            "_model_name": "LayoutModel",
            "_view_count": null,
            "_view_module": "@jupyter-widgets/base",
            "_view_module_version": "1.2.0",
            "_view_name": "LayoutView",
            "align_content": null,
            "align_items": null,
            "align_self": null,
            "border": null,
            "bottom": null,
            "display": null,
            "flex": null,
            "flex_flow": null,
            "grid_area": null,
            "grid_auto_columns": null,
            "grid_auto_flow": null,
            "grid_auto_rows": null,
            "grid_column": null,
            "grid_gap": null,
            "grid_row": null,
            "grid_template_areas": null,
            "grid_template_columns": null,
            "grid_template_rows": null,
            "height": null,
            "justify_content": null,
            "justify_items": null,
            "left": null,
            "margin": null,
            "max_height": null,
            "max_width": null,
            "min_height": null,
            "min_width": null,
            "object_fit": null,
            "object_position": null,
            "order": null,
            "overflow": null,
            "overflow_x": null,
            "overflow_y": null,
            "padding": null,
            "right": null,
            "top": null,
            "visibility": null,
            "width": null
          }
        },
        "31594b1ae04540d48b50bb738f8888d8": {
          "model_module": "@jupyter-widgets/base",
          "model_module_version": "1.2.0",
          "model_name": "LayoutModel",
          "state": {
            "_model_module": "@jupyter-widgets/base",
            "_model_module_version": "1.2.0",
            "_model_name": "LayoutModel",
            "_view_count": null,
            "_view_module": "@jupyter-widgets/base",
            "_view_module_version": "1.2.0",
            "_view_name": "LayoutView",
            "align_content": null,
            "align_items": null,
            "align_self": null,
            "border": null,
            "bottom": null,
            "display": null,
            "flex": null,
            "flex_flow": null,
            "grid_area": null,
            "grid_auto_columns": null,
            "grid_auto_flow": null,
            "grid_auto_rows": null,
            "grid_column": null,
            "grid_gap": null,
            "grid_row": null,
            "grid_template_areas": null,
            "grid_template_columns": null,
            "grid_template_rows": null,
            "height": null,
            "justify_content": null,
            "justify_items": null,
            "left": null,
            "margin": null,
            "max_height": null,
            "max_width": null,
            "min_height": null,
            "min_width": null,
            "object_fit": null,
            "object_position": null,
            "order": null,
            "overflow": null,
            "overflow_x": null,
            "overflow_y": null,
            "padding": null,
            "right": null,
            "top": null,
            "visibility": null,
            "width": null
          }
        },
        "32bbd8eec4794963a797c96a845bbf03": {
          "model_module": "@jupyter-widgets/controls",
          "model_module_version": "1.5.0",
          "model_name": "FloatProgressModel",
          "state": {
            "_dom_classes": [],
            "_model_module": "@jupyter-widgets/controls",
            "_model_module_version": "1.5.0",
            "_model_name": "FloatProgressModel",
            "_view_count": null,
            "_view_module": "@jupyter-widgets/controls",
            "_view_module_version": "1.5.0",
            "_view_name": "ProgressView",
            "bar_style": "success",
            "description": "",
            "description_tooltip": null,
            "layout": "IPY_MODEL_dfb1c2cc5a064a47b615cb1ef14e2c06",
            "max": 11198,
            "min": 0,
            "orientation": "horizontal",
            "style": "IPY_MODEL_7092e13172004079b6db11b98d51c2d2",
            "value": 11198
          }
        },
        "3cbb0d64c5bf48b5971d59120fb83276": {
          "model_module": "@jupyter-widgets/base",
          "model_module_version": "1.2.0",
          "model_name": "LayoutModel",
          "state": {
            "_model_module": "@jupyter-widgets/base",
            "_model_module_version": "1.2.0",
            "_model_name": "LayoutModel",
            "_view_count": null,
            "_view_module": "@jupyter-widgets/base",
            "_view_module_version": "1.2.0",
            "_view_name": "LayoutView",
            "align_content": null,
            "align_items": null,
            "align_self": null,
            "border": null,
            "bottom": null,
            "display": null,
            "flex": null,
            "flex_flow": null,
            "grid_area": null,
            "grid_auto_columns": null,
            "grid_auto_flow": null,
            "grid_auto_rows": null,
            "grid_column": null,
            "grid_gap": null,
            "grid_row": null,
            "grid_template_areas": null,
            "grid_template_columns": null,
            "grid_template_rows": null,
            "height": null,
            "justify_content": null,
            "justify_items": null,
            "left": null,
            "margin": null,
            "max_height": null,
            "max_width": null,
            "min_height": null,
            "min_width": null,
            "object_fit": null,
            "object_position": null,
            "order": null,
            "overflow": null,
            "overflow_x": null,
            "overflow_y": null,
            "padding": null,
            "right": null,
            "top": null,
            "visibility": null,
            "width": null
          }
        },
        "41215ffa26164fb894f54cbffca09d79": {
          "model_module": "@jupyter-widgets/base",
          "model_module_version": "1.2.0",
          "model_name": "LayoutModel",
          "state": {
            "_model_module": "@jupyter-widgets/base",
            "_model_module_version": "1.2.0",
            "_model_name": "LayoutModel",
            "_view_count": null,
            "_view_module": "@jupyter-widgets/base",
            "_view_module_version": "1.2.0",
            "_view_name": "LayoutView",
            "align_content": null,
            "align_items": null,
            "align_self": null,
            "border": null,
            "bottom": null,
            "display": null,
            "flex": null,
            "flex_flow": null,
            "grid_area": null,
            "grid_auto_columns": null,
            "grid_auto_flow": null,
            "grid_auto_rows": null,
            "grid_column": null,
            "grid_gap": null,
            "grid_row": null,
            "grid_template_areas": null,
            "grid_template_columns": null,
            "grid_template_rows": null,
            "height": null,
            "justify_content": null,
            "justify_items": null,
            "left": null,
            "margin": null,
            "max_height": null,
            "max_width": null,
            "min_height": null,
            "min_width": null,
            "object_fit": null,
            "object_position": null,
            "order": null,
            "overflow": null,
            "overflow_x": null,
            "overflow_y": null,
            "padding": null,
            "right": null,
            "top": null,
            "visibility": null,
            "width": "20px"
          }
        },
        "41356d97bb844da4927c3afedb48360d": {
          "model_module": "@jupyter-widgets/controls",
          "model_module_version": "1.5.0",
          "model_name": "DescriptionStyleModel",
          "state": {
            "_model_module": "@jupyter-widgets/controls",
            "_model_module_version": "1.5.0",
            "_model_name": "DescriptionStyleModel",
            "_view_count": null,
            "_view_module": "@jupyter-widgets/base",
            "_view_module_version": "1.2.0",
            "_view_name": "StyleView",
            "description_width": ""
          }
        },
        "43a19fd506bd448cb0c08185361dad57": {
          "model_module": "@jupyter-widgets/controls",
          "model_module_version": "1.5.0",
          "model_name": "HTMLModel",
          "state": {
            "_dom_classes": [],
            "_model_module": "@jupyter-widgets/controls",
            "_model_module_version": "1.5.0",
            "_model_name": "HTMLModel",
            "_view_count": null,
            "_view_module": "@jupyter-widgets/controls",
            "_view_module_version": "1.5.0",
            "_view_name": "HTMLView",
            "description": "",
            "description_tooltip": null,
            "layout": "IPY_MODEL_704ac1b2d9904e1eb0af4e72863ed03a",
            "placeholder": "​",
            "style": "IPY_MODEL_ae8bc6a549374ac685ac2d714930287c",
            "value": "Generating validation split: "
          }
        },
        "4ba08fc6cca64eb48a330712e00d764e": {
          "model_module": "@jupyter-widgets/base",
          "model_module_version": "1.2.0",
          "model_name": "LayoutModel",
          "state": {
            "_model_module": "@jupyter-widgets/base",
            "_model_module_version": "1.2.0",
            "_model_name": "LayoutModel",
            "_view_count": null,
            "_view_module": "@jupyter-widgets/base",
            "_view_module_version": "1.2.0",
            "_view_name": "LayoutView",
            "align_content": null,
            "align_items": null,
            "align_self": null,
            "border": null,
            "bottom": null,
            "display": null,
            "flex": null,
            "flex_flow": null,
            "grid_area": null,
            "grid_auto_columns": null,
            "grid_auto_flow": null,
            "grid_auto_rows": null,
            "grid_column": null,
            "grid_gap": null,
            "grid_row": null,
            "grid_template_areas": null,
            "grid_template_columns": null,
            "grid_template_rows": null,
            "height": null,
            "justify_content": null,
            "justify_items": null,
            "left": null,
            "margin": null,
            "max_height": null,
            "max_width": null,
            "min_height": null,
            "min_width": null,
            "object_fit": null,
            "object_position": null,
            "order": null,
            "overflow": null,
            "overflow_x": null,
            "overflow_y": null,
            "padding": null,
            "right": null,
            "top": null,
            "visibility": null,
            "width": "20px"
          }
        },
        "4d6d672c44714637bb79ed070a40a845": {
          "model_module": "@jupyter-widgets/controls",
          "model_module_version": "1.5.0",
          "model_name": "HTMLModel",
          "state": {
            "_dom_classes": [],
            "_model_module": "@jupyter-widgets/controls",
            "_model_module_version": "1.5.0",
            "_model_name": "HTMLModel",
            "_view_count": null,
            "_view_module": "@jupyter-widgets/controls",
            "_view_module_version": "1.5.0",
            "_view_name": "HTMLView",
            "description": "",
            "description_tooltip": null,
            "layout": "IPY_MODEL_5623a5a221d549ccb1203314b31ed3ff",
            "placeholder": "​",
            "style": "IPY_MODEL_9374fc3316cd44ee89f8342a4de19cc2",
            "value": " 1272/0 [00:00&lt;00:00, 4658.84 examples/s]"
          }
        },
        "50d8951ea94f43c784b2eaf42190d85a": {
          "model_module": "@jupyter-widgets/base",
          "model_module_version": "1.2.0",
          "model_name": "LayoutModel",
          "state": {
            "_model_module": "@jupyter-widgets/base",
            "_model_module_version": "1.2.0",
            "_model_name": "LayoutModel",
            "_view_count": null,
            "_view_module": "@jupyter-widgets/base",
            "_view_module_version": "1.2.0",
            "_view_name": "LayoutView",
            "align_content": null,
            "align_items": null,
            "align_self": null,
            "border": null,
            "bottom": null,
            "display": null,
            "flex": null,
            "flex_flow": null,
            "grid_area": null,
            "grid_auto_columns": null,
            "grid_auto_flow": null,
            "grid_auto_rows": null,
            "grid_column": null,
            "grid_gap": null,
            "grid_row": null,
            "grid_template_areas": null,
            "grid_template_columns": null,
            "grid_template_rows": null,
            "height": null,
            "justify_content": null,
            "justify_items": null,
            "left": null,
            "margin": null,
            "max_height": null,
            "max_width": null,
            "min_height": null,
            "min_width": null,
            "object_fit": null,
            "object_position": null,
            "order": null,
            "overflow": null,
            "overflow_x": null,
            "overflow_y": null,
            "padding": null,
            "right": null,
            "top": null,
            "visibility": null,
            "width": null
          }
        },
        "5189a7b7ff9740fe955c56de35c081c1": {
          "model_module": "@jupyter-widgets/controls",
          "model_module_version": "1.5.0",
          "model_name": "HTMLModel",
          "state": {
            "_dom_classes": [],
            "_model_module": "@jupyter-widgets/controls",
            "_model_module_version": "1.5.0",
            "_model_name": "HTMLModel",
            "_view_count": null,
            "_view_module": "@jupyter-widgets/controls",
            "_view_module_version": "1.5.0",
            "_view_name": "HTMLView",
            "description": "",
            "description_tooltip": null,
            "layout": "IPY_MODEL_93d74911892d453b9428268577aab0de",
            "placeholder": "​",
            "style": "IPY_MODEL_91d71bb5d00945f6b8f4e96db97a1039",
            "value": "Downloading readme: 100%"
          }
        },
        "5623a5a221d549ccb1203314b31ed3ff": {
          "model_module": "@jupyter-widgets/base",
          "model_module_version": "1.2.0",
          "model_name": "LayoutModel",
          "state": {
            "_model_module": "@jupyter-widgets/base",
            "_model_module_version": "1.2.0",
            "_model_name": "LayoutModel",
            "_view_count": null,
            "_view_module": "@jupyter-widgets/base",
            "_view_module_version": "1.2.0",
            "_view_name": "LayoutView",
            "align_content": null,
            "align_items": null,
            "align_self": null,
            "border": null,
            "bottom": null,
            "display": null,
            "flex": null,
            "flex_flow": null,
            "grid_area": null,
            "grid_auto_columns": null,
            "grid_auto_flow": null,
            "grid_auto_rows": null,
            "grid_column": null,
            "grid_gap": null,
            "grid_row": null,
            "grid_template_areas": null,
            "grid_template_columns": null,
            "grid_template_rows": null,
            "height": null,
            "justify_content": null,
            "justify_items": null,
            "left": null,
            "margin": null,
            "max_height": null,
            "max_width": null,
            "min_height": null,
            "min_width": null,
            "object_fit": null,
            "object_position": null,
            "order": null,
            "overflow": null,
            "overflow_x": null,
            "overflow_y": null,
            "padding": null,
            "right": null,
            "top": null,
            "visibility": null,
            "width": null
          }
        },
        "5aa62a3489c14c58ade62be0c28a6f68": {
          "model_module": "@jupyter-widgets/controls",
          "model_module_version": "1.5.0",
          "model_name": "DescriptionStyleModel",
          "state": {
            "_model_module": "@jupyter-widgets/controls",
            "_model_module_version": "1.5.0",
            "_model_name": "DescriptionStyleModel",
            "_view_count": null,
            "_view_module": "@jupyter-widgets/base",
            "_view_module_version": "1.2.0",
            "_view_name": "StyleView",
            "description_width": ""
          }
        },
        "5cd1493849034b3992cd22ff87e531e0": {
          "model_module": "@jupyter-widgets/controls",
          "model_module_version": "1.5.0",
          "model_name": "HTMLModel",
          "state": {
            "_dom_classes": [],
            "_model_module": "@jupyter-widgets/controls",
            "_model_module_version": "1.5.0",
            "_model_name": "HTMLModel",
            "_view_count": null,
            "_view_module": "@jupyter-widgets/controls",
            "_view_module_version": "1.5.0",
            "_view_name": "HTMLView",
            "description": "",
            "description_tooltip": null,
            "layout": "IPY_MODEL_8415908b0f41489a90c1c1db56ba6d06",
            "placeholder": "​",
            "style": "IPY_MODEL_697a4ff6007a4c5097bda0ea4e6d9e81",
            "value": "Downloading extra modules: 100%"
          }
        },
        "5d3637c28d534f718c866b7f261dd34a": {
          "model_module": "@jupyter-widgets/controls",
          "model_module_version": "1.5.0",
          "model_name": "HBoxModel",
          "state": {
            "_dom_classes": [],
            "_model_module": "@jupyter-widgets/controls",
            "_model_module_version": "1.5.0",
            "_model_name": "HBoxModel",
            "_view_count": null,
            "_view_module": "@jupyter-widgets/controls",
            "_view_module_version": "1.5.0",
            "_view_name": "HBoxView",
            "box_style": "",
            "children": [
              "IPY_MODEL_d557b416a5aa4740956c8a595495bbce",
              "IPY_MODEL_acebd3d670af45a39742a911e30035c4",
              "IPY_MODEL_c3050c9ca7294e64b1bb0e9dc9ed13ba"
            ],
            "layout": "IPY_MODEL_c783ae5f13df4ea299886216b6b0ab1b"
          }
        },
        "6675f62ac5e54a3ca47aeb526aa007df": {
          "model_module": "@jupyter-widgets/base",
          "model_module_version": "1.2.0",
          "model_name": "LayoutModel",
          "state": {
            "_model_module": "@jupyter-widgets/base",
            "_model_module_version": "1.2.0",
            "_model_name": "LayoutModel",
            "_view_count": null,
            "_view_module": "@jupyter-widgets/base",
            "_view_module_version": "1.2.0",
            "_view_name": "LayoutView",
            "align_content": null,
            "align_items": null,
            "align_self": null,
            "border": null,
            "bottom": null,
            "display": null,
            "flex": null,
            "flex_flow": null,
            "grid_area": null,
            "grid_auto_columns": null,
            "grid_auto_flow": null,
            "grid_auto_rows": null,
            "grid_column": null,
            "grid_gap": null,
            "grid_row": null,
            "grid_template_areas": null,
            "grid_template_columns": null,
            "grid_template_rows": null,
            "height": null,
            "justify_content": null,
            "justify_items": null,
            "left": null,
            "margin": null,
            "max_height": null,
            "max_width": null,
            "min_height": null,
            "min_width": null,
            "object_fit": null,
            "object_position": null,
            "order": null,
            "overflow": null,
            "overflow_x": null,
            "overflow_y": null,
            "padding": null,
            "right": null,
            "top": null,
            "visibility": null,
            "width": null
          }
        },
        "6932ddce55444f948ec8f79e5881a47b": {
          "model_module": "@jupyter-widgets/base",
          "model_module_version": "1.2.0",
          "model_name": "LayoutModel",
          "state": {
            "_model_module": "@jupyter-widgets/base",
            "_model_module_version": "1.2.0",
            "_model_name": "LayoutModel",
            "_view_count": null,
            "_view_module": "@jupyter-widgets/base",
            "_view_module_version": "1.2.0",
            "_view_name": "LayoutView",
            "align_content": null,
            "align_items": null,
            "align_self": null,
            "border": null,
            "bottom": null,
            "display": null,
            "flex": null,
            "flex_flow": null,
            "grid_area": null,
            "grid_auto_columns": null,
            "grid_auto_flow": null,
            "grid_auto_rows": null,
            "grid_column": null,
            "grid_gap": null,
            "grid_row": null,
            "grid_template_areas": null,
            "grid_template_columns": null,
            "grid_template_rows": null,
            "height": null,
            "justify_content": null,
            "justify_items": null,
            "left": null,
            "margin": null,
            "max_height": null,
            "max_width": null,
            "min_height": null,
            "min_width": null,
            "object_fit": null,
            "object_position": null,
            "order": null,
            "overflow": null,
            "overflow_x": null,
            "overflow_y": null,
            "padding": null,
            "right": null,
            "top": null,
            "visibility": null,
            "width": null
          }
        },
        "697a4ff6007a4c5097bda0ea4e6d9e81": {
          "model_module": "@jupyter-widgets/controls",
          "model_module_version": "1.5.0",
          "model_name": "DescriptionStyleModel",
          "state": {
            "_model_module": "@jupyter-widgets/controls",
            "_model_module_version": "1.5.0",
            "_model_name": "DescriptionStyleModel",
            "_view_count": null,
            "_view_module": "@jupyter-widgets/base",
            "_view_module_version": "1.2.0",
            "_view_name": "StyleView",
            "description_width": ""
          }
        },
        "6b85a02a9ff94e9ab0049bcd4e46cf81": {
          "model_module": "@jupyter-widgets/controls",
          "model_module_version": "1.5.0",
          "model_name": "DescriptionStyleModel",
          "state": {
            "_model_module": "@jupyter-widgets/controls",
            "_model_module_version": "1.5.0",
            "_model_name": "DescriptionStyleModel",
            "_view_count": null,
            "_view_module": "@jupyter-widgets/base",
            "_view_module_version": "1.2.0",
            "_view_name": "StyleView",
            "description_width": ""
          }
        },
        "704ac1b2d9904e1eb0af4e72863ed03a": {
          "model_module": "@jupyter-widgets/base",
          "model_module_version": "1.2.0",
          "model_name": "LayoutModel",
          "state": {
            "_model_module": "@jupyter-widgets/base",
            "_model_module_version": "1.2.0",
            "_model_name": "LayoutModel",
            "_view_count": null,
            "_view_module": "@jupyter-widgets/base",
            "_view_module_version": "1.2.0",
            "_view_name": "LayoutView",
            "align_content": null,
            "align_items": null,
            "align_self": null,
            "border": null,
            "bottom": null,
            "display": null,
            "flex": null,
            "flex_flow": null,
            "grid_area": null,
            "grid_auto_columns": null,
            "grid_auto_flow": null,
            "grid_auto_rows": null,
            "grid_column": null,
            "grid_gap": null,
            "grid_row": null,
            "grid_template_areas": null,
            "grid_template_columns": null,
            "grid_template_rows": null,
            "height": null,
            "justify_content": null,
            "justify_items": null,
            "left": null,
            "margin": null,
            "max_height": null,
            "max_width": null,
            "min_height": null,
            "min_width": null,
            "object_fit": null,
            "object_position": null,
            "order": null,
            "overflow": null,
            "overflow_x": null,
            "overflow_y": null,
            "padding": null,
            "right": null,
            "top": null,
            "visibility": null,
            "width": null
          }
        },
        "7092e13172004079b6db11b98d51c2d2": {
          "model_module": "@jupyter-widgets/controls",
          "model_module_version": "1.5.0",
          "model_name": "ProgressStyleModel",
          "state": {
            "_model_module": "@jupyter-widgets/controls",
            "_model_module_version": "1.5.0",
            "_model_name": "ProgressStyleModel",
            "_view_count": null,
            "_view_module": "@jupyter-widgets/base",
            "_view_module_version": "1.2.0",
            "_view_name": "StyleView",
            "bar_color": null,
            "description_width": ""
          }
        },
        "74ae7b9945af4fb48f10cfdb3dc3f21c": {
          "model_module": "@jupyter-widgets/controls",
          "model_module_version": "1.5.0",
          "model_name": "DescriptionStyleModel",
          "state": {
            "_model_module": "@jupyter-widgets/controls",
            "_model_module_version": "1.5.0",
            "_model_name": "DescriptionStyleModel",
            "_view_count": null,
            "_view_module": "@jupyter-widgets/base",
            "_view_module_version": "1.2.0",
            "_view_name": "StyleView",
            "description_width": ""
          }
        },
        "7749263346db4099b8bd4910accedd18": {
          "model_module": "@jupyter-widgets/controls",
          "model_module_version": "1.5.0",
          "model_name": "FloatProgressModel",
          "state": {
            "_dom_classes": [],
            "_model_module": "@jupyter-widgets/controls",
            "_model_module_version": "1.5.0",
            "_model_name": "FloatProgressModel",
            "_view_count": null,
            "_view_module": "@jupyter-widgets/controls",
            "_view_module_version": "1.5.0",
            "_view_name": "ProgressView",
            "bar_style": "success",
            "description": "",
            "description_tooltip": null,
            "layout": "IPY_MODEL_9ec8fd2be5e840a2b17da9b0e9a33f46",
            "max": 1438,
            "min": 0,
            "orientation": "horizontal",
            "style": "IPY_MODEL_d4d623d441a741cf9e612013fbc50279",
            "value": 1438
          }
        },
        "77857f69417749a182801e59543e5e37": {
          "model_module": "@jupyter-widgets/base",
          "model_module_version": "1.2.0",
          "model_name": "LayoutModel",
          "state": {
            "_model_module": "@jupyter-widgets/base",
            "_model_module_version": "1.2.0",
            "_model_name": "LayoutModel",
            "_view_count": null,
            "_view_module": "@jupyter-widgets/base",
            "_view_module_version": "1.2.0",
            "_view_name": "LayoutView",
            "align_content": null,
            "align_items": null,
            "align_self": null,
            "border": null,
            "bottom": null,
            "display": null,
            "flex": null,
            "flex_flow": null,
            "grid_area": null,
            "grid_auto_columns": null,
            "grid_auto_flow": null,
            "grid_auto_rows": null,
            "grid_column": null,
            "grid_gap": null,
            "grid_row": null,
            "grid_template_areas": null,
            "grid_template_columns": null,
            "grid_template_rows": null,
            "height": null,
            "justify_content": null,
            "justify_items": null,
            "left": null,
            "margin": null,
            "max_height": null,
            "max_width": null,
            "min_height": null,
            "min_width": null,
            "object_fit": null,
            "object_position": null,
            "order": null,
            "overflow": null,
            "overflow_x": null,
            "overflow_y": null,
            "padding": null,
            "right": null,
            "top": null,
            "visibility": null,
            "width": "20px"
          }
        },
        "7b7aa283ad5446c09c88cf4c45daa212": {
          "model_module": "@jupyter-widgets/base",
          "model_module_version": "1.2.0",
          "model_name": "LayoutModel",
          "state": {
            "_model_module": "@jupyter-widgets/base",
            "_model_module_version": "1.2.0",
            "_model_name": "LayoutModel",
            "_view_count": null,
            "_view_module": "@jupyter-widgets/base",
            "_view_module_version": "1.2.0",
            "_view_name": "LayoutView",
            "align_content": null,
            "align_items": null,
            "align_self": null,
            "border": null,
            "bottom": null,
            "display": null,
            "flex": null,
            "flex_flow": null,
            "grid_area": null,
            "grid_auto_columns": null,
            "grid_auto_flow": null,
            "grid_auto_rows": null,
            "grid_column": null,
            "grid_gap": null,
            "grid_row": null,
            "grid_template_areas": null,
            "grid_template_columns": null,
            "grid_template_rows": null,
            "height": null,
            "justify_content": null,
            "justify_items": null,
            "left": null,
            "margin": null,
            "max_height": null,
            "max_width": null,
            "min_height": null,
            "min_width": null,
            "object_fit": null,
            "object_position": null,
            "order": null,
            "overflow": null,
            "overflow_x": null,
            "overflow_y": null,
            "padding": null,
            "right": null,
            "top": null,
            "visibility": null,
            "width": null
          }
        },
        "831b40a24e02437bb01e8949c9ba5937": {
          "model_module": "@jupyter-widgets/controls",
          "model_module_version": "1.5.0",
          "model_name": "HTMLModel",
          "state": {
            "_dom_classes": [],
            "_model_module": "@jupyter-widgets/controls",
            "_model_module_version": "1.5.0",
            "_model_name": "HTMLModel",
            "_view_count": null,
            "_view_module": "@jupyter-widgets/controls",
            "_view_module_version": "1.5.0",
            "_view_name": "HTMLView",
            "description": "",
            "description_tooltip": null,
            "layout": "IPY_MODEL_d3d2c22c138a4af0ab4f9cd788ca5654",
            "placeholder": "​",
            "style": "IPY_MODEL_d96cc463b41d4333860ba82f36da95bd",
            "value": " 1273/0 [00:00&lt;00:00, 4780.26 examples/s]"
          }
        },
        "8415908b0f41489a90c1c1db56ba6d06": {
          "model_module": "@jupyter-widgets/base",
          "model_module_version": "1.2.0",
          "model_name": "LayoutModel",
          "state": {
            "_model_module": "@jupyter-widgets/base",
            "_model_module_version": "1.2.0",
            "_model_name": "LayoutModel",
            "_view_count": null,
            "_view_module": "@jupyter-widgets/base",
            "_view_module_version": "1.2.0",
            "_view_name": "LayoutView",
            "align_content": null,
            "align_items": null,
            "align_self": null,
            "border": null,
            "bottom": null,
            "display": null,
            "flex": null,
            "flex_flow": null,
            "grid_area": null,
            "grid_auto_columns": null,
            "grid_auto_flow": null,
            "grid_auto_rows": null,
            "grid_column": null,
            "grid_gap": null,
            "grid_row": null,
            "grid_template_areas": null,
            "grid_template_columns": null,
            "grid_template_rows": null,
            "height": null,
            "justify_content": null,
            "justify_items": null,
            "left": null,
            "margin": null,
            "max_height": null,
            "max_width": null,
            "min_height": null,
            "min_width": null,
            "object_fit": null,
            "object_position": null,
            "order": null,
            "overflow": null,
            "overflow_x": null,
            "overflow_y": null,
            "padding": null,
            "right": null,
            "top": null,
            "visibility": null,
            "width": null
          }
        },
        "84dada1c52794998b3f5993eb99e65a8": {
          "model_module": "@jupyter-widgets/base",
          "model_module_version": "1.2.0",
          "model_name": "LayoutModel",
          "state": {
            "_model_module": "@jupyter-widgets/base",
            "_model_module_version": "1.2.0",
            "_model_name": "LayoutModel",
            "_view_count": null,
            "_view_module": "@jupyter-widgets/base",
            "_view_module_version": "1.2.0",
            "_view_name": "LayoutView",
            "align_content": null,
            "align_items": null,
            "align_self": null,
            "border": null,
            "bottom": null,
            "display": null,
            "flex": null,
            "flex_flow": null,
            "grid_area": null,
            "grid_auto_columns": null,
            "grid_auto_flow": null,
            "grid_auto_rows": null,
            "grid_column": null,
            "grid_gap": null,
            "grid_row": null,
            "grid_template_areas": null,
            "grid_template_columns": null,
            "grid_template_rows": null,
            "height": null,
            "justify_content": null,
            "justify_items": null,
            "left": null,
            "margin": null,
            "max_height": null,
            "max_width": null,
            "min_height": null,
            "min_width": null,
            "object_fit": null,
            "object_position": null,
            "order": null,
            "overflow": null,
            "overflow_x": null,
            "overflow_y": null,
            "padding": null,
            "right": null,
            "top": null,
            "visibility": null,
            "width": null
          }
        },
        "86513900fd98486f8049b9c1c0a3972f": {
          "model_module": "@jupyter-widgets/base",
          "model_module_version": "1.2.0",
          "model_name": "LayoutModel",
          "state": {
            "_model_module": "@jupyter-widgets/base",
            "_model_module_version": "1.2.0",
            "_model_name": "LayoutModel",
            "_view_count": null,
            "_view_module": "@jupyter-widgets/base",
            "_view_module_version": "1.2.0",
            "_view_name": "LayoutView",
            "align_content": null,
            "align_items": null,
            "align_self": null,
            "border": null,
            "bottom": null,
            "display": null,
            "flex": null,
            "flex_flow": null,
            "grid_area": null,
            "grid_auto_columns": null,
            "grid_auto_flow": null,
            "grid_auto_rows": null,
            "grid_column": null,
            "grid_gap": null,
            "grid_row": null,
            "grid_template_areas": null,
            "grid_template_columns": null,
            "grid_template_rows": null,
            "height": null,
            "justify_content": null,
            "justify_items": null,
            "left": null,
            "margin": null,
            "max_height": null,
            "max_width": null,
            "min_height": null,
            "min_width": null,
            "object_fit": null,
            "object_position": null,
            "order": null,
            "overflow": null,
            "overflow_x": null,
            "overflow_y": null,
            "padding": null,
            "right": null,
            "top": null,
            "visibility": null,
            "width": null
          }
        },
        "88a84a87ed794e98babd83b1aff3a1ca": {
          "model_module": "@jupyter-widgets/controls",
          "model_module_version": "1.5.0",
          "model_name": "HBoxModel",
          "state": {
            "_dom_classes": [],
            "_model_module": "@jupyter-widgets/controls",
            "_model_module_version": "1.5.0",
            "_model_name": "HBoxModel",
            "_view_count": null,
            "_view_module": "@jupyter-widgets/controls",
            "_view_module_version": "1.5.0",
            "_view_name": "HBoxView",
            "box_style": "",
            "children": [
              "IPY_MODEL_43a19fd506bd448cb0c08185361dad57",
              "IPY_MODEL_daf214992e754fa6a22e3e29e513d517",
              "IPY_MODEL_4d6d672c44714637bb79ed070a40a845"
            ],
            "layout": "IPY_MODEL_31594b1ae04540d48b50bb738f8888d8"
          }
        },
        "91d71bb5d00945f6b8f4e96db97a1039": {
          "model_module": "@jupyter-widgets/controls",
          "model_module_version": "1.5.0",
          "model_name": "DescriptionStyleModel",
          "state": {
            "_model_module": "@jupyter-widgets/controls",
            "_model_module_version": "1.5.0",
            "_model_name": "DescriptionStyleModel",
            "_view_count": null,
            "_view_module": "@jupyter-widgets/base",
            "_view_module_version": "1.2.0",
            "_view_name": "StyleView",
            "description_width": ""
          }
        },
        "924a1b591521429c990aba8c812802f2": {
          "model_module": "@jupyter-widgets/controls",
          "model_module_version": "1.5.0",
          "model_name": "HTMLModel",
          "state": {
            "_dom_classes": [],
            "_model_module": "@jupyter-widgets/controls",
            "_model_module_version": "1.5.0",
            "_model_name": "HTMLModel",
            "_view_count": null,
            "_view_module": "@jupyter-widgets/controls",
            "_view_module_version": "1.5.0",
            "_view_name": "HTMLView",
            "description": "",
            "description_tooltip": null,
            "layout": "IPY_MODEL_b1a0479b205e4d31a8027d8a379073e9",
            "placeholder": "​",
            "style": "IPY_MODEL_f9063f7ad74145ecaf0227d441f246e0",
            "value": " 132M/132M [00:03&lt;00:00, 31.6MB/s]"
          }
        },
        "9374fc3316cd44ee89f8342a4de19cc2": {
          "model_module": "@jupyter-widgets/controls",
          "model_module_version": "1.5.0",
          "model_name": "DescriptionStyleModel",
          "state": {
            "_model_module": "@jupyter-widgets/controls",
            "_model_module_version": "1.5.0",
            "_model_name": "DescriptionStyleModel",
            "_view_count": null,
            "_view_module": "@jupyter-widgets/base",
            "_view_module_version": "1.2.0",
            "_view_name": "StyleView",
            "description_width": ""
          }
        },
        "93d74911892d453b9428268577aab0de": {
          "model_module": "@jupyter-widgets/base",
          "model_module_version": "1.2.0",
          "model_name": "LayoutModel",
          "state": {
            "_model_module": "@jupyter-widgets/base",
            "_model_module_version": "1.2.0",
            "_model_name": "LayoutModel",
            "_view_count": null,
            "_view_module": "@jupyter-widgets/base",
            "_view_module_version": "1.2.0",
            "_view_name": "LayoutView",
            "align_content": null,
            "align_items": null,
            "align_self": null,
            "border": null,
            "bottom": null,
            "display": null,
            "flex": null,
            "flex_flow": null,
            "grid_area": null,
            "grid_auto_columns": null,
            "grid_auto_flow": null,
            "grid_auto_rows": null,
            "grid_column": null,
            "grid_gap": null,
            "grid_row": null,
            "grid_template_areas": null,
            "grid_template_columns": null,
            "grid_template_rows": null,
            "height": null,
            "justify_content": null,
            "justify_items": null,
            "left": null,
            "margin": null,
            "max_height": null,
            "max_width": null,
            "min_height": null,
            "min_width": null,
            "object_fit": null,
            "object_position": null,
            "order": null,
            "overflow": null,
            "overflow_x": null,
            "overflow_y": null,
            "padding": null,
            "right": null,
            "top": null,
            "visibility": null,
            "width": null
          }
        },
        "9ec8fd2be5e840a2b17da9b0e9a33f46": {
          "model_module": "@jupyter-widgets/base",
          "model_module_version": "1.2.0",
          "model_name": "LayoutModel",
          "state": {
            "_model_module": "@jupyter-widgets/base",
            "_model_module_version": "1.2.0",
            "_model_name": "LayoutModel",
            "_view_count": null,
            "_view_module": "@jupyter-widgets/base",
            "_view_module_version": "1.2.0",
            "_view_name": "LayoutView",
            "align_content": null,
            "align_items": null,
            "align_self": null,
            "border": null,
            "bottom": null,
            "display": null,
            "flex": null,
            "flex_flow": null,
            "grid_area": null,
            "grid_auto_columns": null,
            "grid_auto_flow": null,
            "grid_auto_rows": null,
            "grid_column": null,
            "grid_gap": null,
            "grid_row": null,
            "grid_template_areas": null,
            "grid_template_columns": null,
            "grid_template_rows": null,
            "height": null,
            "justify_content": null,
            "justify_items": null,
            "left": null,
            "margin": null,
            "max_height": null,
            "max_width": null,
            "min_height": null,
            "min_width": null,
            "object_fit": null,
            "object_position": null,
            "order": null,
            "overflow": null,
            "overflow_x": null,
            "overflow_y": null,
            "padding": null,
            "right": null,
            "top": null,
            "visibility": null,
            "width": null
          }
        },
        "a28b870288964d9c820eb9bd9d0931f5": {
          "model_module": "@jupyter-widgets/controls",
          "model_module_version": "1.5.0",
          "model_name": "DescriptionStyleModel",
          "state": {
            "_model_module": "@jupyter-widgets/controls",
            "_model_module_version": "1.5.0",
            "_model_name": "DescriptionStyleModel",
            "_view_count": null,
            "_view_module": "@jupyter-widgets/base",
            "_view_module_version": "1.2.0",
            "_view_name": "StyleView",
            "description_width": ""
          }
        },
        "acebd3d670af45a39742a911e30035c4": {
          "model_module": "@jupyter-widgets/controls",
          "model_module_version": "1.5.0",
          "model_name": "FloatProgressModel",
          "state": {
            "_dom_classes": [],
            "_model_module": "@jupyter-widgets/controls",
            "_model_module_version": "1.5.0",
            "_model_name": "FloatProgressModel",
            "_view_count": null,
            "_view_module": "@jupyter-widgets/controls",
            "_view_module_version": "1.5.0",
            "_view_name": "ProgressView",
            "bar_style": "success",
            "description": "",
            "description_tooltip": null,
            "layout": "IPY_MODEL_77857f69417749a182801e59543e5e37",
            "max": 1,
            "min": 0,
            "orientation": "horizontal",
            "style": "IPY_MODEL_b8563c4fc7f24f5d89847f50749bdb33",
            "value": 1
          }
        },
        "ae8bc6a549374ac685ac2d714930287c": {
          "model_module": "@jupyter-widgets/controls",
          "model_module_version": "1.5.0",
          "model_name": "DescriptionStyleModel",
          "state": {
            "_model_module": "@jupyter-widgets/controls",
            "_model_module_version": "1.5.0",
            "_model_name": "DescriptionStyleModel",
            "_view_count": null,
            "_view_module": "@jupyter-widgets/base",
            "_view_module_version": "1.2.0",
            "_view_name": "StyleView",
            "description_width": ""
          }
        },
        "afa337be937e4793a1df78244ac77b0d": {
          "model_module": "@jupyter-widgets/controls",
          "model_module_version": "1.5.0",
          "model_name": "DescriptionStyleModel",
          "state": {
            "_model_module": "@jupyter-widgets/controls",
            "_model_module_version": "1.5.0",
            "_model_name": "DescriptionStyleModel",
            "_view_count": null,
            "_view_module": "@jupyter-widgets/base",
            "_view_module_version": "1.2.0",
            "_view_name": "StyleView",
            "description_width": ""
          }
        },
        "afc24c4035c7419a967c5073186fe5d1": {
          "model_module": "@jupyter-widgets/controls",
          "model_module_version": "1.5.0",
          "model_name": "HTMLModel",
          "state": {
            "_dom_classes": [],
            "_model_module": "@jupyter-widgets/controls",
            "_model_module_version": "1.5.0",
            "_model_name": "HTMLModel",
            "_view_count": null,
            "_view_module": "@jupyter-widgets/controls",
            "_view_module_version": "1.5.0",
            "_view_name": "HTMLView",
            "description": "",
            "description_tooltip": null,
            "layout": "IPY_MODEL_6932ddce55444f948ec8f79e5881a47b",
            "placeholder": "​",
            "style": "IPY_MODEL_41356d97bb844da4927c3afedb48360d",
            "value": " 11.2k/11.2k [00:00&lt;00:00, 521kB/s]"
          }
        },
        "b1a0479b205e4d31a8027d8a379073e9": {
          "model_module": "@jupyter-widgets/base",
          "model_module_version": "1.2.0",
          "model_name": "LayoutModel",
          "state": {
            "_model_module": "@jupyter-widgets/base",
            "_model_module_version": "1.2.0",
            "_model_name": "LayoutModel",
            "_view_count": null,
            "_view_module": "@jupyter-widgets/base",
            "_view_module_version": "1.2.0",
            "_view_name": "LayoutView",
            "align_content": null,
            "align_items": null,
            "align_self": null,
            "border": null,
            "bottom": null,
            "display": null,
            "flex": null,
            "flex_flow": null,
            "grid_area": null,
            "grid_auto_columns": null,
            "grid_auto_flow": null,
            "grid_auto_rows": null,
            "grid_column": null,
            "grid_gap": null,
            "grid_row": null,
            "grid_template_areas": null,
            "grid_template_columns": null,
            "grid_template_rows": null,
            "height": null,
            "justify_content": null,
            "justify_items": null,
            "left": null,
            "margin": null,
            "max_height": null,
            "max_width": null,
            "min_height": null,
            "min_width": null,
            "object_fit": null,
            "object_position": null,
            "order": null,
            "overflow": null,
            "overflow_x": null,
            "overflow_y": null,
            "padding": null,
            "right": null,
            "top": null,
            "visibility": null,
            "width": null
          }
        },
        "b8563c4fc7f24f5d89847f50749bdb33": {
          "model_module": "@jupyter-widgets/controls",
          "model_module_version": "1.5.0",
          "model_name": "ProgressStyleModel",
          "state": {
            "_model_module": "@jupyter-widgets/controls",
            "_model_module_version": "1.5.0",
            "_model_name": "ProgressStyleModel",
            "_view_count": null,
            "_view_module": "@jupyter-widgets/base",
            "_view_module_version": "1.2.0",
            "_view_name": "StyleView",
            "bar_color": null,
            "description_width": ""
          }
        },
        "ba0474bbfc284ac7bbfb672499e9be4b": {
          "model_module": "@jupyter-widgets/controls",
          "model_module_version": "1.5.0",
          "model_name": "DescriptionStyleModel",
          "state": {
            "_model_module": "@jupyter-widgets/controls",
            "_model_module_version": "1.5.0",
            "_model_name": "DescriptionStyleModel",
            "_view_count": null,
            "_view_module": "@jupyter-widgets/base",
            "_view_module_version": "1.2.0",
            "_view_name": "StyleView",
            "description_width": ""
          }
        },
        "c3050c9ca7294e64b1bb0e9dc9ed13ba": {
          "model_module": "@jupyter-widgets/controls",
          "model_module_version": "1.5.0",
          "model_name": "HTMLModel",
          "state": {
            "_dom_classes": [],
            "_model_module": "@jupyter-widgets/controls",
            "_model_module_version": "1.5.0",
            "_model_name": "HTMLModel",
            "_view_count": null,
            "_view_module": "@jupyter-widgets/controls",
            "_view_module_version": "1.5.0",
            "_view_name": "HTMLView",
            "description": "",
            "description_tooltip": null,
            "layout": "IPY_MODEL_1c1f79374c804cdf8663e40f6d872870",
            "placeholder": "​",
            "style": "IPY_MODEL_5aa62a3489c14c58ade62be0c28a6f68",
            "value": " 10178/0 [00:02&lt;00:00, 5770.24 examples/s]"
          }
        },
        "c32f28f5ca7e427f8ae19184c01b6678": {
          "model_module": "@jupyter-widgets/controls",
          "model_module_version": "1.5.0",
          "model_name": "ProgressStyleModel",
          "state": {
            "_model_module": "@jupyter-widgets/controls",
            "_model_module_version": "1.5.0",
            "_model_name": "ProgressStyleModel",
            "_view_count": null,
            "_view_module": "@jupyter-widgets/base",
            "_view_module_version": "1.2.0",
            "_view_name": "StyleView",
            "bar_color": null,
            "description_width": ""
          }
        },
        "c4980c5922054defb0d92e968e5fe780": {
          "model_module": "@jupyter-widgets/base",
          "model_module_version": "1.2.0",
          "model_name": "LayoutModel",
          "state": {
            "_model_module": "@jupyter-widgets/base",
            "_model_module_version": "1.2.0",
            "_model_name": "LayoutModel",
            "_view_count": null,
            "_view_module": "@jupyter-widgets/base",
            "_view_module_version": "1.2.0",
            "_view_name": "LayoutView",
            "align_content": null,
            "align_items": null,
            "align_self": null,
            "border": null,
            "bottom": null,
            "display": null,
            "flex": null,
            "flex_flow": null,
            "grid_area": null,
            "grid_auto_columns": null,
            "grid_auto_flow": null,
            "grid_auto_rows": null,
            "grid_column": null,
            "grid_gap": null,
            "grid_row": null,
            "grid_template_areas": null,
            "grid_template_columns": null,
            "grid_template_rows": null,
            "height": null,
            "justify_content": null,
            "justify_items": null,
            "left": null,
            "margin": null,
            "max_height": null,
            "max_width": null,
            "min_height": null,
            "min_width": null,
            "object_fit": null,
            "object_position": null,
            "order": null,
            "overflow": null,
            "overflow_x": null,
            "overflow_y": null,
            "padding": null,
            "right": null,
            "top": null,
            "visibility": null,
            "width": null
          }
        },
        "c783ae5f13df4ea299886216b6b0ab1b": {
          "model_module": "@jupyter-widgets/base",
          "model_module_version": "1.2.0",
          "model_name": "LayoutModel",
          "state": {
            "_model_module": "@jupyter-widgets/base",
            "_model_module_version": "1.2.0",
            "_model_name": "LayoutModel",
            "_view_count": null,
            "_view_module": "@jupyter-widgets/base",
            "_view_module_version": "1.2.0",
            "_view_name": "LayoutView",
            "align_content": null,
            "align_items": null,
            "align_self": null,
            "border": null,
            "bottom": null,
            "display": null,
            "flex": null,
            "flex_flow": null,
            "grid_area": null,
            "grid_auto_columns": null,
            "grid_auto_flow": null,
            "grid_auto_rows": null,
            "grid_column": null,
            "grid_gap": null,
            "grid_row": null,
            "grid_template_areas": null,
            "grid_template_columns": null,
            "grid_template_rows": null,
            "height": null,
            "justify_content": null,
            "justify_items": null,
            "left": null,
            "margin": null,
            "max_height": null,
            "max_width": null,
            "min_height": null,
            "min_width": null,
            "object_fit": null,
            "object_position": null,
            "order": null,
            "overflow": null,
            "overflow_x": null,
            "overflow_y": null,
            "padding": null,
            "right": null,
            "top": null,
            "visibility": null,
            "width": null
          }
        },
        "cae27565136c469aac3b52c159d2163b": {
          "model_module": "@jupyter-widgets/controls",
          "model_module_version": "1.5.0",
          "model_name": "HTMLModel",
          "state": {
            "_dom_classes": [],
            "_model_module": "@jupyter-widgets/controls",
            "_model_module_version": "1.5.0",
            "_model_name": "HTMLModel",
            "_view_count": null,
            "_view_module": "@jupyter-widgets/controls",
            "_view_module_version": "1.5.0",
            "_view_name": "HTMLView",
            "description": "",
            "description_tooltip": null,
            "layout": "IPY_MODEL_19d2e3b7830545599b75b561ba237009",
            "placeholder": "​",
            "style": "IPY_MODEL_6b85a02a9ff94e9ab0049bcd4e46cf81",
            "value": "Downloading data: 100%"
          }
        },
        "cf64ffb9f59a4d93b2d23d97c5a6d304": {
          "model_module": "@jupyter-widgets/controls",
          "model_module_version": "1.5.0",
          "model_name": "HBoxModel",
          "state": {
            "_dom_classes": [],
            "_model_module": "@jupyter-widgets/controls",
            "_model_module_version": "1.5.0",
            "_model_name": "HBoxModel",
            "_view_count": null,
            "_view_module": "@jupyter-widgets/controls",
            "_view_module_version": "1.5.0",
            "_view_name": "HBoxView",
            "box_style": "",
            "children": [
              "IPY_MODEL_5189a7b7ff9740fe955c56de35c081c1",
              "IPY_MODEL_7749263346db4099b8bd4910accedd18",
              "IPY_MODEL_d9a1d56d0d7e4b8883e9d285dca92fa1"
            ],
            "layout": "IPY_MODEL_7b7aa283ad5446c09c88cf4c45daa212"
          }
        },
        "d377efff46f54f8093b045ae81988ca0": {
          "model_module": "@jupyter-widgets/base",
          "model_module_version": "1.2.0",
          "model_name": "LayoutModel",
          "state": {
            "_model_module": "@jupyter-widgets/base",
            "_model_module_version": "1.2.0",
            "_model_name": "LayoutModel",
            "_view_count": null,
            "_view_module": "@jupyter-widgets/base",
            "_view_module_version": "1.2.0",
            "_view_name": "LayoutView",
            "align_content": null,
            "align_items": null,
            "align_self": null,
            "border": null,
            "bottom": null,
            "display": null,
            "flex": null,
            "flex_flow": null,
            "grid_area": null,
            "grid_auto_columns": null,
            "grid_auto_flow": null,
            "grid_auto_rows": null,
            "grid_column": null,
            "grid_gap": null,
            "grid_row": null,
            "grid_template_areas": null,
            "grid_template_columns": null,
            "grid_template_rows": null,
            "height": null,
            "justify_content": null,
            "justify_items": null,
            "left": null,
            "margin": null,
            "max_height": null,
            "max_width": null,
            "min_height": null,
            "min_width": null,
            "object_fit": null,
            "object_position": null,
            "order": null,
            "overflow": null,
            "overflow_x": null,
            "overflow_y": null,
            "padding": null,
            "right": null,
            "top": null,
            "visibility": null,
            "width": null
          }
        },
        "d3d2c22c138a4af0ab4f9cd788ca5654": {
          "model_module": "@jupyter-widgets/base",
          "model_module_version": "1.2.0",
          "model_name": "LayoutModel",
          "state": {
            "_model_module": "@jupyter-widgets/base",
            "_model_module_version": "1.2.0",
            "_model_name": "LayoutModel",
            "_view_count": null,
            "_view_module": "@jupyter-widgets/base",
            "_view_module_version": "1.2.0",
            "_view_name": "LayoutView",
            "align_content": null,
            "align_items": null,
            "align_self": null,
            "border": null,
            "bottom": null,
            "display": null,
            "flex": null,
            "flex_flow": null,
            "grid_area": null,
            "grid_auto_columns": null,
            "grid_auto_flow": null,
            "grid_auto_rows": null,
            "grid_column": null,
            "grid_gap": null,
            "grid_row": null,
            "grid_template_areas": null,
            "grid_template_columns": null,
            "grid_template_rows": null,
            "height": null,
            "justify_content": null,
            "justify_items": null,
            "left": null,
            "margin": null,
            "max_height": null,
            "max_width": null,
            "min_height": null,
            "min_width": null,
            "object_fit": null,
            "object_position": null,
            "order": null,
            "overflow": null,
            "overflow_x": null,
            "overflow_y": null,
            "padding": null,
            "right": null,
            "top": null,
            "visibility": null,
            "width": null
          }
        },
        "d4d623d441a741cf9e612013fbc50279": {
          "model_module": "@jupyter-widgets/controls",
          "model_module_version": "1.5.0",
          "model_name": "ProgressStyleModel",
          "state": {
            "_model_module": "@jupyter-widgets/controls",
            "_model_module_version": "1.5.0",
            "_model_name": "ProgressStyleModel",
            "_view_count": null,
            "_view_module": "@jupyter-widgets/base",
            "_view_module_version": "1.2.0",
            "_view_name": "StyleView",
            "bar_color": null,
            "description_width": ""
          }
        },
        "d557b416a5aa4740956c8a595495bbce": {
          "model_module": "@jupyter-widgets/controls",
          "model_module_version": "1.5.0",
          "model_name": "HTMLModel",
          "state": {
            "_dom_classes": [],
            "_model_module": "@jupyter-widgets/controls",
            "_model_module_version": "1.5.0",
            "_model_name": "HTMLModel",
            "_view_count": null,
            "_view_module": "@jupyter-widgets/controls",
            "_view_module_version": "1.5.0",
            "_view_name": "HTMLView",
            "description": "",
            "description_tooltip": null,
            "layout": "IPY_MODEL_6675f62ac5e54a3ca47aeb526aa007df",
            "placeholder": "​",
            "style": "IPY_MODEL_74ae7b9945af4fb48f10cfdb3dc3f21c",
            "value": "Generating train split: "
          }
        },
        "d96cc463b41d4333860ba82f36da95bd": {
          "model_module": "@jupyter-widgets/controls",
          "model_module_version": "1.5.0",
          "model_name": "DescriptionStyleModel",
          "state": {
            "_model_module": "@jupyter-widgets/controls",
            "_model_module_version": "1.5.0",
            "_model_name": "DescriptionStyleModel",
            "_view_count": null,
            "_view_module": "@jupyter-widgets/base",
            "_view_module_version": "1.2.0",
            "_view_name": "StyleView",
            "description_width": ""
          }
        },
        "d9a1d56d0d7e4b8883e9d285dca92fa1": {
          "model_module": "@jupyter-widgets/controls",
          "model_module_version": "1.5.0",
          "model_name": "HTMLModel",
          "state": {
            "_dom_classes": [],
            "_model_module": "@jupyter-widgets/controls",
            "_model_module_version": "1.5.0",
            "_model_name": "HTMLModel",
            "_view_count": null,
            "_view_module": "@jupyter-widgets/controls",
            "_view_module_version": "1.5.0",
            "_view_name": "HTMLView",
            "description": "",
            "description_tooltip": null,
            "layout": "IPY_MODEL_3cbb0d64c5bf48b5971d59120fb83276",
            "placeholder": "​",
            "style": "IPY_MODEL_e66d783d863b4fc89aa9fd430b3db02a",
            "value": " 1.44k/1.44k [00:00&lt;00:00, 82.9kB/s]"
          }
        },
        "daf214992e754fa6a22e3e29e513d517": {
          "model_module": "@jupyter-widgets/controls",
          "model_module_version": "1.5.0",
          "model_name": "FloatProgressModel",
          "state": {
            "_dom_classes": [],
            "_model_module": "@jupyter-widgets/controls",
            "_model_module_version": "1.5.0",
            "_model_name": "FloatProgressModel",
            "_view_count": null,
            "_view_module": "@jupyter-widgets/controls",
            "_view_module_version": "1.5.0",
            "_view_name": "ProgressView",
            "bar_style": "success",
            "description": "",
            "description_tooltip": null,
            "layout": "IPY_MODEL_41215ffa26164fb894f54cbffca09d79",
            "max": 1,
            "min": 0,
            "orientation": "horizontal",
            "style": "IPY_MODEL_e37be15b44b943df8ba857cffa1db176",
            "value": 1
          }
        },
        "ddba0049de8b4cd6950294ba63ba913b": {
          "model_module": "@jupyter-widgets/controls",
          "model_module_version": "1.5.0",
          "model_name": "HBoxModel",
          "state": {
            "_dom_classes": [],
            "_model_module": "@jupyter-widgets/controls",
            "_model_module_version": "1.5.0",
            "_model_name": "HBoxModel",
            "_view_count": null,
            "_view_module": "@jupyter-widgets/controls",
            "_view_module_version": "1.5.0",
            "_view_name": "HBoxView",
            "box_style": "",
            "children": [
              "IPY_MODEL_1bf7aeb3c5f24827804e498bf17a95ae",
              "IPY_MODEL_32bbd8eec4794963a797c96a845bbf03",
              "IPY_MODEL_afc24c4035c7419a967c5073186fe5d1"
            ],
            "layout": "IPY_MODEL_d377efff46f54f8093b045ae81988ca0"
          }
        },
        "df33fe7194d641e1a5d316a3485fff3d": {
          "model_module": "@jupyter-widgets/controls",
          "model_module_version": "1.5.0",
          "model_name": "ProgressStyleModel",
          "state": {
            "_model_module": "@jupyter-widgets/controls",
            "_model_module_version": "1.5.0",
            "_model_name": "ProgressStyleModel",
            "_view_count": null,
            "_view_module": "@jupyter-widgets/base",
            "_view_module_version": "1.2.0",
            "_view_name": "StyleView",
            "bar_color": null,
            "description_width": ""
          }
        },
        "dfb1c2cc5a064a47b615cb1ef14e2c06": {
          "model_module": "@jupyter-widgets/base",
          "model_module_version": "1.2.0",
          "model_name": "LayoutModel",
          "state": {
            "_model_module": "@jupyter-widgets/base",
            "_model_module_version": "1.2.0",
            "_model_name": "LayoutModel",
            "_view_count": null,
            "_view_module": "@jupyter-widgets/base",
            "_view_module_version": "1.2.0",
            "_view_name": "LayoutView",
            "align_content": null,
            "align_items": null,
            "align_self": null,
            "border": null,
            "bottom": null,
            "display": null,
            "flex": null,
            "flex_flow": null,
            "grid_area": null,
            "grid_auto_columns": null,
            "grid_auto_flow": null,
            "grid_auto_rows": null,
            "grid_column": null,
            "grid_gap": null,
            "grid_row": null,
            "grid_template_areas": null,
            "grid_template_columns": null,
            "grid_template_rows": null,
            "height": null,
            "justify_content": null,
            "justify_items": null,
            "left": null,
            "margin": null,
            "max_height": null,
            "max_width": null,
            "min_height": null,
            "min_width": null,
            "object_fit": null,
            "object_position": null,
            "order": null,
            "overflow": null,
            "overflow_x": null,
            "overflow_y": null,
            "padding": null,
            "right": null,
            "top": null,
            "visibility": null,
            "width": null
          }
        },
        "e08a5b97e03d4e2b80b466ec70a8cb99": {
          "model_module": "@jupyter-widgets/controls",
          "model_module_version": "1.5.0",
          "model_name": "FloatProgressModel",
          "state": {
            "_dom_classes": [],
            "_model_module": "@jupyter-widgets/controls",
            "_model_module_version": "1.5.0",
            "_model_name": "FloatProgressModel",
            "_view_count": null,
            "_view_module": "@jupyter-widgets/controls",
            "_view_module_version": "1.5.0",
            "_view_name": "ProgressView",
            "bar_style": "success",
            "description": "",
            "description_tooltip": null,
            "layout": "IPY_MODEL_50d8951ea94f43c784b2eaf42190d85a",
            "max": 131741885,
            "min": 0,
            "orientation": "horizontal",
            "style": "IPY_MODEL_c32f28f5ca7e427f8ae19184c01b6678",
            "value": 131741885
          }
        },
        "e37be15b44b943df8ba857cffa1db176": {
          "model_module": "@jupyter-widgets/controls",
          "model_module_version": "1.5.0",
          "model_name": "ProgressStyleModel",
          "state": {
            "_model_module": "@jupyter-widgets/controls",
            "_model_module_version": "1.5.0",
            "_model_name": "ProgressStyleModel",
            "_view_count": null,
            "_view_module": "@jupyter-widgets/base",
            "_view_module_version": "1.2.0",
            "_view_name": "StyleView",
            "bar_color": null,
            "description_width": ""
          }
        },
        "e66d783d863b4fc89aa9fd430b3db02a": {
          "model_module": "@jupyter-widgets/controls",
          "model_module_version": "1.5.0",
          "model_name": "DescriptionStyleModel",
          "state": {
            "_model_module": "@jupyter-widgets/controls",
            "_model_module_version": "1.5.0",
            "_model_name": "DescriptionStyleModel",
            "_view_count": null,
            "_view_module": "@jupyter-widgets/base",
            "_view_module_version": "1.2.0",
            "_view_name": "StyleView",
            "description_width": ""
          }
        },
        "e9acc261f91c4c54b82eeefb3be75e52": {
          "model_module": "@jupyter-widgets/base",
          "model_module_version": "1.2.0",
          "model_name": "LayoutModel",
          "state": {
            "_model_module": "@jupyter-widgets/base",
            "_model_module_version": "1.2.0",
            "_model_name": "LayoutModel",
            "_view_count": null,
            "_view_module": "@jupyter-widgets/base",
            "_view_module_version": "1.2.0",
            "_view_name": "LayoutView",
            "align_content": null,
            "align_items": null,
            "align_self": null,
            "border": null,
            "bottom": null,
            "display": null,
            "flex": null,
            "flex_flow": null,
            "grid_area": null,
            "grid_auto_columns": null,
            "grid_auto_flow": null,
            "grid_auto_rows": null,
            "grid_column": null,
            "grid_gap": null,
            "grid_row": null,
            "grid_template_areas": null,
            "grid_template_columns": null,
            "grid_template_rows": null,
            "height": null,
            "justify_content": null,
            "justify_items": null,
            "left": null,
            "margin": null,
            "max_height": null,
            "max_width": null,
            "min_height": null,
            "min_width": null,
            "object_fit": null,
            "object_position": null,
            "order": null,
            "overflow": null,
            "overflow_x": null,
            "overflow_y": null,
            "padding": null,
            "right": null,
            "top": null,
            "visibility": null,
            "width": null
          }
        },
        "ea3c13fadc0e46b4aa92077f0aff2071": {
          "model_module": "@jupyter-widgets/base",
          "model_module_version": "1.2.0",
          "model_name": "LayoutModel",
          "state": {
            "_model_module": "@jupyter-widgets/base",
            "_model_module_version": "1.2.0",
            "_model_name": "LayoutModel",
            "_view_count": null,
            "_view_module": "@jupyter-widgets/base",
            "_view_module_version": "1.2.0",
            "_view_name": "LayoutView",
            "align_content": null,
            "align_items": null,
            "align_self": null,
            "border": null,
            "bottom": null,
            "display": null,
            "flex": null,
            "flex_flow": null,
            "grid_area": null,
            "grid_auto_columns": null,
            "grid_auto_flow": null,
            "grid_auto_rows": null,
            "grid_column": null,
            "grid_gap": null,
            "grid_row": null,
            "grid_template_areas": null,
            "grid_template_columns": null,
            "grid_template_rows": null,
            "height": null,
            "justify_content": null,
            "justify_items": null,
            "left": null,
            "margin": null,
            "max_height": null,
            "max_width": null,
            "min_height": null,
            "min_width": null,
            "object_fit": null,
            "object_position": null,
            "order": null,
            "overflow": null,
            "overflow_x": null,
            "overflow_y": null,
            "padding": null,
            "right": null,
            "top": null,
            "visibility": null,
            "width": null
          }
        },
        "f7a5104c6ec84d98ba464a392d19543f": {
          "model_module": "@jupyter-widgets/controls",
          "model_module_version": "1.5.0",
          "model_name": "HTMLModel",
          "state": {
            "_dom_classes": [],
            "_model_module": "@jupyter-widgets/controls",
            "_model_module_version": "1.5.0",
            "_model_name": "HTMLModel",
            "_view_count": null,
            "_view_module": "@jupyter-widgets/controls",
            "_view_module_version": "1.5.0",
            "_view_name": "HTMLView",
            "description": "",
            "description_tooltip": null,
            "layout": "IPY_MODEL_86513900fd98486f8049b9c1c0a3972f",
            "placeholder": "​",
            "style": "IPY_MODEL_afa337be937e4793a1df78244ac77b0d",
            "value": "Generating test split: "
          }
        },
        "f9063f7ad74145ecaf0227d441f246e0": {
          "model_module": "@jupyter-widgets/controls",
          "model_module_version": "1.5.0",
          "model_name": "DescriptionStyleModel",
          "state": {
            "_model_module": "@jupyter-widgets/controls",
            "_model_module_version": "1.5.0",
            "_model_name": "DescriptionStyleModel",
            "_view_count": null,
            "_view_module": "@jupyter-widgets/base",
            "_view_module_version": "1.2.0",
            "_view_name": "StyleView",
            "description_width": ""
          }
        },
        "fba9fa5a1b2a433a82efc154d2f3fa0c": {
          "model_module": "@jupyter-widgets/controls",
          "model_module_version": "1.5.0",
          "model_name": "HBoxModel",
          "state": {
            "_dom_classes": [],
            "_model_module": "@jupyter-widgets/controls",
            "_model_module_version": "1.5.0",
            "_model_name": "HBoxModel",
            "_view_count": null,
            "_view_module": "@jupyter-widgets/controls",
            "_view_module_version": "1.5.0",
            "_view_name": "HBoxView",
            "box_style": "",
            "children": [
              "IPY_MODEL_cae27565136c469aac3b52c159d2163b",
              "IPY_MODEL_e08a5b97e03d4e2b80b466ec70a8cb99",
              "IPY_MODEL_924a1b591521429c990aba8c812802f2"
            ],
            "layout": "IPY_MODEL_84dada1c52794998b3f5993eb99e65a8"
          }
        },
        "fd48c462c85d4fe79937a47589d1d500": {
          "model_module": "@jupyter-widgets/base",
          "model_module_version": "1.2.0",
          "model_name": "LayoutModel",
          "state": {
            "_model_module": "@jupyter-widgets/base",
            "_model_module_version": "1.2.0",
            "_model_name": "LayoutModel",
            "_view_count": null,
            "_view_module": "@jupyter-widgets/base",
            "_view_module_version": "1.2.0",
            "_view_name": "LayoutView",
            "align_content": null,
            "align_items": null,
            "align_self": null,
            "border": null,
            "bottom": null,
            "display": null,
            "flex": null,
            "flex_flow": null,
            "grid_area": null,
            "grid_auto_columns": null,
            "grid_auto_flow": null,
            "grid_auto_rows": null,
            "grid_column": null,
            "grid_gap": null,
            "grid_row": null,
            "grid_template_areas": null,
            "grid_template_columns": null,
            "grid_template_rows": null,
            "height": null,
            "justify_content": null,
            "justify_items": null,
            "left": null,
            "margin": null,
            "max_height": null,
            "max_width": null,
            "min_height": null,
            "min_width": null,
            "object_fit": null,
            "object_position": null,
            "order": null,
            "overflow": null,
            "overflow_x": null,
            "overflow_y": null,
            "padding": null,
            "right": null,
            "top": null,
            "visibility": null,
            "width": null
          }
        }
      }
    }
  },
  "nbformat": 4,
  "nbformat_minor": 0
}
