{
  "nbformat": 4,
  "nbformat_minor": 0,
  "metadata": {
    "colab": {
      "provenance": []
    },
    "kernelspec": {
      "name": "python3",
      "display_name": "Python 3"
    },
    "language_info": {
      "name": "python"
    }
  },
  "cells": [
    {
      "cell_type": "code",
      "source": [
        "!pip install dspy-ai\n",
        "import dspy"
      ],
      "metadata": {
        "id": "Z4ATmOVFcpE9"
      },
      "execution_count": null,
      "outputs": []
    },
    {
      "cell_type": "code",
      "source": [
        "models=['Med-PaLM 2','mistral-7b-instruct','openchat-7b','gpt-3.5-turbo']\n",
        "api_key = \"API_KEY\""
      ],
      "metadata": {
        "id": "3WXc6JfA5gSi"
      },
      "execution_count": null,
      "outputs": []
    },
    {
      "cell_type": "code",
      "source": [
        "def initialize_model(model_name):\n",
        "    return dspy.OpenAI(model=model_name, api_key=api_key)\n",
        "\n",
        "no_of_models=len(models)\n",
        "for i in range(no_of_models):\n",
        "    current_model = initialize_model(models[i])\n",
        "    dspy.settings.configure(lm=current_model)"
      ],
      "metadata": {
        "id": "2_GSfn4zqSfN"
      },
      "execution_count": null,
      "outputs": []
    },
    {
      "cell_type": "code",
      "execution_count": null,
      "metadata": {
        "id": "wJbt32vEVmqM"
      },
      "outputs": [],
      "source": [
        "!pip install datasets\n",
        "from datasets import load_dataset\n",
        "medqa_dataset = load_dataset(\"bigbio/med_qa\")"
      ]
    },
    {
      "cell_type": "code",
      "source": [
        "medqa_dataset = load_dataset(\"bigbio/med_qa\")\n",
        "\n",
        "#training on the first 20 questions\n",
        "train_subset = medqa_dataset[\"train\"][:20]\n",
        "\n",
        "train_questions = train_subset[\"question\"]\n",
        "train_answers_id = train_subset[\"answer_idx\"]\n",
        "train_options= train_subset[\"options\"]\n",
        "train_answer = train_subset[\"answer\"]"
      ],
      "metadata": {
        "id": "_GDXvApnZdRT"
      },
      "execution_count": null,
      "outputs": []
    },
    {
      "cell_type": "code",
      "source": [
        "print(train_questions[0])\n",
        "print(train_options)\n",
        "print(train_answer)\n",
        "print(train_answers[0])"
      ],
      "metadata": {
        "colab": {
          "base_uri": "https://localhost:8080/"
        },
        "id": "vrnPxNmCekhK",
        "outputId": "51ab5fb5-835e-4719-e80d-b57f3a4183f8"
      },
      "execution_count": null,
      "outputs": [
        {
          "output_type": "stream",
          "name": "stdout",
          "text": [
            "A 23-year-old pregnant woman at 22 weeks gestation presents with burning upon urination. She states it started 1 day ago and has been worsening despite drinking more water and taking cranberry extract. She otherwise feels well and is followed by a doctor for her pregnancy. Her temperature is 97.7°F (36.5°C), blood pressure is 122/77 mmHg, pulse is 80/min, respirations are 19/min, and oxygen saturation is 98% on room air. Physical exam is notable for an absence of costovertebral angle tenderness and a gravid uterus. Which of the following is the best treatment for this patient?\n",
            "[[{'key': 'A', 'value': 'Ampicillin'}, {'key': 'B', 'value': 'Ceftriaxone'}, {'key': 'C', 'value': 'Ciprofloxacin'}, {'key': 'D', 'value': 'Doxycycline'}, {'key': 'E', 'value': 'Nitrofurantoin'}], [{'key': 'A', 'value': 'Placing the infant in a supine position on a firm mattress while sleeping'}, {'key': 'B', 'value': 'Routine postnatal electrocardiogram (ECG)'}, {'key': 'C', 'value': 'Keeping the infant covered and maintaining a high room temperature'}, {'key': 'D', 'value': 'Application of a device to maintain the sleeping position'}, {'key': 'E', 'value': 'Avoiding pacifier use during sleep'}], [{'key': 'A', 'value': 'Abnormal migration of ventral pancreatic bud'}, {'key': 'B', 'value': 'Complete failure of proximal duodenum to recanalize'}, {'key': 'C', 'value': 'Error in neural crest cell migration'}, {'key': 'D', 'value': 'Abnormal hypertrophy of the pylorus'}, {'key': 'E', 'value': 'Failure of lateral body folds to move ventrally and fuse in the midline'}], [{'key': 'A', 'value': 'Thromboembolism'}, {'key': 'B', 'value': 'Pulmonary ischemia'}, {'key': 'C', 'value': 'Pulmonary hypertension'}, {'key': 'D', 'value': 'Pulmonary passive congestion'}, {'key': 'E', 'value': 'Pulmonary hemorrhage'}], [{'key': 'A', 'value': 'Factor V Leiden'}, {'key': 'B', 'value': 'Hemophilia A'}, {'key': 'C', 'value': 'Lupus anticoagulant'}, {'key': 'D', 'value': 'Protein C deficiency'}, {'key': 'E', 'value': 'Von Willebrand disease'}], [{'key': 'A', 'value': 'Aspirin'}, {'key': 'B', 'value': 'Oral contraceptive pills'}, {'key': 'C', 'value': 'Scorpion sting'}, {'key': 'D', 'value': 'Hypothyroidism'}, {'key': 'E', 'value': 'Obesity'}], [{'key': 'A', 'value': 'Bilirubin assessment'}, {'key': 'B', 'value': 'Coagulation studies'}, {'key': 'C', 'value': 'Hematocrit assessment'}, {'key': 'D', 'value': 'Leukocyte count with differential'}, {'key': 'E', 'value': '24-hour urine protein'}], [{'key': 'A', 'value': 'Gastric fundus in the thorax'}, {'key': 'B', 'value': 'Pancreatic ring around the duodenum'}, {'key': 'C', 'value': 'Small and cystic kidneys'}, {'key': 'D', 'value': 'Hypertrophy of the gastric pylorus'}, {'key': 'E', 'value': 'Large bowel in the inguinal canal'}], [{'key': 'A', 'value': 'Atenolol'}, {'key': 'B', 'value': 'Verapamil'}, {'key': 'C', 'value': 'Diltiazem'}, {'key': 'D', 'value': 'Propafenone'}, {'key': 'E', 'value': 'Digoxin'}], [{'key': 'A', 'value': 'Epistaxis'}, {'key': 'B', 'value': 'Hypertension'}, {'key': 'C', 'value': 'Permanent loss of smell'}, {'key': 'D', 'value': 'Persistent nasal crusting'}, {'key': 'E', 'value': 'Persistent congestion'}], [{'key': 'A', 'value': 'Granulomatous inflammation of the cavernous sinus'}, {'key': 'B', 'value': 'Abnormal communication between the cavernous sinus and the internal carotid artery'}, {'key': 'C', 'value': 'Glycosaminoglycan accumulation in the orbit'}, {'key': 'D', 'value': 'Bacterial infection of the orbital contents'}, {'key': 'E', 'value': 'Sympathetic hyperactivity of levator palpebrae superioris\\n\"'}], [{'key': 'A', 'value': 'Antibodies against postsynaptic nicotinic cholinergic ion channels'}, {'key': 'B', 'value': 'Autoantibodies against the presynaptic voltage-gated calcium channels'}, {'key': 'C', 'value': 'Autoimmune demyelination of peripheral nerves'}, {'key': 'D', 'value': 'Blockade of presynaptic acetylcholine release at the neuromuscular junction'}, {'key': 'E', 'value': 'Lower motor neuron destruction in the anterior horn'}], [{'key': 'A', 'value': 'Anticipation'}, {'key': 'B', 'value': 'Incomplete penetrance'}, {'key': 'C', 'value': 'Multiple gene mutations'}, {'key': 'D', 'value': 'Pleiotropy'}, {'key': 'E', 'value': 'Variable expressivity'}], [{'key': 'A', 'value': 'Neural tube'}, {'key': 'B', 'value': 'Surface ectoderm'}, {'key': 'C', 'value': 'Neural crest'}, {'key': 'D', 'value': 'Notochord'}, {'key': 'E', 'value': 'Mesoderm'}], [{'key': 'A', 'value': 'Chronic decrease in pulmonary compliance'}, {'key': 'B', 'value': 'Local accumulation of kinins'}, {'key': 'C', 'value': 'Mycobacterial invasion of pulmonary parenchyma'}, {'key': 'D', 'value': 'Progressive obstruction of expiratory airflow'}, {'key': 'E', 'value': 'Incremental loss of functional residual capacity\\n\"'}], [{'key': 'A', 'value': 'CT angiogram'}, {'key': 'B', 'value': 'Graded exercise and aspirin'}, {'key': 'C', 'value': 'Heparin drip'}, {'key': 'D', 'value': 'Surgical thrombectomy'}, {'key': 'E', 'value': 'Tissue plasminogen activator'}], [{'key': 'A', 'value': 'Clonidine'}, {'key': 'B', 'value': 'Hydrochlorothiazide'}, {'key': 'C', 'value': 'Midodrine'}, {'key': 'D', 'value': 'Oxybutynin'}, {'key': 'E', 'value': 'Tamsulosin'}], [{'key': 'A', 'value': 'Esophagogastroduodenoscopy'}, {'key': 'B', 'value': 'CT scan of the abdomen'}, {'key': 'C', 'value': 'Hydrogen breath test'}, {'key': 'D', 'value': 'Cardiac stress test'}, {'key': 'E', 'value': 'Abdominal ultrasonography of the right upper quadrant'}], [{'key': 'A', 'value': 'It may result in connective tissue defects'}, {'key': 'B', 'value': 'It may result in corneal vascularization'}, {'key': 'C', 'value': 'It may result in the triad of confusion, ophthalmoplegia, and ataxia'}, {'key': 'D', 'value': 'It may be exacerbated by excessive ingestion of raw eggs'}, {'key': 'E', 'value': 'It may manifest itself as a prolonged PT'}], [{'key': 'A', 'value': 'Tropheryma whipplei-specific RNA on PCR'}, {'key': 'B', 'value': 'Bullous changes of the lung bases on chest CT'}, {'key': 'C', 'value': 'Beading of intra- and extrahepatic bile ducts on ERCP'}, {'key': 'D', 'value': 'Myocardial iron deposition on cardiovascular MRI'}, {'key': 'E', 'value': 'Dark corneal ring on slit-lamp examination'}]]\n",
            "['Nitrofurantoin', 'Placing the infant in a supine position on a firm mattress while sleeping', 'Abnormal migration of ventral pancreatic bud', 'Thromboembolism', 'Von Willebrand disease', 'Scorpion sting', '24-hour urine protein', 'Gastric fundus in the thorax', 'Digoxin', 'Persistent congestion', 'Glycosaminoglycan accumulation in the orbit', 'Blockade of presynaptic acetylcholine release at the neuromuscular junction', 'Pleiotropy', 'Neural crest', 'Progressive obstruction of expiratory airflow', 'Heparin drip', 'Tamsulosin', 'Cardiac stress test', 'It may manifest itself as a prolonged PT', 'Bullous changes of the lung bases on chest CT']\n",
            "E\n"
          ]
        }
      ]
    },
    {
      "cell_type": "code",
      "source": [
        "# We are expecting a single choice answer so signature accordingly.\n",
        "class BasicQA(dspy.Signature):\n",
        "    \"\"\"Answer questions with one single letter\"\"\"\n",
        "\n",
        "    question = dspy.InputField()\n",
        "    answer = dspy.OutputField(desc=\"single letter\")"
      ],
      "metadata": {
        "id": "lai_CFeGrEOG"
      },
      "execution_count": null,
      "outputs": []
    },
    {
      "cell_type": "code",
      "source": [
        "generate_answer = dspy.Predict(BasicQA)\n",
        "\n",
        "def generate_responses(questions):\n",
        "    responses = []\n",
        "    for question in questions:\n",
        "          generate_answer(question=question)\n",
        "          generated_response = response.choices[0].message\n",
        "          responses.append(generated_response)\n",
        "    return responses"
      ],
      "metadata": {
        "id": "EaicGrqZf2at"
      },
      "execution_count": null,
      "outputs": []
    },
    {
      "cell_type": "code",
      "source": [
        "generated_responses = generate_responses(train_questions)"
      ],
      "metadata": {
        "id": "zCcnEIlG4-Lh"
      },
      "execution_count": null,
      "outputs": []
    },
    {
      "cell_type": "code",
      "source": [
        "def calculate_medqa_accuracy(pred, true):\n",
        "    correct_count = 0\n",
        "\n",
        "    for pred, ref in zip(pred, true):\n",
        "        if pred.strip().lower() == ref.strip().lower():\n",
        "            correct_count += 1\n",
        "\n",
        "    accuracy = correct_count / len(pred)\n",
        "    return accuracy\n",
        "\n",
        "accuracy = calculate_medqa_accuracy(generated_responses, train_answers_id)\n",
        "\n",
        "print(f\"\\nAccuracy on the MedQA dataset: {accuracy * 100:.2f}%\")"
      ],
      "metadata": {
        "id": "XKI6F531WL63"
      },
      "execution_count": null,
      "outputs": []
    },
    {
      "cell_type": "code",
      "source": [
        "# Now asking a question from the test dataset.\n",
        "test_subset = medqa_dataset[\"test\"]\n",
        "test_question = test_subset[\"question\"][0]\n",
        "print(f\"Predicted Answer: {generate_answer(question=test_question)}\")"
      ],
      "metadata": {
        "id": "ekiJrC_s7uko"
      },
      "execution_count": null,
      "outputs": []
    }
  ]
}