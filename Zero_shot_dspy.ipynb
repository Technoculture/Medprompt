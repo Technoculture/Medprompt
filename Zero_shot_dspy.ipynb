{
  "cells": [
    {
      "cell_type": "code",
      "execution_count": 3,
      "metadata": {
        "id": "Z4ATmOVFcpE9"
      },
      "outputs": [],
      "source": [
        "# !pip install dspy-ai\n",
        "# import dspy"
      ]
    },
    {
      "cell_type": "code",
      "execution_count": 4,
      "metadata": {
        "colab": {
          "base_uri": "https://localhost:8080/",
          "height": 1000
        },
        "id": "bJssTLk4qZcV",
        "outputId": "35ed9a9b-d325-42f4-8d91-ff43139d94be"
      },
      "outputs": [
        {
          "name": "stdout",
          "output_type": "stream",
          "text": [
            "Collecting git+https://github.com/stanfordnlp/dspy.git\n",
            "  Cloning https://github.com/stanfordnlp/dspy.git to /tmp/pip-req-build-uugbrzj8\n",
            "  Running command git clone --filter=blob:none --quiet https://github.com/stanfordnlp/dspy.git /tmp/pip-req-build-uugbrzj8\n",
            "  Resolved https://github.com/stanfordnlp/dspy.git to commit 16764d5e68d7f209814dbb54911d1583ef8f449b\n",
            "  Preparing metadata (setup.py) ... \u001b[?25l\u001b[?25hdone\n",
            "Requirement already satisfied: backoff<=2.2.1 in /usr/local/lib/python3.10/dist-packages (from dspy-ai==2.0.8) (2.2.1)\n",
            "Requirement already satisfied: joblib<=1.3.2 in /usr/local/lib/python3.10/dist-packages (from dspy-ai==2.0.8) (1.3.2)\n",
            "Collecting openai<=0.28.1 (from dspy-ai==2.0.8)\n",
            "  Using cached openai-0.28.1-py3-none-any.whl (76 kB)\n",
            "Requirement already satisfied: pandas<=2.1.1 in /usr/local/lib/python3.10/dist-packages (from dspy-ai==2.0.8) (1.5.3)\n",
            "Requirement already satisfied: regex<=2023.10.3 in /usr/local/lib/python3.10/dist-packages (from dspy-ai==2.0.8) (2023.6.3)\n",
            "Requirement already satisfied: ujson<=5.8.0 in /usr/local/lib/python3.10/dist-packages (from dspy-ai==2.0.8) (5.8.0)\n",
            "Requirement already satisfied: tqdm<=4.66.1 in /usr/local/lib/python3.10/dist-packages (from dspy-ai==2.0.8) (4.66.1)\n",
            "Requirement already satisfied: datasets<=2.14.6 in /usr/local/lib/python3.10/dist-packages (from dspy-ai==2.0.8) (2.14.6)\n",
            "Requirement already satisfied: requests<=2.31.0 in /usr/local/lib/python3.10/dist-packages (from dspy-ai==2.0.8) (2.31.0)\n",
            "Requirement already satisfied: optuna<=3.4.0 in /usr/local/lib/python3.10/dist-packages (from dspy-ai==2.0.8) (3.4.0)\n",
            "Requirement already satisfied: numpy>=1.17 in /usr/local/lib/python3.10/dist-packages (from datasets<=2.14.6->dspy-ai==2.0.8) (1.23.5)\n",
            "Requirement already satisfied: pyarrow>=8.0.0 in /usr/local/lib/python3.10/dist-packages (from datasets<=2.14.6->dspy-ai==2.0.8) (10.0.1)\n",
            "Requirement already satisfied: dill<0.3.8,>=0.3.0 in /usr/local/lib/python3.10/dist-packages (from datasets<=2.14.6->dspy-ai==2.0.8) (0.3.7)\n",
            "Requirement already satisfied: xxhash in /usr/local/lib/python3.10/dist-packages (from datasets<=2.14.6->dspy-ai==2.0.8) (3.4.1)\n",
            "Requirement already satisfied: multiprocess in /usr/local/lib/python3.10/dist-packages (from datasets<=2.14.6->dspy-ai==2.0.8) (0.70.15)\n",
            "Requirement already satisfied: fsspec[http]<=2023.10.0,>=2023.1.0 in /usr/local/lib/python3.10/dist-packages (from datasets<=2.14.6->dspy-ai==2.0.8) (2023.6.0)\n",
            "Requirement already satisfied: aiohttp in /usr/local/lib/python3.10/dist-packages (from datasets<=2.14.6->dspy-ai==2.0.8) (3.9.1)\n",
            "Requirement already satisfied: huggingface-hub<1.0.0,>=0.14.0 in /usr/local/lib/python3.10/dist-packages (from datasets<=2.14.6->dspy-ai==2.0.8) (0.20.1)\n",
            "Requirement already satisfied: packaging in /usr/local/lib/python3.10/dist-packages (from datasets<=2.14.6->dspy-ai==2.0.8) (23.2)\n",
            "Requirement already satisfied: pyyaml>=5.1 in /usr/local/lib/python3.10/dist-packages (from datasets<=2.14.6->dspy-ai==2.0.8) (6.0.1)\n",
            "Requirement already satisfied: alembic>=1.5.0 in /usr/local/lib/python3.10/dist-packages (from optuna<=3.4.0->dspy-ai==2.0.8) (1.13.1)\n",
            "Requirement already satisfied: colorlog in /usr/local/lib/python3.10/dist-packages (from optuna<=3.4.0->dspy-ai==2.0.8) (6.8.0)\n",
            "Requirement already satisfied: sqlalchemy>=1.3.0 in /usr/local/lib/python3.10/dist-packages (from optuna<=3.4.0->dspy-ai==2.0.8) (2.0.23)\n",
            "Requirement already satisfied: python-dateutil>=2.8.1 in /usr/local/lib/python3.10/dist-packages (from pandas<=2.1.1->dspy-ai==2.0.8) (2.8.2)\n",
            "Requirement already satisfied: pytz>=2020.1 in /usr/local/lib/python3.10/dist-packages (from pandas<=2.1.1->dspy-ai==2.0.8) (2023.3.post1)\n",
            "Requirement already satisfied: charset-normalizer<4,>=2 in /usr/local/lib/python3.10/dist-packages (from requests<=2.31.0->dspy-ai==2.0.8) (3.3.2)\n",
            "Requirement already satisfied: idna<4,>=2.5 in /usr/local/lib/python3.10/dist-packages (from requests<=2.31.0->dspy-ai==2.0.8) (3.6)\n",
            "Requirement already satisfied: urllib3<3,>=1.21.1 in /usr/local/lib/python3.10/dist-packages (from requests<=2.31.0->dspy-ai==2.0.8) (2.0.7)\n",
            "Requirement already satisfied: certifi>=2017.4.17 in /usr/local/lib/python3.10/dist-packages (from requests<=2.31.0->dspy-ai==2.0.8) (2023.11.17)\n",
            "Requirement already satisfied: Mako in /usr/local/lib/python3.10/dist-packages (from alembic>=1.5.0->optuna<=3.4.0->dspy-ai==2.0.8) (1.3.0)\n",
            "Requirement already satisfied: typing-extensions>=4 in /usr/local/lib/python3.10/dist-packages (from alembic>=1.5.0->optuna<=3.4.0->dspy-ai==2.0.8) (4.9.0)\n",
            "Requirement already satisfied: attrs>=17.3.0 in /usr/local/lib/python3.10/dist-packages (from aiohttp->datasets<=2.14.6->dspy-ai==2.0.8) (23.1.0)\n",
            "Requirement already satisfied: multidict<7.0,>=4.5 in /usr/local/lib/python3.10/dist-packages (from aiohttp->datasets<=2.14.6->dspy-ai==2.0.8) (6.0.4)\n",
            "Requirement already satisfied: yarl<2.0,>=1.0 in /usr/local/lib/python3.10/dist-packages (from aiohttp->datasets<=2.14.6->dspy-ai==2.0.8) (1.9.4)\n",
            "Requirement already satisfied: frozenlist>=1.1.1 in /usr/local/lib/python3.10/dist-packages (from aiohttp->datasets<=2.14.6->dspy-ai==2.0.8) (1.4.1)\n",
            "Requirement already satisfied: aiosignal>=1.1.2 in /usr/local/lib/python3.10/dist-packages (from aiohttp->datasets<=2.14.6->dspy-ai==2.0.8) (1.3.1)\n",
            "Requirement already satisfied: async-timeout<5.0,>=4.0 in /usr/local/lib/python3.10/dist-packages (from aiohttp->datasets<=2.14.6->dspy-ai==2.0.8) (4.0.3)\n",
            "Requirement already satisfied: filelock in /usr/local/lib/python3.10/dist-packages (from huggingface-hub<1.0.0,>=0.14.0->datasets<=2.14.6->dspy-ai==2.0.8) (3.13.1)\n",
            "Requirement already satisfied: six>=1.5 in /usr/local/lib/python3.10/dist-packages (from python-dateutil>=2.8.1->pandas<=2.1.1->dspy-ai==2.0.8) (1.16.0)\n",
            "Requirement already satisfied: greenlet!=0.4.17 in /usr/local/lib/python3.10/dist-packages (from sqlalchemy>=1.3.0->optuna<=3.4.0->dspy-ai==2.0.8) (3.0.2)\n",
            "Requirement already satisfied: MarkupSafe>=0.9.2 in /usr/local/lib/python3.10/dist-packages (from Mako->alembic>=1.5.0->optuna<=3.4.0->dspy-ai==2.0.8) (2.1.3)\n",
            "Installing collected packages: openai\n",
            "  Attempting uninstall: openai\n",
            "    Found existing installation: openai 1.6.1\n",
            "    Uninstalling openai-1.6.1:\n",
            "      Successfully uninstalled openai-1.6.1\n",
            "\u001b[31mERROR: pip's dependency resolver does not currently take into account all the packages that are installed. This behaviour is the source of the following dependency conflicts.\n",
            "llmx 0.0.15a0 requires cohere, which is not installed.\n",
            "llmx 0.0.15a0 requires tiktoken, which is not installed.\u001b[0m\u001b[31m\n",
            "\u001b[0mSuccessfully installed openai-0.28.1\n"
          ]
        },
        {
          "data": {
            "application/vnd.colab-display-data+json": {
              "pip_warning": {
                "packages": [
                  "openai"
                ]
              }
            }
          },
          "metadata": {},
          "output_type": "display_data"
        },
        {
          "name": "stdout",
          "output_type": "stream",
          "text": [
            "Requirement already satisfied: openai in /usr/local/lib/python3.10/dist-packages (0.28.1)\n",
            "Collecting openai\n",
            "  Using cached openai-1.6.1-py3-none-any.whl (225 kB)\n",
            "Requirement already satisfied: anyio<5,>=3.5.0 in /usr/local/lib/python3.10/dist-packages (from openai) (3.7.1)\n",
            "Requirement already satisfied: distro<2,>=1.7.0 in /usr/lib/python3/dist-packages (from openai) (1.7.0)\n",
            "Requirement already satisfied: httpx<1,>=0.23.0 in /usr/local/lib/python3.10/dist-packages (from openai) (0.26.0)\n",
            "Requirement already satisfied: pydantic<3,>=1.9.0 in /usr/local/lib/python3.10/dist-packages (from openai) (1.10.13)\n",
            "Requirement already satisfied: sniffio in /usr/local/lib/python3.10/dist-packages (from openai) (1.3.0)\n",
            "Requirement already satisfied: tqdm>4 in /usr/local/lib/python3.10/dist-packages (from openai) (4.66.1)\n",
            "Requirement already satisfied: typing-extensions<5,>=4.7 in /usr/local/lib/python3.10/dist-packages (from openai) (4.9.0)\n",
            "Requirement already satisfied: idna>=2.8 in /usr/local/lib/python3.10/dist-packages (from anyio<5,>=3.5.0->openai) (3.6)\n",
            "Requirement already satisfied: exceptiongroup in /usr/local/lib/python3.10/dist-packages (from anyio<5,>=3.5.0->openai) (1.2.0)\n",
            "Requirement already satisfied: certifi in /usr/local/lib/python3.10/dist-packages (from httpx<1,>=0.23.0->openai) (2023.11.17)\n",
            "Requirement already satisfied: httpcore==1.* in /usr/local/lib/python3.10/dist-packages (from httpx<1,>=0.23.0->openai) (1.0.2)\n",
            "Requirement already satisfied: h11<0.15,>=0.13 in /usr/local/lib/python3.10/dist-packages (from httpcore==1.*->httpx<1,>=0.23.0->openai) (0.14.0)\n",
            "Installing collected packages: openai\n",
            "  Attempting uninstall: openai\n",
            "    Found existing installation: openai 0.28.1\n",
            "    Uninstalling openai-0.28.1:\n",
            "      Successfully uninstalled openai-0.28.1\n",
            "\u001b[31mERROR: pip's dependency resolver does not currently take into account all the packages that are installed. This behaviour is the source of the following dependency conflicts.\n",
            "llmx 0.0.15a0 requires cohere, which is not installed.\n",
            "llmx 0.0.15a0 requires tiktoken, which is not installed.\n",
            "dspy-ai 2.0.8 requires openai<=0.28.1, but you have openai 1.6.1 which is incompatible.\u001b[0m\u001b[31m\n",
            "\u001b[0mSuccessfully installed openai-1.6.1\n",
            "Requirement already satisfied: datasets in /usr/local/lib/python3.10/dist-packages (2.14.6)\n",
            "Requirement already satisfied: numpy>=1.17 in /usr/local/lib/python3.10/dist-packages (from datasets) (1.23.5)\n",
            "Requirement already satisfied: pyarrow>=8.0.0 in /usr/local/lib/python3.10/dist-packages (from datasets) (10.0.1)\n",
            "Requirement already satisfied: dill<0.3.8,>=0.3.0 in /usr/local/lib/python3.10/dist-packages (from datasets) (0.3.7)\n",
            "Requirement already satisfied: pandas in /usr/local/lib/python3.10/dist-packages (from datasets) (1.5.3)\n",
            "Requirement already satisfied: requests>=2.19.0 in /usr/local/lib/python3.10/dist-packages (from datasets) (2.31.0)\n",
            "Requirement already satisfied: tqdm>=4.62.1 in /usr/local/lib/python3.10/dist-packages (from datasets) (4.66.1)\n",
            "Requirement already satisfied: xxhash in /usr/local/lib/python3.10/dist-packages (from datasets) (3.4.1)\n",
            "Requirement already satisfied: multiprocess in /usr/local/lib/python3.10/dist-packages (from datasets) (0.70.15)\n",
            "Requirement already satisfied: fsspec[http]<=2023.10.0,>=2023.1.0 in /usr/local/lib/python3.10/dist-packages (from datasets) (2023.6.0)\n",
            "Requirement already satisfied: aiohttp in /usr/local/lib/python3.10/dist-packages (from datasets) (3.9.1)\n",
            "Requirement already satisfied: huggingface-hub<1.0.0,>=0.14.0 in /usr/local/lib/python3.10/dist-packages (from datasets) (0.20.1)\n",
            "Requirement already satisfied: packaging in /usr/local/lib/python3.10/dist-packages (from datasets) (23.2)\n",
            "Requirement already satisfied: pyyaml>=5.1 in /usr/local/lib/python3.10/dist-packages (from datasets) (6.0.1)\n",
            "Requirement already satisfied: attrs>=17.3.0 in /usr/local/lib/python3.10/dist-packages (from aiohttp->datasets) (23.1.0)\n",
            "Requirement already satisfied: multidict<7.0,>=4.5 in /usr/local/lib/python3.10/dist-packages (from aiohttp->datasets) (6.0.4)\n",
            "Requirement already satisfied: yarl<2.0,>=1.0 in /usr/local/lib/python3.10/dist-packages (from aiohttp->datasets) (1.9.4)\n",
            "Requirement already satisfied: frozenlist>=1.1.1 in /usr/local/lib/python3.10/dist-packages (from aiohttp->datasets) (1.4.1)\n",
            "Requirement already satisfied: aiosignal>=1.1.2 in /usr/local/lib/python3.10/dist-packages (from aiohttp->datasets) (1.3.1)\n",
            "Requirement already satisfied: async-timeout<5.0,>=4.0 in /usr/local/lib/python3.10/dist-packages (from aiohttp->datasets) (4.0.3)\n",
            "Requirement already satisfied: filelock in /usr/local/lib/python3.10/dist-packages (from huggingface-hub<1.0.0,>=0.14.0->datasets) (3.13.1)\n",
            "Requirement already satisfied: typing-extensions>=3.7.4.3 in /usr/local/lib/python3.10/dist-packages (from huggingface-hub<1.0.0,>=0.14.0->datasets) (4.9.0)\n",
            "Requirement already satisfied: charset-normalizer<4,>=2 in /usr/local/lib/python3.10/dist-packages (from requests>=2.19.0->datasets) (3.3.2)\n",
            "Requirement already satisfied: idna<4,>=2.5 in /usr/local/lib/python3.10/dist-packages (from requests>=2.19.0->datasets) (3.6)\n",
            "Requirement already satisfied: urllib3<3,>=1.21.1 in /usr/local/lib/python3.10/dist-packages (from requests>=2.19.0->datasets) (2.0.7)\n",
            "Requirement already satisfied: certifi>=2017.4.17 in /usr/local/lib/python3.10/dist-packages (from requests>=2.19.0->datasets) (2023.11.17)\n",
            "Requirement already satisfied: python-dateutil>=2.8.1 in /usr/local/lib/python3.10/dist-packages (from pandas->datasets) (2.8.2)\n",
            "Requirement already satisfied: pytz>=2020.1 in /usr/local/lib/python3.10/dist-packages (from pandas->datasets) (2023.3.post1)\n",
            "Requirement already satisfied: six>=1.5 in /usr/local/lib/python3.10/dist-packages (from python-dateutil>=2.8.1->pandas->datasets) (1.16.0)\n",
            "Requirement already satisfied: joblib in /usr/local/lib/python3.10/dist-packages (1.3.2)\n"
          ]
        }
      ],
      "source": [
        "!pip install git+https://github.com/stanfordnlp/dspy.git\n",
        "!pip install -U openai\n",
        "import openai\n",
        "!pip install datasets\n",
        "!pip install joblib\n",
        "\n",
        "from datasets import load_dataset"
      ]
    },
    {
      "cell_type": "code",
      "execution_count": 5,
      "metadata": {
        "id": "nLn79E5cOm3C"
      },
      "outputs": [],
      "source": [
        "from google.colab import userdata\n",
        "api_key = userdata.get('api_key')"
      ]
    },
    {
      "cell_type": "code",
      "execution_count": 6,
      "metadata": {
        "id": "DvMcVXILr9xh"
      },
      "outputs": [],
      "source": [
        "import dspy\n",
        "model=dspy.OpenAI(model='gpt-3.5-turbo', api_key=api_key)"
      ]
    },
    {
      "cell_type": "code",
      "execution_count": 7,
      "metadata": {
        "id": "4kXfXYZ8svTL"
      },
      "outputs": [],
      "source": [
        "dspy.settings.configure(lm=model)"
      ]
    },
    {
      "cell_type": "code",
      "execution_count": 8,
      "metadata": {
        "id": "wJbt32vEVmqM"
      },
      "outputs": [],
      "source": [
        "# medqa_dataset = load_dataset(\"bigbio/med_qa\")\n",
        "# print(medqa_dataset)"
      ]
    },
    {
      "cell_type": "code",
      "execution_count": 9,
      "metadata": {
        "id": "Q6bW4-MVhuz_"
      },
      "outputs": [],
      "source": [
        "#PubMedQA\n",
        "# pubmedqa_dataset = load_dataset(\"bigbio/pubmed_qa\")\n",
        "# print(pubmedqa_dataset)"
      ]
    },
    {
      "cell_type": "code",
      "execution_count": 10,
      "metadata": {
        "id": "bgepSdgphyFj"
      },
      "outputs": [],
      "source": [
        "#MedMCQA\n",
        "# medmcqa_dataset = load_dataset(\"medmcqa\")\n",
        "# print(medmcqa_dataset)"
      ]
    },
    {
      "cell_type": "code",
      "execution_count": 11,
      "metadata": {
        "id": "kipjh8fuhzz6"
      },
      "outputs": [],
      "source": [
        "#MMLU: clinical knowledge, medical genetics, anatomy, professional medicine, college biology, and college medicine. These are the datasets we will be using for our project.\n",
        "# knowledges = ['clinical_knowledge','medical_genetics','anatomy', 'professional_medicine', 'college_biology', 'college_medicine']\n",
        "# mmlu_dataset_professional = load_dataset(\"cais/mmlu\",'professional_medicine')"
      ]
    },
    {
      "cell_type": "code",
      "execution_count": 12,
      "metadata": {
        "id": "_GDXvApnZdRT"
      },
      "outputs": [],
      "source": [
        "medqa_dataset = load_dataset(\"bigbio/med_qa\")\n",
        "\n",
        "#training on the first 20 questions\n",
        "train_subset = medqa_dataset[\"train\"][:20]\n",
        "\n",
        "train_questions = train_subset[\"question\"]\n",
        "train_answers_id = train_subset[\"answer_idx\"]\n",
        "train_options= train_subset[\"options\"]\n",
        "train_answer = train_subset[\"answer\"]"
      ]
    },
    {
      "cell_type": "code",
      "execution_count": 13,
      "metadata": {
        "id": "b8tmRe0vJ_Zb"
      },
      "outputs": [],
      "source": [
        "val_subset = medqa_dataset[\"validation\"][:20]\n",
        "\n",
        "val_questions = val_subset[\"question\"]\n",
        "val_answers_id = val_subset[\"answer_idx\"]\n",
        "val_options= val_subset[\"options\"]\n",
        "val_answer = val_subset[\"answer\"]\n",
        "\n",
        "formatted_val_options = [' '.join(f\"{option['key']} {option['value']}\" for option in options) for options in val_options]"
      ]
    },
    {
      "cell_type": "code",
      "execution_count": 13,
      "metadata": {
        "id": "HOBEN1BuKWmT"
      },
      "outputs": [],
      "source": []
    },
    {
      "cell_type": "code",
      "execution_count": 14,
      "metadata": {
        "colab": {
          "base_uri": "https://localhost:8080/"
        },
        "id": "7Z-qf9lZG103",
        "outputId": "9bb10df1-8a84-414b-d88f-7b48740783d9"
      },
      "outputs": [
        {
          "name": "stdout",
          "output_type": "stream",
          "text": [
            "DatasetDict({\n",
            "    train: Dataset({\n",
            "        features: ['meta_info', 'question', 'answer_idx', 'answer', 'options'],\n",
            "        num_rows: 10178\n",
            "    })\n",
            "    test: Dataset({\n",
            "        features: ['meta_info', 'question', 'answer_idx', 'answer', 'options'],\n",
            "        num_rows: 1273\n",
            "    })\n",
            "    validation: Dataset({\n",
            "        features: ['meta_info', 'question', 'answer_idx', 'answer', 'options'],\n",
            "        num_rows: 1272\n",
            "    })\n",
            "})\n"
          ]
        }
      ],
      "source": [
        "print(medqa_dataset)"
      ]
    },
    {
      "cell_type": "code",
      "execution_count": 15,
      "metadata": {
        "id": "xYhR__Y1ZAvP"
      },
      "outputs": [],
      "source": [
        "# # Data processing\n",
        "formatted_train_options = [' '.join(f\"{option['key']} {option['value']}\" for option in options) for options in train_options]\n",
        "# print(formatted_train_options)"
      ]
    },
    {
      "cell_type": "code",
      "execution_count": 16,
      "metadata": {
        "id": "lai_CFeGrEOG"
      },
      "outputs": [],
      "source": [
        "# We are expecting a single choice answer so signature accordingly.\n",
        "class MultipleChoiceQA(dspy.Signature):\n",
        "    \"\"\"Answer questions with single letter answers.\"\"\"\n",
        "\n",
        "    question = dspy.InputField(desc=\"The multiple-choice question.\")\n",
        "    options = dspy.InputField(desc=\"The set of options in the format : A option1 B option2 C option3 D option4 E option5 where A corresponds to option1, B to option2 and so on.\")\n",
        "    answer = dspy.OutputField(desc=\"A single-letter answer corresponding to the selected option.\")"
      ]
    },
    {
      "cell_type": "code",
      "execution_count": 17,
      "metadata": {
        "id": "Sw9UmbHjuzwR"
      },
      "outputs": [],
      "source": [
        "class BasicQA(dspy.Signature):\n",
        "    \"\"\"Answer questions with short factoid answers.\"\"\"\n",
        "\n",
        "    question = dspy.InputField()\n",
        "    answer = dspy.OutputField(desc=\"often between 1 and 5 words\")"
      ]
    },
    {
      "cell_type": "code",
      "execution_count": 18,
      "metadata": {
        "colab": {
          "base_uri": "https://localhost:8080/"
        },
        "id": "Es8cWyFowXHr",
        "outputId": "ca4d8475-0702-4152-8e15-cce38ca0af5e"
      },
      "outputs": [
        {
          "name": "stdout",
          "output_type": "stream",
          "text": [
            "A 3-month-old baby died suddenly at night while asleep. His mother noticed that he had died only after she awoke in the morning. No cause of death was determined based on the autopsy. Which of the following precautions could have prevented the death of the baby?\n",
            "[{'key': 'A', 'value': 'Placing the infant in a supine position on a firm mattress while sleeping'}, {'key': 'B', 'value': 'Routine postnatal electrocardiogram (ECG)'}, {'key': 'C', 'value': 'Keeping the infant covered and maintaining a high room temperature'}, {'key': 'D', 'value': 'Application of a device to maintain the sleeping position'}, {'key': 'E', 'value': 'Avoiding pacifier use during sleep'}]\n",
            "Placing the infant in a supine position on a firm mattress while sleeping\n",
            "['E', 'A', 'A', 'A', 'E', 'C', 'E', 'A', 'E', 'E', 'C', 'D', 'D', 'C', 'D', 'C', 'E', 'D', 'E', 'B']\n"
          ]
        }
      ],
      "source": [
        "print(train_questions[1])\n",
        "print(train_options[1])\n",
        "print(train_answer[1])\n",
        "print(train_answers_id)"
      ]
    },
    {
      "cell_type": "code",
      "execution_count": 19,
      "metadata": {
        "id": "8UPlw6OCvGC2"
      },
      "outputs": [],
      "source": [
        "# generate_answer = dspy.Predict(MultipleChoiceQA)\n",
        "# dev_example=train_questions[0]\n",
        "# pred = generate_answer(question=dev_example,options=formatted_train_options[0])\n",
        "# print(f\"Question: {dev_example}\")\n",
        "# print(f\"Predicted Answer: {pred.answer}\")"
      ]
    },
    {
      "cell_type": "code",
      "execution_count": 20,
      "metadata": {
        "id": "Oz1gO3CtudEj"
      },
      "outputs": [],
      "source": [
        "# generate_answer = dspy.Predict(BasicQA)\n",
        "# dev_example='What is the capital of India?'\n",
        "# pred = generate_answer(question=dev_example)\n",
        "# print(f\"Question: {dev_example}\")\n",
        "# print(f\"Predicted Answer: {pred.answer}\")"
      ]
    },
    {
      "cell_type": "code",
      "execution_count": 21,
      "metadata": {
        "id": "EaicGrqZf2at"
      },
      "outputs": [],
      "source": [
        "# Shuffling the questions.\n",
        "import random\n",
        "generate_answer = dspy.Predict(MultipleChoiceQA)\n",
        "\n",
        "def generate_responses(questions: list[str], option_sets: list[str]) -> list[str]:\n",
        "    responses = []\n",
        "    combined_data = list(zip(questions, option_sets))\n",
        "    random.shuffle(combined_data)\n",
        "    shuffled_questions, shuffled_option_sets = zip(*combined_data)\n",
        "\n",
        "    for question, options in zip(shuffled_questions, shuffled_option_sets):\n",
        "        pred_response = generate_answer(question=question, options=options)\n",
        "        generated_response = pred_response.answer\n",
        "        responses.append(generated_response)\n",
        "\n",
        "    return responses\n",
        "\n",
        "# def generate_responses(questions, option_sets):\n",
        "#     responses = []\n",
        "#     for question, options_list in zip(questions, option_sets):\n",
        "#         pred_response = generate_answer(question=question, options=options_list)\n",
        "#         generated_response = pred_response.answer\n",
        "#         responses.append(generated_response)\n",
        "#     return responses"
      ]
    },
    {
      "cell_type": "code",
      "execution_count": 22,
      "metadata": {
        "id": "_AHKpQUbn6Ws"
      },
      "outputs": [],
      "source": [
        "def test_generate_responses():\n",
        "  assert generate_responses(['What are the symptoms of a headache?'],['A fever B cold C cough D high bp E migraine']) == ['E']\n",
        "test_generate_responses()"
      ]
    },
    {
      "cell_type": "code",
      "execution_count": 23,
      "metadata": {
        "id": "XKI6F531WL63"
      },
      "outputs": [],
      "source": [
        "def calculate_medqa_accuracy(ques, pred: list[str], true: list[str])-> float:\n",
        "    correct_count = 0\n",
        "\n",
        "    for p, t in zip(pred, true):\n",
        "        if p == t:\n",
        "            correct_count += 1\n",
        "\n",
        "    accuracy = correct_count / len(pred)\n",
        "    return accuracy"
      ]
    },
    {
      "cell_type": "code",
      "execution_count": 24,
      "metadata": {
        "id": "ndD_bwd_rwJ6"
      },
      "outputs": [],
      "source": [
        "def validate_answer(ques, pred: list[str], ref: list[str])-> bool:\n",
        "  return [p==t for p, t in zip(pred, ref)]"
      ]
    },
    {
      "cell_type": "code",
      "execution_count": 25,
      "metadata": {
        "id": "uKlQ13dAwQuM"
      },
      "outputs": [],
      "source": [
        "def create_train_set(train_questions, train_options, train_answers):\n",
        "    train_set = []\n",
        "\n",
        "    for question, options, answer in zip(train_questions, train_options, train_answers):\n",
        "        example = dspy.Example(\n",
        "            question=question,\n",
        "            options=options,\n",
        "            answer=answer\n",
        "        ).with_inputs(\"question\", \"options\")\n",
        "\n",
        "        train_set.append(example)\n",
        "\n",
        "    return train_set"
      ]
    },
    {
      "cell_type": "code",
      "execution_count": 26,
      "metadata": {
        "id": "hIkAh9DnKhtp"
      },
      "outputs": [],
      "source": [
        "val_set = create_train_set(val_questions, formatted_val_options, val_answers_id)"
      ]
    },
    {
      "cell_type": "code",
      "execution_count": 27,
      "metadata": {
        "colab": {
          "base_uri": "https://localhost:8080/"
        },
        "id": "YUB5jz3RKwRs",
        "outputId": "af1696dd-e758-4e68-b9ba-a29994c9ccec"
      },
      "outputs": [
        {
          "name": "stdout",
          "output_type": "stream",
          "text": [
            "20\n"
          ]
        }
      ],
      "source": [
        "print(len(val_set))"
      ]
    },
    {
      "cell_type": "code",
      "execution_count": 28,
      "metadata": {
        "id": "FKzwxqxbwTyj"
      },
      "outputs": [],
      "source": [
        "train_set3 = create_train_set(train_questions, formatted_train_options, train_answers_id)"
      ]
    },
    {
      "cell_type": "code",
      "execution_count": 29,
      "metadata": {
        "colab": {
          "base_uri": "https://localhost:8080/"
        },
        "id": "FON3NBb2waaB",
        "outputId": "f8e8dec7-64b2-41c3-bbb2-09a4be17465b"
      },
      "outputs": [
        {
          "name": "stdout",
          "output_type": "stream",
          "text": [
            "20\n"
          ]
        }
      ],
      "source": [
        "print(len(train_set3))"
      ]
    },
    {
      "cell_type": "code",
      "execution_count": 30,
      "metadata": {
        "colab": {
          "base_uri": "https://localhost:8080/"
        },
        "id": "blEq8I2DuXAz",
        "outputId": "3691d5ef-0bd5-4be1-bd8f-d2086563b826"
      },
      "outputs": [
        {
          "name": "stdout",
          "output_type": "stream",
          "text": [
            "['A 23-year-old pregnant woman at 22 weeks gestation presents with burning upon urination. She states it started 1 day ago and has been worsening despite drinking more water and taking cranberry extract. She otherwise feels well and is followed by a doctor for her pregnancy. Her temperature is 97.7°F (36.5°C), blood pressure is 122/77 mmHg, pulse is 80/min, respirations are 19/min, and oxygen saturation is 98% on room air. Physical exam is notable for an absence of costovertebral angle tenderness and a gravid uterus. Which of the following is the best treatment for this patient?', 'A 3-month-old baby died suddenly at night while asleep. His mother noticed that he had died only after she awoke in the morning. No cause of death was determined based on the autopsy. Which of the following precautions could have prevented the death of the baby?', \"A mother brings her 3-week-old infant to the pediatrician's office because she is concerned about his feeding habits. He was born without complications and has not had any medical problems up until this time. However, for the past 4 days, he has been fussy, is regurgitating all of his feeds, and his vomit is yellow in color. On physical exam, the child's abdomen is minimally distended but no other abnormalities are appreciated. Which of the following embryologic errors could account for this presentation?\", 'A pulmonary autopsy specimen from a 58-year-old woman who died of acute hypoxic respiratory failure was examined. She had recently undergone surgery for a fractured femur 3 months ago. Initial hospital course was uncomplicated, and she was discharged to a rehab facility in good health. Shortly after discharge home from rehab, she developed sudden shortness of breath and had cardiac arrest. Resuscitation was unsuccessful. On histological examination of lung tissue, fibrous connective tissue around the lumen of the pulmonary artery is observed. Which of the following is the most likely pathogenesis for the present findings?', \"A 20-year-old woman presents with menorrhagia for the past several years. She says that her menses “have always been heavy”, and she has experienced easy bruising for as long as she can remember. Family history is significant for her mother, who had similar problems with bruising easily. The patient's vital signs include: heart rate 98/min, respiratory rate 14/min, temperature 36.1°C (96.9°F), and blood pressure 110/87 mm Hg. Physical examination is unremarkable. Laboratory tests show the following: platelet count 200,000/mm3, PT 12 seconds, and PTT 43 seconds. Which of the following is the most likely cause of this patient’s symptoms?\", 'A 40-year-old zookeeper presents to the emergency department complaining of severe abdominal pain that radiates to her back, and nausea. The pain started 2 days ago and slowly increased until she could not tolerate it any longer. Past medical history is significant for hypertension and hypothyroidism. Additionally, she reports that she was recently stung by one of the zoo’s smaller scorpions, but did not seek medical treatment. She takes aspirin, levothyroxine, oral contraceptive pills, and a multivitamin daily. Family history is noncontributory. Today, her blood pressure is 108/58 mm Hg, heart rate is 99/min, respiratory rate is 21/min, and temperature is 37.0°C (98.6°F). On physical exam, she is a well-developed, obese female that looks unwell. Her heart has a regular rate and rhythm. Radial pulses are weak but symmetric. Her lungs are clear to auscultation bilaterally. Her lateral left ankle is swollen, erythematous, and painful to palpate. An abdominal CT is consistent with acute pancreatitis. Which of the following is the most likely etiology for this patient’s disease?', 'A 25-year-old primigravida presents to her physician for a routine prenatal visit. She is at 34 weeks gestation, as confirmed by an ultrasound examination. She has no complaints, but notes that the new shoes she bought 2 weeks ago do not fit anymore. The course of her pregnancy has been uneventful and she has been compliant with the recommended prenatal care. Her medical history is unremarkable. She has a 15-pound weight gain since the last visit 3 weeks ago. Her vital signs are as follows: blood pressure, 148/90 mm Hg; heart rate, 88/min; respiratory rate, 16/min; and temperature, 36.6℃ (97.9℉). The blood pressure on repeat assessment 4 hours later is 151/90 mm Hg. The fetal heart rate is 151/min. The physical examination is significant for 2+ pitting edema of the lower extremity. Which of the following tests o should confirm the probable condition of this patient?', \"A 3900-g (8.6-lb) male infant is delivered at 39 weeks' gestation via spontaneous vaginal delivery. Pregnancy and delivery were uncomplicated but a prenatal ultrasound at 20 weeks showed a defect in the pleuroperitoneal membrane. Further evaluation of this patient is most likely to show which of the following findings?\", 'A 62-year-old woman presents for a regular check-up. She complains of lightheadedness and palpitations which occur episodically. Past medical history is significant for a myocardial infarction 6 months ago and NYHA class II chronic heart failure. She also was diagnosed with grade I arterial hypertension 4 years ago. Current medications are aspirin 81 mg, atorvastatin 10 mg, enalapril 10 mg, and metoprolol 200 mg daily. Her vital signs are a blood pressure of 135/90 mm Hg, a heart rate of 125/min, a respiratory rate of 14/min, and a temperature of 36.5°C (97.7°F). Cardiopulmonary examination is significant for irregular heart rhythm and decreased S1 intensity. ECG is obtained and is shown in the picture (see image). Echocardiography shows a left ventricular ejection fraction of 39%. Which of the following drugs is the best choice for rate control in this patient?', 'A 35-year-old male presents to his primary care physician with complaints of seasonal allergies. He has been using intranasal vasoconstrictors several times per day for several weeks. What is a likely sequela of the chronic use of topical nasal decongestants?', \"A 46-year-old woman comes to the physician because of a 2-week history of diplopia and ocular pain when reading the newspaper. She also has a 3-month history of amenorrhea, hot flashes, and increased sweating. She reports that she has been overweight all her adult life and is happy to have lost 6.8-kg (15-lb) of weight in the past 2 months. Her pulse is 110/min, and blood pressure is 148/98 mm Hg. Physical examination shows moist palms and a nontender thyroid gland that is enlarged to two times its normal size. Ophthalmologic examination shows prominence of the globes of the eyes, bilateral lid retraction, conjunctival injection, and an inability to converge the eyes. There is no pain on movement of the extraocular muscles. Visual acuity is 20/20 bilaterally. Neurologic examination shows a fine resting tremor of the hands. Deep tendon reflexes are 3+ with a shortened relaxation phase. Which of the following is the most likely cause of this patient's ocular complaints?\", 'A 1-year-old boy presents to the emergency department with weakness and a change in his behavior. His parents state that they first noticed the change in his behavior this morning and it has been getting worse. They noticed the patient was initially weak in his upper body and arms, but now he won’t move his legs with as much strength or vigor as he used to. Physical exam is notable for bilateral ptosis with a sluggish pupillary response, a very weak sucking and gag reflex, and shallow respirations. The patient is currently drooling and his diaper is dry. The parents state he has not had a bowel movement in over 1 day. Which of the following is the pathophysiology of this patient’s condition?', 'A 9-month-old female is brought to the emergency department after experiencing a seizure. She was born at home and was normal at birth according to her parents. Since then, they have noticed that she does not appear to be achieving developmental milestones as quickly as her siblings, and often appears lethargic. Physical exam reveals microcephaly, very light pigmentation (as compared to her family), and a \"musty\" body odor. The varied manifestations of this disease can most likely be attributed to which of the following genetic principles?', 'A 23-year-old man comes to the physician for evaluation of decreased hearing, dizziness, and ringing in his right ear for the past 6 months. Physical examination shows multiple soft, yellow plaques and papules on his arms, chest, and back. There is sensorineural hearing loss and weakness of facial muscles bilaterally. His gait is unsteady. An MRI of the brain shows a 3-cm mass near the right internal auditory meatus and a 2-cm mass at the left cerebellopontine angle. The abnormal cells in these masses are most likely derived from which of the following embryological structures?', \"A 62-year-old woman comes to the physician because of coughing and fatigue during the past 2 years. In the morning, the cough is productive of white phlegm. She becomes short of breath walking up a flight of stairs. She has hypertension and hyperlipidemia. She has recently retired from working as a nurse at a homeless shelter. She has smoked 1 pack of cigarettes daily for 40 years. Current medications include ramipril and fenofibrate. Her temperature is 36.5°C (97.7°F), respirations are 24/min, pulse is 85/min, and blood pressure is 140/90 mm Hg. Scattered wheezing and rhonchi are heard throughout both lung fields. There are no murmurs, rubs, or gallops but heart sounds are distant. Which of the following is the most likely underlying cause of this patient's symptoms?\", 'A 68-year-old man presents to the emergency department with leg pain. He states that the pain started suddenly while he was walking outside. The patient has a past medical history of diabetes, hypertension, obesity, and atrial fibrillation. His temperature is 99.3°F (37.4°C), blood pressure is 152/98 mmHg, pulse is 97/min, respirations are 15/min, and oxygen saturation is 99% on room air. Physical exam is notable for a cold and pale left leg. The patient’s sensation is markedly diminished in the left leg when compared to the right, and his muscle strength is 1/5 in his left leg. Which of the following is the best next step in management?', 'A 76-year-old African American man presents to his primary care provider complaining of urinary frequency. He wakes up 3-4 times per night to urinate while he previously only had to wake up once per night. He also complains of post-void dribbling and difficulty initiating a stream of urine. He denies any difficulty maintaining an erection. His past medical history is notable for non-alcoholic fatty liver disease, hypertension, hyperlipidemia, and gout. He takes aspirin, atorvastatin, enalapril, and allopurinol. His family history is notable for prostate cancer in his father and lung cancer in his mother. He has a 15-pack-year smoking history and drinks alcohol socially. On digital rectal exam, his prostate is enlarged, smooth, and non-tender. Which of the following medications is indicated in this patient?', 'A 68-year-old man comes to the physician because of recurrent episodes of nausea and abdominal discomfort for the past 4 months. The discomfort is located in the upper abdomen and sometimes occurs after eating, especially after a big meal. He has tried to go for a walk after dinner to help with digestion, but his complaints have only increased. For the past 3 weeks he has also had symptoms while climbing the stairs to his apartment. He has type 2 diabetes mellitus, hypertension, and stage 2 peripheral arterial disease. He has smoked one pack of cigarettes daily for the past 45 years. He drinks one to two beers daily and occasionally more on weekends. His current medications include metformin, enalapril, and aspirin. He is 168 cm (5 ft 6 in) tall and weighs 126 kg (278 lb); BMI is 45 kg/m2. His temperature is 36.4°C (97.5°F), pulse is 78/min, and blood pressure is 148/86 mm Hg. On physical examination, the abdomen is soft and nontender with no organomegaly. Foot pulses are absent bilaterally. An ECG shows no abnormalities. Which of the following is the most appropriate next step in diagnosis?', \"A 27-year-old female presents to general medical clinic for a routine checkup. She has a genetic disease marked by a mutation in a chloride transporter. She has a history of chronic bronchitis. She has a brother with a similar history of infections as well as infertility. Which of the following is most likely true regarding a potential vitamin deficiency complication secondary to this patient's chronic illness?\", 'A previously healthy 36-year-old man comes to the physician for a yellow discoloration of his skin and dark-colored urine for 2 weeks. He does not drink any alcohol. Physical examination shows jaundice. Abdominal and neurologic examinations show no abnormalities. Serum studies show increased levels of alanine aminotransferase (ALT) and aspartate aminotransferase (AST). A liver biopsy is performed and a photomicrograph after periodic acid-Schiff-staining is shown. Which of the following is the most likely additional finding in this patient?']\n",
            "['A Ampicillin B Ceftriaxone C Ciprofloxacin D Doxycycline E Nitrofurantoin', 'A Placing the infant in a supine position on a firm mattress while sleeping B Routine postnatal electrocardiogram (ECG) C Keeping the infant covered and maintaining a high room temperature D Application of a device to maintain the sleeping position E Avoiding pacifier use during sleep', 'A Abnormal migration of ventral pancreatic bud B Complete failure of proximal duodenum to recanalize C Error in neural crest cell migration D Abnormal hypertrophy of the pylorus E Failure of lateral body folds to move ventrally and fuse in the midline', 'A Thromboembolism B Pulmonary ischemia C Pulmonary hypertension D Pulmonary passive congestion E Pulmonary hemorrhage', 'A Factor V Leiden B Hemophilia A C Lupus anticoagulant D Protein C deficiency E Von Willebrand disease', 'A Aspirin B Oral contraceptive pills C Scorpion sting D Hypothyroidism E Obesity', 'A Bilirubin assessment B Coagulation studies C Hematocrit assessment D Leukocyte count with differential E 24-hour urine protein', 'A Gastric fundus in the thorax B Pancreatic ring around the duodenum C Small and cystic kidneys D Hypertrophy of the gastric pylorus E Large bowel in the inguinal canal', 'A Atenolol B Verapamil C Diltiazem D Propafenone E Digoxin', 'A Epistaxis B Hypertension C Permanent loss of smell D Persistent nasal crusting E Persistent congestion', 'A Granulomatous inflammation of the cavernous sinus B Abnormal communication between the cavernous sinus and the internal carotid artery C Glycosaminoglycan accumulation in the orbit D Bacterial infection of the orbital contents E Sympathetic hyperactivity of levator palpebrae superioris\\n\"', 'A Antibodies against postsynaptic nicotinic cholinergic ion channels B Autoantibodies against the presynaptic voltage-gated calcium channels C Autoimmune demyelination of peripheral nerves D Blockade of presynaptic acetylcholine release at the neuromuscular junction E Lower motor neuron destruction in the anterior horn', 'A Anticipation B Incomplete penetrance C Multiple gene mutations D Pleiotropy E Variable expressivity', 'A Neural tube B Surface ectoderm C Neural crest D Notochord E Mesoderm', 'A Chronic decrease in pulmonary compliance B Local accumulation of kinins C Mycobacterial invasion of pulmonary parenchyma D Progressive obstruction of expiratory airflow E Incremental loss of functional residual capacity\\n\"', 'A CT angiogram B Graded exercise and aspirin C Heparin drip D Surgical thrombectomy E Tissue plasminogen activator', 'A Clonidine B Hydrochlorothiazide C Midodrine D Oxybutynin E Tamsulosin', 'A Esophagogastroduodenoscopy B CT scan of the abdomen C Hydrogen breath test D Cardiac stress test E Abdominal ultrasonography of the right upper quadrant', 'A It may result in connective tissue defects B It may result in corneal vascularization C It may result in the triad of confusion, ophthalmoplegia, and ataxia D It may be exacerbated by excessive ingestion of raw eggs E It may manifest itself as a prolonged PT', 'A Tropheryma whipplei-specific RNA on PCR B Bullous changes of the lung bases on chest CT C Beading of intra- and extrahepatic bile ducts on ERCP D Myocardial iron deposition on cardiovascular MRI E Dark corneal ring on slit-lamp examination']\n",
            "['E', 'A', 'A', 'A', 'E', 'C', 'E', 'A', 'E', 'E', 'C', 'D', 'D', 'C', 'D', 'C', 'E', 'D', 'E', 'B']\n"
          ]
        }
      ],
      "source": [
        "print(train_questions)\n",
        "print(formatted_train_options)\n",
        "print(train_answers_id)"
      ]
    },
    {
      "cell_type": "code",
      "execution_count": 31,
      "metadata": {
        "id": "hZ8JrtLPfOSe"
      },
      "outputs": [],
      "source": [
        "train_set = [dspy.Example(question=\"Which of the following is the primary function of insulin?\", options=\"A Glycogen breakdown B Protein synthesis C Glucose uptake D Lipid digestion E Oxygen transport\", answer=\"C\").with_inputs(\"question\",\"options\"),\n",
        "dspy.Example(question=\"What is the most common cause of acute pancreatitis?\", options=\"A Alcohol consumption B Gallstones C Trauma D Viral infection E Genetic predisposition\", answer=\"B\").with_inputs(\"question\",\"options\"),\n",
        "dspy.Example(question=\"Which of the following is a characteristic finding in rheumatoid arthritis?\", options=\"A HLA-B27 positivity B Anti-dsDNA antibodies C Rheumatoid factor positivity D Anti-Smith antibodies E Decreased C-reactive protein\", answer=\"C\").with_inputs(\"question\",\"options\"),\n",
        "dspy.Example(question=\"In a patient with chronic renal failure, which electrolyte imbalance is commonly observed?\", options=\"A Hyperkalemia B Hyponatremia C Hypocalcemia D Hyperphosphatemia E Hypomagnesemia\", answer=\"A\").with_inputs(\"question\",\"options\"),\n",
        "dspy.Example(question=\"Which class of antibiotics is known to cause irreversible ototoxicity?\", options=\"A Penicillins B Cephalosporins C Aminoglycosides D Tetracyclines E Macrolides\", answer=\"C\").with_inputs(\"question\",\"options\"),\n",
        "dspy.Example(question=\"What is the gold standard diagnostic test for acute appendicitis?\", options=\"A Ultrasound B CT scan C MRI D X-ray E Physical examination\", answer=\"B\").with_inputs(\"question\",\"options\"),\n",
        "dspy.Example(question=\"A patient with a history of frequent sun exposure presents with a nodular, pearly lesion on the face What is the most likely diagnosis?\", options=\"A Psoriasis B Basal cell carcinoma C Melanoma D Squamous cell carcinoma E Rosacea\", answer=\"B\").with_inputs(\"question\",\"options\"),\n",
        "dspy.Example(question=\"Which hormone is responsible for stimulating milk production in the mammary glands?\", options=\"A Progesterone B Prolactin C Estrogen D Oxytocin E Human chorionic gonadotropin (hCG)\", answer=\"B\").with_inputs(\"question\",\"options\"),\n",
        "dspy.Example(question=\"What is the first-line treatment for status epilepticus?\", options=\"A Diazepam B Phenytoin C Levetiracetam D Lorazepam E Phenobarbital\", answer=\"D\").with_inputs(\"question\",\"options\"),\n",
        "dspy.Example(question=\"A patient presents with chest pain that improves with leaning forward Which condition is most likely responsible for this symptom?\", options=\"A Myocardial infarction B Pericarditis C Angina pectoris D Aortic dissection E Pulmonary embolism\", answer=\"B\").with_inputs(\"question\",\"options\")]"
      ]
    },
    {
      "cell_type": "code",
      "execution_count": 31,
      "metadata": {
        "id": "wlgk87hs58UV"
      },
      "outputs": [],
      "source": []
    },
    {
      "cell_type": "code",
      "execution_count": 32,
      "metadata": {
        "id": "WTHkAa2oP7m2"
      },
      "outputs": [],
      "source": [
        "train_set2 = [\n",
        "    dspy.Example(question=\"Which of the following is the primary function of insulin?\", options=\"A. Glycogen breakdown B. Protein synthesis C. Glucose uptake D. Lipid digestion E. Oxygen transport\", answer=\"C\").with_inputs(\"question\",\"options\"),\n",
        "    dspy.Example(question=\"What is the most common cause of acute pancreatitis?\", options=\"A. Alcohol consumption B. Gallstones C. Trauma D. Viral infection E. Genetic predisposition\", answer=\"B\").with_inputs(\"question\",\"options\"),\n",
        "    dspy.Example(question=\"Which of the following is a characteristic finding in rheumatoid arthritis?\", options=\"A. HLA-B27 positivity B. Anti-dsDNA antibodies C. Rheumatoid factor positivity D. Anti-Smith antibodies E. Decreased C-reactive protein\", answer=\"C\").with_inputs(\"question\",\"options\"),\n",
        "    dspy.Example(question=\"In a patient with chronic renal failure, which electrolyte imbalance is commonly observed?\", options=\"A. Hyperkalemia B. Hyponatremia C. Hypocalcemia D. Hyperphosphatemia E. Hypomagnesemia\", answer=\"A\").with_inputs(\"question\",\"options\"),\n",
        "    dspy.Example(question=\"Which class of antibiotics is known to cause irreversible ototoxicity?\", options=\"A. Penicillins B. Cephalosporins C. Aminoglycosides D. Tetracyclines E. Macrolides\", answer=\"C\").with_inputs(\"question\",\"options\"),\n",
        "    dspy.Example(question=\"What is the gold standard diagnostic test for acute appendicitis?\", options=\"A. Ultrasound B. CT scan C. MRI D. X-ray E. Physical examination\", answer=\"B\").with_inputs(\"question\",\"options\"),\n",
        "    dspy.Example(question=\"A patient with a history of frequent sun exposure presents with a nodular, pearly lesion on the face. What is the most likely diagnosis?\", options=\"A. Psoriasis B. Basal cell carcinoma C. Melanoma D. Squamous cell carcinoma E. Rosacea\", answer=\"B\").with_inputs(\"question\",\"options\"),\n",
        "    dspy.Example(question=\"Which hormone is responsible for stimulating milk production in the mammary glands?\", options=\"A. Progesterone B. Prolactin C. Estrogen D. Oxytocin E. Human chorionic gonadotropin (hCG)\", answer=\"B\").with_inputs(\"question\",\"options\"),\n",
        "    dspy.Example(question=\"What is the first-line treatment for status epilepticus?\", options=\"A. Diazepam B. Phenytoin C. Levetiracetam D. Lorazepam E. Phenobarbital\", answer=\"D\").with_inputs(\"question\",\"options\"),\n",
        "    dspy.Example(question=\"A patient presents with chest pain that improves with leaning forward. Which condition is most likely responsible for this symptom?\", options=\"A. Myocardial infarction B. Pericarditis C. Angina pectoris D. Aortic dissection E. Pulmonary embolism\", answer=\"B\").with_inputs(\"question\",\"options\"),\n",
        "    dspy.Example(question=\"Which vitamin deficiency is associated with bleeding gums and easy bruising?\", options=\"A. Vitamin A B. Vitamin B12 C. Vitamin C D. Vitamin D E. Vitamin K\", answer=\"C\").with_inputs(\"question\",\"options\"),\n",
        "    dspy.Example(question=\"In a patient with suspected pulmonary embolism, which imaging modality is preferred for initial evaluation?\", options=\"A. Chest X-ray B. CT pulmonary angiography C. Ventilation-perfusion scan D. Magnetic resonance imaging (MRI) E. Ultrasound\", answer=\"B\").with_inputs(\"question\",\"options\"),\n",
        "    dspy.Example(question=\"A patient with a history of alcohol abuse presents with confusion, ataxia, and ophthalmoplegia. What is the most likely diagnosis?\", options=\"A. Wernicke's encephalopathy B. Korsakoff syndrome C. Delirium tremens D. Hepatic encephalopathy E. Cerebral contusion\", answer=\"A\").with_inputs(\"question\",\"options\"),\n",
        "    dspy.Example(question=\"Which of the following is a first-line treatment for hypertension in a patient with diabetes mellitus?\", options=\"A. Atenolol B. Lisinopril C. Hydrochlorothiazide D. Diltiazem E. Clonidine\", answer=\"B\").with_inputs(\"question\",\"options\"),\n",
        "    dspy.Example(question=\"What is the primary neurotransmitter involved in the pathophysiology of Alzheimer's disease?\", options=\"A. Dopamine B. Acetylcholine C. Serotonin D. Gamma-aminobutyric acid (GABA) E. Norepinephrine\", answer=\"B\").with_inputs(\"question\",\"options\"),\n",
        "    dspy.Example(question=\"A patient with a history of rheumatic heart disease presents with mitral valve stenosis. Which physical finding is characteristic of this condition?\", options=\"A. Loud S1 heart sound B. Opening snap C. Holosystolic murmur D. Pulsus paradoxus E. Systolic ejection murmur\", answer=\"B\").with_inputs(\"question\",\"options\"),\n",
        "    dspy.Example(question=\"What is the most common cause of viral myocarditis?\", options=\"A. Coxsackievirus B. Influenza virus C. Human immunodeficiency virus (HIV) D. Herpes simplex virus E. Epstein-Barr virus\", answer=\"A\").with_inputs(\"question\",\"options\"),\n",
        "    dspy.Example(question=\"Which of the following drugs is contraindicated in patients with a sulfa allergy?\", options=\"A. Cephalexin B. Amoxicillin C. Ciprofloxacin D. Trimethoprim-sulfamethoxazole E. Doxycycline\", answer=\"D\").with_inputs(\"question\",\"options\"),\n",
        "    dspy.Example(question=\"A patient presents with recurrent episodes of sudden-onset vertigo, hearing loss, and tinnitus. What is the most likely diagnosis?\", options=\"A. Migraine-associated vertigo B. Meniere's disease C. Vestibular neuritis D. Benign paroxysmal positional vertigo (BPPV) E. Labyrinthitis\", answer=\"B\").with_inputs(\"question\",\"options\"),\n",
        "    dspy.Example(question=\"Which of the following is a characteristic feature of polycystic ovary syndrome (PCOS)?\", options=\"A. Hyperprolactinemia B. Oligomenorrhea C. Hypogonadism D. Amenorrhea E. Increased estrogen levels\", answer=\"B\").with_inputs(\"question\",\"options\"),\n",
        "    dspy.Example(question=\"A patient with chronic kidney disease is prescribed a phosphate binder. Which medication is commonly used for this purpose?\", options=\"A. Calcium carbonate B. Sevelamer C. Furosemide D. Spironolactone E. Enalapril\", answer=\"B\").with_inputs(\"question\",\"options\"),\n",
        "    dspy.Example(question=\"What is the classic triad of symptoms in diabetes insipidus?\", options=\"A. Polyuria, polydipsia, weight loss B. Polyuria, polydipsia, hyperglycemia C. Polyuria, polydipsia, hypotension D. Polyuria, polydipsia, hypernatremia E. Polyuria, polydipsia, hypoglycemia\", answer=\"D\").with_inputs(\"question\",\"options\"),\n",
        "    dspy.Example(question=\"A newborn presents with abdominal distension, vomiting, and failure to pass meconium. What is the most likely diagnosis?\", options=\"A. Intussusception B. Hirschsprung disease C. Pyloric stenosis D. Meconium ileus E. Imperforate anus\", answer=\"D\").with_inputs(\"question\",\"options\"),\n",
        "    dspy.Example(question=\"Which of the following is a common side effect of angiotensin-converting enzyme (ACE) inhibitors?\", options=\"A. Hyperkalemia B. Hypokalemia C. Hypercalcemia D. Hyponatremia E. Hypoglycemia\", answer=\"A\").with_inputs(\"question\",\"options\"),\n",
        "    dspy.Example(question=\"A patient with a history of chronic alcohol abuse presents with bleeding tendencies. Which vitamin deficiency is most likely responsible for this clinical manifestation?\", options=\"A. Vitamin A B. Vitamin B12 C. Vitamin C D. Vitamin D E. Vitamin K\", answer=\"E\").with_inputs(\"question\",\"options\"),\n",
        "    dspy.Example(question=\"What is the first-line treatment for uncomplicated urinary tract infection (UTI) in a non-pregnant woman?\", options=\"A. Ciprofloxacin B. Amoxicillin C. Trimethoprim-sulfamethoxazole D. Nitrofurantoin E. Doxycycline\", answer=\"D\").with_inputs(\"question\",\"options\"),\n",
        "    dspy.Example(question=\"A patient presents with a severe headache, photophobia, and a positive Brudzinski sign. What is the most likely diagnosis?\", options=\"A. Migraine headache B. Tension-type headache C. Cluster headache D. Subarachnoid hemorrhage E. Sinusitis\", answer=\"D\").with_inputs(\"question\",\"options\"),\n",
        "    dspy.Example(question=\"Which type of hepatitis is most commonly transmitted through contaminated food and water?\", options=\"A. Hepatitis A B. Hepatitis B C. Hepatitis C D. Hepatitis D E. Hepatitis E\", answer=\"A\").with_inputs(\"question\",\"options\"),\n",
        "    dspy.Example(question=\"A patient with a history of chronic obstructive pulmonary disease (COPD) presents with increased dyspnea, wheezing, and decreased breath sounds. What is the most likely diagnosis?\", options=\"A. Pneumonia B. Pulmonary embolism C. Pneumothorax D. Asthma exacerbation E. Pleural effusion\", answer=\"C\").with_inputs(\"question\",\"options\"),\n",
        "    dspy.Example(question=\"Which medication is commonly used as a first-line treatment for acute gout attacks?\", options=\"A. Naproxen B. Allopurinol C. Colchicine D. Methotrexate E. Prednisone\", answer=\"C\").with_inputs(\"question\",\"options\")\n",
        "]"
      ]
    },
    {
      "cell_type": "code",
      "execution_count": 33,
      "metadata": {
        "colab": {
          "base_uri": "https://localhost:8080/"
        },
        "id": "W6jKFwNkLljR",
        "outputId": "4149c269-833a-4564-9efc-6fb2c5221781"
      },
      "outputs": [
        {
          "name": "stdout",
          "output_type": "stream",
          "text": [
            "[Example({'question': 'Which of the following is the primary function of insulin?', 'options': 'A Glycogen breakdown B Protein synthesis C Glucose uptake D Lipid digestion E Oxygen transport', 'answer': 'C'}) (input_keys={'options', 'question'}), Example({'question': 'What is the most common cause of acute pancreatitis?', 'options': 'A Alcohol consumption B Gallstones C Trauma D Viral infection E Genetic predisposition', 'answer': 'B'}) (input_keys={'options', 'question'}), Example({'question': 'Which of the following is a characteristic finding in rheumatoid arthritis?', 'options': 'A HLA-B27 positivity B Anti-dsDNA antibodies C Rheumatoid factor positivity D Anti-Smith antibodies E Decreased C-reactive protein', 'answer': 'C'}) (input_keys={'options', 'question'}), Example({'question': 'In a patient with chronic renal failure, which electrolyte imbalance is commonly observed?', 'options': 'A Hyperkalemia B Hyponatremia C Hypocalcemia D Hyperphosphatemia E Hypomagnesemia', 'answer': 'A'}) (input_keys={'options', 'question'}), Example({'question': 'Which class of antibiotics is known to cause irreversible ototoxicity?', 'options': 'A Penicillins B Cephalosporins C Aminoglycosides D Tetracyclines E Macrolides', 'answer': 'C'}) (input_keys={'options', 'question'}), Example({'question': 'What is the gold standard diagnostic test for acute appendicitis?', 'options': 'A Ultrasound B CT scan C MRI D X-ray E Physical examination', 'answer': 'B'}) (input_keys={'options', 'question'}), Example({'question': 'A patient with a history of frequent sun exposure presents with a nodular, pearly lesion on the face What is the most likely diagnosis?', 'options': 'A Psoriasis B Basal cell carcinoma C Melanoma D Squamous cell carcinoma E Rosacea', 'answer': 'B'}) (input_keys={'options', 'question'}), Example({'question': 'Which hormone is responsible for stimulating milk production in the mammary glands?', 'options': 'A Progesterone B Prolactin C Estrogen D Oxytocin E Human chorionic gonadotropin (hCG)', 'answer': 'B'}) (input_keys={'options', 'question'}), Example({'question': 'What is the first-line treatment for status epilepticus?', 'options': 'A Diazepam B Phenytoin C Levetiracetam D Lorazepam E Phenobarbital', 'answer': 'D'}) (input_keys={'options', 'question'}), Example({'question': 'A patient presents with chest pain that improves with leaning forward Which condition is most likely responsible for this symptom?', 'options': 'A Myocardial infarction B Pericarditis C Angina pectoris D Aortic dissection E Pulmonary embolism', 'answer': 'B'}) (input_keys={'options', 'question'})]\n"
          ]
        }
      ],
      "source": [
        "print(train_set)"
      ]
    },
    {
      "cell_type": "code",
      "execution_count": 34,
      "metadata": {
        "id": "fx4jNUJNUxFG"
      },
      "outputs": [],
      "source": [
        "# Zero Shot\n",
        "class ZERO(dspy.Module):\n",
        "    def __init__(self):\n",
        "        super().__init__()\n",
        "        self.generate_answer = dspy.Predict(MultipleChoiceQA)\n",
        "\n",
        "    def forward(self, question, options):\n",
        "        answer = self.generate_answer(question=question,options=options)\n",
        "# Using hard constrain. (Assert)\n",
        "        dspy.Assert(len(answer) == 1,\n",
        "        \"Answer should comprise of exactly one character.\")\n",
        "# Using soft constraint. (Suggest)\n",
        "        dspy.Suggest(len(answer) == 1,\n",
        "        \"Answer should comprise of exactly one character.\")\n",
        "\n",
        "        return answer\n"
      ]
    },
    {
      "cell_type": "code",
      "execution_count": 35,
      "metadata": {
        "id": "gUs-mCQ6FHAN"
      },
      "outputs": [],
      "source": [
        "zero = ZERO()"
      ]
    },
    {
      "cell_type": "code",
      "execution_count": 65,
      "metadata": {
        "id": "3gLvzY9MDnDF"
      },
      "outputs": [],
      "source": [
        "# Chain of thought.\n",
        "class COT(dspy.Module):\n",
        "    def __init__(self):\n",
        "        super().__init__()\n",
        "        self.generate_answer = dspy.ChainOfThought(MultipleChoiceQA)\n",
        "\n",
        "    def forward(self, question, options):\n",
        "        answer = self.generate_answer(question=question,options=options)\n",
        "# # Using hard constrain. (Assert)\n",
        "#         dspy.Assert(len(answer) == 1,\n",
        "#         \"Answer should comprise of exactly one character.\")\n",
        "# Using soft constraint. (Suggest)\n",
        "        # dspy.Suggest(len(answer) == 1,\n",
        "        # \"Answer should comprise of exactly one character.\")\n",
        "\n",
        "        return answer"
      ]
    },
    {
      "cell_type": "code",
      "execution_count": 66,
      "metadata": {
        "id": "_N0RBdmzEF-7"
      },
      "outputs": [],
      "source": [
        "cot = COT()"
      ]
    },
    {
      "cell_type": "code",
      "execution_count": 38,
      "metadata": {
        "id": "K1aqqvgpOoXA"
      },
      "outputs": [],
      "source": [
        "from dspy.evaluate import Evaluate\n",
        "metric = dspy.evaluate.metrics.answer_exact_match"
      ]
    },
    {
      "cell_type": "code",
      "execution_count": 39,
      "metadata": {
        "id": "BQ_lYTfJgSw5"
      },
      "outputs": [],
      "source": [
        "# Creating subset of randomly selected questions. (Random few shot)\n",
        "import random\n",
        "def random_few_shot_train_set(train_set, batch_size):\n",
        "    return random.sample(train_set, batch_size)\n",
        "batch_size = 2\n",
        "random_batch = random_few_shot_train_set(train_set, batch_size)"
      ]
    },
    {
      "cell_type": "code",
      "execution_count": 40,
      "metadata": {
        "id": "LdbX4x0V4v9i"
      },
      "outputs": [],
      "source": [
        "# from dspy.teleprompt import KNNFewShot\n",
        "# from dspy.predict.knn import KNN\n",
        "\n",
        "# knn_teleprompter = KNNFewShot(KNN, 7, train_set)\n",
        "# compiled_knn = knn_teleprompter.compile(BasicQABot(), trainset=trainset)"
      ]
    },
    {
      "cell_type": "code",
      "execution_count": 41,
      "metadata": {
        "colab": {
          "base_uri": "https://localhost:8080/"
        },
        "id": "2bt5xBnc7AN1",
        "outputId": "9e386bd3-f16a-46e7-ea23-ebdae788375b"
      },
      "outputs": [
        {
          "name": "stdout",
          "output_type": "stream",
          "text": [
            "Requirement already satisfied: sentence-transformers in /usr/local/lib/python3.10/dist-packages (2.2.2)\n",
            "Requirement already satisfied: transformers<5.0.0,>=4.6.0 in /usr/local/lib/python3.10/dist-packages (from sentence-transformers) (4.35.2)\n",
            "Requirement already satisfied: tqdm in /usr/local/lib/python3.10/dist-packages (from sentence-transformers) (4.66.1)\n",
            "Requirement already satisfied: torch>=1.6.0 in /usr/local/lib/python3.10/dist-packages (from sentence-transformers) (2.1.0+cu121)\n",
            "Requirement already satisfied: torchvision in /usr/local/lib/python3.10/dist-packages (from sentence-transformers) (0.16.0+cu121)\n",
            "Requirement already satisfied: numpy in /usr/local/lib/python3.10/dist-packages (from sentence-transformers) (1.23.5)\n",
            "Requirement already satisfied: scikit-learn in /usr/local/lib/python3.10/dist-packages (from sentence-transformers) (1.2.2)\n",
            "Requirement already satisfied: scipy in /usr/local/lib/python3.10/dist-packages (from sentence-transformers) (1.11.4)\n",
            "Requirement already satisfied: nltk in /usr/local/lib/python3.10/dist-packages (from sentence-transformers) (3.8.1)\n",
            "Requirement already satisfied: sentencepiece in /usr/local/lib/python3.10/dist-packages (from sentence-transformers) (0.1.99)\n",
            "Requirement already satisfied: huggingface-hub>=0.4.0 in /usr/local/lib/python3.10/dist-packages (from sentence-transformers) (0.20.1)\n",
            "Requirement already satisfied: filelock in /usr/local/lib/python3.10/dist-packages (from huggingface-hub>=0.4.0->sentence-transformers) (3.13.1)\n",
            "Requirement already satisfied: fsspec>=2023.5.0 in /usr/local/lib/python3.10/dist-packages (from huggingface-hub>=0.4.0->sentence-transformers) (2023.6.0)\n",
            "Requirement already satisfied: requests in /usr/local/lib/python3.10/dist-packages (from huggingface-hub>=0.4.0->sentence-transformers) (2.31.0)\n",
            "Requirement already satisfied: pyyaml>=5.1 in /usr/local/lib/python3.10/dist-packages (from huggingface-hub>=0.4.0->sentence-transformers) (6.0.1)\n",
            "Requirement already satisfied: typing-extensions>=3.7.4.3 in /usr/local/lib/python3.10/dist-packages (from huggingface-hub>=0.4.0->sentence-transformers) (4.9.0)\n",
            "Requirement already satisfied: packaging>=20.9 in /usr/local/lib/python3.10/dist-packages (from huggingface-hub>=0.4.0->sentence-transformers) (23.2)\n",
            "Requirement already satisfied: sympy in /usr/local/lib/python3.10/dist-packages (from torch>=1.6.0->sentence-transformers) (1.12)\n",
            "Requirement already satisfied: networkx in /usr/local/lib/python3.10/dist-packages (from torch>=1.6.0->sentence-transformers) (3.2.1)\n",
            "Requirement already satisfied: jinja2 in /usr/local/lib/python3.10/dist-packages (from torch>=1.6.0->sentence-transformers) (3.1.2)\n",
            "Requirement already satisfied: triton==2.1.0 in /usr/local/lib/python3.10/dist-packages (from torch>=1.6.0->sentence-transformers) (2.1.0)\n",
            "Requirement already satisfied: regex!=2019.12.17 in /usr/local/lib/python3.10/dist-packages (from transformers<5.0.0,>=4.6.0->sentence-transformers) (2023.6.3)\n",
            "Requirement already satisfied: tokenizers<0.19,>=0.14 in /usr/local/lib/python3.10/dist-packages (from transformers<5.0.0,>=4.6.0->sentence-transformers) (0.15.0)\n",
            "Requirement already satisfied: safetensors>=0.3.1 in /usr/local/lib/python3.10/dist-packages (from transformers<5.0.0,>=4.6.0->sentence-transformers) (0.4.1)\n",
            "Requirement already satisfied: click in /usr/local/lib/python3.10/dist-packages (from nltk->sentence-transformers) (8.1.7)\n",
            "Requirement already satisfied: joblib in /usr/local/lib/python3.10/dist-packages (from nltk->sentence-transformers) (1.3.2)\n",
            "Requirement already satisfied: threadpoolctl>=2.0.0 in /usr/local/lib/python3.10/dist-packages (from scikit-learn->sentence-transformers) (3.2.0)\n",
            "Requirement already satisfied: pillow!=8.3.*,>=5.3.0 in /usr/local/lib/python3.10/dist-packages (from torchvision->sentence-transformers) (9.4.0)\n",
            "Requirement already satisfied: MarkupSafe>=2.0 in /usr/local/lib/python3.10/dist-packages (from jinja2->torch>=1.6.0->sentence-transformers) (2.1.3)\n",
            "Requirement already satisfied: charset-normalizer<4,>=2 in /usr/local/lib/python3.10/dist-packages (from requests->huggingface-hub>=0.4.0->sentence-transformers) (3.3.2)\n",
            "Requirement already satisfied: idna<4,>=2.5 in /usr/local/lib/python3.10/dist-packages (from requests->huggingface-hub>=0.4.0->sentence-transformers) (3.6)\n",
            "Requirement already satisfied: urllib3<3,>=1.21.1 in /usr/local/lib/python3.10/dist-packages (from requests->huggingface-hub>=0.4.0->sentence-transformers) (2.0.7)\n",
            "Requirement already satisfied: certifi>=2017.4.17 in /usr/local/lib/python3.10/dist-packages (from requests->huggingface-hub>=0.4.0->sentence-transformers) (2023.11.17)\n",
            "Requirement already satisfied: mpmath>=0.19 in /usr/local/lib/python3.10/dist-packages (from sympy->torch>=1.6.0->sentence-transformers) (1.3.0)\n"
          ]
        }
      ],
      "source": [
        "!pip install -U sentence-transformers"
      ]
    },
    {
      "cell_type": "code",
      "execution_count": 42,
      "metadata": {
        "colab": {
          "base_uri": "https://localhost:8080/"
        },
        "id": "bO56ETcwlti3",
        "outputId": "8a50f9fd-7f2d-4359-85ab-13c4b974ad2b"
      },
      "outputs": [
        {
          "name": "stdout",
          "output_type": "stream",
          "text": [
            "Reading package lists... Done\n",
            "Building dependency tree... Done\n",
            "Reading state information... Done\n",
            "libomp-dev is already the newest version (1:14.0-55~exp2).\n",
            "0 upgraded, 0 newly installed, 0 to remove and 24 not upgraded.\n",
            "Requirement already satisfied: faiss-cpu in /usr/local/lib/python3.10/dist-packages (1.7.4)\n"
          ]
        }
      ],
      "source": [
        "!apt-get install libomp-dev\n",
        "!pip install faiss-cpu\n",
        "\n",
        "import faiss"
      ]
    },
    {
      "cell_type": "code",
      "execution_count": 43,
      "metadata": {
        "id": "4g0v-kPrIX7t"
      },
      "outputs": [],
      "source": [
        "# #knnfew shot and chain of thought\n",
        "# from dspy.teleprompt import Teleprompter\n",
        "# from dspy.teleprompt import BootstrapFewShot\n",
        "# from dspy.predict.knn import KNN\n",
        "# from sentence_transformers import SentenceTransformer\n",
        "# class KNNFewShot(Teleprompter):\n",
        "#     def __init__(self, KNN, k, trainset):\n",
        "#         self.KNN = KNN(k, trainset)\n",
        "\n",
        "#     def compile(self, student, *, teacher=None, trainset, valset=None):\n",
        "#         student_copy = student.reset_copy()\n",
        "\n",
        "#         def forward_pass(*args, **kwargs):\n",
        "#             knn_trainset = self.KNN(**kwargs)\n",
        "#             few_shot_bootstrap = BootstrapFewShot()\n",
        "#             compiled_program = few_shot_bootstrap.compile(cot, trainset = knn_trainset)\n",
        "#             return compiled_program(**kwargs)\n",
        "\n",
        "#         student_copy.forward = types.MethodType(forward_pass, student_copy)\n",
        "#         return student_copy"
      ]
    },
    {
      "cell_type": "code",
      "execution_count": 67,
      "metadata": {
        "id": "2fNuSDqoIfxm"
      },
      "outputs": [],
      "source": [
        "from dspy.teleprompt import KNNFewShot\n",
        "from dspy.predict.knn import KNN\n",
        "\n",
        "knn_teleprompter = KNNFewShot(KNN, 7, train_set)\n",
        "compiled_knn = knn_teleprompter.compile(cot, trainset=train_set)"
      ]
    },
    {
      "cell_type": "code",
      "execution_count": 68,
      "metadata": {
        "id": "VRsdZN57EU7Z"
      },
      "outputs": [],
      "source": [
        "from dspy.evaluate.evaluate import Evaluate\n",
        "evaluator = Evaluate(devset=val_set, num_threads=1, display_progress=True, display_table=0)"
      ]
    },
    {
      "cell_type": "code",
      "execution_count": 46,
      "metadata": {
        "colab": {
          "base_uri": "https://localhost:8080/"
        },
        "id": "c9sItQxLPBwR",
        "outputId": "5b43e3cc-ef30-4c03-820f-e6d1a9bf78db"
      },
      "outputs": [
        {
          "name": "stderr",
          "output_type": "stream",
          "text": [
            "Average Metric: 10 / 20  (50.0): 100%|██████████| 20/20 [00:00<00:00, 186.76it/s]"
          ]
        },
        {
          "name": "stdout",
          "output_type": "stream",
          "text": [
            "Average Metric: 10 / 20  (50.0%)\n"
          ]
        },
        {
          "name": "stderr",
          "output_type": "stream",
          "text": [
            "\n"
          ]
        },
        {
          "data": {
            "text/plain": [
              "50.0"
            ]
          },
          "execution_count": 46,
          "metadata": {},
          "output_type": "execute_result"
        }
      ],
      "source": [
        "evaluator(zero, metric=metric)"
      ]
    },
    {
      "cell_type": "code",
      "execution_count": 47,
      "metadata": {
        "colab": {
          "base_uri": "https://localhost:8080/"
        },
        "id": "TquF0psrPQKJ",
        "outputId": "33b77e16-2644-4a05-8eac-42ee93a678cb"
      },
      "outputs": [
        {
          "name": "stderr",
          "output_type": "stream",
          "text": [
            "100%|██████████| 10/10 [00:00<00:00, 529.42it/s]\n",
            "100%|██████████| 10/10 [00:00<00:00, 373.61it/s]\n",
            "100%|██████████| 10/10 [00:00<00:00, 219.42it/s]\n",
            "100%|██████████| 10/10 [00:00<00:00, 164.20it/s]\n",
            "100%|██████████| 10/10 [00:00<00:00, 200.49it/s]"
          ]
        },
        {
          "name": "stdout",
          "output_type": "stream",
          "text": [
            "Bootstrapped 0 full traces after 10 examples in round 4.\n"
          ]
        },
        {
          "name": "stderr",
          "output_type": "stream",
          "text": [
            "\n"
          ]
        }
      ],
      "source": [
        "from dspy.teleprompt import BootstrapFewShot\n",
        "\n",
        "teleprompter = BootstrapFewShot(metric = calculate_medqa_accuracy, max_rounds = 5)\n",
        "compiled = teleprompter.compile(ZERO(), trainset=train_set)"
      ]
    },
    {
      "cell_type": "code",
      "execution_count": 48,
      "metadata": {
        "colab": {
          "base_uri": "https://localhost:8080/"
        },
        "id": "1z5JvSx1E4cO",
        "outputId": "9be39144-2a36-4985-fc0f-e87b2b14a311"
      },
      "outputs": [
        {
          "name": "stderr",
          "output_type": "stream",
          "text": [
            "Average Metric: 10 / 20  (50.0): 100%|██████████| 20/20 [00:00<00:00, 122.11it/s]"
          ]
        },
        {
          "name": "stdout",
          "output_type": "stream",
          "text": [
            "Average Metric: 10 / 20  (50.0%)\n"
          ]
        },
        {
          "name": "stderr",
          "output_type": "stream",
          "text": [
            "\n"
          ]
        },
        {
          "data": {
            "text/plain": [
              "50.0"
            ]
          },
          "execution_count": 48,
          "metadata": {},
          "output_type": "execute_result"
        }
      ],
      "source": [
        "evaluator(compiled, metric=metric)"
      ]
    },
    {
      "cell_type": "code",
      "execution_count": 69,
      "metadata": {
        "colab": {
          "base_uri": "https://localhost:8080/"
        },
        "id": "OPZc5_sV1sAD",
        "outputId": "5f7e5ef9-91e6-4844-cba3-7efac72f5f6f"
      },
      "outputs": [
        {
          "name": "stderr",
          "output_type": "stream",
          "text": [
            "\n",
            "\n",
            "\n",
            "  0%|          | 0/20 [00:00<?, ?it/s]\u001b[A\u001b[A\u001b[A\n",
            "\n",
            "\n",
            "\n",
            " 57%|█████▋    | 4/7 [00:00<00:00, 472.49it/s]\n",
            "\n",
            "\n",
            "\n",
            "Average Metric: 1 / 1  (100.0):   0%|          | 0/20 [00:00<?, ?it/s]\u001b[A\u001b[A\u001b[A\n",
            "\n",
            "\n",
            "Average Metric: 1 / 1  (100.0):   5%|▌         | 1/20 [00:00<00:02,  8.99it/s]\u001b[A\u001b[A\u001b[A"
          ]
        },
        {
          "name": "stdout",
          "output_type": "stream",
          "text": [
            "Bootstrapped 4 full traces after 5 examples in round 0.\n"
          ]
        },
        {
          "name": "stderr",
          "output_type": "stream",
          "text": [
            "\n",
            "\n",
            "\n",
            "\n",
            " 57%|█████▋    | 4/7 [00:00<00:00, 369.11it/s]\n",
            "\n",
            "\n",
            "\n",
            "Average Metric: 2 / 2  (100.0):   5%|▌         | 1/20 [00:00<00:02,  8.99it/s]"
          ]
        },
        {
          "name": "stdout",
          "output_type": "stream",
          "text": [
            "Bootstrapped 4 full traces after 5 examples in round 0.\n"
          ]
        },
        {
          "name": "stderr",
          "output_type": "stream",
          "text": [
            "\u001b[A\u001b[A\u001b[A\n",
            "\n",
            "\n",
            "Average Metric: 2 / 2  (100.0):  10%|█         | 2/20 [00:00<00:02,  6.23it/s]\u001b[A\u001b[A\u001b[A\n",
            "\n",
            "\n",
            "\n",
            " 57%|█████▋    | 4/7 [00:00<00:00, 388.08it/s]\n",
            "\n",
            "\n",
            "\n",
            "Average Metric: 2 / 3  (66.7):  10%|█         | 2/20 [00:00<00:02,  6.23it/s] \u001b[A\u001b[A\u001b[A\n",
            "\n",
            "\n",
            "Average Metric: 2 / 3  (66.7):  15%|█▌        | 3/20 [00:00<00:02,  6.07it/s]\u001b[A\u001b[A\u001b[A"
          ]
        },
        {
          "name": "stdout",
          "output_type": "stream",
          "text": [
            "Bootstrapped 4 full traces after 5 examples in round 0.\n"
          ]
        },
        {
          "name": "stderr",
          "output_type": "stream",
          "text": [
            "\n",
            "\n",
            "\n",
            "\n",
            " 57%|█████▋    | 4/7 [00:00<00:00, 444.94it/s]\n",
            "\n",
            "\n",
            "\n",
            "Average Metric: 3 / 4  (75.0):  15%|█▌        | 3/20 [00:00<00:02,  6.07it/s]\u001b[A\u001b[A\u001b[A\n",
            "\n",
            "\n",
            "Average Metric: 3 / 4  (75.0):  20%|██        | 4/20 [00:00<00:02,  6.44it/s]\u001b[A\u001b[A\u001b[A"
          ]
        },
        {
          "name": "stdout",
          "output_type": "stream",
          "text": [
            "Bootstrapped 4 full traces after 5 examples in round 0.\n"
          ]
        },
        {
          "name": "stderr",
          "output_type": "stream",
          "text": [
            "\n",
            "\n",
            "\n",
            "\n",
            " 57%|█████▋    | 4/7 [00:00<00:00, 306.27it/s]\n",
            "\n",
            "\n",
            "\n"
          ]
        },
        {
          "name": "stdout",
          "output_type": "stream",
          "text": [
            "Bootstrapped 4 full traces after 5 examples in round 0.\n"
          ]
        },
        {
          "name": "stderr",
          "output_type": "stream",
          "text": [
            "\rAverage Metric: 3 / 5  (60.0):  20%|██        | 4/20 [00:00<00:02,  6.44it/s]\u001b[A\u001b[A\u001b[A\n",
            "\n",
            "\n",
            "Average Metric: 3 / 5  (60.0):  25%|██▌       | 5/20 [00:00<00:02,  5.86it/s]\u001b[A\u001b[A\u001b[A\n",
            "\n",
            "\n",
            "\n",
            " 57%|█████▋    | 4/7 [00:00<00:00, 215.05it/s]\n",
            "\n",
            "\n",
            "\n",
            "Average Metric: 4 / 6  (66.7):  25%|██▌       | 5/20 [00:01<00:02,  5.86it/s]\u001b[A\u001b[A\u001b[A\n",
            "\n",
            "\n",
            "Average Metric: 4 / 6  (66.7):  30%|███       | 6/20 [00:01<00:02,  5.24it/s]\u001b[A\u001b[A\u001b[A"
          ]
        },
        {
          "name": "stdout",
          "output_type": "stream",
          "text": [
            "Bootstrapped 4 full traces after 5 examples in round 0.\n"
          ]
        },
        {
          "name": "stderr",
          "output_type": "stream",
          "text": [
            "\n",
            "\n",
            "\n",
            "\n",
            " 57%|█████▋    | 4/7 [00:00<00:00, 289.42it/s]\n"
          ]
        },
        {
          "name": "stdout",
          "output_type": "stream",
          "text": [
            "Bootstrapped 4 full traces after 5 examples in round 0.\n"
          ]
        },
        {
          "name": "stderr",
          "output_type": "stream",
          "text": [
            "\n",
            "\n",
            "\n",
            "Average Metric: 5 / 7  (71.4):  30%|███       | 6/20 [00:01<00:02,  5.24it/s]\u001b[A\u001b[A\u001b[A\n",
            "\n",
            "\n",
            "Average Metric: 5 / 7  (71.4):  35%|███▌      | 7/20 [00:01<00:02,  5.21it/s]\u001b[A\u001b[A\u001b[A\n",
            "\n",
            "\n",
            "\n",
            " 57%|█████▋    | 4/7 [00:00<00:00, 403.66it/s]\n",
            "\n",
            "\n",
            "\n",
            "Average Metric: 5 / 8  (62.5):  35%|███▌      | 7/20 [00:01<00:02,  5.21it/s]\u001b[A\u001b[A\u001b[A\n",
            "\n",
            "\n",
            "Average Metric: 5 / 8  (62.5):  40%|████      | 8/20 [00:01<00:02,  4.58it/s]\u001b[A\u001b[A\u001b[A"
          ]
        },
        {
          "name": "stdout",
          "output_type": "stream",
          "text": [
            "Bootstrapped 4 full traces after 5 examples in round 0.\n"
          ]
        },
        {
          "name": "stderr",
          "output_type": "stream",
          "text": [
            "\n",
            "\n",
            "\n",
            "\n",
            " 57%|█████▋    | 4/7 [00:00<00:00, 369.19it/s]\n"
          ]
        },
        {
          "name": "stdout",
          "output_type": "stream",
          "text": [
            "Bootstrapped 4 full traces after 5 examples in round 0."
          ]
        },
        {
          "name": "stderr",
          "output_type": "stream",
          "text": [
            "\n",
            "\n",
            "\n",
            "Average Metric: 6 / 9  (66.7):  40%|████      | 8/20 [00:01<00:02,  4.58it/s]\u001b[A\u001b[A\u001b[A\n",
            "\n",
            "\n",
            "Average Metric: 6 / 9  (66.7):  45%|████▌     | 9/20 [00:01<00:02,  4.69it/s]\u001b[A\u001b[A\u001b[A"
          ]
        },
        {
          "name": "stdout",
          "output_type": "stream",
          "text": [
            "\n"
          ]
        },
        {
          "name": "stderr",
          "output_type": "stream",
          "text": [
            "\n",
            "\n",
            "\n",
            "\n",
            "  0%|          | 0/20 [02:05<?, ?it/s]\n",
            " 57%|█████▋    | 4/7 [00:00<00:00, 227.77it/s]\n",
            "\n",
            "\n",
            "\n",
            "Average Metric: 7 / 10  (70.0):  45%|████▌     | 9/20 [00:01<00:02,  4.69it/s]\u001b[A\u001b[A\u001b[A\n",
            "\n",
            "\n",
            "Average Metric: 7 / 10  (70.0):  50%|█████     | 10/20 [00:01<00:02,  4.91it/s]\u001b[A\u001b[A\u001b[A"
          ]
        },
        {
          "name": "stdout",
          "output_type": "stream",
          "text": [
            "Bootstrapped 4 full traces after 5 examples in round 0.\n"
          ]
        },
        {
          "name": "stderr",
          "output_type": "stream",
          "text": [
            "\n",
            "\n",
            " 57%|█████▋    | 4/7 [00:00<00:00, 238.47it/s]\n",
            "\n",
            "\n",
            "\n",
            "Average Metric: 7 / 11  (63.6):  50%|█████     | 10/20 [00:02<00:02,  4.91it/s]\u001b[A\u001b[A\u001b[A\n",
            "\n",
            "\n",
            "Average Metric: 7 / 11  (63.6):  55%|█████▌    | 11/20 [00:02<00:01,  4.56it/s]\u001b[A\u001b[A\u001b[A"
          ]
        },
        {
          "name": "stdout",
          "output_type": "stream",
          "text": [
            "Bootstrapped 4 full traces after 5 examples in round 0.\n"
          ]
        },
        {
          "name": "stderr",
          "output_type": "stream",
          "text": [
            "\n",
            "\n",
            " 57%|█████▋    | 4/7 [00:00<00:00, 267.29it/s]\n",
            "\n",
            "\n",
            "\n"
          ]
        },
        {
          "name": "stdout",
          "output_type": "stream",
          "text": [
            "Bootstrapped 4 full traces after 5 examples in round 0.\n"
          ]
        },
        {
          "name": "stderr",
          "output_type": "stream",
          "text": [
            "\rAverage Metric: 8 / 12  (66.7):  55%|█████▌    | 11/20 [00:02<00:01,  4.56it/s]\u001b[A\u001b[A\u001b[A\n",
            "\n",
            "\n",
            "Average Metric: 8 / 12  (66.7):  60%|██████    | 12/20 [00:02<00:01,  4.77it/s]\u001b[A\u001b[A\u001b[A\n",
            "\n",
            " 57%|█████▋    | 4/7 [00:00<00:00, 362.16it/s]\n",
            "\n",
            "\n",
            "\n",
            "Average Metric: 9 / 13  (69.2):  60%|██████    | 12/20 [00:02<00:01,  4.77it/s]\u001b[A\u001b[A\u001b[A\n",
            "\n",
            "\n",
            "Average Metric: 9 / 13  (69.2):  65%|██████▌   | 13/20 [00:02<00:01,  4.80it/s]\u001b[A\u001b[A\u001b[A"
          ]
        },
        {
          "name": "stdout",
          "output_type": "stream",
          "text": [
            "Bootstrapped 4 full traces after 5 examples in round 0.\n"
          ]
        },
        {
          "name": "stderr",
          "output_type": "stream",
          "text": [
            "\n",
            "\n",
            " 57%|█████▋    | 4/7 [00:00<00:00, 308.73it/s]\n",
            "\n",
            "\n",
            "\n",
            "Average Metric: 9 / 14  (64.3):  65%|██████▌   | 13/20 [00:02<00:01,  4.80it/s]\u001b[A\u001b[A\u001b[A\n",
            "\n",
            "\n",
            "Average Metric: 9 / 14  (64.3):  70%|███████   | 14/20 [00:02<00:01,  5.07it/s]\u001b[A\u001b[A\u001b[A"
          ]
        },
        {
          "name": "stdout",
          "output_type": "stream",
          "text": [
            "Bootstrapped 4 full traces after 5 examples in round 0.\n"
          ]
        },
        {
          "name": "stderr",
          "output_type": "stream",
          "text": [
            "\n",
            "\n",
            " 57%|█████▋    | 4/7 [00:00<00:00, 289.78it/s]\n",
            "\n",
            "\n",
            "\n",
            "Average Metric: 10 / 15  (66.7):  70%|███████   | 14/20 [00:02<00:01,  5.07it/s]\u001b[A\u001b[A\u001b[A\n",
            "\n",
            "\n",
            "Average Metric: 10 / 15  (66.7):  75%|███████▌  | 15/20 [00:02<00:01,  4.67it/s]\u001b[A\u001b[A\u001b[A"
          ]
        },
        {
          "name": "stdout",
          "output_type": "stream",
          "text": [
            "Bootstrapped 4 full traces after 5 examples in round 0.\n"
          ]
        },
        {
          "name": "stderr",
          "output_type": "stream",
          "text": [
            "\n",
            "\n",
            " 57%|█████▋    | 4/7 [00:00<00:00, 240.88it/s]\n",
            "\n",
            "\n",
            "\n",
            "Average Metric: 11 / 16  (68.8):  75%|███████▌  | 15/20 [00:03<00:01,  4.67it/s]\u001b[A\u001b[A\u001b[A\n",
            "\n",
            "\n",
            "Average Metric: 11 / 16  (68.8):  80%|████████  | 16/20 [00:03<00:00,  4.59it/s]\u001b[A\u001b[A\u001b[A"
          ]
        },
        {
          "name": "stdout",
          "output_type": "stream",
          "text": [
            "Bootstrapped 4 full traces after 5 examples in round 0.\n"
          ]
        },
        {
          "name": "stderr",
          "output_type": "stream",
          "text": [
            "\n",
            "\n",
            " 57%|█████▋    | 4/7 [00:00<00:00, 390.00it/s]\n",
            "\n",
            "\n",
            "\n",
            "Average Metric: 12 / 17  (70.6):  80%|████████  | 16/20 [00:03<00:00,  4.59it/s]\u001b[A\u001b[A\u001b[A\n",
            "\n",
            "\n",
            "Average Metric: 12 / 17  (70.6):  85%|████████▌ | 17/20 [00:03<00:00,  4.54it/s]\u001b[A\u001b[A\u001b[A"
          ]
        },
        {
          "name": "stdout",
          "output_type": "stream",
          "text": [
            "Bootstrapped 4 full traces after 5 examples in round 0.\n"
          ]
        },
        {
          "name": "stderr",
          "output_type": "stream",
          "text": [
            "\n",
            "\n",
            " 57%|█████▋    | 4/7 [00:00<00:00, 313.15it/s]\n",
            "\n",
            "\n",
            "\n",
            "Average Metric: 12 / 18  (66.7):  85%|████████▌ | 17/20 [00:03<00:00,  4.54it/s]\u001b[A\u001b[A\u001b[A\n",
            "\n",
            "\n",
            "Average Metric: 12 / 18  (66.7):  90%|█████████ | 18/20 [00:03<00:00,  4.26it/s]\u001b[A\u001b[A\u001b[A"
          ]
        },
        {
          "name": "stdout",
          "output_type": "stream",
          "text": [
            "Bootstrapped 4 full traces after 5 examples in round 0.\n"
          ]
        },
        {
          "name": "stderr",
          "output_type": "stream",
          "text": [
            "\n",
            "\n",
            " 57%|█████▋    | 4/7 [00:00<00:00, 359.27it/s]\n",
            "\n",
            "\n",
            "\n",
            "Average Metric: 12 / 19  (63.2):  90%|█████████ | 18/20 [00:03<00:00,  4.26it/s]\u001b[A\u001b[A\u001b[A\n",
            "\n",
            "\n",
            "Average Metric: 12 / 19  (63.2):  95%|█████████▌| 19/20 [00:03<00:00,  4.09it/s]\u001b[A\u001b[A\u001b[A"
          ]
        },
        {
          "name": "stdout",
          "output_type": "stream",
          "text": [
            "Bootstrapped 4 full traces after 5 examples in round 0.\n"
          ]
        },
        {
          "name": "stderr",
          "output_type": "stream",
          "text": [
            "\n",
            "\n",
            " 57%|█████▋    | 4/7 [00:00<00:00, 375.96it/s]\n",
            "\n",
            "\n",
            "\n",
            "Average Metric: 12 / 20  (60.0):  95%|█████████▌| 19/20 [00:04<00:00,  4.09it/s]\u001b[A\u001b[A\u001b[A\n",
            "\n",
            "\n",
            "Average Metric: 12 / 20  (60.0): 100%|██████████| 20/20 [00:04<00:00,  4.73it/s]"
          ]
        },
        {
          "name": "stdout",
          "output_type": "stream",
          "text": [
            "Bootstrapped 4 full traces after 5 examples in round 0.\n",
            "Average Metric: 12 / 20  (60.0%)\n"
          ]
        },
        {
          "name": "stderr",
          "output_type": "stream",
          "text": [
            "\n"
          ]
        },
        {
          "data": {
            "text/plain": [
              "60.0"
            ]
          },
          "execution_count": 69,
          "metadata": {},
          "output_type": "execute_result"
        }
      ],
      "source": [
        "evaluator(compiled_knn, metric=metric)"
      ]
    },
    {
      "cell_type": "code",
      "execution_count": 70,
      "metadata": {
        "id": "t8KLjzkzWVbu"
      },
      "outputs": [],
      "source": [
        "import tqdm\n",
        "import random\n",
        "\n",
        "from dspy.teleprompt.teleprompt import Teleprompter\n",
        "\n",
        "class Ensemble(Teleprompter):\n",
        "    def __init__(self, *, reduce_fn=None, size=None, deterministic=False):\n",
        "        \"\"\"A common reduce_fn is dspy.majority.\"\"\"\n",
        "\n",
        "        assert deterministic is False, \"TODO: Implement example hashing for deterministic ensemble.\"\n",
        "\n",
        "        self.reduce_fn = reduce_fn\n",
        "        self.size = size\n",
        "        self.deterministic = deterministic\n",
        "\n",
        "    def compile(self, programs):\n",
        "        size = self.size\n",
        "        reduce_fn = self.reduce_fn\n",
        "\n",
        "        class EnsembledProgram(dspy.Module):\n",
        "            def __init__(self):\n",
        "                super().__init__()\n",
        "                self.programs = programs\n",
        "\n",
        "            def forward(self, *args, **kwargs):\n",
        "                programs = random.sample(self.programs, size) if size else self.programs\n",
        "                outputs = [prog(*args, **kwargs) for prog in programs]\n",
        "\n",
        "                if reduce_fn:\n",
        "                    return reduce_fn(outputs)\n",
        "\n",
        "                return outputs\n",
        "\n",
        "        return EnsembledProgram()"
      ]
    },
    {
      "cell_type": "code",
      "execution_count": 74,
      "metadata": {
        "id": "VbIobMfn1_ay"
      },
      "outputs": [],
      "source": [
        "import tqdm\n",
        "import random\n",
        "\n",
        "from dspy.teleprompt.teleprompt import Teleprompter\n",
        "\n",
        "class Ensemble(Teleprompter):\n",
        "    def __init__(self, *, reduce_fn=None, size=None, deterministic=False):\n",
        "        \"\"\"A common reduce_fn is dspy.majority.\"\"\"\n",
        "\n",
        "        assert deterministic is False, \"TODO: Implement example hashing for deterministic ensemble.\"\n",
        "\n",
        "        self.reduce_fn = reduce_fn\n",
        "        self.size = size\n",
        "        self.deterministic = deterministic\n",
        "\n",
        "    def compile(self, programs):\n",
        "        size = self.size\n",
        "        reduce_fn = self.reduce_fn\n",
        "\n",
        "        class EnsembledProgram(dspy.Module):\n",
        "            def __init__(self):\n",
        "                super().__init__()\n",
        "                self.programs = programs\n",
        "\n",
        "            def forward(self, *args, **kwargs):\n",
        "\n",
        "              for _ in range(5):\n",
        "                shuffled_args = []\n",
        "                for arg in args:\n",
        "                    if isinstance(arg, dspy.Example):  # Check if the argument is an Example object\n",
        "                        shuffled_options = random.sample(arg[\"options\"].split(), len(arg[\"options\"].split()))\n",
        "                        shuffled_args.append(arg.with_fields(options=\" \".join(shuffled_options)))\n",
        "                    else:\n",
        "                        shuffled_args.append(arg)\n",
        "                programs = random.sample(self.programs, size) if size else self.programs\n",
        "                outputs = [prog(*shuffled_args, **kwargs) for prog in programs]\n",
        "\n",
        "                if reduce_fn:\n",
        "                    return reduce_fn(outputs)\n",
        "\n",
        "                return outputs\n",
        "\n",
        "        return EnsembledProgram()"
      ]
    },
    {
      "cell_type": "code",
      "execution_count": 75,
      "metadata": {
        "id": "m3P6RnS9iojF"
      },
      "outputs": [],
      "source": [
        "programs = [compiled_knn]\n",
        "ensembled_program = Ensemble(reduce_fn=dspy.majority).compile(programs)"
      ]
    },
    {
      "cell_type": "code",
      "execution_count": 77,
      "metadata": {
        "colab": {
          "base_uri": "https://localhost:8080/"
        },
        "id": "kdix_FMvi9aG",
        "outputId": "3020a419-1ec8-4387-f02e-2ee7e534be75"
      },
      "outputs": [
        {
          "name": "stderr",
          "output_type": "stream",
          "text": [
            "\n",
            "\n",
            "  0%|          | 0/20 [00:00<?, ?it/s]\u001b[A\u001b[A\n",
            "\n",
            "\n",
            " 57%|█████▋    | 4/7 [00:00<00:00, 571.06it/s]\n",
            "\n",
            "\n",
            "Average Metric: 1 / 1  (100.0):   0%|          | 0/20 [00:00<?, ?it/s]\u001b[A\u001b[A\n",
            "\n",
            "Average Metric: 1 / 1  (100.0):   5%|▌         | 1/20 [00:00<00:02,  9.25it/s]\u001b[A\u001b[A"
          ]
        },
        {
          "name": "stdout",
          "output_type": "stream",
          "text": [
            "Bootstrapped 4 full traces after 5 examples in round 0.\n"
          ]
        },
        {
          "name": "stderr",
          "output_type": "stream",
          "text": [
            "\n",
            "\n",
            "\n",
            " 57%|█████▋    | 4/7 [00:00<00:00, 957.00it/s]\n",
            "\n",
            "\n",
            "Average Metric: 2 / 2  (100.0):   5%|▌         | 1/20 [00:00<00:02,  9.25it/s]\u001b[A\u001b[A\n",
            "\n",
            "Average Metric: 2 / 2  (100.0):  10%|█         | 2/20 [00:00<00:02,  6.31it/s]"
          ]
        },
        {
          "name": "stdout",
          "output_type": "stream",
          "text": [
            "Bootstrapped 4 full traces after 5 examples in round 0.\n"
          ]
        },
        {
          "name": "stderr",
          "output_type": "stream",
          "text": [
            "\u001b[A\u001b[A\n",
            "\n",
            "\n",
            " 57%|█████▋    | 4/7 [00:00<00:00, 499.93it/s]\n",
            "\n",
            "\n",
            "Average Metric: 2 / 3  (66.7):  10%|█         | 2/20 [00:00<00:02,  6.31it/s] \u001b[A\u001b[A\n",
            "\n",
            "Average Metric: 2 / 3  (66.7):  15%|█▌        | 3/20 [00:00<00:02,  5.82it/s]\u001b[A\u001b[A"
          ]
        },
        {
          "name": "stdout",
          "output_type": "stream",
          "text": [
            "Bootstrapped 4 full traces after 5 examples in round 0.\n"
          ]
        },
        {
          "name": "stderr",
          "output_type": "stream",
          "text": [
            "\n",
            "\n",
            "\n",
            " 57%|█████▋    | 4/7 [00:00<00:00, 625.27it/s]\n",
            "\n",
            "\n",
            "Average Metric: 3 / 4  (75.0):  15%|█▌        | 3/20 [00:00<00:02,  5.82it/s]\u001b[A\u001b[A\n",
            "\n",
            "Average Metric: 3 / 4  (75.0):  20%|██        | 4/20 [00:00<00:02,  6.11it/s]\u001b[A\u001b[A"
          ]
        },
        {
          "name": "stdout",
          "output_type": "stream",
          "text": [
            "Bootstrapped 4 full traces after 5 examples in round 0.\n"
          ]
        },
        {
          "name": "stderr",
          "output_type": "stream",
          "text": [
            "\n",
            "\n",
            "\n",
            " 57%|█████▋    | 4/7 [00:00<00:00, 845.75it/s]\n",
            "\n",
            "\n",
            "Average Metric: 3 / 5  (60.0):  20%|██        | 4/20 [00:00<00:02,  6.11it/s]\u001b[A\u001b[A\n",
            "\n"
          ]
        },
        {
          "name": "stdout",
          "output_type": "stream",
          "text": [
            "Bootstrapped 4 full traces after 5 examples in round 0.\n"
          ]
        },
        {
          "name": "stderr",
          "output_type": "stream",
          "text": [
            "\rAverage Metric: 3 / 5  (60.0):  25%|██▌       | 5/20 [00:00<00:02,  5.77it/s]\u001b[A\u001b[A\n",
            "\n",
            "\n",
            " 57%|█████▋    | 4/7 [00:00<00:00, 850.60it/s]\n",
            "\n",
            "\n"
          ]
        },
        {
          "name": "stdout",
          "output_type": "stream",
          "text": [
            "Bootstrapped 4 full traces after 5 examples in round 0.\n"
          ]
        },
        {
          "name": "stderr",
          "output_type": "stream",
          "text": [
            "\rAverage Metric: 4 / 6  (66.7):  25%|██▌       | 5/20 [00:01<00:02,  5.77it/s]\u001b[A\u001b[A\n",
            "\n",
            "Average Metric: 4 / 6  (66.7):  30%|███       | 6/20 [00:01<00:02,  5.46it/s]\u001b[A\u001b[A\n",
            "\n",
            "\n",
            " 57%|█████▋    | 4/7 [00:00<00:00, 869.02it/s]\n",
            "\n",
            "\n",
            "Average Metric: 5 / 7  (71.4):  30%|███       | 6/20 [00:01<00:02,  5.46it/s]\u001b[A\u001b[A\n",
            "\n",
            "Average Metric: 5 / 7  (71.4):  35%|███▌      | 7/20 [00:01<00:02,  6.00it/s]\u001b[A\u001b[A"
          ]
        },
        {
          "name": "stdout",
          "output_type": "stream",
          "text": [
            "Bootstrapped 4 full traces after 5 examples in round 0.\n"
          ]
        },
        {
          "name": "stderr",
          "output_type": "stream",
          "text": [
            "\n",
            "\n",
            "\n",
            " 57%|█████▋    | 4/7 [00:00<00:00, 914.04it/s]\n",
            "\n",
            "\n",
            "Average Metric: 6 / 8  (75.0):  35%|███▌      | 7/20 [00:01<00:02,  6.00it/s]\u001b[A\u001b[A\n",
            "\n",
            "Average Metric: 6 / 8  (75.0):  40%|████      | 8/20 [00:01<00:02,  5.74it/s]\u001b[A\u001b[A"
          ]
        },
        {
          "name": "stdout",
          "output_type": "stream",
          "text": [
            "Bootstrapped 4 full traces after 5 examples in round 0.\n"
          ]
        },
        {
          "name": "stderr",
          "output_type": "stream",
          "text": [
            "\n",
            "\n",
            "\n",
            " 57%|█████▋    | 4/7 [00:00<00:00, 779.94it/s]\n",
            "\n",
            "\n",
            "Average Metric: 6 / 9  (66.7):  40%|████      | 8/20 [00:01<00:02,  5.74it/s]\u001b[A\u001b[A\n",
            "\n",
            "Average Metric: 6 / 9  (66.7):  45%|████▌     | 9/20 [00:01<00:01,  5.95it/s]\u001b[A\u001b[A"
          ]
        },
        {
          "name": "stdout",
          "output_type": "stream",
          "text": [
            "Bootstrapped 4 full traces after 5 examples in round 0.\n"
          ]
        },
        {
          "name": "stderr",
          "output_type": "stream",
          "text": [
            "\n",
            "\n",
            "\n",
            " 57%|█████▋    | 4/7 [00:00<00:00, 1118.18it/s]\n",
            "\n",
            "\n",
            "Average Metric: 6 / 10  (60.0):  45%|████▌     | 9/20 [00:01<00:01,  5.95it/s]\u001b[A\u001b[A\n",
            "\n",
            "Average Metric: 6 / 10  (60.0):  50%|█████     | 10/20 [00:01<00:01,  6.53it/s]\u001b[A\u001b[A"
          ]
        },
        {
          "name": "stdout",
          "output_type": "stream",
          "text": [
            "Bootstrapped 4 full traces after 5 examples in round 0.\n"
          ]
        },
        {
          "name": "stderr",
          "output_type": "stream",
          "text": [
            "\n",
            "\n",
            "\n",
            " 57%|█████▋    | 4/7 [00:00<00:00, 603.11it/s]\n",
            "\n",
            "\n",
            "Average Metric: 6 / 11  (54.5):  50%|█████     | 10/20 [00:01<00:01,  6.53it/s]\u001b[A\u001b[A\n",
            "\n",
            "Average Metric: 6 / 11  (54.5):  55%|█████▌    | 11/20 [00:01<00:01,  6.22it/s]\u001b[A\u001b[A"
          ]
        },
        {
          "name": "stdout",
          "output_type": "stream",
          "text": [
            "Bootstrapped 4 full traces after 5 examples in round 0.\n"
          ]
        },
        {
          "name": "stderr",
          "output_type": "stream",
          "text": [
            "\n",
            "\n",
            "\n",
            " 57%|█████▋    | 4/7 [00:00<00:00, 874.27it/s]\n",
            "\n",
            "\n",
            "Average Metric: 6 / 12  (50.0):  55%|█████▌    | 11/20 [00:01<00:01,  6.22it/s]\u001b[A\u001b[A\n",
            "\n",
            "Average Metric: 6 / 12  (50.0):  60%|██████    | 12/20 [00:01<00:01,  6.70it/s]\u001b[A\u001b[A"
          ]
        },
        {
          "name": "stdout",
          "output_type": "stream",
          "text": [
            "Bootstrapped 4 full traces after 5 examples in round 0.\n"
          ]
        },
        {
          "name": "stderr",
          "output_type": "stream",
          "text": [
            "\n",
            "\n",
            "\n",
            " 57%|█████▋    | 4/7 [00:00<00:00, 690.65it/s]\n",
            "\n",
            "\n",
            "Average Metric: 7 / 13  (53.8):  60%|██████    | 12/20 [00:02<00:01,  6.70it/s]\u001b[A\u001b[A\n",
            "\n",
            "Average Metric: 7 / 13  (53.8):  65%|██████▌   | 13/20 [00:02<00:01,  6.35it/s]\u001b[A\u001b[A"
          ]
        },
        {
          "name": "stdout",
          "output_type": "stream",
          "text": [
            "Bootstrapped 4 full traces after 5 examples in round 0.\n"
          ]
        },
        {
          "name": "stderr",
          "output_type": "stream",
          "text": [
            "\n",
            "\n",
            "\n",
            " 57%|█████▋    | 4/7 [00:00<00:00, 423.57it/s]\n",
            "\n",
            "\n",
            "Average Metric: 7 / 14  (50.0):  65%|██████▌   | 13/20 [00:02<00:01,  6.35it/s]\u001b[A\u001b[A"
          ]
        },
        {
          "name": "stdout",
          "output_type": "stream",
          "text": [
            "Bootstrapped 4 full traces after 5 examples in round 0.\n"
          ]
        },
        {
          "name": "stderr",
          "output_type": "stream",
          "text": [
            "\n",
            "\n",
            "Average Metric: 7 / 14  (50.0):  70%|███████   | 14/20 [00:02<00:01,  5.94it/s]\u001b[A\u001b[A\n",
            "\n",
            "\n",
            " 57%|█████▋    | 4/7 [00:00<00:00, 808.62it/s]\n",
            "\n",
            "\n",
            "Average Metric: 8 / 15  (53.3):  70%|███████   | 14/20 [00:02<00:01,  5.94it/s]\u001b[A\u001b[A\n",
            "\n",
            "Average Metric: 8 / 15  (53.3):  75%|███████▌  | 15/20 [00:02<00:00,  5.09it/s]\u001b[A\u001b[A"
          ]
        },
        {
          "name": "stdout",
          "output_type": "stream",
          "text": [
            "Bootstrapped 4 full traces after 5 examples in round 0.\n"
          ]
        },
        {
          "name": "stderr",
          "output_type": "stream",
          "text": [
            "\n",
            "\n",
            "\n",
            " 57%|█████▋    | 4/7 [00:00<00:00, 1004.20it/s]\n",
            "\n",
            "\n",
            "Average Metric: 9 / 16  (56.2):  75%|███████▌  | 15/20 [00:02<00:00,  5.09it/s]\u001b[A\u001b[A\n",
            "\n",
            "Average Metric: 9 / 16  (56.2):  80%|████████  | 16/20 [00:02<00:00,  5.02it/s]\u001b[A\u001b[A"
          ]
        },
        {
          "name": "stdout",
          "output_type": "stream",
          "text": [
            "Bootstrapped 4 full traces after 5 examples in round 0.\n"
          ]
        },
        {
          "name": "stderr",
          "output_type": "stream",
          "text": [
            "\n",
            "\n",
            "\n",
            " 57%|█████▋    | 4/7 [00:00<00:00, 935.29it/s]\n",
            "\n",
            "\n",
            "Average Metric: 10 / 17  (58.8):  80%|████████  | 16/20 [00:02<00:00,  5.02it/s]\u001b[A\u001b[A\n",
            "\n",
            "Average Metric: 10 / 17  (58.8):  85%|████████▌ | 17/20 [00:02<00:00,  4.89it/s]\u001b[A\u001b[A"
          ]
        },
        {
          "name": "stdout",
          "output_type": "stream",
          "text": [
            "Bootstrapped 4 full traces after 5 examples in round 0.\n"
          ]
        },
        {
          "name": "stderr",
          "output_type": "stream",
          "text": [
            "\n",
            "\n",
            "\n",
            " 57%|█████▋    | 4/7 [00:00<00:00, 754.47it/s]\n",
            "\n",
            "\n",
            "Average Metric: 10 / 18  (55.6):  85%|████████▌ | 17/20 [00:03<00:00,  4.89it/s]\u001b[A\u001b[A\n",
            "\n",
            "Average Metric: 10 / 18  (55.6):  90%|█████████ | 18/20 [00:03<00:00,  4.73it/s]\u001b[A\u001b[A"
          ]
        },
        {
          "name": "stdout",
          "output_type": "stream",
          "text": [
            "Bootstrapped 4 full traces after 5 examples in round 0.\n"
          ]
        },
        {
          "name": "stderr",
          "output_type": "stream",
          "text": [
            "\n",
            "\n",
            "\n",
            " 57%|█████▋    | 4/7 [00:00<00:00, 905.85it/s]\n",
            "\n",
            "\n",
            "Average Metric: 11 / 19  (57.9):  90%|█████████ | 18/20 [00:03<00:00,  4.73it/s]\u001b[A\u001b[A\n",
            "\n",
            "Average Metric: 11 / 19  (57.9):  95%|█████████▌| 19/20 [00:03<00:00,  4.42it/s]\u001b[A\u001b[A"
          ]
        },
        {
          "name": "stdout",
          "output_type": "stream",
          "text": [
            "Bootstrapped 4 full traces after 5 examples in round 0.\n"
          ]
        },
        {
          "name": "stderr",
          "output_type": "stream",
          "text": [
            "\n",
            "\n",
            "\n",
            " 57%|█████▋    | 4/7 [00:00<00:00, 372.70it/s]\n",
            "\n",
            "\n",
            "Average Metric: 11 / 20  (55.0):  95%|█████████▌| 19/20 [00:04<00:00,  4.42it/s]\u001b[A\u001b[A\n",
            "\n",
            "Average Metric: 11 / 20  (55.0): 100%|██████████| 20/20 [00:04<00:00,  4.88it/s]"
          ]
        },
        {
          "name": "stdout",
          "output_type": "stream",
          "text": [
            "Bootstrapped 4 full traces after 5 examples in round 0.\n",
            "Average Metric: 11 / 20  (55.0%)\n"
          ]
        },
        {
          "name": "stderr",
          "output_type": "stream",
          "text": [
            "\n"
          ]
        },
        {
          "data": {
            "text/plain": [
              "55.0"
            ]
          },
          "execution_count": 77,
          "metadata": {},
          "output_type": "execute_result"
        }
      ],
      "source": [
        "evaluator(ensembled_program, metric=metric)"
      ]
    },
    {
      "cell_type": "code",
      "execution_count": null,
      "metadata": {
        "id": "rzE1_H29lPw4"
      },
      "outputs": [],
      "source": []
    },
    {
      "cell_type": "code",
      "execution_count": null,
      "metadata": {
        "id": "a4m-7-53Bz9U"
      },
      "outputs": [],
      "source": [
        "model.inspect_history()"
      ]
    },
    {
      "cell_type": "code",
      "execution_count": null,
      "metadata": {
        "id": "gea97oqDl9Xn"
      },
      "outputs": [],
      "source": [
        "# def compiled_zero(questions: list[str], option_sets: list[str]) -> list[str]:\n",
        "#     responses = []\n",
        "#     combined_data = list(zip(questions, option_sets))\n",
        "#     random.shuffle(combined_data)\n",
        "#     shuffled_questions, shuffled_option_sets = zip(*combined_data)\n",
        "\n",
        "#     for question, options in zip(shuffled_questions, shuffled_option_sets):\n",
        "#         pred_response = compiled(question=question, options=options)\n",
        "#         generated_response = pred_response.answer\n",
        "#         responses.append(generated_response)\n",
        "\n",
        "#     return responses"
      ]
    },
    {
      "cell_type": "code",
      "execution_count": null,
      "metadata": {
        "id": "zJM3QZs8fvoL"
      },
      "outputs": [],
      "source": [
        "import random\n",
        "def random_few_shot_train_set(train_set, batch_size):\n",
        "    return random.sample(train_set, batch_size)\n",
        "batch_size = 2\n",
        "random_batch = random_few_shot_train_set(train_set, batch_size)\n",
        "print(random_batch)"
      ]
    },
    {
      "cell_type": "code",
      "execution_count": null,
      "metadata": {
        "id": "9VCicrWKf9tL"
      },
      "outputs": [],
      "source": []
    },
    {
      "cell_type": "code",
      "execution_count": null,
      "metadata": {
        "id": "FyRM5HMif4S3"
      },
      "outputs": [],
      "source": []
    },
    {
      "cell_type": "code",
      "execution_count": null,
      "metadata": {
        "id": "vPyDVt1of1CI"
      },
      "outputs": [],
      "source": []
    }
  ],
  "metadata": {
    "colab": {
      "provenance": []
    },
    "kernelspec": {
      "display_name": "Python 3",
      "name": "python3"
    },
    "language_info": {
      "name": "python"
    }
  },
  "nbformat": 4,
  "nbformat_minor": 0
}
